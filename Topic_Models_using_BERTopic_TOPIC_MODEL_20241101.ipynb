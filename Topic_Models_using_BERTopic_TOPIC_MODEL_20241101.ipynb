{
 "cells": [
  {
   "cell_type": "markdown",
   "metadata": {
    "colab_type": "text",
    "id": "view-in-github"
   },
   "source": [
    "<a href=\"https://colab.research.google.com/github/cristianmejia00/clustering/blob/main/Topic_Models_using_BERTopic_TOPIC_MODEL_20241101.ipynb\" target=\"_parent\"><img src=\"https://colab.research.google.com/assets/colab-badge.svg\" alt=\"Open In Colab\"/></a>"
   ]
  },
  {
   "cell_type": "markdown",
   "metadata": {
    "id": "Zj3lYckpO2Yn"
   },
   "source": [
    "# Topic Modeling with BERTopic\n",
    "\n",
    "🔴 copied from the [Kubota Colab](https://colab.research.google.com/drive/1YsDp5_qGXGJKsEXsS8DO8CA_lqZc6EpA).  \n",
    "\n",
    "`Topic Models` are methods to automatically organize a corpus of text into topics.\n",
    "\n",
    "Topic Model process:\n",
    "1. Data preparation\n",
    "2. Tranform text to numeric vectors\n",
    "3. Multidimensionality reduction\n",
    "4. Clustering\n",
    "5. Topic analysis\n",
    "6. Cluster assignation\n",
    "\n",
    "\n",
    "This notebook uses the library `BERTopic` which is a one-stop solution for topic modeling including handy functions for plotting and analysis. However, BERTopic does not have a function to extract the X and Y coords from UMAP. If we need the coordinates then use the notebooks `Topic_Models_using_Transformers` instead. In any other situation, when a quick analysis is needed this notebook may be better.\n",
    "\n",
    "This notebook is also the one needed for the heatmap codes included in this folder.\n",
    "\n",
    "`BERTopic` is Python library that handles steps 2 to 6.\n",
    "BERT topic models use the transformer architechture to generate the embeds (i.e. the vector or numeric representation of words) and are currently the state-of-the-art method for vectorization.\n",
    "\n",
    "This notebook shows how to use it.\n",
    "\n",
    "---\n",
    "Reading:\n",
    "[Topic Modeling with Deep Learning Using Python BERTopic](https://medium.com/grabngoinfo/topic-modeling-with-deep-learning-using-python-bertopic-cf91f5676504)\n",
    "[Advanced Topic Modeling with BERTopic](https://www.pinecone.io/learn/bertopic/)\n"
   ]
  },
  {
   "cell_type": "markdown",
   "metadata": {
    "id": "WlufmOowbHSF"
   },
   "source": [
    "# Requirements"
   ]
  },
  {
   "cell_type": "markdown",
   "metadata": {
    "id": "kFQU-BC5ReYd"
   },
   "source": [
    "## Packages installation and initialization"
   ]
  },
  {
   "cell_type": "code",
   "execution_count": 2,
   "metadata": {
    "colab": {
     "base_uri": "https://localhost:8080/"
    },
    "collapsed": true,
    "id": "ckx8hOIyRZvv",
    "outputId": "20e7642f-824b-4ba1-86cc-5a97c89670c5"
   },
   "outputs": [
    {
     "name": "stdout",
     "output_type": "stream",
     "text": [
      "zsh:1: no matches found: bertopic[visualization]\n"
     ]
    }
   ],
   "source": [
    "!pip install bertopic[visualization]"
   ]
  },
  {
   "cell_type": "code",
   "execution_count": 1,
   "metadata": {
    "id": "gMlZ_7DkOxGG"
   },
   "outputs": [
    {
     "name": "stderr",
     "output_type": "stream",
     "text": [
      "/Users/cristian/Desktop/GitHub/clustering/env-tm/lib/python3.11/site-packages/tqdm/auto.py:21: TqdmWarning: IProgress not found. Please update jupyter and ipywidgets. See https://ipywidgets.readthedocs.io/en/stable/user_install.html\n",
      "  from .autonotebook import tqdm as notebook_tqdm\n"
     ]
    }
   ],
   "source": [
    "import pandas as pd\n",
    "import numpy as np\n",
    "import time\n",
    "import math\n",
    "import uuid\n",
    "import re\n",
    "import os\n",
    "import json\n",
    "import pickle\n",
    "from datetime import date\n",
    "from itertools import compress\n",
    "from bertopic import BERTopic\n",
    "from umap import UMAP\n",
    "from gensim.parsing.preprocessing import remove_stopwords\n",
    "from sklearn.cluster import KMeans\n",
    "from sentence_transformers import SentenceTransformer"
   ]
  },
  {
   "cell_type": "markdown",
   "metadata": {
    "id": "SZ1BccaqRtS0"
   },
   "source": [
    "## Connect your Google Drive"
   ]
  },
  {
   "cell_type": "code",
   "execution_count": 2,
   "metadata": {
    "colab": {
     "base_uri": "https://localhost:8080/"
    },
    "id": "6os5BGPFRxfX",
    "outputId": "41e02c25-1dc9-426e-f441-874fc600fc70"
   },
   "outputs": [
    {
     "ename": "ModuleNotFoundError",
     "evalue": "No module named 'google'",
     "output_type": "error",
     "traceback": [
      "\u001b[0;31m---------------------------------------------------------------------------\u001b[0m",
      "\u001b[0;31mModuleNotFoundError\u001b[0m                       Traceback (most recent call last)",
      "Cell \u001b[0;32mIn[2], line 1\u001b[0m\n\u001b[0;32m----> 1\u001b[0m \u001b[38;5;28;01mfrom\u001b[39;00m \u001b[38;5;21;01mgoogle\u001b[39;00m\u001b[38;5;21;01m.\u001b[39;00m\u001b[38;5;21;01mcolab\u001b[39;00m \u001b[38;5;28;01mimport\u001b[39;00m drive\n\u001b[1;32m      2\u001b[0m drive\u001b[38;5;241m.\u001b[39mmount(\u001b[38;5;124m'\u001b[39m\u001b[38;5;124m/content/drive\u001b[39m\u001b[38;5;124m'\u001b[39m)\n",
      "\u001b[0;31mModuleNotFoundError\u001b[0m: No module named 'google'"
     ]
    }
   ],
   "source": [
    "from google.colab import drive\n",
    "drive.mount('/content/drive')"
   ]
  },
  {
   "cell_type": "code",
   "execution_count": 3,
   "metadata": {
    "id": "f2p9sY7sUYkU"
   },
   "outputs": [],
   "source": [
    "def find_e_keys(dictionary):\n",
    "    # List comprehension to find keys starting with 'e'\n",
    "    e_keys = [key for key in dictionary if str(key).lower().startswith('e')]\n",
    "    return e_keys"
   ]
  },
  {
   "cell_type": "markdown",
   "metadata": {
    "id": "dDm5-r5oR98q"
   },
   "source": [
    "# 🔴 Input files and options\n",
    "\n",
    "Go to your Google Drive and create a folder in the root directory. We are going to save all related data in that directory.\n",
    "Upload the dataset of news into the above folder.\n",
    "- The dataset should be a `.csv` file.\n",
    "- Every row in the dataset is a document\n",
    "- It can any kind of columns. Some columns must contain the text we want to analyze. For example, a dataset of academic articles may contain a \"Title\" and/or \"Abstract\" column."
   ]
  },
  {
   "cell_type": "code",
   "execution_count": 8,
   "metadata": {
    "id": "5ICq5zQbSJa8"
   },
   "outputs": [],
   "source": [
    "# The bibliometrics folder\n",
    "# Colab\n",
    "ROOT_FOLDER_PATH = \"drive/MyDrive/Bibliometrics_Drive\"\n",
    "\n",
    "# Mac\n",
    "ROOT_FOLDER_PATH = \"/Users/cristian/Library/CloudStorage/GoogleDrive-cristianmejia00@gmail.com/My Drive/Bibliometrics_Drive\"\n",
    "\n",
    "# Change to the name of the folder where the dataset is uploaded inside the above folder\n",
    "project_folder = 'Q319_sust_rice'\n",
    "\n",
    "analysis_id = 'a01_tm__f01_e01__km01'\n",
    "\n",
    "# Filtered label\n",
    "settings_directive = \"settings_analysis_directive_2024-12-18-21-02.json\""
   ]
  },
  {
   "cell_type": "code",
   "execution_count": 9,
   "metadata": {
    "id": "QpoR8P3O0ACf"
   },
   "outputs": [],
   "source": [
    "# Read settings\n",
    "with open(f'{ROOT_FOLDER_PATH}/{project_folder}/{analysis_id}/{settings_directive}', 'r') as file:\n",
    "    settings = json.load(file)"
   ]
  },
  {
   "cell_type": "code",
   "execution_count": 10,
   "metadata": {
    "id": "COh3zc3b2oAn"
   },
   "outputs": [],
   "source": [
    "# Input dataset\n",
    "dataset_file_path = f\"{ROOT_FOLDER_PATH}/{settings['metadata']['project_folder']}/{settings['metadata']['filtered_folder']}/dataset_raw_cleaned.csv\""
   ]
  },
  {
   "cell_type": "code",
   "execution_count": 11,
   "metadata": {
    "id": "biEFdxrm0WrO"
   },
   "outputs": [],
   "source": [
    "# Function to save files\n",
    "def save_as_csv(df, save_name_without_extension, with_index):\n",
    "    \"usage: `save_as_csv(dataframe, 'filename')`\"\n",
    "    df.to_csv(f\"{ROOT_FOLDER_PATH}/{save_name_without_extension}.csv\", index=with_index)\n",
    "    print(\"===\\nSaved: \", f\"{ROOT_FOLDER_PATH}/{save_name_without_extension}.csv\")"
   ]
  },
  {
   "cell_type": "code",
   "execution_count": 12,
   "metadata": {
    "id": "Ff7hQXE1dYDw"
   },
   "outputs": [],
   "source": [
    "# prompt: a function to save object to a pickle file\n",
    "def save_object_as_pickle(obj, filename):\n",
    "  \"\"\"\n",
    "  Saves an object as a pickle file.\n",
    "\n",
    "  Args:\n",
    "      obj: The object to be saved.\n",
    "      filename: The filename of the pickle file.\n",
    "  \"\"\"\n",
    "  with open(filename, \"wb\") as f:\n",
    "    pickle.dump(obj, f)\n"
   ]
  },
  {
   "cell_type": "code",
   "execution_count": 13,
   "metadata": {
    "id": "iljQe0_xb2FU"
   },
   "outputs": [],
   "source": [
    "# prompt: a function to load pickle object given a path\n",
    "def load_pickle(path):\n",
    "    with open(path, 'rb') as f:\n",
    "        return pickle.load(f)\n"
   ]
  },
  {
   "cell_type": "code",
   "execution_count": 14,
   "metadata": {
    "colab": {
     "base_uri": "https://localhost:8080/",
     "height": 655
    },
    "id": "Tob-4BIaUbZ9",
    "outputId": "d48eac6d-2af8-4991-af19-5bda2386e6bc"
   },
   "outputs": [
    {
     "name": "stdout",
     "output_type": "stream",
     "text": [
      "(3480, 42)\n"
     ]
    },
    {
     "data": {
      "text/html": [
       "<div>\n",
       "<style scoped>\n",
       "    .dataframe tbody tr th:only-of-type {\n",
       "        vertical-align: middle;\n",
       "    }\n",
       "\n",
       "    .dataframe tbody tr th {\n",
       "        vertical-align: top;\n",
       "    }\n",
       "\n",
       "    .dataframe thead th {\n",
       "        text-align: right;\n",
       "    }\n",
       "</style>\n",
       "<table border=\"1\" class=\"dataframe\">\n",
       "  <thead>\n",
       "    <tr style=\"text-align: right;\">\n",
       "      <th></th>\n",
       "      <th>X_N</th>\n",
       "      <th>uuid</th>\n",
       "      <th>PT</th>\n",
       "      <th>AU</th>\n",
       "      <th>AF</th>\n",
       "      <th>TI</th>\n",
       "      <th>SO</th>\n",
       "      <th>LA</th>\n",
       "      <th>DT</th>\n",
       "      <th>DE</th>\n",
       "      <th>...</th>\n",
       "      <th>AR</th>\n",
       "      <th>DI</th>\n",
       "      <th>PG</th>\n",
       "      <th>WC</th>\n",
       "      <th>SC</th>\n",
       "      <th>OA</th>\n",
       "      <th>UT</th>\n",
       "      <th>Countries</th>\n",
       "      <th>IsoCountries</th>\n",
       "      <th>Institutions</th>\n",
       "    </tr>\n",
       "  </thead>\n",
       "  <tbody>\n",
       "    <tr>\n",
       "      <th>0</th>\n",
       "      <td>1</td>\n",
       "      <td>541274e8-5e4e-49fd-ac27-cfecb10be780</td>\n",
       "      <td>J</td>\n",
       "      <td>Xie, EZ; Zhang, YX; Huang, B; Zhao, YC; Shi, X...</td>\n",
       "      <td>Xie, Enze; Zhang, Yanxia; Huang, Biao; Zhao, Y...</td>\n",
       "      <td>Spatiotemporal variations in soil organic carb...</td>\n",
       "      <td>SOIL &amp; TILLAGE RESEARCH</td>\n",
       "      <td>English</td>\n",
       "      <td>Article</td>\n",
       "      <td>Soil organic carbon; Drivers of SOC; Land use ...</td>\n",
       "      <td>...</td>\n",
       "      <td>104763</td>\n",
       "      <td>10.1016/j.still.2020.104763</td>\n",
       "      <td>11</td>\n",
       "      <td>Soil Science</td>\n",
       "      <td>Agriculture</td>\n",
       "      <td>NaN</td>\n",
       "      <td>WOS:000582696400017</td>\n",
       "      <td>peoples r china</td>\n",
       "      <td>CHN</td>\n",
       "      <td>chinese acad sci; univ chinese acad sci; nanji...</td>\n",
       "    </tr>\n",
       "    <tr>\n",
       "      <th>1</th>\n",
       "      <td>2</td>\n",
       "      <td>f79bc6f6-59ec-4773-8f1c-595f7ddc0f9b</td>\n",
       "      <td>J</td>\n",
       "      <td>Ding, MJ; Guan, QH; Li, LH; Zhang, HM; Liu, C;...</td>\n",
       "      <td>Ding, Mingjun; Guan, Qihui; Li, Lanhui; Zhang,...</td>\n",
       "      <td>Phenology-Based Rice Paddy Mapping Using Multi...</td>\n",
       "      <td>REMOTE SENSING</td>\n",
       "      <td>English</td>\n",
       "      <td>Article</td>\n",
       "      <td>rice paddies; Landsat; MODIS; fusion algorithm...</td>\n",
       "      <td>...</td>\n",
       "      <td>1022</td>\n",
       "      <td>10.3390/rs12061022</td>\n",
       "      <td>18</td>\n",
       "      <td>Environmental Sciences; Geosciences, Multidisc...</td>\n",
       "      <td>Environmental Sciences &amp; Ecology; Geology; Rem...</td>\n",
       "      <td>gold</td>\n",
       "      <td>WOS:000526820600124</td>\n",
       "      <td>peoples r china</td>\n",
       "      <td>CHN</td>\n",
       "      <td>jiangxi normal univ; xiamen univ technol; sun ...</td>\n",
       "    </tr>\n",
       "    <tr>\n",
       "      <th>2</th>\n",
       "      <td>3</td>\n",
       "      <td>f6464579-084d-4f17-9052-464ce88bf459</td>\n",
       "      <td>J</td>\n",
       "      <td>Masuda, K</td>\n",
       "      <td>Masuda, Kiyotaka</td>\n",
       "      <td>Eco-Efficiency Assessment of Intensive Rice Pr...</td>\n",
       "      <td>SUSTAINABILITY</td>\n",
       "      <td>English</td>\n",
       "      <td>Article</td>\n",
       "      <td>eco-efficiency; life cycle assessment; global ...</td>\n",
       "      <td>...</td>\n",
       "      <td>5368</td>\n",
       "      <td>10.3390/su11195368</td>\n",
       "      <td>14</td>\n",
       "      <td>Green &amp; Sustainable Science &amp; Technology; Envi...</td>\n",
       "      <td>Science &amp; Technology - Other Topics; Environme...</td>\n",
       "      <td>Green Published, gold</td>\n",
       "      <td>WOS:000493525500227</td>\n",
       "      <td>japan</td>\n",
       "      <td>JPN</td>\n",
       "      <td>univ shiga prefecture</td>\n",
       "    </tr>\n",
       "    <tr>\n",
       "      <th>3</th>\n",
       "      <td>4</td>\n",
       "      <td>d7436b41-8ad3-4f4a-a934-40af5a47e9d4</td>\n",
       "      <td>J</td>\n",
       "      <td>Malyan, SK; Bhatia, A; Kumar, SS; Fagodiya, RK...</td>\n",
       "      <td>Malyan, Sandeep K.; Bhatia, Arti; Kumar, Smita...</td>\n",
       "      <td>Mitigation of greenhouse gas intensity by supp...</td>\n",
       "      <td>BIOCATALYSIS AND AGRICULTURAL BIOTECHNOLOGY</td>\n",
       "      <td>English</td>\n",
       "      <td>Article</td>\n",
       "      <td>Rice; Azolla; Methane; Nitrous oxide; Yield-sc...</td>\n",
       "      <td>...</td>\n",
       "      <td>101266</td>\n",
       "      <td>10.1016/j.bcab.2019.101266</td>\n",
       "      <td>8</td>\n",
       "      <td>Biotechnology &amp; Applied Microbiology</td>\n",
       "      <td>Biotechnology &amp; Applied Microbiology</td>\n",
       "      <td>NaN</td>\n",
       "      <td>WOS:000493911600089</td>\n",
       "      <td>india; vietnam; israel</td>\n",
       "      <td>IND; VNM; ISR</td>\n",
       "      <td>icar indian agr res inst; indian inst technol ...</td>\n",
       "    </tr>\n",
       "    <tr>\n",
       "      <th>4</th>\n",
       "      <td>5</td>\n",
       "      <td>d1e361d9-aefd-498c-833c-a84705c30488</td>\n",
       "      <td>J</td>\n",
       "      <td>Srivastava, P; Gupta, S; Garaniya, V; Abbassi,...</td>\n",
       "      <td>Srivastava, Pratiksha; Gupta, Supriya; Garaniy...</td>\n",
       "      <td>Up to 399mV bioelectricity generated by a rice...</td>\n",
       "      <td>ENVIRONMENTAL CHEMISTRY LETTERS</td>\n",
       "      <td>English</td>\n",
       "      <td>Article</td>\n",
       "      <td>Plant microbial fuel cell; Microbial fuel cell...</td>\n",
       "      <td>...</td>\n",
       "      <td>NaN</td>\n",
       "      <td>10.1007/s10311-018-00824-2</td>\n",
       "      <td>7</td>\n",
       "      <td>Chemistry, Multidisciplinary; Engineering, Env...</td>\n",
       "      <td>Chemistry; Engineering; Environmental Sciences...</td>\n",
       "      <td>NaN</td>\n",
       "      <td>WOS:000468974600029</td>\n",
       "      <td>australia; india</td>\n",
       "      <td>AUS; IND</td>\n",
       "      <td>univ tasmania; macquarie univ; csir inst miner...</td>\n",
       "    </tr>\n",
       "  </tbody>\n",
       "</table>\n",
       "<p>5 rows × 42 columns</p>\n",
       "</div>"
      ],
      "text/plain": [
       "   X_N                                  uuid PT  \\\n",
       "0    1  541274e8-5e4e-49fd-ac27-cfecb10be780  J   \n",
       "1    2  f79bc6f6-59ec-4773-8f1c-595f7ddc0f9b  J   \n",
       "2    3  f6464579-084d-4f17-9052-464ce88bf459  J   \n",
       "3    4  d7436b41-8ad3-4f4a-a934-40af5a47e9d4  J   \n",
       "4    5  d1e361d9-aefd-498c-833c-a84705c30488  J   \n",
       "\n",
       "                                                  AU  \\\n",
       "0  Xie, EZ; Zhang, YX; Huang, B; Zhao, YC; Shi, X...   \n",
       "1  Ding, MJ; Guan, QH; Li, LH; Zhang, HM; Liu, C;...   \n",
       "2                                          Masuda, K   \n",
       "3  Malyan, SK; Bhatia, A; Kumar, SS; Fagodiya, RK...   \n",
       "4  Srivastava, P; Gupta, S; Garaniya, V; Abbassi,...   \n",
       "\n",
       "                                                  AF  \\\n",
       "0  Xie, Enze; Zhang, Yanxia; Huang, Biao; Zhao, Y...   \n",
       "1  Ding, Mingjun; Guan, Qihui; Li, Lanhui; Zhang,...   \n",
       "2                                   Masuda, Kiyotaka   \n",
       "3  Malyan, Sandeep K.; Bhatia, Arti; Kumar, Smita...   \n",
       "4  Srivastava, Pratiksha; Gupta, Supriya; Garaniy...   \n",
       "\n",
       "                                                  TI  \\\n",
       "0  Spatiotemporal variations in soil organic carb...   \n",
       "1  Phenology-Based Rice Paddy Mapping Using Multi...   \n",
       "2  Eco-Efficiency Assessment of Intensive Rice Pr...   \n",
       "3  Mitigation of greenhouse gas intensity by supp...   \n",
       "4  Up to 399mV bioelectricity generated by a rice...   \n",
       "\n",
       "                                            SO       LA       DT  \\\n",
       "0                      SOIL & TILLAGE RESEARCH  English  Article   \n",
       "1                               REMOTE SENSING  English  Article   \n",
       "2                               SUSTAINABILITY  English  Article   \n",
       "3  BIOCATALYSIS AND AGRICULTURAL BIOTECHNOLOGY  English  Article   \n",
       "4              ENVIRONMENTAL CHEMISTRY LETTERS  English  Article   \n",
       "\n",
       "                                                  DE  ...      AR  \\\n",
       "0  Soil organic carbon; Drivers of SOC; Land use ...  ...  104763   \n",
       "1  rice paddies; Landsat; MODIS; fusion algorithm...  ...    1022   \n",
       "2  eco-efficiency; life cycle assessment; global ...  ...    5368   \n",
       "3  Rice; Azolla; Methane; Nitrous oxide; Yield-sc...  ...  101266   \n",
       "4  Plant microbial fuel cell; Microbial fuel cell...  ...     NaN   \n",
       "\n",
       "                            DI  PG  \\\n",
       "0  10.1016/j.still.2020.104763  11   \n",
       "1           10.3390/rs12061022  18   \n",
       "2           10.3390/su11195368  14   \n",
       "3   10.1016/j.bcab.2019.101266   8   \n",
       "4   10.1007/s10311-018-00824-2   7   \n",
       "\n",
       "                                                  WC  \\\n",
       "0                                       Soil Science   \n",
       "1  Environmental Sciences; Geosciences, Multidisc...   \n",
       "2  Green & Sustainable Science & Technology; Envi...   \n",
       "3               Biotechnology & Applied Microbiology   \n",
       "4  Chemistry, Multidisciplinary; Engineering, Env...   \n",
       "\n",
       "                                                  SC                     OA  \\\n",
       "0                                        Agriculture                    NaN   \n",
       "1  Environmental Sciences & Ecology; Geology; Rem...                   gold   \n",
       "2  Science & Technology - Other Topics; Environme...  Green Published, gold   \n",
       "3               Biotechnology & Applied Microbiology                    NaN   \n",
       "4  Chemistry; Engineering; Environmental Sciences...                    NaN   \n",
       "\n",
       "                    UT               Countries   IsoCountries  \\\n",
       "0  WOS:000582696400017         peoples r china            CHN   \n",
       "1  WOS:000526820600124         peoples r china            CHN   \n",
       "2  WOS:000493525500227                   japan            JPN   \n",
       "3  WOS:000493911600089  india; vietnam; israel  IND; VNM; ISR   \n",
       "4  WOS:000468974600029        australia; india       AUS; IND   \n",
       "\n",
       "                                        Institutions  \n",
       "0  chinese acad sci; univ chinese acad sci; nanji...  \n",
       "1  jiangxi normal univ; xiamen univ technol; sun ...  \n",
       "2                              univ shiga prefecture  \n",
       "3  icar indian agr res inst; indian inst technol ...  \n",
       "4  univ tasmania; macquarie univ; csir inst miner...  \n",
       "\n",
       "[5 rows x 42 columns]"
      ]
     },
     "execution_count": 14,
     "metadata": {},
     "output_type": "execute_result"
    }
   ],
   "source": [
    "# Open the data file\n",
    "df = pd.read_csv(f\"{dataset_file_path}\")\n",
    "print(df.shape)\n",
    "df.head()"
   ]
  },
  {
   "cell_type": "markdown",
   "metadata": {
    "id": "9UrPiLepN1s9"
   },
   "source": [
    "\n",
    "\n",
    "---\n",
    "\n"
   ]
  },
  {
   "cell_type": "markdown",
   "metadata": {
    "id": "eK-U-Sl8fc-m"
   },
   "source": [
    "## PART 2: Topic Model"
   ]
  },
  {
   "cell_type": "code",
   "execution_count": 15,
   "metadata": {
    "id": "FhwGnBjFQT4x"
   },
   "outputs": [],
   "source": [
    "# bibliometrics_folder\n",
    "# project_folder\n",
    "# project_name_suffix\n",
    "# ROOT_FOLDER_PATH = f\"drive/MyDrive/{bibliometrics_folder}\"\n",
    "\n",
    "#############################################################\n",
    "# Embeddings folder\n",
    "embeddings_folder_name = settings['tmo']['embeds_folder']\n",
    "\n",
    "# Which column has the year of the documents?\n",
    "my_year = settings['tmo']['year_column']\n",
    "\n",
    "# Number of topics. Select the number of topics to extract.\n",
    "# Choose 0, for automatic detection.\n",
    "n_topics = settings['tmo']['n_topics']\n",
    "\n",
    "# Minimum number of documents per topic\n",
    "min_topic_size = settings['tmo']['min_topic_size']"
   ]
  },
  {
   "cell_type": "code",
   "execution_count": 16,
   "metadata": {
    "id": "9RYSioo2cxxC"
   },
   "outputs": [],
   "source": [
    "# Get the embeddings back.\n",
    "embeddings = load_pickle(f\"{ROOT_FOLDER_PATH}/{project_folder}/{settings['metadata']['filtered_folder']}/{embeddings_folder_name}/embeddings.pck\")\n",
    "corpus =     pd.read_csv(f\"{ROOT_FOLDER_PATH}/{project_folder}/{settings['metadata']['filtered_folder']}/{embeddings_folder_name}/corpus.csv\").reset_index(drop=True)"
   ]
  },
  {
   "cell_type": "code",
   "execution_count": 17,
   "metadata": {
    "id": "injCV_IPN26L"
   },
   "outputs": [],
   "source": [
    "# Combine embeddings\n",
    "documents = corpus.text.to_list()"
   ]
  },
  {
   "cell_type": "code",
   "execution_count": 38,
   "metadata": {
    "id": "ve_oloYNrBLz"
   },
   "outputs": [],
   "source": [
    "# corpus['uuid'] = [uuid.uuid4() for _ in range(len(corpus.index))]\n",
    "# corpus['X_N'] = [i for i in range(1, len(corpus.index)+1)]"
   ]
  },
  {
   "cell_type": "code",
   "execution_count": 18,
   "metadata": {
    "colab": {
     "base_uri": "https://localhost:8080/"
    },
    "id": "onVFOjBZuMmJ",
    "outputId": "4898b936-f4ea-4a7d-8448-a65466de85f2"
   },
   "outputs": [
    {
     "data": {
      "text/plain": [
       "3480"
      ]
     },
     "execution_count": 18,
     "metadata": {},
     "output_type": "execute_result"
    }
   ],
   "source": [
    "len(documents)"
   ]
  },
  {
   "cell_type": "code",
   "execution_count": 19,
   "metadata": {
    "colab": {
     "base_uri": "https://localhost:8080/"
    },
    "id": "S7LeuG_7S4Db",
    "outputId": "4e27c106-2e0c-4630-a741-2fbd5e5512b0"
   },
   "outputs": [
    {
     "data": {
      "text/plain": [
       "True"
      ]
     },
     "execution_count": 19,
     "metadata": {},
     "output_type": "execute_result"
    }
   ],
   "source": [
    "#len(embeddings) == len(documents)\n",
    "len(embeddings['embeddings']) == len(documents)"
   ]
  },
  {
   "cell_type": "code",
   "execution_count": 21,
   "metadata": {
    "id": "n6qUvhGGcPZo"
   },
   "outputs": [],
   "source": [
    "from hdbscan.hdbscan_ import HDBSCAN\n",
    "# Execute the topic model.\n",
    "# I suggest changing the values marked with #<---\n",
    "# The others are the default values and they'll work fine in most cases.\n",
    "# This will take several minutes to finish.\n",
    "\n",
    "# Initiate UMAP\n",
    "umap_model = UMAP(n_neighbors=15,\n",
    "                  n_components=5,\n",
    "                  min_dist=0.0,\n",
    "                  metric='cosine',\n",
    "                  random_state=100)\n",
    "\n",
    "if n_topics == 0:\n",
    "  # Initiate topic model with HDBScan (Automatic topic selection)\n",
    "  topic_model_params = HDBSCAN(min_cluster_size=min_topic_size,\n",
    "                               metric='euclidean',\n",
    "                               cluster_selection_method='eom',\n",
    "                               prediction_data=True)\n",
    "else:\n",
    "  # Initiate topic model with K-means (Manual topic selection)\n",
    "  topic_model_params = KMeans(n_clusters = n_topics)\n",
    "\n",
    "# Initiate BERTopic\n",
    "topic_model = BERTopic(umap_model = umap_model,\n",
    "                       hdbscan_model = topic_model_params,\n",
    "                       min_topic_size=min_topic_size,\n",
    "                       #nr_topics=15,          #<--- Footnote 1\n",
    "                       n_gram_range=(1,3),\n",
    "                       language='english',\n",
    "                       calculate_probabilities=True,\n",
    "                       verbose=True)\n",
    "\n",
    "\n",
    "\n",
    "# Footnote 1: This controls the number of topics we want AFTER clustering.\n",
    "# Add a hashtag at the beggining to use the number of topics returned by the topic model.\n",
    "# When using HDBScan nr_topics will be obtained after orphans removal, and there is no warranty that `nr_topics < HDBScan topics`.\n",
    "# thus, with HDBScan `nr_topics` means N topics OR LESS.\n",
    "# When using KMeans nr_topics can be used to further reduce the number of topics.\n",
    "# We use the topics as returned by the topic model. So we do not need to activate it here."
   ]
  },
  {
   "cell_type": "code",
   "execution_count": 22,
   "metadata": {
    "colab": {
     "base_uri": "https://localhost:8080/"
    },
    "id": "FQQsmPGzUCuB",
    "outputId": "a2b43bac-051a-4599-ad04-a36b1a575a26"
   },
   "outputs": [
    {
     "name": "stderr",
     "output_type": "stream",
     "text": [
      "2024-12-18 21:39:12,297 - BERTopic - Dimensionality - Fitting the dimensionality reduction algorithm\n",
      "OMP: Info #276: omp_set_nested routine deprecated, please use omp_set_max_active_levels instead.\n",
      "2024-12-18 21:39:23,532 - BERTopic - Dimensionality - Completed ✓\n",
      "2024-12-18 21:39:23,533 - BERTopic - Cluster - Start clustering the reduced embeddings\n",
      "2024-12-18 21:39:23,822 - BERTopic - Cluster - Completed ✓\n",
      "2024-12-18 21:39:23,825 - BERTopic - Representation - Extracting topics from clusters using representation models.\n",
      "2024-12-18 21:39:27,053 - BERTopic - Representation - Completed ✓\n"
     ]
    }
   ],
   "source": [
    "# Compute topic model\n",
    "#topics, probabilities = topic_model.fit_transform(documents, embeddings)\n",
    "topics, probabilities = topic_model.fit_transform(documents, embeddings['embeddings'])"
   ]
  },
  {
   "cell_type": "code",
   "execution_count": 23,
   "metadata": {
    "colab": {
     "base_uri": "https://localhost:8080/",
     "height": 424
    },
    "id": "67pgsMtwsFmH",
    "outputId": "82c86e95-6be7-4832-a076-94d8d9dcd8ae"
   },
   "outputs": [
    {
     "data": {
      "text/html": [
       "<div>\n",
       "<style scoped>\n",
       "    .dataframe tbody tr th:only-of-type {\n",
       "        vertical-align: middle;\n",
       "    }\n",
       "\n",
       "    .dataframe tbody tr th {\n",
       "        vertical-align: top;\n",
       "    }\n",
       "\n",
       "    .dataframe thead th {\n",
       "        text-align: right;\n",
       "    }\n",
       "</style>\n",
       "<table border=\"1\" class=\"dataframe\">\n",
       "  <thead>\n",
       "    <tr style=\"text-align: right;\">\n",
       "      <th></th>\n",
       "      <th>Topic</th>\n",
       "      <th>Count</th>\n",
       "      <th>Name</th>\n",
       "      <th>Representation</th>\n",
       "      <th>Representative_Docs</th>\n",
       "    </tr>\n",
       "  </thead>\n",
       "  <tbody>\n",
       "    <tr>\n",
       "      <th>0</th>\n",
       "      <td>-1</td>\n",
       "      <td>1316</td>\n",
       "      <td>-1_the_and_of_in</td>\n",
       "      <td>[the, and, of, in, to, rice, for, soil, with, is]</td>\n",
       "      <td>[Direct and Residual Impacts of Olive-Mill Was...</td>\n",
       "    </tr>\n",
       "    <tr>\n",
       "      <th>1</th>\n",
       "      <td>0</td>\n",
       "      <td>283</td>\n",
       "      <td>0_grazing_the_of_and</td>\n",
       "      <td>[grazing, the, of, and, to, in, pasture, on, p...</td>\n",
       "      <td>[Synthesis of system outcomes for a grazing-ma...</td>\n",
       "    </tr>\n",
       "    <tr>\n",
       "      <th>2</th>\n",
       "      <td>1</td>\n",
       "      <td>109</td>\n",
       "      <td>1_rice_and_water_in</td>\n",
       "      <td>[rice, and, water, in, the, of, to, irrigation...</td>\n",
       "      <td>[Growth, yield and water productivity of dry d...</td>\n",
       "    </tr>\n",
       "    <tr>\n",
       "      <th>3</th>\n",
       "      <td>2</td>\n",
       "      <td>101</td>\n",
       "      <td>2_land_the_of_wetland</td>\n",
       "      <td>[land, the, of, wetland, and, in, to, wetlands...</td>\n",
       "      <td>[Optimization of cultivated land pattern for a...</td>\n",
       "    </tr>\n",
       "    <tr>\n",
       "      <th>4</th>\n",
       "      <td>3</td>\n",
       "      <td>100</td>\n",
       "      <td>3_biochar_and_soil_of biochar</td>\n",
       "      <td>[biochar, and, soil, of biochar, of, the, in, ...</td>\n",
       "      <td>[Comparative Metagenomics Reveals Enhanced Nut...</td>\n",
       "    </tr>\n",
       "    <tr>\n",
       "      <th>5</th>\n",
       "      <td>4</td>\n",
       "      <td>96</td>\n",
       "      <td>4_the_mapping_and_data</td>\n",
       "      <td>[the, mapping, and, data, rice, of, to, in, pa...</td>\n",
       "      <td>[Phenology-Based Rice Paddy Mapping Using Mult...</td>\n",
       "    </tr>\n",
       "    <tr>\n",
       "      <th>6</th>\n",
       "      <td>5</td>\n",
       "      <td>73</td>\n",
       "      <td>5_bacterial_soil_community_microbial</td>\n",
       "      <td>[bacterial, soil, community, microbial, and, t...</td>\n",
       "      <td>[Differential response of bacterial diversity ...</td>\n",
       "    </tr>\n",
       "    <tr>\n",
       "      <th>7</th>\n",
       "      <td>6</td>\n",
       "      <td>65</td>\n",
       "      <td>6_cd_soil_and_cadmium</td>\n",
       "      <td>[cd, soil, and, cadmium, remediation, the, in,...</td>\n",
       "      <td>[Vermicompost Supply Enhances Fragrant-Rice Yi...</td>\n",
       "    </tr>\n",
       "    <tr>\n",
       "      <th>8</th>\n",
       "      <td>7</td>\n",
       "      <td>54</td>\n",
       "      <td>7_rice_of_the_in</td>\n",
       "      <td>[rice, of, the, in, insects, and, pest, to, fi...</td>\n",
       "      <td>[Rice Pest Management and Biological Control I...</td>\n",
       "    </tr>\n",
       "    <tr>\n",
       "      <th>9</th>\n",
       "      <td>8</td>\n",
       "      <td>54</td>\n",
       "      <td>8_arsenic_as_in_and</td>\n",
       "      <td>[arsenic, as, in, and, of, the, rice, iron, so...</td>\n",
       "      <td>[Mitigation of arsenic toxicity in rice grain ...</td>\n",
       "    </tr>\n",
       "    <tr>\n",
       "      <th>10</th>\n",
       "      <td>9</td>\n",
       "      <td>54</td>\n",
       "      <td>9_soc_carbon_soil_organic</td>\n",
       "      <td>[soc, carbon, soil, organic, and, in, the, org...</td>\n",
       "      <td>[Does rice paddy management increase soil orga...</td>\n",
       "    </tr>\n",
       "    <tr>\n",
       "      <th>11</th>\n",
       "      <td>10</td>\n",
       "      <td>47</td>\n",
       "      <td>10_emissions_and_ghg_greenhouse</td>\n",
       "      <td>[emissions, and, ghg, greenhouse, rice, the, n...</td>\n",
       "      <td>[Responses of yield, CH&lt;sub&gt;4&lt;/sub&gt; and N&lt;sub&gt;...</td>\n",
       "    </tr>\n",
       "    <tr>\n",
       "      <th>12</th>\n",
       "      <td>11</td>\n",
       "      <td>46</td>\n",
       "      <td>11_of_protected_and_the</td>\n",
       "      <td>[of, protected, and, the, forest, to, we, in, ...</td>\n",
       "      <td>[Half century of protected area dynamism in th...</td>\n",
       "    </tr>\n",
       "    <tr>\n",
       "      <th>13</th>\n",
       "      <td>12</td>\n",
       "      <td>44</td>\n",
       "      <td>12_dyeing_fabric_cotton_fabrics</td>\n",
       "      <td>[dyeing, fabric, cotton, fabrics, foam, the, d...</td>\n",
       "      <td>[Superheated Water Hydrolyzed Keratin: A New A...</td>\n",
       "    </tr>\n",
       "    <tr>\n",
       "      <th>14</th>\n",
       "      <td>13</td>\n",
       "      <td>43</td>\n",
       "      <td>13_coculture_and_fish_the</td>\n",
       "      <td>[coculture, and, fish, the, rice, ricefish, of...</td>\n",
       "      <td>[Integrated rice-aquatic animals culture syste...</td>\n",
       "    </tr>\n",
       "    <tr>\n",
       "      <th>15</th>\n",
       "      <td>14</td>\n",
       "      <td>42</td>\n",
       "      <td>14_nitrogen_and_rice_yield</td>\n",
       "      <td>[nitrogen, and, rice, yield, the, efficiency, ...</td>\n",
       "      <td>[Assessment of productivity, nutrient uptake a...</td>\n",
       "    </tr>\n",
       "    <tr>\n",
       "      <th>16</th>\n",
       "      <td>15</td>\n",
       "      <td>40</td>\n",
       "      <td>15_runoff_water_the_and</td>\n",
       "      <td>[runoff, water, the, and, of, drainage, in, fo...</td>\n",
       "      <td>[Paddy water managements for diffuse nitrogen ...</td>\n",
       "    </tr>\n",
       "    <tr>\n",
       "      <th>17</th>\n",
       "      <td>16</td>\n",
       "      <td>36</td>\n",
       "      <td>16_farmers_the_paddy farmers_of</td>\n",
       "      <td>[farmers, the, paddy farmers, of, adoption, pa...</td>\n",
       "      <td>[A possible resolution of Malaysian sunset ind...</td>\n",
       "    </tr>\n",
       "    <tr>\n",
       "      <th>18</th>\n",
       "      <td>17</td>\n",
       "      <td>35</td>\n",
       "      <td>17_tillage_soil_and_nt</td>\n",
       "      <td>[tillage, soil, and, nt, the, ct, in, under, o...</td>\n",
       "      <td>[Responses of soil aggregates, organic carbon,...</td>\n",
       "    </tr>\n",
       "    <tr>\n",
       "      <th>19</th>\n",
       "      <td>18</td>\n",
       "      <td>35</td>\n",
       "      <td>18_soil_phosphorus_and_the</td>\n",
       "      <td>[soil, phosphorus, and, the, in, of, soils, to...</td>\n",
       "      <td>[Mechanisms and influencing factors of yttrium...</td>\n",
       "    </tr>\n",
       "    <tr>\n",
       "      <th>20</th>\n",
       "      <td>19</td>\n",
       "      <td>33</td>\n",
       "      <td>19_straw_paddy straw_of_lignin</td>\n",
       "      <td>[straw, paddy straw, of, lignin, and, the, pre...</td>\n",
       "      <td>[A review on bioprocessing of paddy straw to e...</td>\n",
       "    </tr>\n",
       "    <tr>\n",
       "      <th>21</th>\n",
       "      <td>20</td>\n",
       "      <td>33</td>\n",
       "      <td>20_cyanobacteria_of_nitrogen_and</td>\n",
       "      <td>[cyanobacteria, of, nitrogen, and, in, the, bi...</td>\n",
       "      <td>[Problems and prospects of cyanobacterial biof...</td>\n",
       "    </tr>\n",
       "    <tr>\n",
       "      <th>22</th>\n",
       "      <td>21</td>\n",
       "      <td>33</td>\n",
       "      <td>21_burning_residue_straw_of</td>\n",
       "      <td>[burning, residue, straw, of, rice straw, the,...</td>\n",
       "      <td>[COVID-19 pandemic and sudden rise in crop res...</td>\n",
       "    </tr>\n",
       "    <tr>\n",
       "      <th>23</th>\n",
       "      <td>22</td>\n",
       "      <td>33</td>\n",
       "      <td>22_rice_endophytic_the_of</td>\n",
       "      <td>[rice, endophytic, the, of, and, in, growth, p...</td>\n",
       "      <td>[Herbicide-tolerant endophytic bacteria of ric...</td>\n",
       "    </tr>\n",
       "    <tr>\n",
       "      <th>24</th>\n",
       "      <td>23</td>\n",
       "      <td>31</td>\n",
       "      <td>23_of_the_cultural_landscape</td>\n",
       "      <td>[of, the, cultural, landscape, and, biodiversi...</td>\n",
       "      <td>[Tourist preferences for agricultural landscap...</td>\n",
       "    </tr>\n",
       "    <tr>\n",
       "      <th>25</th>\n",
       "      <td>24</td>\n",
       "      <td>30</td>\n",
       "      <td>24_the_aquaculture_of_to</td>\n",
       "      <td>[the, aquaculture, of, to, paddle, energy, and...</td>\n",
       "      <td>[Perspectives on the application of closed shr...</td>\n",
       "    </tr>\n",
       "    <tr>\n",
       "      <th>26</th>\n",
       "      <td>25</td>\n",
       "      <td>30</td>\n",
       "      <td>25_weed_weeds_rice_in</td>\n",
       "      <td>[weed, weeds, rice, in, of, and, weed manageme...</td>\n",
       "      <td>[Management of &lt;i&gt;Cleome rutidosperma&lt;/i&gt; DC. ...</td>\n",
       "    </tr>\n",
       "    <tr>\n",
       "      <th>27</th>\n",
       "      <td>26</td>\n",
       "      <td>29</td>\n",
       "      <td>26_paddlefish_harvest_of_and</td>\n",
       "      <td>[paddlefish, harvest, of, and, the, to, fisher...</td>\n",
       "      <td>[Paddlefish Harvest in Oklahoma The Neosho Riv...</td>\n",
       "    </tr>\n",
       "    <tr>\n",
       "      <th>28</th>\n",
       "      <td>27</td>\n",
       "      <td>27</td>\n",
       "      <td>27_concrete_of_ash_the</td>\n",
       "      <td>[concrete, of, ash, the, silica, husk, rha, ri...</td>\n",
       "      <td>[Heat absorbing glass from rice husk ash for a...</td>\n",
       "    </tr>\n",
       "    <tr>\n",
       "      <th>29</th>\n",
       "      <td>28</td>\n",
       "      <td>26</td>\n",
       "      <td>28_soil_the_spatial_in</td>\n",
       "      <td>[soil, the, spatial, in, and, of, land, of soi...</td>\n",
       "      <td>[Prediction of soil property distribution in p...</td>\n",
       "    </tr>\n",
       "    <tr>\n",
       "      <th>30</th>\n",
       "      <td>29</td>\n",
       "      <td>26</td>\n",
       "      <td>29_ch4_emissions_ch4 emissions_methane</td>\n",
       "      <td>[ch4, emissions, ch4 emissions, methane, rice,...</td>\n",
       "      <td>[Aboveground morphological traits do not predi...</td>\n",
       "    </tr>\n",
       "    <tr>\n",
       "      <th>31</th>\n",
       "      <td>30</td>\n",
       "      <td>23</td>\n",
       "      <td>30_energy_husk_rice husk_biomass</td>\n",
       "      <td>[energy, husk, rice husk, biomass, the, power,...</td>\n",
       "      <td>[Process Analysis and Gasification of Rice Hus...</td>\n",
       "    </tr>\n",
       "    <tr>\n",
       "      <th>32</th>\n",
       "      <td>31</td>\n",
       "      <td>21</td>\n",
       "      <td>31_environmental_lca_the_life cycle</td>\n",
       "      <td>[environmental, lca, the, life cycle, rice, im...</td>\n",
       "      <td>[Environmental impacts of a rice-beef-biogas i...</td>\n",
       "    </tr>\n",
       "    <tr>\n",
       "      <th>33</th>\n",
       "      <td>32</td>\n",
       "      <td>21</td>\n",
       "      <td>32_groundwater_water_the_model</td>\n",
       "      <td>[groundwater, water, the, model, of, and, flow...</td>\n",
       "      <td>[Current Geo-Ecological Problems Within the La...</td>\n",
       "    </tr>\n",
       "    <tr>\n",
       "      <th>34</th>\n",
       "      <td>33</td>\n",
       "      <td>21</td>\n",
       "      <td>33_groundwater_recharge_water_the</td>\n",
       "      <td>[groundwater, recharge, water, the, irrigation...</td>\n",
       "      <td>[Better Water and Land Allocation for Long-ter...</td>\n",
       "    </tr>\n",
       "    <tr>\n",
       "      <th>35</th>\n",
       "      <td>34</td>\n",
       "      <td>20</td>\n",
       "      <td>34_water_the_of_groundwater</td>\n",
       "      <td>[water, the, of, groundwater, irrigation, in, ...</td>\n",
       "      <td>[Groundwater Modeling for Sustainable Resource...</td>\n",
       "    </tr>\n",
       "    <tr>\n",
       "      <th>36</th>\n",
       "      <td>35</td>\n",
       "      <td>20</td>\n",
       "      <td>35_pesticides_pesticide_and_of</td>\n",
       "      <td>[pesticides, pesticide, and, of, the, in, to, ...</td>\n",
       "      <td>[Dissipation of Penoxsulam in Paddy Soil, Wate...</td>\n",
       "    </tr>\n",
       "    <tr>\n",
       "      <th>37</th>\n",
       "      <td>36</td>\n",
       "      <td>20</td>\n",
       "      <td>36_climate_climate change_change_water</td>\n",
       "      <td>[climate, climate change, change, water, the, ...</td>\n",
       "      <td>[Adapting rice production to climate change fo...</td>\n",
       "    </tr>\n",
       "    <tr>\n",
       "      <th>38</th>\n",
       "      <td>37</td>\n",
       "      <td>19</td>\n",
       "      <td>37_energy_production_energy use_and</td>\n",
       "      <td>[energy, production, energy use, and, in, of, ...</td>\n",
       "      <td>[A high-resolution energy use efficiency asses...</td>\n",
       "    </tr>\n",
       "    <tr>\n",
       "      <th>39</th>\n",
       "      <td>38</td>\n",
       "      <td>18</td>\n",
       "      <td>38_heavy_metals_metal_heavy metals</td>\n",
       "      <td>[heavy, metals, metal, heavy metals, the, cd, ...</td>\n",
       "      <td>[Ten-year regional monitoring of soil-rice gra...</td>\n",
       "    </tr>\n",
       "    <tr>\n",
       "      <th>40</th>\n",
       "      <td>39</td>\n",
       "      <td>18</td>\n",
       "      <td>39_drying_dryer_exergy_energy</td>\n",
       "      <td>[drying, dryer, exergy, energy, the, of, gasif...</td>\n",
       "      <td>[Energy and exergy evaluation of rice processi...</td>\n",
       "    </tr>\n",
       "    <tr>\n",
       "      <th>41</th>\n",
       "      <td>40</td>\n",
       "      <td>18</td>\n",
       "      <td>40_of_and_the_in</td>\n",
       "      <td>[of, and, the, in, to, farmers, species, seeds...</td>\n",
       "      <td>[Forest resource use and perception of farmers...</td>\n",
       "    </tr>\n",
       "    <tr>\n",
       "      <th>42</th>\n",
       "      <td>41</td>\n",
       "      <td>17</td>\n",
       "      <td>41_si_silicon_rice_the</td>\n",
       "      <td>[si, silicon, rice, the, and, in, of, soil, by...</td>\n",
       "      <td>[Silicon in soil and its interaction with nitr...</td>\n",
       "    </tr>\n",
       "    <tr>\n",
       "      <th>43</th>\n",
       "      <td>42</td>\n",
       "      <td>17</td>\n",
       "      <td>42_salinity_soil_of_soil salinity</td>\n",
       "      <td>[salinity, soil, of, soil salinity, in, the, s...</td>\n",
       "      <td>[Diagnosis, extent, impacts, and management of...</td>\n",
       "    </tr>\n",
       "    <tr>\n",
       "      <th>44</th>\n",
       "      <td>43</td>\n",
       "      <td>16</td>\n",
       "      <td>43_suitability_land_land suitability_the</td>\n",
       "      <td>[suitability, land, land suitability, the, for...</td>\n",
       "      <td>[Determination of suitable lands for rice cult...</td>\n",
       "    </tr>\n",
       "    <tr>\n",
       "      <th>45</th>\n",
       "      <td>44</td>\n",
       "      <td>16</td>\n",
       "      <td>44_nh3_fertilizer_volatilization_emissions</td>\n",
       "      <td>[nh3, fertilizer, volatilization, emissions, n...</td>\n",
       "      <td>[Effects of N Fertilizer Sources and Tillage P...</td>\n",
       "    </tr>\n",
       "    <tr>\n",
       "      <th>46</th>\n",
       "      <td>45</td>\n",
       "      <td>16</td>\n",
       "      <td>45_soil_quality_sqi_soil quality</td>\n",
       "      <td>[soil, quality, sqi, soil quality, and, the, e...</td>\n",
       "      <td>[Influence of Land Use Types on Soil Propertie...</td>\n",
       "    </tr>\n",
       "    <tr>\n",
       "      <th>47</th>\n",
       "      <td>46</td>\n",
       "      <td>15</td>\n",
       "      <td>46_land_runoff_river_the</td>\n",
       "      <td>[land, runoff, river, the, water, basin, landu...</td>\n",
       "      <td>[Investigation into the Impacts of Land-Use Ch...</td>\n",
       "    </tr>\n",
       "    <tr>\n",
       "      <th>48</th>\n",
       "      <td>47</td>\n",
       "      <td>15</td>\n",
       "      <td>47_water_wf_water footprint_footprint</td>\n",
       "      <td>[water, wf, water footprint, footprint, the, c...</td>\n",
       "      <td>[Water Footprint in paddy rice systems. Its de...</td>\n",
       "    </tr>\n",
       "    <tr>\n",
       "      <th>49</th>\n",
       "      <td>48</td>\n",
       "      <td>15</td>\n",
       "      <td>48_adsorption_catalyst_reaction_pore</td>\n",
       "      <td>[adsorption, catalyst, reaction, pore, metalor...</td>\n",
       "      <td>[Highly efficient CO2 conversion on a robust m...</td>\n",
       "    </tr>\n",
       "    <tr>\n",
       "      <th>50</th>\n",
       "      <td>49</td>\n",
       "      <td>15</td>\n",
       "      <td>49_deep_learning_deep learning_the</td>\n",
       "      <td>[deep, learning, deep learning, the, model, an...</td>\n",
       "      <td>[Improving soil organic carbon estimation in p...</td>\n",
       "    </tr>\n",
       "    <tr>\n",
       "      <th>51</th>\n",
       "      <td>50</td>\n",
       "      <td>15</td>\n",
       "      <td>50_land_the_forest_of</td>\n",
       "      <td>[land, the, forest, of, and, in, to, fallow, f...</td>\n",
       "      <td>[Diversified responses to contemporary pressur...</td>\n",
       "    </tr>\n",
       "    <tr>\n",
       "      <th>52</th>\n",
       "      <td>51</td>\n",
       "      <td>14</td>\n",
       "      <td>51_amf_mycorrhizal_arbuscular_arbuscular mycor...</td>\n",
       "      <td>[amf, mycorrhizal, arbuscular, arbuscular myco...</td>\n",
       "      <td>[Arbuscular Mycorrhizal Fungi Response on Soil...</td>\n",
       "    </tr>\n",
       "    <tr>\n",
       "      <th>53</th>\n",
       "      <td>52</td>\n",
       "      <td>14</td>\n",
       "      <td>52_yield_npk_cmv_soil</td>\n",
       "      <td>[yield, npk, cmv, soil, rice, the, and, chines...</td>\n",
       "      <td>[Rational utilization of Chinese milk vetch im...</td>\n",
       "    </tr>\n",
       "    <tr>\n",
       "      <th>54</th>\n",
       "      <td>53</td>\n",
       "      <td>14</td>\n",
       "      <td>53_composites_thermal_paddy straw_straw</td>\n",
       "      <td>[composites, thermal, paddy straw, straw, cond...</td>\n",
       "      <td>[Development and performance evaluation of pad...</td>\n",
       "    </tr>\n",
       "    <tr>\n",
       "      <th>55</th>\n",
       "      <td>54</td>\n",
       "      <td>13</td>\n",
       "      <td>54_genes_under_drought_rice</td>\n",
       "      <td>[genes, under, drought, rice, ln, and, conditi...</td>\n",
       "      <td>[RNA-seq reveals the involvement of key genes ...</td>\n",
       "    </tr>\n",
       "    <tr>\n",
       "      <th>56</th>\n",
       "      <td>55</td>\n",
       "      <td>13</td>\n",
       "      <td>55_weed_allelopathic_weeds_herbicides</td>\n",
       "      <td>[weed, allelopathic, weeds, herbicides, of, al...</td>\n",
       "      <td>[Deciphering field-based evidences for crop al...</td>\n",
       "    </tr>\n",
       "    <tr>\n",
       "      <th>57</th>\n",
       "      <td>56</td>\n",
       "      <td>11</td>\n",
       "      <td>56_lulc_land_urban_the</td>\n",
       "      <td>[lulc, land, urban, the, area, changes, lst, a...</td>\n",
       "      <td>[Land Use Change and Its Impacts on Land Surfa...</td>\n",
       "    </tr>\n",
       "    <tr>\n",
       "      <th>58</th>\n",
       "      <td>57</td>\n",
       "      <td>11</td>\n",
       "      <td>57_rice_farming_the_farmers</td>\n",
       "      <td>[rice, farming, the, farmers, of, to, and, mkd...</td>\n",
       "      <td>[\"One must do, five reductions\" technical prac...</td>\n",
       "    </tr>\n",
       "    <tr>\n",
       "      <th>59</th>\n",
       "      <td>58</td>\n",
       "      <td>10</td>\n",
       "      <td>58_climate_adaptation_farmers_climate change</td>\n",
       "      <td>[climate, adaptation, farmers, climate change,...</td>\n",
       "      <td>[Building climate-resilient food systems in sr...</td>\n",
       "    </tr>\n",
       "  </tbody>\n",
       "</table>\n",
       "</div>"
      ],
      "text/plain": [
       "    Topic  Count                                               Name  \\\n",
       "0      -1   1316                                   -1_the_and_of_in   \n",
       "1       0    283                               0_grazing_the_of_and   \n",
       "2       1    109                                1_rice_and_water_in   \n",
       "3       2    101                              2_land_the_of_wetland   \n",
       "4       3    100                      3_biochar_and_soil_of biochar   \n",
       "5       4     96                             4_the_mapping_and_data   \n",
       "6       5     73               5_bacterial_soil_community_microbial   \n",
       "7       6     65                              6_cd_soil_and_cadmium   \n",
       "8       7     54                                   7_rice_of_the_in   \n",
       "9       8     54                                8_arsenic_as_in_and   \n",
       "10      9     54                          9_soc_carbon_soil_organic   \n",
       "11     10     47                    10_emissions_and_ghg_greenhouse   \n",
       "12     11     46                            11_of_protected_and_the   \n",
       "13     12     44                    12_dyeing_fabric_cotton_fabrics   \n",
       "14     13     43                          13_coculture_and_fish_the   \n",
       "15     14     42                         14_nitrogen_and_rice_yield   \n",
       "16     15     40                            15_runoff_water_the_and   \n",
       "17     16     36                    16_farmers_the_paddy farmers_of   \n",
       "18     17     35                             17_tillage_soil_and_nt   \n",
       "19     18     35                         18_soil_phosphorus_and_the   \n",
       "20     19     33                     19_straw_paddy straw_of_lignin   \n",
       "21     20     33                   20_cyanobacteria_of_nitrogen_and   \n",
       "22     21     33                        21_burning_residue_straw_of   \n",
       "23     22     33                          22_rice_endophytic_the_of   \n",
       "24     23     31                       23_of_the_cultural_landscape   \n",
       "25     24     30                           24_the_aquaculture_of_to   \n",
       "26     25     30                              25_weed_weeds_rice_in   \n",
       "27     26     29                       26_paddlefish_harvest_of_and   \n",
       "28     27     27                             27_concrete_of_ash_the   \n",
       "29     28     26                             28_soil_the_spatial_in   \n",
       "30     29     26             29_ch4_emissions_ch4 emissions_methane   \n",
       "31     30     23                   30_energy_husk_rice husk_biomass   \n",
       "32     31     21                31_environmental_lca_the_life cycle   \n",
       "33     32     21                     32_groundwater_water_the_model   \n",
       "34     33     21                  33_groundwater_recharge_water_the   \n",
       "35     34     20                        34_water_the_of_groundwater   \n",
       "36     35     20                     35_pesticides_pesticide_and_of   \n",
       "37     36     20             36_climate_climate change_change_water   \n",
       "38     37     19                37_energy_production_energy use_and   \n",
       "39     38     18                 38_heavy_metals_metal_heavy metals   \n",
       "40     39     18                      39_drying_dryer_exergy_energy   \n",
       "41     40     18                                   40_of_and_the_in   \n",
       "42     41     17                             41_si_silicon_rice_the   \n",
       "43     42     17                  42_salinity_soil_of_soil salinity   \n",
       "44     43     16           43_suitability_land_land suitability_the   \n",
       "45     44     16         44_nh3_fertilizer_volatilization_emissions   \n",
       "46     45     16                   45_soil_quality_sqi_soil quality   \n",
       "47     46     15                           46_land_runoff_river_the   \n",
       "48     47     15              47_water_wf_water footprint_footprint   \n",
       "49     48     15               48_adsorption_catalyst_reaction_pore   \n",
       "50     49     15                 49_deep_learning_deep learning_the   \n",
       "51     50     15                              50_land_the_forest_of   \n",
       "52     51     14  51_amf_mycorrhizal_arbuscular_arbuscular mycor...   \n",
       "53     52     14                              52_yield_npk_cmv_soil   \n",
       "54     53     14            53_composites_thermal_paddy straw_straw   \n",
       "55     54     13                        54_genes_under_drought_rice   \n",
       "56     55     13              55_weed_allelopathic_weeds_herbicides   \n",
       "57     56     11                             56_lulc_land_urban_the   \n",
       "58     57     11                        57_rice_farming_the_farmers   \n",
       "59     58     10       58_climate_adaptation_farmers_climate change   \n",
       "\n",
       "                                       Representation  \\\n",
       "0   [the, and, of, in, to, rice, for, soil, with, is]   \n",
       "1   [grazing, the, of, and, to, in, pasture, on, p...   \n",
       "2   [rice, and, water, in, the, of, to, irrigation...   \n",
       "3   [land, the, of, wetland, and, in, to, wetlands...   \n",
       "4   [biochar, and, soil, of biochar, of, the, in, ...   \n",
       "5   [the, mapping, and, data, rice, of, to, in, pa...   \n",
       "6   [bacterial, soil, community, microbial, and, t...   \n",
       "7   [cd, soil, and, cadmium, remediation, the, in,...   \n",
       "8   [rice, of, the, in, insects, and, pest, to, fi...   \n",
       "9   [arsenic, as, in, and, of, the, rice, iron, so...   \n",
       "10  [soc, carbon, soil, organic, and, in, the, org...   \n",
       "11  [emissions, and, ghg, greenhouse, rice, the, n...   \n",
       "12  [of, protected, and, the, forest, to, we, in, ...   \n",
       "13  [dyeing, fabric, cotton, fabrics, foam, the, d...   \n",
       "14  [coculture, and, fish, the, rice, ricefish, of...   \n",
       "15  [nitrogen, and, rice, yield, the, efficiency, ...   \n",
       "16  [runoff, water, the, and, of, drainage, in, fo...   \n",
       "17  [farmers, the, paddy farmers, of, adoption, pa...   \n",
       "18  [tillage, soil, and, nt, the, ct, in, under, o...   \n",
       "19  [soil, phosphorus, and, the, in, of, soils, to...   \n",
       "20  [straw, paddy straw, of, lignin, and, the, pre...   \n",
       "21  [cyanobacteria, of, nitrogen, and, in, the, bi...   \n",
       "22  [burning, residue, straw, of, rice straw, the,...   \n",
       "23  [rice, endophytic, the, of, and, in, growth, p...   \n",
       "24  [of, the, cultural, landscape, and, biodiversi...   \n",
       "25  [the, aquaculture, of, to, paddle, energy, and...   \n",
       "26  [weed, weeds, rice, in, of, and, weed manageme...   \n",
       "27  [paddlefish, harvest, of, and, the, to, fisher...   \n",
       "28  [concrete, of, ash, the, silica, husk, rha, ri...   \n",
       "29  [soil, the, spatial, in, and, of, land, of soi...   \n",
       "30  [ch4, emissions, ch4 emissions, methane, rice,...   \n",
       "31  [energy, husk, rice husk, biomass, the, power,...   \n",
       "32  [environmental, lca, the, life cycle, rice, im...   \n",
       "33  [groundwater, water, the, model, of, and, flow...   \n",
       "34  [groundwater, recharge, water, the, irrigation...   \n",
       "35  [water, the, of, groundwater, irrigation, in, ...   \n",
       "36  [pesticides, pesticide, and, of, the, in, to, ...   \n",
       "37  [climate, climate change, change, water, the, ...   \n",
       "38  [energy, production, energy use, and, in, of, ...   \n",
       "39  [heavy, metals, metal, heavy metals, the, cd, ...   \n",
       "40  [drying, dryer, exergy, energy, the, of, gasif...   \n",
       "41  [of, and, the, in, to, farmers, species, seeds...   \n",
       "42  [si, silicon, rice, the, and, in, of, soil, by...   \n",
       "43  [salinity, soil, of, soil salinity, in, the, s...   \n",
       "44  [suitability, land, land suitability, the, for...   \n",
       "45  [nh3, fertilizer, volatilization, emissions, n...   \n",
       "46  [soil, quality, sqi, soil quality, and, the, e...   \n",
       "47  [land, runoff, river, the, water, basin, landu...   \n",
       "48  [water, wf, water footprint, footprint, the, c...   \n",
       "49  [adsorption, catalyst, reaction, pore, metalor...   \n",
       "50  [deep, learning, deep learning, the, model, an...   \n",
       "51  [land, the, forest, of, and, in, to, fallow, f...   \n",
       "52  [amf, mycorrhizal, arbuscular, arbuscular myco...   \n",
       "53  [yield, npk, cmv, soil, rice, the, and, chines...   \n",
       "54  [composites, thermal, paddy straw, straw, cond...   \n",
       "55  [genes, under, drought, rice, ln, and, conditi...   \n",
       "56  [weed, allelopathic, weeds, herbicides, of, al...   \n",
       "57  [lulc, land, urban, the, area, changes, lst, a...   \n",
       "58  [rice, farming, the, farmers, of, to, and, mkd...   \n",
       "59  [climate, adaptation, farmers, climate change,...   \n",
       "\n",
       "                                  Representative_Docs  \n",
       "0   [Direct and Residual Impacts of Olive-Mill Was...  \n",
       "1   [Synthesis of system outcomes for a grazing-ma...  \n",
       "2   [Growth, yield and water productivity of dry d...  \n",
       "3   [Optimization of cultivated land pattern for a...  \n",
       "4   [Comparative Metagenomics Reveals Enhanced Nut...  \n",
       "5   [Phenology-Based Rice Paddy Mapping Using Mult...  \n",
       "6   [Differential response of bacterial diversity ...  \n",
       "7   [Vermicompost Supply Enhances Fragrant-Rice Yi...  \n",
       "8   [Rice Pest Management and Biological Control I...  \n",
       "9   [Mitigation of arsenic toxicity in rice grain ...  \n",
       "10  [Does rice paddy management increase soil orga...  \n",
       "11  [Responses of yield, CH<sub>4</sub> and N<sub>...  \n",
       "12  [Half century of protected area dynamism in th...  \n",
       "13  [Superheated Water Hydrolyzed Keratin: A New A...  \n",
       "14  [Integrated rice-aquatic animals culture syste...  \n",
       "15  [Assessment of productivity, nutrient uptake a...  \n",
       "16  [Paddy water managements for diffuse nitrogen ...  \n",
       "17  [A possible resolution of Malaysian sunset ind...  \n",
       "18  [Responses of soil aggregates, organic carbon,...  \n",
       "19  [Mechanisms and influencing factors of yttrium...  \n",
       "20  [A review on bioprocessing of paddy straw to e...  \n",
       "21  [Problems and prospects of cyanobacterial biof...  \n",
       "22  [COVID-19 pandemic and sudden rise in crop res...  \n",
       "23  [Herbicide-tolerant endophytic bacteria of ric...  \n",
       "24  [Tourist preferences for agricultural landscap...  \n",
       "25  [Perspectives on the application of closed shr...  \n",
       "26  [Management of <i>Cleome rutidosperma</i> DC. ...  \n",
       "27  [Paddlefish Harvest in Oklahoma The Neosho Riv...  \n",
       "28  [Heat absorbing glass from rice husk ash for a...  \n",
       "29  [Prediction of soil property distribution in p...  \n",
       "30  [Aboveground morphological traits do not predi...  \n",
       "31  [Process Analysis and Gasification of Rice Hus...  \n",
       "32  [Environmental impacts of a rice-beef-biogas i...  \n",
       "33  [Current Geo-Ecological Problems Within the La...  \n",
       "34  [Better Water and Land Allocation for Long-ter...  \n",
       "35  [Groundwater Modeling for Sustainable Resource...  \n",
       "36  [Dissipation of Penoxsulam in Paddy Soil, Wate...  \n",
       "37  [Adapting rice production to climate change fo...  \n",
       "38  [A high-resolution energy use efficiency asses...  \n",
       "39  [Ten-year regional monitoring of soil-rice gra...  \n",
       "40  [Energy and exergy evaluation of rice processi...  \n",
       "41  [Forest resource use and perception of farmers...  \n",
       "42  [Silicon in soil and its interaction with nitr...  \n",
       "43  [Diagnosis, extent, impacts, and management of...  \n",
       "44  [Determination of suitable lands for rice cult...  \n",
       "45  [Effects of N Fertilizer Sources and Tillage P...  \n",
       "46  [Influence of Land Use Types on Soil Propertie...  \n",
       "47  [Investigation into the Impacts of Land-Use Ch...  \n",
       "48  [Water Footprint in paddy rice systems. Its de...  \n",
       "49  [Highly efficient CO2 conversion on a robust m...  \n",
       "50  [Improving soil organic carbon estimation in p...  \n",
       "51  [Diversified responses to contemporary pressur...  \n",
       "52  [Arbuscular Mycorrhizal Fungi Response on Soil...  \n",
       "53  [Rational utilization of Chinese milk vetch im...  \n",
       "54  [Development and performance evaluation of pad...  \n",
       "55  [RNA-seq reveals the involvement of key genes ...  \n",
       "56  [Deciphering field-based evidences for crop al...  \n",
       "57  [Land Use Change and Its Impacts on Land Surfa...  \n",
       "58  [\"One must do, five reductions\" technical prac...  \n",
       "59  [Building climate-resilient food systems in sr...  "
      ]
     },
     "execution_count": 23,
     "metadata": {},
     "output_type": "execute_result"
    }
   ],
   "source": [
    "# Get the list of topics\n",
    "# Topic = the topic number. From the largest topic.\n",
    "#         \"-1\" is the generic topic. Genericr keywords are aggegrated here.\n",
    "# Count = Documents assigned to this topic\n",
    "# Name = Top 4 words of the topic based on probability\n",
    "# Representation = The list of words representing this topic\n",
    "# Representative_Docs = Documents assigned to this topic\n",
    "tm_summary = topic_model.get_topic_info()\n",
    "tm_summary"
   ]
  },
  {
   "cell_type": "code",
   "execution_count": 24,
   "metadata": {
    "id": "k9mN1tgZQupy"
   },
   "outputs": [],
   "source": [
    "# Save the topic model assets\n",
    "tm_folder_path = f'{ROOT_FOLDER_PATH}/{project_folder}/{settings[\"metadata\"][\"analysis_id\"]}'\n",
    "\n",
    "if not os.path.exists(tm_folder_path):\n",
    "  !mkdir $tm_folder_path\n",
    "\n",
    "tm_summary.to_csv(f'{tm_folder_path}/topic_model_info.csv', index=False)"
   ]
  },
  {
   "cell_type": "code",
   "execution_count": 25,
   "metadata": {
    "colab": {
     "base_uri": "https://localhost:8080/"
    },
    "id": "WuE0vkbp3fVL",
    "outputId": "aa8ebf45-cdd3-4161-9ac4-1343c91f47da"
   },
   "outputs": [
    {
     "data": {
      "text/plain": [
       "59"
      ]
     },
     "execution_count": 25,
     "metadata": {},
     "output_type": "execute_result"
    }
   ],
   "source": [
    "# Number of topics found\n",
    "found_topics = max(tm_summary.Topic) + 1\n",
    "found_topics"
   ]
  },
  {
   "cell_type": "code",
   "execution_count": 26,
   "metadata": {
    "colab": {
     "base_uri": "https://localhost:8080/"
    },
    "id": "KjKUcNMdwFHQ",
    "outputId": "b3549b7c-4c8a-4b82-8d87-6a46774e4694"
   },
   "outputs": [
    {
     "data": {
      "text/plain": [
       "True"
      ]
     },
     "execution_count": 26,
     "metadata": {},
     "output_type": "execute_result"
    }
   ],
   "source": [
    "# Confirm all documents are assigned\n",
    "sum(tm_summary.Count) == len(corpus)"
   ]
  },
  {
   "cell_type": "code",
   "execution_count": 27,
   "metadata": {
    "colab": {
     "base_uri": "https://localhost:8080/"
    },
    "id": "bGyoQT47xY_R",
    "outputId": "9affafe5-0ff7-4edf-d9f6-3d7a7eda04eb"
   },
   "outputs": [
    {
     "data": {
      "text/plain": [
       "[('grazing', 0.015275561279905087),\n",
       " ('the', 0.010918258605339458),\n",
       " ('of', 0.010899434889557353),\n",
       " ('and', 0.010333488639852064),\n",
       " ('to', 0.00907353931441998),\n",
       " ('in', 0.008916369484466977),\n",
       " ('pasture', 0.008402170649768264),\n",
       " ('on', 0.006626666381547291),\n",
       " ('paddocks', 0.006528019030674177),\n",
       " ('was', 0.006392515401572143)]"
      ]
     },
     "execution_count": 27,
     "metadata": {},
     "output_type": "execute_result"
    }
   ],
   "source": [
    "# Get top 10 terms for a topic\n",
    "topic_model.get_topic(0)"
   ]
  },
  {
   "cell_type": "code",
   "execution_count": 28,
   "metadata": {
    "colab": {
     "base_uri": "https://localhost:8080/"
    },
    "id": "PU99D2xhxoOY",
    "outputId": "4e90e928-9bbf-40c3-c3b5-a1a50abe82f0"
   },
   "outputs": [
    {
     "data": {
      "text/plain": [
       "[\"Synthesis of system outcomes for a grazing-management experiment in temperate native pastures Increasing the intensity of grazing management from continuous grazing or set-stocking to intensive rotational grazing has been proposed as a way of improving the profitability and environmental outcomes for native pasture-based grazing systems in the high-rainfall zone (HRZ) of southern Australia. The present paper synthesised the results and outcomes of eight papers covering different aspects of a grazing-system study investigating the intensity of grazing management at Panuara (33 degrees 27'S, 148 degrees 56'E), 25 km south-west of Orange, New South Wales. The systems analysis covered soils and soil water, pastures, animal production, profitability and business risk by using a combination of field experiments and biophysical modelling. The experimental approach, engagement with stakeholders and the potential impact of the research outcomes are discussed; as are the future directions for grazing system research. Increasing the intensity of grazing management from a 1- to a 20-paddock system resulted in a 21% higher pasture growth, 22% higher stocking rate and 20% higher lamb production per hectare. However, modelling demonstrated that seasonal variability had a greater impact on profitability than did the management system, and whole-farm profitability of the 20-paddock system was lower than that of the 1- and 4-paddock systems due to higher infrastructure costs. Pasture stability was associated with a high perennial grass content (>70%), and a stocking rate of 4.2 ewes/ha for continuous grazing or 5.3 ewes/ha for intensive rotational grazing limited the potential for degradation events. Advantages were identified in fencing and managing production zones, with different production potential within a farm, to improve utilisation across the landscape and efficiency of fertiliser use. The farming-system approach successfully integrated field research with pre- and post-experimental modelling, and with strategic input from an advisory group containing farmers, researchers and advisors, to develop a full understanding of the impact, at a system level, of increasing the intensity of grazing management in the HRZ.\",\n",
       " \"Pasture herbage mass, quality and growth in response to three whole-farmlet management systems The effects of different whole-farm management systems were explored in a farmlet trial on the Northern Tablelands of New South Wales, Australia, between July 2000 and December 2006. The three systems examined were first, a moderate input farmlet with flexible grazing on eight paddocks considered 'typical' of the region (farmlet B), a second, also with flexible grazing on eight paddocks but with a high level of pasture renovation and increased soil fertility (farmlet A) and a third with the same moderate level of inputs as farmlet B but which practised intensive rotational grazing on 37 paddocks (farmlet C). The changes in herbage mass, herbage quality and pasture growth followed a seasonal pattern typical of the Northern Tablelands with generally higher levels recorded over spring-summer and lower levels in autumn-winter but with substantial differences between years due to the variable climate experienced. Over the first 18 months of the trial there were no significant differences between farmlets in total herbage mass. Although the climate was generally drier than average, the differences between farmlets in pasture herbage mass and quality became more evident over the duration of the experiment. After the farmlet treatments started to take effect, the levels of total and dead herbage mass became significantly lower on farmlet A compared with farmlets B and C. In contrast, the levels of green herbage were similar for all farmlets. Throughout most of the study period, pastures on farmlet A with its higher levels of pasture renovation and soil fertility, had significantly higher DM digestibility for both green and dead herbage components compared with pastures on either of the moderate input systems (B and C). Thus, when green herbage mass and quality were combined, farmlet A tended to have higher levels of green digestible herbage than either of the other farmlets, which had similar levels, suggesting that pasture renovation and soil fertility had more effect on the supply of quality pasture than did grazing management. This difference was observed in spite of the higher stocking rate supported by farmlet A after treatments took effect. Levels of legume herbage mass, while generally low due to the dry conditions, were significantly higher on farmlet A compared with the other two farmlets. While ground cover on farmlet A was found to be less than the other farmlets, this was largely associated with the higher level of pasture renovation. Generally, all three farmlets had ground cover levels well above 70% for the duration of the experiment, thus being above levels considered critical for prevention of erosion. A multivariate analysis showed that the main explanatory factors significantly linked (P < 0.01) with the supply of high quality herbage were, in decreasing order of importance, those related to season and weather, pasture renovation, grazing management and soil fertility. Measurements of net pasture growth conducted using a limited number of grazing exclosure cages on three paddocks per farmlet revealed clear seasonal trends but no significant (P > 0.05) differences between farmlets. However, post hoc estimates of potential pasture growth rate using remotely sensed MODIS satellite images of normalised difference vegetation index captured weekly from each farmlet revealed a significant (P < 0.001) relationship with the seasonal pattern observed in the measurements of pasture growth rate.\",\n",
       " \"Effects of grazing method and fertiliser inputs on the productivity and sustainability of phalaris-based pastures in Western Victoria The effects of combinations of different fertiliser rates and grazing methods applied to phalaris-based pastures on an acid, saline, yellow sodosol on the Dundas Tablelands of western Victoria (mean annual rainfall 623 mm) were measured from 1997 to 2000. The objective was to help identify management systems that improve phalaris growth and persistence, water use, and animal production, and thereby the productivity and sustainability of grazing systems. Pastures were either set stocked with low [mean 6.4 kg phosphorus (P)/ha. year] or high (mean 25 kg P/ha. year) fertiliser rates, or rotationally grazed with high fertiliser (mean 25 kg P/ha. year). Rotational grazing was implemented as either a simple '4-paddock' system (fixed rotation length), or a more intensive system where rotation length varied with pasture growth rate. Unreplicated paddocks of volunteer pasture (dominated by onion grass and annual grass weeds) receiving an average of 8 kg P/ha. year were also monitored. All treatments were stocked with spring-lambing Merino ewes. Stocking rate was an emergent property of each treatment, and was driven by pasture quality and availability. Total pasture herbage accumulation ranged from 7150 to 9750 kg DM/ha. year and was significantly lower on the set-stocked, low-fertility treatment than on all other treatments. A significant treatment day effect in the spline analysis of herbage mass was explained by a trend toward higher pasture mass in the rotationally grazed treatments than set-stocked treatments from the break of season until mid-spring. Rotational grazing led to significantly higher phalaris herbage accumulation than set stocking (mean 3680 v. 2120 kg DM/ha. year), but significantly lower subterranean clover herbage accumulation (1440 v. 2490 kg DM/ha. year). Despite the stronger growth of deep-rooted phalaris in the rotationally grazed treatments, maximum soil water deficits at the end of summer differed only slightly between treatments, with the difference between driest and wettest treatments amounting to only 14 mm. Summer growth of phalaris was apparently insufficient to generate significant differences in soil water extraction at depth, even when phalaris content was increased by rotational grazing, and re-wetting of the soil profile occurred at a similar rate for all treatments. Rotationally grazed treatments supported higher stocking rates than set-stocked treatments at high fertiliser rates (mean 14.9 v. 13.7 ewes/ha), but apparent losses in pasture feeding value due to lower legume content under rotational grazing meant that there were few significant differences between treatments in lamb production per hectare. The experiment showed that grazing method can have a substantial and rapid effect on pasture botanical composition. There are clear opportunities for producers to use temporal and spatial combinations of set stocking and rotational grazing to manipulate herbage mass and pasture composition within broad target ranges for achieving both animal production (e.g. high per-head animal performance) and sustainability (e.g. persistence of perennial grasses) objectives. Rigid application of either set stocking or rotational grazing imposes limitations on both pasture and animal production, and neither grazing method will optimise system performance under all conditions. The experiment also demonstrated that management and land-use changes that have much greater potential to increase water use than those examined here will be needed to ensure the sustainability of pasture systems in the high rainfall zone of western Victoria.\"]"
      ]
     },
     "execution_count": 28,
     "metadata": {},
     "output_type": "execute_result"
    }
   ],
   "source": [
    "# Get the top 10 documents for a topic\n",
    "topic_model.get_representative_docs(0)"
   ]
  },
  {
   "cell_type": "code",
   "execution_count": 29,
   "metadata": {
    "id": "1CgYkbHN9I2T"
   },
   "outputs": [],
   "source": [
    "# Others\n",
    "\n",
    "# # Get the number of documents per topic (same as in the table above)\n",
    "# topic_model.get_topic_freq(0)\n",
    "\n",
    "# # Get the main keywords per topic\n",
    "# topic_model.get_topics()"
   ]
  },
  {
   "cell_type": "code",
   "execution_count": 30,
   "metadata": {
    "colab": {
     "base_uri": "https://localhost:8080/"
    },
    "id": "JQKxUqHN9RT7",
    "outputId": "c572d73b-fc91-4c84-dc79-8f047b046aa2"
   },
   "outputs": [
    {
     "data": {
      "text/plain": [
       "{'calculate_probabilities': True,\n",
       " 'ctfidf_model': ClassTfidfTransformer(),\n",
       " 'embedding_model': None,\n",
       " 'hdbscan_model': HDBSCAN(min_cluster_size=10, prediction_data=True),\n",
       " 'language': 'english',\n",
       " 'low_memory': False,\n",
       " 'min_topic_size': 10,\n",
       " 'n_gram_range': (1, 3),\n",
       " 'nr_topics': None,\n",
       " 'representation_model': None,\n",
       " 'seed_topic_list': None,\n",
       " 'top_n_words': 10,\n",
       " 'umap_model': UMAP(angular_rp_forest=True, metric='cosine', min_dist=0.0, n_components=5, n_jobs=1, random_state=100, tqdm_kwds={'bar_format': '{desc}: {percentage:3.0f}%| {bar} {n_fmt}/{total_fmt} [{elapsed}]', 'desc': 'Epochs completed', 'disable': True}),\n",
       " 'vectorizer_model': CountVectorizer(ngram_range=(1, 3)),\n",
       " 'verbose': True,\n",
       " 'zeroshot_min_similarity': 0.7,\n",
       " 'zeroshot_topic_list': None}"
      ]
     },
     "execution_count": 30,
     "metadata": {},
     "output_type": "execute_result"
    }
   ],
   "source": [
    "# Print the parameters used. (For reporting)\n",
    "topic_model.get_params()"
   ]
  },
  {
   "cell_type": "code",
   "execution_count": 31,
   "metadata": {
    "colab": {
     "base_uri": "https://localhost:8080/"
    },
    "id": "G8hwSK98RM9-",
    "outputId": "07a40193-c69a-4356-b1b0-ac721ef78c08"
   },
   "outputs": [
    {
     "name": "stdout",
     "output_type": "stream",
     "text": [
      "Done\n"
     ]
    }
   ],
   "source": [
    "tm_params = dict(topic_model.get_params())\n",
    "for key, value in tm_params.items():\n",
    "    tm_params[key]=  str(value)\n",
    "with open(f'{tm_folder_path}/topic_model_params.json', 'w') as f:\n",
    "    json.dump(tm_params, f, ensure_ascii=False, indent=4)\n",
    "    print('Done')"
   ]
  },
  {
   "cell_type": "code",
   "execution_count": 32,
   "metadata": {
    "colab": {
     "base_uri": "https://localhost:8080/"
    },
    "id": "5v4Wvn3ZAkZP",
    "outputId": "ea347717-a33e-40ad-ad2d-51798cbc5b5f"
   },
   "outputs": [
    {
     "name": "stderr",
     "output_type": "stream",
     "text": [
      "100%|██████████| 4/4 [00:05<00:00,  1.48s/it]\n"
     ]
    }
   ],
   "source": [
    "# Get the topic score for each paper and its assigned topic\n",
    "topic_distr, _ = topic_model.approximate_distribution(documents, batch_size=1000)\n",
    "distributions = [distr[topic] if topic != -1 else 0 for topic, distr in zip(topics, topic_distr)]"
   ]
  },
  {
   "cell_type": "code",
   "execution_count": 33,
   "metadata": {
    "colab": {
     "base_uri": "https://localhost:8080/"
    },
    "id": "6OTw5go4yVvM",
    "outputId": "7dfa090e-776f-4922-d611-325b1510ccab"
   },
   "outputs": [
    {
     "data": {
      "text/plain": [
       "array([[0.        , 0.        , 0.06010956, ..., 0.04378331, 0.        ,\n",
       "        0.        ],\n",
       "       [0.        , 0.        , 0.        , ..., 0.        , 0.        ,\n",
       "        0.        ],\n",
       "       [0.        , 0.12061914, 0.        , ..., 0.        , 0.        ,\n",
       "        0.        ],\n",
       "       ...,\n",
       "       [0.        , 0.04550157, 0.08444778, ..., 0.        , 0.        ,\n",
       "        0.        ],\n",
       "       [0.        , 0.        , 0.02513488, ..., 0.        , 0.        ,\n",
       "        0.        ],\n",
       "       [0.        , 0.        , 0.        , ..., 0.        , 0.        ,\n",
       "        0.        ]])"
      ]
     },
     "execution_count": 33,
     "metadata": {},
     "output_type": "execute_result"
    }
   ],
   "source": [
    "topic_distr"
   ]
  },
  {
   "cell_type": "code",
   "execution_count": 34,
   "metadata": {
    "colab": {
     "base_uri": "https://localhost:8080/",
     "height": 591
    },
    "id": "I7E0_6bv9hBp",
    "outputId": "06faea2f-1c00-4ca7-958b-4dd2dcb10c36"
   },
   "outputs": [
    {
     "data": {
      "text/html": [
       "<div>\n",
       "<style scoped>\n",
       "    .dataframe tbody tr th:only-of-type {\n",
       "        vertical-align: middle;\n",
       "    }\n",
       "\n",
       "    .dataframe tbody tr th {\n",
       "        vertical-align: top;\n",
       "    }\n",
       "\n",
       "    .dataframe thead th {\n",
       "        text-align: right;\n",
       "    }\n",
       "</style>\n",
       "<table border=\"1\" class=\"dataframe\">\n",
       "  <thead>\n",
       "    <tr style=\"text-align: right;\">\n",
       "      <th></th>\n",
       "      <th>UT</th>\n",
       "      <th>Document</th>\n",
       "      <th>Topic</th>\n",
       "      <th>Name</th>\n",
       "      <th>Representation</th>\n",
       "      <th>Representative_Docs</th>\n",
       "      <th>Top_n_words</th>\n",
       "      <th>Probability</th>\n",
       "      <th>Representative_document</th>\n",
       "      <th>Score</th>\n",
       "      <th>X_E</th>\n",
       "      <th>X_C</th>\n",
       "      <th>level0</th>\n",
       "      <th>cl99</th>\n",
       "      <th>cl-99</th>\n",
       "    </tr>\n",
       "  </thead>\n",
       "  <tbody>\n",
       "    <tr>\n",
       "      <th>0</th>\n",
       "      <td>WOS:000582696400017</td>\n",
       "      <td>Spatiotemporal variations in soil organic carb...</td>\n",
       "      <td>-1</td>\n",
       "      <td>-1_the_and_of_in</td>\n",
       "      <td>[the, and, of, in, to, rice, for, soil, with, is]</td>\n",
       "      <td>[Direct and Residual Impacts of Olive-Mill Was...</td>\n",
       "      <td>the - and - of - in - to - rice - for - soil -...</td>\n",
       "      <td>0.326770</td>\n",
       "      <td>False</td>\n",
       "      <td>0.0</td>\n",
       "      <td>0.0</td>\n",
       "      <td>0</td>\n",
       "      <td>0</td>\n",
       "      <td>False</td>\n",
       "      <td>False</td>\n",
       "    </tr>\n",
       "    <tr>\n",
       "      <th>1</th>\n",
       "      <td>WOS:000526820600124</td>\n",
       "      <td>Phenology-Based Rice Paddy Mapping Using Multi...</td>\n",
       "      <td>4</td>\n",
       "      <td>4_the_mapping_and_data</td>\n",
       "      <td>[the, mapping, and, data, rice, of, to, in, pa...</td>\n",
       "      <td>[Phenology-Based Rice Paddy Mapping Using Mult...</td>\n",
       "      <td>the - mapping - and - data - rice - of - to - ...</td>\n",
       "      <td>0.279272</td>\n",
       "      <td>True</td>\n",
       "      <td>1.0</td>\n",
       "      <td>1.0</td>\n",
       "      <td>5</td>\n",
       "      <td>5</td>\n",
       "      <td>False</td>\n",
       "      <td>False</td>\n",
       "    </tr>\n",
       "    <tr>\n",
       "      <th>2</th>\n",
       "      <td>WOS:000493525500227</td>\n",
       "      <td>Eco-Efficiency Assessment of Intensive Rice Pr...</td>\n",
       "      <td>-1</td>\n",
       "      <td>-1_the_and_of_in</td>\n",
       "      <td>[the, and, of, in, to, rice, for, soil, with, is]</td>\n",
       "      <td>[Direct and Residual Impacts of Olive-Mill Was...</td>\n",
       "      <td>the - and - of - in - to - rice - for - soil -...</td>\n",
       "      <td>0.260038</td>\n",
       "      <td>False</td>\n",
       "      <td>0.0</td>\n",
       "      <td>0.0</td>\n",
       "      <td>0</td>\n",
       "      <td>0</td>\n",
       "      <td>False</td>\n",
       "      <td>False</td>\n",
       "    </tr>\n",
       "    <tr>\n",
       "      <th>3</th>\n",
       "      <td>WOS:000493911600089</td>\n",
       "      <td>Mitigation of greenhouse gas intensity by supp...</td>\n",
       "      <td>-1</td>\n",
       "      <td>-1_the_and_of_in</td>\n",
       "      <td>[the, and, of, in, to, rice, for, soil, with, is]</td>\n",
       "      <td>[Direct and Residual Impacts of Olive-Mill Was...</td>\n",
       "      <td>the - and - of - in - to - rice - for - soil -...</td>\n",
       "      <td>0.768138</td>\n",
       "      <td>False</td>\n",
       "      <td>0.0</td>\n",
       "      <td>0.0</td>\n",
       "      <td>0</td>\n",
       "      <td>0</td>\n",
       "      <td>False</td>\n",
       "      <td>False</td>\n",
       "    </tr>\n",
       "    <tr>\n",
       "      <th>4</th>\n",
       "      <td>WOS:000468974600029</td>\n",
       "      <td>Up to 399mV bioelectricity generated by a rice...</td>\n",
       "      <td>-1</td>\n",
       "      <td>-1_the_and_of_in</td>\n",
       "      <td>[the, and, of, in, to, rice, for, soil, with, is]</td>\n",
       "      <td>[Direct and Residual Impacts of Olive-Mill Was...</td>\n",
       "      <td>the - and - of - in - to - rice - for - soil -...</td>\n",
       "      <td>0.169673</td>\n",
       "      <td>False</td>\n",
       "      <td>0.0</td>\n",
       "      <td>0.0</td>\n",
       "      <td>0</td>\n",
       "      <td>0</td>\n",
       "      <td>False</td>\n",
       "      <td>False</td>\n",
       "    </tr>\n",
       "  </tbody>\n",
       "</table>\n",
       "</div>"
      ],
      "text/plain": [
       "                    UT                                           Document  \\\n",
       "0  WOS:000582696400017  Spatiotemporal variations in soil organic carb...   \n",
       "1  WOS:000526820600124  Phenology-Based Rice Paddy Mapping Using Multi...   \n",
       "2  WOS:000493525500227  Eco-Efficiency Assessment of Intensive Rice Pr...   \n",
       "3  WOS:000493911600089  Mitigation of greenhouse gas intensity by supp...   \n",
       "4  WOS:000468974600029  Up to 399mV bioelectricity generated by a rice...   \n",
       "\n",
       "   Topic                    Name  \\\n",
       "0     -1        -1_the_and_of_in   \n",
       "1      4  4_the_mapping_and_data   \n",
       "2     -1        -1_the_and_of_in   \n",
       "3     -1        -1_the_and_of_in   \n",
       "4     -1        -1_the_and_of_in   \n",
       "\n",
       "                                      Representation  \\\n",
       "0  [the, and, of, in, to, rice, for, soil, with, is]   \n",
       "1  [the, mapping, and, data, rice, of, to, in, pa...   \n",
       "2  [the, and, of, in, to, rice, for, soil, with, is]   \n",
       "3  [the, and, of, in, to, rice, for, soil, with, is]   \n",
       "4  [the, and, of, in, to, rice, for, soil, with, is]   \n",
       "\n",
       "                                 Representative_Docs  \\\n",
       "0  [Direct and Residual Impacts of Olive-Mill Was...   \n",
       "1  [Phenology-Based Rice Paddy Mapping Using Mult...   \n",
       "2  [Direct and Residual Impacts of Olive-Mill Was...   \n",
       "3  [Direct and Residual Impacts of Olive-Mill Was...   \n",
       "4  [Direct and Residual Impacts of Olive-Mill Was...   \n",
       "\n",
       "                                         Top_n_words  Probability  \\\n",
       "0  the - and - of - in - to - rice - for - soil -...     0.326770   \n",
       "1  the - mapping - and - data - rice - of - to - ...     0.279272   \n",
       "2  the - and - of - in - to - rice - for - soil -...     0.260038   \n",
       "3  the - and - of - in - to - rice - for - soil -...     0.768138   \n",
       "4  the - and - of - in - to - rice - for - soil -...     0.169673   \n",
       "\n",
       "   Representative_document  Score  X_E  X_C  level0   cl99  cl-99  \n",
       "0                    False    0.0  0.0    0       0  False  False  \n",
       "1                     True    1.0  1.0    5       5  False  False  \n",
       "2                    False    0.0  0.0    0       0  False  False  \n",
       "3                    False    0.0  0.0    0       0  False  False  \n",
       "4                    False    0.0  0.0    0       0  False  False  "
      ]
     },
     "execution_count": 34,
     "metadata": {},
     "output_type": "execute_result"
    }
   ],
   "source": [
    "# Document information. Including the topic assignation\n",
    "dataset_clustering_results = topic_model.get_document_info(documents, df = corpus, metadata={\"Score\": distributions})\n",
    "\n",
    "# Standar format for report analysis\n",
    "dataset_clustering_results = dataset_clustering_results.drop(columns=['text'])\n",
    "dataset_clustering_results['X_E'] = dataset_clustering_results['Score']\n",
    "dataset_clustering_results['X_C'] = dataset_clustering_results['Topic'] + 1\n",
    "dataset_clustering_results['level0'] = dataset_clustering_results['Topic'] + 1\n",
    "dataset_clustering_results['cl99'] = False\n",
    "dataset_clustering_results['cl-99'] = False\n",
    "dataset_clustering_results.head()"
   ]
  },
  {
   "cell_type": "code",
   "execution_count": 35,
   "metadata": {
    "id": "eyQDhrjyc6Oh"
   },
   "outputs": [],
   "source": [
    "# Save the dataframe\n",
    "dataset_clustering_results.to_csv(f'{tm_folder_path}/dataset_minimal.csv', index=False)"
   ]
  },
  {
   "cell_type": "code",
   "execution_count": 36,
   "metadata": {
    "colab": {
     "base_uri": "https://localhost:8080/"
    },
    "id": "1RYcsXanZvrr",
    "outputId": "d625d86f-5897-4d75-8b32-54f2dd258ad3"
   },
   "outputs": [
    {
     "name": "stderr",
     "output_type": "stream",
     "text": [
      "2024-12-18 21:41:03,448 - BERTopic - WARNING: When you use `pickle` to save/load a BERTopic model,please make sure that the environments in which you saveand load the model are **exactly** the same. The version of BERTopic,its dependencies, and python need to remain the same.\n"
     ]
    }
   ],
   "source": [
    "# Save the topic model\n",
    "topic_model.save(f'{tm_folder_path}/topic_model_object.pck')"
   ]
  },
  {
   "cell_type": "markdown",
   "metadata": {
    "id": "SX1EBSOY3Pz1"
   },
   "source": [
    "\n",
    "\n",
    "---\n",
    "\n"
   ]
  }
 ],
 "metadata": {
  "colab": {
   "authorship_tag": "ABX9TyM4oE6dpT6UwjIg42kzzsWo",
   "include_colab_link": true,
   "provenance": [],
   "toc_visible": true
  },
  "kernelspec": {
   "display_name": "env-tm",
   "language": "python",
   "name": "python3"
  },
  "language_info": {
   "codemirror_mode": {
    "name": "ipython",
    "version": 3
   },
   "file_extension": ".py",
   "mimetype": "text/x-python",
   "name": "python",
   "nbconvert_exporter": "python",
   "pygments_lexer": "ipython3",
   "version": "3.11.7"
  }
 },
 "nbformat": 4,
 "nbformat_minor": 0
}
