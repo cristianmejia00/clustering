{
 "cells": [
  {
   "cell_type": "markdown",
   "metadata": {
    "colab_type": "text",
    "id": "view-in-github"
   },
   "source": [
    "<a href=\"https://colab.research.google.com/github/cristianmejia00/clustering/blob/main/Topic_Models_using_BERTopic_TOPIC_MODEL_20241101.ipynb\" target=\"_parent\"><img src=\"https://colab.research.google.com/assets/colab-badge.svg\" alt=\"Open In Colab\"/></a>"
   ]
  },
  {
   "cell_type": "markdown",
   "metadata": {
    "id": "Zj3lYckpO2Yn"
   },
   "source": [
    "# Topic Modeling with BERTopic\n",
    "\n",
    "🔴 copied from the [Kubota Colab](https://colab.research.google.com/drive/1YsDp5_qGXGJKsEXsS8DO8CA_lqZc6EpA).  \n",
    "\n",
    "`Topic Models` are methods to automatically organize a corpus of text into topics.\n",
    "\n",
    "Topic Model process:\n",
    "1. Data preparation\n",
    "2. Tranform text to numeric vectors\n",
    "3. Multidimensionality reduction\n",
    "4. Clustering\n",
    "5. Topic analysis\n",
    "6. Cluster assignation\n",
    "\n",
    "\n",
    "This notebook uses the library `BERTopic` which is a one-stop solution for topic modeling including handy functions for plotting and analysis. However, BERTopic does not have a function to extract the X and Y coords from UMAP. If we need the coordinates then use the notebooks `Topic_Models_using_Transformers` instead. In any other situation, when a quick analysis is needed this notebook may be better.\n",
    "\n",
    "This notebook is also the one needed for the heatmap codes included in this folder.\n",
    "\n",
    "`BERTopic` is Python library that handles steps 2 to 6.\n",
    "BERT topic models use the transformer architechture to generate the embeds (i.e. the vector or numeric representation of words) and are currently the state-of-the-art method for vectorization.\n",
    "\n",
    "This notebook shows how to use it.\n",
    "\n",
    "---\n",
    "Reading:\n",
    "[Topic Modeling with Deep Learning Using Python BERTopic](https://medium.com/grabngoinfo/topic-modeling-with-deep-learning-using-python-bertopic-cf91f5676504)\n",
    "[Advanced Topic Modeling with BERTopic](https://www.pinecone.io/learn/bertopic/)\n"
   ]
  },
  {
   "cell_type": "markdown",
   "metadata": {
    "id": "WlufmOowbHSF"
   },
   "source": [
    "# Requirements"
   ]
  },
  {
   "cell_type": "markdown",
   "metadata": {
    "id": "kFQU-BC5ReYd"
   },
   "source": [
    "## Packages installation and initialization"
   ]
  },
  {
   "cell_type": "code",
   "execution_count": 2,
   "metadata": {
    "colab": {
     "base_uri": "https://localhost:8080/"
    },
    "collapsed": true,
    "id": "ckx8hOIyRZvv",
    "outputId": "20e7642f-824b-4ba1-86cc-5a97c89670c5"
   },
   "outputs": [
    {
     "name": "stdout",
     "output_type": "stream",
     "text": [
      "zsh:1: no matches found: bertopic[visualization]\n"
     ]
    }
   ],
   "source": [
    "!pip install bertopic[visualization]"
   ]
  },
  {
   "cell_type": "code",
   "execution_count": 1,
   "metadata": {
    "id": "gMlZ_7DkOxGG"
   },
   "outputs": [
    {
     "name": "stderr",
     "output_type": "stream",
     "text": [
      "/Users/cristian/Desktop/GitHub/clustering/env-tm/lib/python3.11/site-packages/tqdm/auto.py:21: TqdmWarning: IProgress not found. Please update jupyter and ipywidgets. See https://ipywidgets.readthedocs.io/en/stable/user_install.html\n",
      "  from .autonotebook import tqdm as notebook_tqdm\n"
     ]
    }
   ],
   "source": [
    "import pandas as pd\n",
    "import numpy as np\n",
    "import time\n",
    "import math\n",
    "import uuid\n",
    "import re\n",
    "import os\n",
    "import json\n",
    "import pickle\n",
    "from datetime import date\n",
    "from itertools import compress\n",
    "from bertopic import BERTopic\n",
    "from umap import UMAP\n",
    "from gensim.parsing.preprocessing import remove_stopwords\n",
    "from sklearn.cluster import KMeans\n",
    "from sentence_transformers import SentenceTransformer"
   ]
  },
  {
   "cell_type": "markdown",
   "metadata": {
    "id": "SZ1BccaqRtS0"
   },
   "source": [
    "## Connect your Google Drive"
   ]
  },
  {
   "cell_type": "code",
   "execution_count": 2,
   "metadata": {
    "colab": {
     "base_uri": "https://localhost:8080/"
    },
    "id": "6os5BGPFRxfX",
    "outputId": "41e02c25-1dc9-426e-f441-874fc600fc70"
   },
   "outputs": [
    {
     "ename": "ModuleNotFoundError",
     "evalue": "No module named 'google'",
     "output_type": "error",
     "traceback": [
      "\u001b[0;31m---------------------------------------------------------------------------\u001b[0m",
      "\u001b[0;31mModuleNotFoundError\u001b[0m                       Traceback (most recent call last)",
      "Cell \u001b[0;32mIn[2], line 1\u001b[0m\n\u001b[0;32m----> 1\u001b[0m \u001b[38;5;28;01mfrom\u001b[39;00m \u001b[38;5;21;01mgoogle\u001b[39;00m\u001b[38;5;21;01m.\u001b[39;00m\u001b[38;5;21;01mcolab\u001b[39;00m \u001b[38;5;28;01mimport\u001b[39;00m drive\n\u001b[1;32m      2\u001b[0m drive\u001b[38;5;241m.\u001b[39mmount(\u001b[38;5;124m'\u001b[39m\u001b[38;5;124m/content/drive\u001b[39m\u001b[38;5;124m'\u001b[39m)\n",
      "\u001b[0;31mModuleNotFoundError\u001b[0m: No module named 'google'"
     ]
    }
   ],
   "source": [
    "from google.colab import drive\n",
    "drive.mount('/content/drive')"
   ]
  },
  {
   "cell_type": "code",
   "execution_count": 2,
   "metadata": {
    "id": "f2p9sY7sUYkU"
   },
   "outputs": [],
   "source": [
    "def find_e_keys(dictionary):\n",
    "    # List comprehension to find keys starting with 'e'\n",
    "    e_keys = [key for key in dictionary if str(key).lower().startswith('e')]\n",
    "    return e_keys"
   ]
  },
  {
   "cell_type": "markdown",
   "metadata": {
    "id": "dDm5-r5oR98q"
   },
   "source": [
    "# 🔴 Input files and options\n",
    "\n",
    "Go to your Google Drive and create a folder in the root directory. We are going to save all related data in that directory.\n",
    "Upload the dataset of news into the above folder.\n",
    "- The dataset should be a `.csv` file.\n",
    "- Every row in the dataset is a document\n",
    "- It can any kind of columns. Some columns must contain the text we want to analyze. For example, a dataset of academic articles may contain a \"Title\" and/or \"Abstract\" column."
   ]
  },
  {
   "cell_type": "code",
   "execution_count": 6,
   "metadata": {
    "id": "5ICq5zQbSJa8"
   },
   "outputs": [],
   "source": [
    "# The bibliometrics folder\n",
    "# Colab\n",
    "ROOT_FOLDER_PATH = \"drive/MyDrive/Bibliometrics_Drive\"\n",
    "\n",
    "# Mac\n",
    "ROOT_FOLDER_PATH = \"/Users/cristian/Library/CloudStorage/GoogleDrive-cristianmejia00@gmail.com/My Drive/Bibliometrics_Drive\"\n",
    "\n",
    "# Change to the name of the folder where the dataset is uploaded inside the above folder\n",
    "project_folder = 'Q322_TS_robot_2022_2024'\n",
    "\n",
    "analysis_id = 'a01_tm__f01_e01__km01'\n",
    "\n",
    "# Filtered label\n",
    "settings_directive = \"settings_analysis_directive_2025-01-29-14-07.json\""
   ]
  },
  {
   "cell_type": "code",
   "execution_count": 7,
   "metadata": {
    "id": "QpoR8P3O0ACf"
   },
   "outputs": [],
   "source": [
    "# Read settings\n",
    "with open(f'{ROOT_FOLDER_PATH}/{project_folder}/{analysis_id}/{settings_directive}', 'r') as file:\n",
    "    settings = json.load(file)"
   ]
  },
  {
   "cell_type": "code",
   "execution_count": 8,
   "metadata": {
    "id": "COh3zc3b2oAn"
   },
   "outputs": [],
   "source": [
    "# Input dataset\n",
    "dataset_file_path = f\"{ROOT_FOLDER_PATH}/{settings['metadata']['project_folder']}/{settings['metadata']['filtered_folder']}/dataset_raw_cleaned.csv\""
   ]
  },
  {
   "cell_type": "code",
   "execution_count": 9,
   "metadata": {
    "id": "biEFdxrm0WrO"
   },
   "outputs": [],
   "source": [
    "# Function to save files\n",
    "def save_as_csv(df, save_name_without_extension, with_index):\n",
    "    \"usage: `save_as_csv(dataframe, 'filename')`\"\n",
    "    df.to_csv(f\"{ROOT_FOLDER_PATH}/{save_name_without_extension}.csv\", index=with_index)\n",
    "    print(\"===\\nSaved: \", f\"{ROOT_FOLDER_PATH}/{save_name_without_extension}.csv\")"
   ]
  },
  {
   "cell_type": "code",
   "execution_count": 10,
   "metadata": {
    "id": "Ff7hQXE1dYDw"
   },
   "outputs": [],
   "source": [
    "# prompt: a function to save object to a pickle file\n",
    "def save_object_as_pickle(obj, filename):\n",
    "  \"\"\"\n",
    "  Saves an object as a pickle file.\n",
    "\n",
    "  Args:\n",
    "      obj: The object to be saved.\n",
    "      filename: The filename of the pickle file.\n",
    "  \"\"\"\n",
    "  with open(filename, \"wb\") as f:\n",
    "    pickle.dump(obj, f)\n"
   ]
  },
  {
   "cell_type": "code",
   "execution_count": 11,
   "metadata": {
    "id": "iljQe0_xb2FU"
   },
   "outputs": [],
   "source": [
    "# prompt: a function to load pickle object given a path\n",
    "def load_pickle(path):\n",
    "    with open(path, 'rb') as f:\n",
    "        return pickle.load(f)\n"
   ]
  },
  {
   "cell_type": "code",
   "execution_count": 12,
   "metadata": {
    "colab": {
     "base_uri": "https://localhost:8080/",
     "height": 655
    },
    "id": "Tob-4BIaUbZ9",
    "outputId": "d48eac6d-2af8-4991-af19-5bda2386e6bc"
   },
   "outputs": [
    {
     "name": "stdout",
     "output_type": "stream",
     "text": [
      "(103649, 42)\n"
     ]
    },
    {
     "data": {
      "text/html": [
       "<div>\n",
       "<style scoped>\n",
       "    .dataframe tbody tr th:only-of-type {\n",
       "        vertical-align: middle;\n",
       "    }\n",
       "\n",
       "    .dataframe tbody tr th {\n",
       "        vertical-align: top;\n",
       "    }\n",
       "\n",
       "    .dataframe thead th {\n",
       "        text-align: right;\n",
       "    }\n",
       "</style>\n",
       "<table border=\"1\" class=\"dataframe\">\n",
       "  <thead>\n",
       "    <tr style=\"text-align: right;\">\n",
       "      <th></th>\n",
       "      <th>X_N</th>\n",
       "      <th>uuid</th>\n",
       "      <th>PT</th>\n",
       "      <th>AU</th>\n",
       "      <th>AF</th>\n",
       "      <th>TI</th>\n",
       "      <th>SO</th>\n",
       "      <th>LA</th>\n",
       "      <th>DT</th>\n",
       "      <th>DE</th>\n",
       "      <th>...</th>\n",
       "      <th>AR</th>\n",
       "      <th>DI</th>\n",
       "      <th>PG</th>\n",
       "      <th>WC</th>\n",
       "      <th>SC</th>\n",
       "      <th>OA</th>\n",
       "      <th>UT</th>\n",
       "      <th>Countries</th>\n",
       "      <th>IsoCountries</th>\n",
       "      <th>Institutions</th>\n",
       "    </tr>\n",
       "  </thead>\n",
       "  <tbody>\n",
       "    <tr>\n",
       "      <th>0</th>\n",
       "      <td>1</td>\n",
       "      <td>fd2aff73-485d-4769-8497-996647a56213</td>\n",
       "      <td>J</td>\n",
       "      <td>Yu, LL; Huo, SX; Wang, ZJ; Li, KY</td>\n",
       "      <td>Yu, Lingli; Huo, Shuxin; Wang, Zhengjiu; Li, Keyi</td>\n",
       "      <td>Hybrid attention-oriented experience replay fo...</td>\n",
       "      <td>NEUROCOMPUTING</td>\n",
       "      <td>English</td>\n",
       "      <td>Article</td>\n",
       "      <td>Deep reinforcement learning; Multi -robot; MAD...</td>\n",
       "      <td>...</td>\n",
       "      <td>NaN</td>\n",
       "      <td>10.1016/j.neucom.2022.12.020</td>\n",
       "      <td>14</td>\n",
       "      <td>Computer Science, Artificial Intelligence</td>\n",
       "      <td>Computer Science</td>\n",
       "      <td>NaN</td>\n",
       "      <td>WOS:000904782300005</td>\n",
       "      <td>peoples r china</td>\n",
       "      <td>CHN</td>\n",
       "      <td>cent south univ; hunan xiangjiang artificial i...</td>\n",
       "    </tr>\n",
       "    <tr>\n",
       "      <th>1</th>\n",
       "      <td>2</td>\n",
       "      <td>b81562f9-e75d-4d41-9872-86a08744fcd5</td>\n",
       "      <td>J</td>\n",
       "      <td>Zhang, JY; Lou, ZF; Fan, KC</td>\n",
       "      <td>Zhang, Jiyun; Lou, Zhifeng; Fan, Kuang-Chao</td>\n",
       "      <td>Accuracy improvement of a 3D passive laser tra...</td>\n",
       "      <td>ROBOTICS AND COMPUTER-INTEGRATED MANUFACTURING</td>\n",
       "      <td>English</td>\n",
       "      <td>Article</td>\n",
       "      <td>3D passive laser tracker; Error modeling; Erro...</td>\n",
       "      <td>...</td>\n",
       "      <td>102487</td>\n",
       "      <td>10.1016/j.rcim.2022.102487</td>\n",
       "      <td>13</td>\n",
       "      <td>Computer Science, Interdisciplinary Applicatio...</td>\n",
       "      <td>Computer Science; Engineering; Robotics</td>\n",
       "      <td>NaN</td>\n",
       "      <td>WOS:000911218400001</td>\n",
       "      <td>peoples r china</td>\n",
       "      <td>CHN</td>\n",
       "      <td>dalian univ technol</td>\n",
       "    </tr>\n",
       "    <tr>\n",
       "      <th>2</th>\n",
       "      <td>3</td>\n",
       "      <td>90718c9e-8150-4eb2-b2a6-443007642a46</td>\n",
       "      <td>J</td>\n",
       "      <td>Zhang, T; Li, Y; Ning, CX; Zeng, B</td>\n",
       "      <td>Zhang, Ting; Li, Yang; Ning, Chuanxin; Zeng, Bo</td>\n",
       "      <td>Development and Adaptive Assistance Control of...</td>\n",
       "      <td>IEEE TRANSACTIONS ON AUTOMATION SCIENCE AND EN...</td>\n",
       "      <td>English</td>\n",
       "      <td>Article</td>\n",
       "      <td>Robotic hip exoskeleton; assistive control; ga...</td>\n",
       "      <td>...</td>\n",
       "      <td>NaN</td>\n",
       "      <td>10.1109/TASE.2022.3229396</td>\n",
       "      <td>11</td>\n",
       "      <td>Automation &amp; Control Systems</td>\n",
       "      <td>Automation &amp; Control Systems</td>\n",
       "      <td>NaN</td>\n",
       "      <td>WOS:000903508600001</td>\n",
       "      <td>peoples r china</td>\n",
       "      <td>CHN</td>\n",
       "      <td>soochow univ</td>\n",
       "    </tr>\n",
       "    <tr>\n",
       "      <th>3</th>\n",
       "      <td>4</td>\n",
       "      <td>c26908c1-e32c-4d10-8700-dc058690972d</td>\n",
       "      <td>J</td>\n",
       "      <td>Altyar, AE; El-Sayed, A; Abdeen, A; Piscopo, M...</td>\n",
       "      <td>Altyar, Ahmed E.; El-Sayed, Amr; Abdeen, Ahmed...</td>\n",
       "      <td>Future regenerative medicine developments and ...</td>\n",
       "      <td>BIOMEDICINE &amp; PHARMACOTHERAPY</td>\n",
       "      <td>English</td>\n",
       "      <td>Review</td>\n",
       "      <td>Artificial Intelligence; Gene Therapy; Organ-O...</td>\n",
       "      <td>...</td>\n",
       "      <td>114131</td>\n",
       "      <td>10.1016/j.biopha.2022.114131</td>\n",
       "      <td>18</td>\n",
       "      <td>Medicine, Research &amp; Experimental; Pharmacolog...</td>\n",
       "      <td>Research &amp; Experimental Medicine; Pharmacology...</td>\n",
       "      <td>gold</td>\n",
       "      <td>WOS:000904370900003</td>\n",
       "      <td>saudi arabia; egypt; italy; usa; poland</td>\n",
       "      <td>SAU; EGY; ITA; USA; POL</td>\n",
       "      <td>king abdulaziz univ; cairo univ; benha univ; u...</td>\n",
       "    </tr>\n",
       "    <tr>\n",
       "      <th>4</th>\n",
       "      <td>5</td>\n",
       "      <td>f34e67c6-1ac6-4030-a673-956e3be6386e</td>\n",
       "      <td>J</td>\n",
       "      <td>Anantharanga, AT; Hashemi, MS; Sheidaei, A</td>\n",
       "      <td>Anantharanga, Abhijith Thoopul; Hashemi, Moham...</td>\n",
       "      <td>Linking properties to microstructure in liquid...</td>\n",
       "      <td>COMPUTATIONAL MATERIALS SCIENCE</td>\n",
       "      <td>English</td>\n",
       "      <td>Article</td>\n",
       "      <td>Liquid metal embedded elastomers; Multifunctio...</td>\n",
       "      <td>...</td>\n",
       "      <td>111983</td>\n",
       "      <td>10.1016/j.commatsci.2022.111983</td>\n",
       "      <td>12</td>\n",
       "      <td>Materials Science, Multidisciplinary</td>\n",
       "      <td>Materials Science</td>\n",
       "      <td>Green Submitted</td>\n",
       "      <td>WOS:000911684200001</td>\n",
       "      <td>usa</td>\n",
       "      <td>USA</td>\n",
       "      <td>iowa state univ</td>\n",
       "    </tr>\n",
       "  </tbody>\n",
       "</table>\n",
       "<p>5 rows × 42 columns</p>\n",
       "</div>"
      ],
      "text/plain": [
       "   X_N                                  uuid PT  \\\n",
       "0    1  fd2aff73-485d-4769-8497-996647a56213  J   \n",
       "1    2  b81562f9-e75d-4d41-9872-86a08744fcd5  J   \n",
       "2    3  90718c9e-8150-4eb2-b2a6-443007642a46  J   \n",
       "3    4  c26908c1-e32c-4d10-8700-dc058690972d  J   \n",
       "4    5  f34e67c6-1ac6-4030-a673-956e3be6386e  J   \n",
       "\n",
       "                                                  AU  \\\n",
       "0                  Yu, LL; Huo, SX; Wang, ZJ; Li, KY   \n",
       "1                        Zhang, JY; Lou, ZF; Fan, KC   \n",
       "2                 Zhang, T; Li, Y; Ning, CX; Zeng, B   \n",
       "3  Altyar, AE; El-Sayed, A; Abdeen, A; Piscopo, M...   \n",
       "4         Anantharanga, AT; Hashemi, MS; Sheidaei, A   \n",
       "\n",
       "                                                  AF  \\\n",
       "0  Yu, Lingli; Huo, Shuxin; Wang, Zhengjiu; Li, Keyi   \n",
       "1        Zhang, Jiyun; Lou, Zhifeng; Fan, Kuang-Chao   \n",
       "2    Zhang, Ting; Li, Yang; Ning, Chuanxin; Zeng, Bo   \n",
       "3  Altyar, Ahmed E.; El-Sayed, Amr; Abdeen, Ahmed...   \n",
       "4  Anantharanga, Abhijith Thoopul; Hashemi, Moham...   \n",
       "\n",
       "                                                  TI  \\\n",
       "0  Hybrid attention-oriented experience replay fo...   \n",
       "1  Accuracy improvement of a 3D passive laser tra...   \n",
       "2  Development and Adaptive Assistance Control of...   \n",
       "3  Future regenerative medicine developments and ...   \n",
       "4  Linking properties to microstructure in liquid...   \n",
       "\n",
       "                                                  SO       LA       DT  \\\n",
       "0                                     NEUROCOMPUTING  English  Article   \n",
       "1     ROBOTICS AND COMPUTER-INTEGRATED MANUFACTURING  English  Article   \n",
       "2  IEEE TRANSACTIONS ON AUTOMATION SCIENCE AND EN...  English  Article   \n",
       "3                      BIOMEDICINE & PHARMACOTHERAPY  English   Review   \n",
       "4                    COMPUTATIONAL MATERIALS SCIENCE  English  Article   \n",
       "\n",
       "                                                  DE  ...      AR  \\\n",
       "0  Deep reinforcement learning; Multi -robot; MAD...  ...     NaN   \n",
       "1  3D passive laser tracker; Error modeling; Erro...  ...  102487   \n",
       "2  Robotic hip exoskeleton; assistive control; ga...  ...     NaN   \n",
       "3  Artificial Intelligence; Gene Therapy; Organ-O...  ...  114131   \n",
       "4  Liquid metal embedded elastomers; Multifunctio...  ...  111983   \n",
       "\n",
       "                                DI  PG  \\\n",
       "0     10.1016/j.neucom.2022.12.020  14   \n",
       "1       10.1016/j.rcim.2022.102487  13   \n",
       "2        10.1109/TASE.2022.3229396  11   \n",
       "3     10.1016/j.biopha.2022.114131  18   \n",
       "4  10.1016/j.commatsci.2022.111983  12   \n",
       "\n",
       "                                                  WC  \\\n",
       "0          Computer Science, Artificial Intelligence   \n",
       "1  Computer Science, Interdisciplinary Applicatio...   \n",
       "2                       Automation & Control Systems   \n",
       "3  Medicine, Research & Experimental; Pharmacolog...   \n",
       "4               Materials Science, Multidisciplinary   \n",
       "\n",
       "                                                  SC               OA  \\\n",
       "0                                   Computer Science              NaN   \n",
       "1            Computer Science; Engineering; Robotics              NaN   \n",
       "2                       Automation & Control Systems              NaN   \n",
       "3  Research & Experimental Medicine; Pharmacology...             gold   \n",
       "4                                  Materials Science  Green Submitted   \n",
       "\n",
       "                    UT                                Countries  \\\n",
       "0  WOS:000904782300005                          peoples r china   \n",
       "1  WOS:000911218400001                          peoples r china   \n",
       "2  WOS:000903508600001                          peoples r china   \n",
       "3  WOS:000904370900003  saudi arabia; egypt; italy; usa; poland   \n",
       "4  WOS:000911684200001                                      usa   \n",
       "\n",
       "              IsoCountries                                       Institutions  \n",
       "0                      CHN  cent south univ; hunan xiangjiang artificial i...  \n",
       "1                      CHN                                dalian univ technol  \n",
       "2                      CHN                                       soochow univ  \n",
       "3  SAU; EGY; ITA; USA; POL  king abdulaziz univ; cairo univ; benha univ; u...  \n",
       "4                      USA                                    iowa state univ  \n",
       "\n",
       "[5 rows x 42 columns]"
      ]
     },
     "execution_count": 12,
     "metadata": {},
     "output_type": "execute_result"
    }
   ],
   "source": [
    "# Open the data file\n",
    "df = pd.read_csv(f\"{dataset_file_path}\")\n",
    "print(df.shape)\n",
    "df.head()"
   ]
  },
  {
   "cell_type": "markdown",
   "metadata": {
    "id": "9UrPiLepN1s9"
   },
   "source": [
    "\n",
    "\n",
    "---\n",
    "\n"
   ]
  },
  {
   "cell_type": "markdown",
   "metadata": {
    "id": "eK-U-Sl8fc-m"
   },
   "source": [
    "## PART 2: Topic Model"
   ]
  },
  {
   "cell_type": "code",
   "execution_count": 13,
   "metadata": {
    "id": "FhwGnBjFQT4x"
   },
   "outputs": [],
   "source": [
    "# bibliometrics_folder\n",
    "# project_folder\n",
    "# project_name_suffix\n",
    "# ROOT_FOLDER_PATH = f\"drive/MyDrive/{bibliometrics_folder}\"\n",
    "\n",
    "#############################################################\n",
    "# Embeddings folder\n",
    "embeddings_folder_name = settings['tmo']['embeds_folder']\n",
    "\n",
    "# Which column has the year of the documents?\n",
    "my_year = settings['tmo']['year_column']\n",
    "\n",
    "# Number of topics. Select the number of topics to extract.\n",
    "# Choose 0, for automatic detection.\n",
    "n_topics = settings['tmo']['n_topics']\n",
    "\n",
    "# Minimum number of documents per topic\n",
    "min_topic_size = settings['tmo']['min_topic_size']"
   ]
  },
  {
   "cell_type": "code",
   "execution_count": 14,
   "metadata": {
    "id": "9RYSioo2cxxC"
   },
   "outputs": [],
   "source": [
    "# Get the embeddings back.\n",
    "embeddings = load_pickle(f\"{ROOT_FOLDER_PATH}/{project_folder}/{settings['metadata']['filtered_folder']}/{embeddings_folder_name}/embeddings.pck\")\n",
    "corpus =     pd.read_csv(f\"{ROOT_FOLDER_PATH}/{project_folder}/{settings['metadata']['filtered_folder']}/{embeddings_folder_name}/corpus.csv\").reset_index(drop=True)"
   ]
  },
  {
   "cell_type": "code",
   "execution_count": 15,
   "metadata": {
    "id": "injCV_IPN26L"
   },
   "outputs": [],
   "source": [
    "# Combine embeddings\n",
    "documents = corpus.text.to_list()"
   ]
  },
  {
   "cell_type": "code",
   "execution_count": 47,
   "metadata": {
    "id": "ve_oloYNrBLz"
   },
   "outputs": [],
   "source": [
    "# corpus['uuid'] = [uuid.uuid4() for _ in range(len(corpus.index))]\n",
    "# corpus['X_N'] = [i for i in range(1, len(corpus.index)+1)]"
   ]
  },
  {
   "cell_type": "code",
   "execution_count": 16,
   "metadata": {
    "colab": {
     "base_uri": "https://localhost:8080/"
    },
    "id": "onVFOjBZuMmJ",
    "outputId": "4898b936-f4ea-4a7d-8448-a65466de85f2"
   },
   "outputs": [
    {
     "data": {
      "text/plain": [
       "103649"
      ]
     },
     "execution_count": 16,
     "metadata": {},
     "output_type": "execute_result"
    }
   ],
   "source": [
    "len(documents)"
   ]
  },
  {
   "cell_type": "code",
   "execution_count": 17,
   "metadata": {
    "colab": {
     "base_uri": "https://localhost:8080/"
    },
    "id": "S7LeuG_7S4Db",
    "outputId": "4e27c106-2e0c-4630-a741-2fbd5e5512b0"
   },
   "outputs": [
    {
     "data": {
      "text/plain": [
       "True"
      ]
     },
     "execution_count": 17,
     "metadata": {},
     "output_type": "execute_result"
    }
   ],
   "source": [
    "#len(embeddings) == len(documents)\n",
    "len(embeddings['embeddings']) == len(documents)"
   ]
  },
  {
   "cell_type": "code",
   "execution_count": 18,
   "metadata": {
    "id": "n6qUvhGGcPZo"
   },
   "outputs": [],
   "source": [
    "from hdbscan.hdbscan_ import HDBSCAN\n",
    "# Execute the topic model.\n",
    "# I suggest changing the values marked with #<---\n",
    "# The others are the default values and they'll work fine in most cases.\n",
    "# This will take several minutes to finish.\n",
    "\n",
    "# Initiate UMAP\n",
    "umap_model = UMAP(n_neighbors=15,\n",
    "                  n_components=5,\n",
    "                  min_dist=0.0,\n",
    "                  metric='cosine',\n",
    "                  random_state=100)\n",
    "\n",
    "if n_topics == 0:\n",
    "  # Initiate topic model with HDBScan (Automatic topic selection)\n",
    "  topic_model_params = HDBSCAN(min_cluster_size=min_topic_size,\n",
    "                               metric='euclidean',\n",
    "                               cluster_selection_method='eom',\n",
    "                               prediction_data=True)\n",
    "else:\n",
    "  # Initiate topic model with K-means (Manual topic selection)\n",
    "  topic_model_params = KMeans(n_clusters = n_topics)\n",
    "\n",
    "# Initiate BERTopic\n",
    "topic_model = BERTopic(umap_model = umap_model,\n",
    "                       hdbscan_model = topic_model_params,\n",
    "                       min_topic_size=min_topic_size,\n",
    "                       #nr_topics=15,          #<--- Footnote 1\n",
    "                       n_gram_range=(1,3),\n",
    "                       language='english',\n",
    "                       calculate_probabilities=True,\n",
    "                       verbose=True)\n",
    "\n",
    "\n",
    "\n",
    "# Footnote 1: This controls the number of topics we want AFTER clustering.\n",
    "# Add a hashtag at the beggining to use the number of topics returned by the topic model.\n",
    "# When using HDBScan nr_topics will be obtained after orphans removal, and there is no warranty that `nr_topics < HDBScan topics`.\n",
    "# thus, with HDBScan `nr_topics` means N topics OR LESS.\n",
    "# When using KMeans nr_topics can be used to further reduce the number of topics.\n",
    "# We use the topics as returned by the topic model. So we do not need to activate it here."
   ]
  },
  {
   "cell_type": "code",
   "execution_count": 19,
   "metadata": {
    "colab": {
     "base_uri": "https://localhost:8080/"
    },
    "id": "FQQsmPGzUCuB",
    "outputId": "a2b43bac-051a-4599-ad04-a36b1a575a26"
   },
   "outputs": [
    {
     "name": "stderr",
     "output_type": "stream",
     "text": [
      "2025-01-29 14:10:08,884 - BERTopic - Dimensionality - Fitting the dimensionality reduction algorithm\n",
      "OMP: Info #276: omp_set_nested routine deprecated, please use omp_set_max_active_levels instead.\n",
      "2025-01-29 14:11:16,607 - BERTopic - Dimensionality - Completed ✓\n",
      "2025-01-29 14:11:16,609 - BERTopic - Cluster - Start clustering the reduced embeddings\n",
      "2025-01-29 14:11:18,599 - BERTopic - Cluster - Completed ✓\n",
      "2025-01-29 14:11:18,611 - BERTopic - Representation - Extracting topics from clusters using representation models.\n",
      "2025-01-29 14:12:40,829 - BERTopic - Representation - Completed ✓\n"
     ]
    }
   ],
   "source": [
    "# Compute topic model\n",
    "#topics, probabilities = topic_model.fit_transform(documents, embeddings)\n",
    "topics, probabilities = topic_model.fit_transform(documents, embeddings['embeddings'])"
   ]
  },
  {
   "cell_type": "code",
   "execution_count": 20,
   "metadata": {
    "colab": {
     "base_uri": "https://localhost:8080/",
     "height": 424
    },
    "id": "67pgsMtwsFmH",
    "outputId": "82c86e95-6be7-4832-a076-94d8d9dcd8ae"
   },
   "outputs": [
    {
     "data": {
      "text/html": [
       "<div>\n",
       "<style scoped>\n",
       "    .dataframe tbody tr th:only-of-type {\n",
       "        vertical-align: middle;\n",
       "    }\n",
       "\n",
       "    .dataframe tbody tr th {\n",
       "        vertical-align: top;\n",
       "    }\n",
       "\n",
       "    .dataframe thead th {\n",
       "        text-align: right;\n",
       "    }\n",
       "</style>\n",
       "<table border=\"1\" class=\"dataframe\">\n",
       "  <thead>\n",
       "    <tr style=\"text-align: right;\">\n",
       "      <th></th>\n",
       "      <th>Topic</th>\n",
       "      <th>Count</th>\n",
       "      <th>Name</th>\n",
       "      <th>Representation</th>\n",
       "      <th>Representative_Docs</th>\n",
       "    </tr>\n",
       "  </thead>\n",
       "  <tbody>\n",
       "    <tr>\n",
       "      <th>0</th>\n",
       "      <td>0</td>\n",
       "      <td>1086</td>\n",
       "      <td>0_renal_nephrectomy_partial nephrectomy_partial</td>\n",
       "      <td>[renal, nephrectomy, partial nephrectomy, part...</td>\n",
       "      <td>[Meta-analysis of clinical outcomes of robot-a...</td>\n",
       "    </tr>\n",
       "    <tr>\n",
       "      <th>1</th>\n",
       "      <td>1</td>\n",
       "      <td>896</td>\n",
       "      <td>1_service_service robots_customers_customer</td>\n",
       "      <td>[service, service robots, customers, customer,...</td>\n",
       "      <td>[Impact of the introduction of service robots ...</td>\n",
       "    </tr>\n",
       "    <tr>\n",
       "      <th>2</th>\n",
       "      <td>2</td>\n",
       "      <td>837</td>\n",
       "      <td>2_surgery_colorectal_laparoscopic_patients</td>\n",
       "      <td>[surgery, colorectal, laparoscopic, patients, ...</td>\n",
       "      <td>[Robotic and laparoscopic colectomy: propensit...</td>\n",
       "    </tr>\n",
       "    <tr>\n",
       "      <th>3</th>\n",
       "      <td>3</td>\n",
       "      <td>777</td>\n",
       "      <td>3_students_educational_education_robotics</td>\n",
       "      <td>[students, educational, education, robotics, s...</td>\n",
       "      <td>[Implementation of an extension project in edu...</td>\n",
       "    </tr>\n",
       "    <tr>\n",
       "      <th>4</th>\n",
       "      <td>4</td>\n",
       "      <td>723</td>\n",
       "      <td>4_older_care_older adults_adults</td>\n",
       "      <td>[older, care, older adults, adults, social, de...</td>\n",
       "      <td>[Socially Assistive Robots in Aged Care: Expec...</td>\n",
       "    </tr>\n",
       "    <tr>\n",
       "      <th>...</th>\n",
       "      <td>...</td>\n",
       "      <td>...</td>\n",
       "      <td>...</td>\n",
       "      <td>...</td>\n",
       "      <td>...</td>\n",
       "    </tr>\n",
       "    <tr>\n",
       "      <th>352</th>\n",
       "      <td>352</td>\n",
       "      <td>36</td>\n",
       "      <td>352_haptic_virtual_interaction_device</td>\n",
       "      <td>[haptic, virtual, interaction, device, force, ...</td>\n",
       "      <td>[Human Stabilization of Delay-Induced Instabil...</td>\n",
       "    </tr>\n",
       "    <tr>\n",
       "      <th>353</th>\n",
       "      <td>353</td>\n",
       "      <td>28</td>\n",
       "      <td>353_chewing_food_oral_chewing robot</td>\n",
       "      <td>[chewing, food, oral, chewing robot, bolus, vi...</td>\n",
       "      <td>[A Chewing Study of Abuse-Deterrent Tablets Co...</td>\n",
       "    </tr>\n",
       "    <tr>\n",
       "      <th>354</th>\n",
       "      <td>354</td>\n",
       "      <td>17</td>\n",
       "      <td>354_pouring_liquid_robotic pouring_viscosity</td>\n",
       "      <td>[pouring, liquid, robotic pouring, viscosity, ...</td>\n",
       "      <td>[PourIt!: Weakly-supervised Liquid Perception ...</td>\n",
       "    </tr>\n",
       "    <tr>\n",
       "      <th>355</th>\n",
       "      <td>355</td>\n",
       "      <td>16</td>\n",
       "      <td>355_rectus_rectus abdominis_breast_abdominis</td>\n",
       "      <td>[rectus, rectus abdominis, breast, abdominis, ...</td>\n",
       "      <td>[Robotic Rectus Abdominis Harvest for Pelvic R...</td>\n",
       "    </tr>\n",
       "    <tr>\n",
       "      <th>356</th>\n",
       "      <td>356</td>\n",
       "      <td>15</td>\n",
       "      <td>356_eels_ice_icy_enceladus</td>\n",
       "      <td>[eels, ice, icy, enceladus, sampling, underwat...</td>\n",
       "      <td>[EELS: Autonomous snake-like robot with task a...</td>\n",
       "    </tr>\n",
       "  </tbody>\n",
       "</table>\n",
       "<p>357 rows × 5 columns</p>\n",
       "</div>"
      ],
      "text/plain": [
       "     Topic  Count                                             Name  \\\n",
       "0        0   1086  0_renal_nephrectomy_partial nephrectomy_partial   \n",
       "1        1    896      1_service_service robots_customers_customer   \n",
       "2        2    837       2_surgery_colorectal_laparoscopic_patients   \n",
       "3        3    777        3_students_educational_education_robotics   \n",
       "4        4    723                 4_older_care_older adults_adults   \n",
       "..     ...    ...                                              ...   \n",
       "352    352     36            352_haptic_virtual_interaction_device   \n",
       "353    353     28              353_chewing_food_oral_chewing robot   \n",
       "354    354     17     354_pouring_liquid_robotic pouring_viscosity   \n",
       "355    355     16     355_rectus_rectus abdominis_breast_abdominis   \n",
       "356    356     15                       356_eels_ice_icy_enceladus   \n",
       "\n",
       "                                        Representation  \\\n",
       "0    [renal, nephrectomy, partial nephrectomy, part...   \n",
       "1    [service, service robots, customers, customer,...   \n",
       "2    [surgery, colorectal, laparoscopic, patients, ...   \n",
       "3    [students, educational, education, robotics, s...   \n",
       "4    [older, care, older adults, adults, social, de...   \n",
       "..                                                 ...   \n",
       "352  [haptic, virtual, interaction, device, force, ...   \n",
       "353  [chewing, food, oral, chewing robot, bolus, vi...   \n",
       "354  [pouring, liquid, robotic pouring, viscosity, ...   \n",
       "355  [rectus, rectus abdominis, breast, abdominis, ...   \n",
       "356  [eels, ice, icy, enceladus, sampling, underwat...   \n",
       "\n",
       "                                   Representative_Docs  \n",
       "0    [Meta-analysis of clinical outcomes of robot-a...  \n",
       "1    [Impact of the introduction of service robots ...  \n",
       "2    [Robotic and laparoscopic colectomy: propensit...  \n",
       "3    [Implementation of an extension project in edu...  \n",
       "4    [Socially Assistive Robots in Aged Care: Expec...  \n",
       "..                                                 ...  \n",
       "352  [Human Stabilization of Delay-Induced Instabil...  \n",
       "353  [A Chewing Study of Abuse-Deterrent Tablets Co...  \n",
       "354  [PourIt!: Weakly-supervised Liquid Perception ...  \n",
       "355  [Robotic Rectus Abdominis Harvest for Pelvic R...  \n",
       "356  [EELS: Autonomous snake-like robot with task a...  \n",
       "\n",
       "[357 rows x 5 columns]"
      ]
     },
     "execution_count": 20,
     "metadata": {},
     "output_type": "execute_result"
    }
   ],
   "source": [
    "# Get the list of topics\n",
    "# Topic = the topic number. From the largest topic.\n",
    "#         \"-1\" is the generic topic. Genericr keywords are aggegrated here.\n",
    "# Count = Documents assigned to this topic\n",
    "# Name = Top 4 words of the topic based on probability\n",
    "# Representation = The list of words representing this topic\n",
    "# Representative_Docs = Documents assigned to this topic\n",
    "tm_summary = topic_model.get_topic_info()\n",
    "tm_summary"
   ]
  },
  {
   "cell_type": "code",
   "execution_count": 21,
   "metadata": {
    "id": "k9mN1tgZQupy"
   },
   "outputs": [],
   "source": [
    "# Save the topic model assets\n",
    "tm_folder_path = f'{ROOT_FOLDER_PATH}/{project_folder}/{settings[\"metadata\"][\"analysis_id\"]}'\n",
    "\n",
    "if not os.path.exists(tm_folder_path):\n",
    "  !mkdir $tm_folder_path\n",
    "\n",
    "tm_summary.to_csv(f'{tm_folder_path}/topic_model_info.csv', index=False)"
   ]
  },
  {
   "cell_type": "code",
   "execution_count": 22,
   "metadata": {
    "colab": {
     "base_uri": "https://localhost:8080/"
    },
    "id": "WuE0vkbp3fVL",
    "outputId": "aa8ebf45-cdd3-4161-9ac4-1343c91f47da"
   },
   "outputs": [
    {
     "data": {
      "text/plain": [
       "357"
      ]
     },
     "execution_count": 22,
     "metadata": {},
     "output_type": "execute_result"
    }
   ],
   "source": [
    "# Number of topics found\n",
    "found_topics = max(tm_summary.Topic) + 1\n",
    "found_topics"
   ]
  },
  {
   "cell_type": "code",
   "execution_count": 23,
   "metadata": {
    "colab": {
     "base_uri": "https://localhost:8080/"
    },
    "id": "KjKUcNMdwFHQ",
    "outputId": "b3549b7c-4c8a-4b82-8d87-6a46774e4694"
   },
   "outputs": [
    {
     "data": {
      "text/plain": [
       "True"
      ]
     },
     "execution_count": 23,
     "metadata": {},
     "output_type": "execute_result"
    }
   ],
   "source": [
    "# Confirm all documents are assigned\n",
    "sum(tm_summary.Count) == len(corpus)"
   ]
  },
  {
   "cell_type": "code",
   "execution_count": 24,
   "metadata": {
    "colab": {
     "base_uri": "https://localhost:8080/"
    },
    "id": "bGyoQT47xY_R",
    "outputId": "9affafe5-0ff7-4edf-d9f6-3d7a7eda04eb"
   },
   "outputs": [
    {
     "data": {
      "text/plain": [
       "[('renal', 0.017836893116013112),\n",
       " ('nephrectomy', 0.016083365951251778),\n",
       " ('partial nephrectomy', 0.013922683036955706),\n",
       " ('partial', 0.012736514094043723),\n",
       " ('rapn', 0.00919308708723101),\n",
       " ('patients', 0.006473974763389658),\n",
       " ('tumor', 0.00645706264897906),\n",
       " ('robotassisted partial', 0.005963801311871922),\n",
       " ('robotassisted partial nephrectomy', 0.005847485249608978),\n",
       " ('kidney', 0.0055328875915084084)]"
      ]
     },
     "execution_count": 24,
     "metadata": {},
     "output_type": "execute_result"
    }
   ],
   "source": [
    "# Get top 10 terms for a topic\n",
    "topic_model.get_topic(0)"
   ]
  },
  {
   "cell_type": "code",
   "execution_count": 25,
   "metadata": {
    "colab": {
     "base_uri": "https://localhost:8080/"
    },
    "id": "PU99D2xhxoOY",
    "outputId": "4e90e928-9bbf-40c3-c3b5-a1a50abe82f0"
   },
   "outputs": [
    {
     "data": {
      "text/plain": [
       "['Meta-analysis of clinical outcomes of robot-assisted partial nephrectomy and classical open partial nephrectomy Background:Robotic-assisted partial nephrectomy (RAPN) has emerged as a promising alternative to classical partial nephrectomy (CPN).Aim:This study aimed to compare the outcomes of RAPN and CPN for treating localized renal tumors through a meta-analysis of available literature.Methods:Chinese databases, such as CNKI, Chinese Science and Technology Periodicals Database (VIP), and Wanfang Full-text Database, were searched using Chinese search terms, and all published articles on PubMed and Web of Science were searched using English search terms. Articles on Localized Renal Tumors were included. RevMan5.3 software was used for meta-analysis. The funnel plots were drawn using Stata software to assess publication bias.Outcomes:This study aimed to identify the differences between robotic-assisted partial nephrectomy and classic partial nephrectomy in patients with localized renal tumors.Results:In total, 67 articles with 17 677 patients were included. The results demonstrate the advantages of RAPN over CPN for localized renal tumors. Compared to CPN and RAPN had significant differences in intraoperative blood loss, hospital stay duration, incidence of perioperative complications, and proportion of patients requiring blood transfusion. Regarding surgical outcomes, RAPN showed more favorable results regarding the incidence of positive resection margins, postoperative decline in glomerular filtration rate (GFR), postoperative local recurrence rate, and proportion of Trifecta achieved. However, there was no significant difference between RAPN and CPN regarding 5-year tumor-specific survival rates.Clinical implications:The study suggests that robotic-assisted partial nephrectomy is a viable alternative to classic surgery for renal tumors.Strengths and limitations:The strengths of this study are the use of a comprehensive search strategy and the inclusion of studies published in both English and Chinese. The limitations of this study are the small sample size and the need for long-term follow-up data.Conclusion:RAPN and CPN have similar overall survival outcomes for treating localized renal tumors. However, RAPN may offer advantages in terms of perioperative outcomes and preservation of renal function. Further studies are needed to confirm these findings and to identify the optimal surgical approach for individual patients.',\n",
       " 'Efficacy of robot-assisted partial nephrectomy compared to conventional laparoscopic partial nephrectomy for completely endophytic renal tumor: a multicenter, prospective study Background This study aimed to compare the efficacy of robot-assisted partial nephrectomy for completely endophytic renal tumors with the reported outcomes of conventional laparoscopic partial nephrectomy and investigate the transition of renal function after robot-assisted partial nephrectomy. Methods We conducted a prospective, multicenter, single-arm, open-label trial across 17 academic centers in Japan. Patients with endophytic renal tumors classified as cT1, cN0, cM0 were included and underwent robot-assisted partial nephrectomy. We defined two primary outcomes to assess functional and oncological aspects of the procedure, which were represented by the warm ischemic time and positive surgical margin, respectively. Comparisons were made using control values previously reported in laparoscopic partial nephrectomy studies. In the historical control group, the warm ischemia time was 25.2, and the positive surgical margin was 13%. Results Our per-protocol analysis included 98 participants. The mean warm ischemic time was 20.3 min (99% confidence interval 18.3-22.3; p < 0.0001 vs. 25.2). None of the 98 participants had a positive surgical margin (99% confidence interval 0-5.3%; p < 0.0001 vs. 13.0%). The renal function ratio of eGFR before and after protocol treatment multiplied by splits was 0.70 (95% confidence interval: 0.66-0.75). Factors such as preoperative eGFR, resected weight, and warm ischemic time influenced the functional loss of the partially nephrectomized kidney after robot-assisted partial nephrectomy. Conclusions Robot-assisted partial nephrectomy for completely endophytic renal tumors offers a shorter warm ischemia time and comparable positive surgical margin rate compared with conventional laparoscopic partial nephrectomy.',\n",
       " 'Predictive factors of renal function after robot-assisted partial nephrectomy in clinical T1b tumors Robot-assisted partial nephrectomy (RAPN) has been shown to be a safe and effective method for treatment of small renal tumors, including clinical T1b renal cell carcinoma (RCC); however, the impact of RAPN for cT1b renal tumors on renal function is not well understood. In this retrospective study, 50 patients who underwent RAPN for cT1b renal tumors were evaluated for pre- and post-operative renal function and perioperative clinical factors. Renal function was assessed using the estimated glomerular filtration rate (eGFR) at baseline and on postoperative days (POD) 1, 7, 30, and 180.A significant renal functional decline was defined as >= 15% reduction in eGFR at POD180 compared with eGFR at baseline. Logistic regression analyses were used to identify risk factors for renal function decline, including age, sex, RENAL nephrometry score, operative time, and estimated blood loss. The median patient age was 62 years, and the median tumor diameter and RENAL nephrometry score were 44 mm (IQR 43-50) and 8 (IQR 7-9), respectively. Of these patients, 16 (36%) showed a significant renal functional decline at POD 180. In the multivariate analysis, the L component of the RENAL nephrometry score and an estimated blood loss of 200 mL or more were identified as significant risk factors for renal functional decline. These findings suggest that the preoperatively definable L component of the RENAL nephrometry score and intraoperative blood loss, which may be modifiable factors, play significant roles in post-RAPN renal function decline.']"
      ]
     },
     "execution_count": 25,
     "metadata": {},
     "output_type": "execute_result"
    }
   ],
   "source": [
    "# Get the top 10 documents for a topic\n",
    "topic_model.get_representative_docs(0)"
   ]
  },
  {
   "cell_type": "code",
   "execution_count": 26,
   "metadata": {
    "id": "1CgYkbHN9I2T"
   },
   "outputs": [],
   "source": [
    "# Others\n",
    "\n",
    "# # Get the number of documents per topic (same as in the table above)\n",
    "# topic_model.get_topic_freq(0)\n",
    "\n",
    "# # Get the main keywords per topic\n",
    "# topic_model.get_topics()"
   ]
  },
  {
   "cell_type": "code",
   "execution_count": 27,
   "metadata": {
    "colab": {
     "base_uri": "https://localhost:8080/"
    },
    "id": "JQKxUqHN9RT7",
    "outputId": "c572d73b-fc91-4c84-dc79-8f047b046aa2"
   },
   "outputs": [
    {
     "data": {
      "text/plain": [
       "{'calculate_probabilities': True,\n",
       " 'ctfidf_model': ClassTfidfTransformer(),\n",
       " 'embedding_model': None,\n",
       " 'hdbscan_model': KMeans(n_clusters=357),\n",
       " 'language': 'english',\n",
       " 'low_memory': False,\n",
       " 'min_topic_size': 10,\n",
       " 'n_gram_range': (1, 3),\n",
       " 'nr_topics': None,\n",
       " 'representation_model': None,\n",
       " 'seed_topic_list': None,\n",
       " 'top_n_words': 10,\n",
       " 'umap_model': UMAP(angular_rp_forest=True, metric='cosine', min_dist=0.0, n_components=5, n_jobs=1, random_state=100, tqdm_kwds={'bar_format': '{desc}: {percentage:3.0f}%| {bar} {n_fmt}/{total_fmt} [{elapsed}]', 'desc': 'Epochs completed', 'disable': True}),\n",
       " 'vectorizer_model': CountVectorizer(ngram_range=(1, 3)),\n",
       " 'verbose': True,\n",
       " 'zeroshot_min_similarity': 0.7,\n",
       " 'zeroshot_topic_list': None}"
      ]
     },
     "execution_count": 27,
     "metadata": {},
     "output_type": "execute_result"
    }
   ],
   "source": [
    "# Print the parameters used. (For reporting)\n",
    "topic_model.get_params()"
   ]
  },
  {
   "cell_type": "code",
   "execution_count": 28,
   "metadata": {
    "colab": {
     "base_uri": "https://localhost:8080/"
    },
    "id": "G8hwSK98RM9-",
    "outputId": "07a40193-c69a-4356-b1b0-ac721ef78c08"
   },
   "outputs": [
    {
     "name": "stdout",
     "output_type": "stream",
     "text": [
      "Done\n"
     ]
    }
   ],
   "source": [
    "tm_params = dict(topic_model.get_params())\n",
    "for key, value in tm_params.items():\n",
    "    tm_params[key]=  str(value)\n",
    "with open(f'{tm_folder_path}/topic_model_params.json', 'w') as f:\n",
    "    json.dump(tm_params, f, ensure_ascii=False, indent=4)\n",
    "    print('Done')"
   ]
  },
  {
   "cell_type": "code",
   "execution_count": 29,
   "metadata": {
    "colab": {
     "base_uri": "https://localhost:8080/"
    },
    "id": "5v4Wvn3ZAkZP",
    "outputId": "ea347717-a33e-40ad-ad2d-51798cbc5b5f"
   },
   "outputs": [
    {
     "name": "stderr",
     "output_type": "stream",
     "text": [
      "100%|██████████| 104/104 [06:42<00:00,  3.87s/it]\n"
     ]
    }
   ],
   "source": [
    "# Get the topic score for each paper and its assigned topic\n",
    "topic_distr, _ = topic_model.approximate_distribution(documents, batch_size=1000)\n",
    "distributions = [distr[topic] if topic != -1 else 0 for topic, distr in zip(topics, topic_distr)]"
   ]
  },
  {
   "cell_type": "code",
   "execution_count": 30,
   "metadata": {
    "colab": {
     "base_uri": "https://localhost:8080/"
    },
    "id": "6OTw5go4yVvM",
    "outputId": "7dfa090e-776f-4922-d611-325b1510ccab"
   },
   "outputs": [
    {
     "data": {
      "text/plain": [
       "array([[0., 0., 0., ..., 0., 0., 0.],\n",
       "       [0., 0., 0., ..., 0., 0., 0.],\n",
       "       [0., 0., 0., ..., 0., 0., 0.],\n",
       "       ...,\n",
       "       [0., 0., 0., ..., 0., 0., 0.],\n",
       "       [0., 0., 0., ..., 0., 0., 0.],\n",
       "       [0., 0., 0., ..., 0., 0., 0.]])"
      ]
     },
     "execution_count": 30,
     "metadata": {},
     "output_type": "execute_result"
    }
   ],
   "source": [
    "topic_distr"
   ]
  },
  {
   "cell_type": "code",
   "execution_count": 31,
   "metadata": {
    "colab": {
     "base_uri": "https://localhost:8080/",
     "height": 591
    },
    "id": "I7E0_6bv9hBp",
    "outputId": "06faea2f-1c00-4ca7-958b-4dd2dcb10c36"
   },
   "outputs": [
    {
     "data": {
      "text/html": [
       "<div>\n",
       "<style scoped>\n",
       "    .dataframe tbody tr th:only-of-type {\n",
       "        vertical-align: middle;\n",
       "    }\n",
       "\n",
       "    .dataframe tbody tr th {\n",
       "        vertical-align: top;\n",
       "    }\n",
       "\n",
       "    .dataframe thead th {\n",
       "        text-align: right;\n",
       "    }\n",
       "</style>\n",
       "<table border=\"1\" class=\"dataframe\">\n",
       "  <thead>\n",
       "    <tr style=\"text-align: right;\">\n",
       "      <th></th>\n",
       "      <th>UT</th>\n",
       "      <th>Document</th>\n",
       "      <th>Topic</th>\n",
       "      <th>Name</th>\n",
       "      <th>Representation</th>\n",
       "      <th>Representative_Docs</th>\n",
       "      <th>Top_n_words</th>\n",
       "      <th>Representative_document</th>\n",
       "      <th>Score</th>\n",
       "      <th>X_E</th>\n",
       "      <th>X_C</th>\n",
       "      <th>level0</th>\n",
       "      <th>cl99</th>\n",
       "      <th>cl-99</th>\n",
       "    </tr>\n",
       "  </thead>\n",
       "  <tbody>\n",
       "    <tr>\n",
       "      <th>0</th>\n",
       "      <td>WOS:000904782300005</td>\n",
       "      <td>Hybrid attention-oriented experience replay fo...</td>\n",
       "      <td>135</td>\n",
       "      <td>135_multiagent_agents_reinforcement learning_r...</td>\n",
       "      <td>[multiagent, agents, reinforcement learning, r...</td>\n",
       "      <td>[Transformer-Based Imitative Reinforcement Lea...</td>\n",
       "      <td>multiagent - agents - reinforcement learning -...</td>\n",
       "      <td>False</td>\n",
       "      <td>0.077777</td>\n",
       "      <td>0.077777</td>\n",
       "      <td>136</td>\n",
       "      <td>136</td>\n",
       "      <td>False</td>\n",
       "      <td>False</td>\n",
       "    </tr>\n",
       "    <tr>\n",
       "      <th>1</th>\n",
       "      <td>WOS:000911218400001</td>\n",
       "      <td>Accuracy improvement of a 3D passive laser tra...</td>\n",
       "      <td>121</td>\n",
       "      <td>121_calibration_error_accuracy_positioning</td>\n",
       "      <td>[calibration, error, accuracy, positioning, co...</td>\n",
       "      <td>[An Off-Line Error Compensation Method for Abs...</td>\n",
       "      <td>calibration - error - accuracy - positioning -...</td>\n",
       "      <td>False</td>\n",
       "      <td>0.318425</td>\n",
       "      <td>0.318425</td>\n",
       "      <td>122</td>\n",
       "      <td>122</td>\n",
       "      <td>False</td>\n",
       "      <td>False</td>\n",
       "    </tr>\n",
       "    <tr>\n",
       "      <th>2</th>\n",
       "      <td>WOS:000903508600001</td>\n",
       "      <td>Development and Adaptive Assistance Control of...</td>\n",
       "      <td>52</td>\n",
       "      <td>52_walking_gait_ankle_exoskeleton</td>\n",
       "      <td>[walking, gait, ankle, exoskeleton, hip, assis...</td>\n",
       "      <td>[Identification of Hip and Knee Joint Impedanc...</td>\n",
       "      <td>walking - gait - ankle - exoskeleton - hip - a...</td>\n",
       "      <td>True</td>\n",
       "      <td>0.428906</td>\n",
       "      <td>0.428906</td>\n",
       "      <td>53</td>\n",
       "      <td>53</td>\n",
       "      <td>False</td>\n",
       "      <td>False</td>\n",
       "    </tr>\n",
       "    <tr>\n",
       "      <th>3</th>\n",
       "      <td>WOS:000904370900003</td>\n",
       "      <td>Future regenerative medicine developments and ...</td>\n",
       "      <td>167</td>\n",
       "      <td>167_printing_bioprinting_3d_3d printing</td>\n",
       "      <td>[printing, bioprinting, 3d, 3d printing, mater...</td>\n",
       "      <td>[Revolutionizing manufacturing: A review of 4D...</td>\n",
       "      <td>printing - bioprinting - 3d - 3d printing - ma...</td>\n",
       "      <td>False</td>\n",
       "      <td>0.000000</td>\n",
       "      <td>0.000000</td>\n",
       "      <td>168</td>\n",
       "      <td>168</td>\n",
       "      <td>False</td>\n",
       "      <td>False</td>\n",
       "    </tr>\n",
       "    <tr>\n",
       "      <th>4</th>\n",
       "      <td>WOS:000911684200001</td>\n",
       "      <td>Linking properties to microstructure in liquid...</td>\n",
       "      <td>68</td>\n",
       "      <td>68_origami_metamaterials_structures_mechanical</td>\n",
       "      <td>[origami, metamaterials, structures, mechanica...</td>\n",
       "      <td>[Rigid-foldable cylindrical origami with tunab...</td>\n",
       "      <td>origami - metamaterials - structures - mechani...</td>\n",
       "      <td>False</td>\n",
       "      <td>0.000000</td>\n",
       "      <td>0.000000</td>\n",
       "      <td>69</td>\n",
       "      <td>69</td>\n",
       "      <td>False</td>\n",
       "      <td>False</td>\n",
       "    </tr>\n",
       "  </tbody>\n",
       "</table>\n",
       "</div>"
      ],
      "text/plain": [
       "                    UT                                           Document  \\\n",
       "0  WOS:000904782300005  Hybrid attention-oriented experience replay fo...   \n",
       "1  WOS:000911218400001  Accuracy improvement of a 3D passive laser tra...   \n",
       "2  WOS:000903508600001  Development and Adaptive Assistance Control of...   \n",
       "3  WOS:000904370900003  Future regenerative medicine developments and ...   \n",
       "4  WOS:000911684200001  Linking properties to microstructure in liquid...   \n",
       "\n",
       "   Topic                                               Name  \\\n",
       "0    135  135_multiagent_agents_reinforcement learning_r...   \n",
       "1    121         121_calibration_error_accuracy_positioning   \n",
       "2     52                  52_walking_gait_ankle_exoskeleton   \n",
       "3    167            167_printing_bioprinting_3d_3d printing   \n",
       "4     68     68_origami_metamaterials_structures_mechanical   \n",
       "\n",
       "                                      Representation  \\\n",
       "0  [multiagent, agents, reinforcement learning, r...   \n",
       "1  [calibration, error, accuracy, positioning, co...   \n",
       "2  [walking, gait, ankle, exoskeleton, hip, assis...   \n",
       "3  [printing, bioprinting, 3d, 3d printing, mater...   \n",
       "4  [origami, metamaterials, structures, mechanica...   \n",
       "\n",
       "                                 Representative_Docs  \\\n",
       "0  [Transformer-Based Imitative Reinforcement Lea...   \n",
       "1  [An Off-Line Error Compensation Method for Abs...   \n",
       "2  [Identification of Hip and Knee Joint Impedanc...   \n",
       "3  [Revolutionizing manufacturing: A review of 4D...   \n",
       "4  [Rigid-foldable cylindrical origami with tunab...   \n",
       "\n",
       "                                         Top_n_words  Representative_document  \\\n",
       "0  multiagent - agents - reinforcement learning -...                    False   \n",
       "1  calibration - error - accuracy - positioning -...                    False   \n",
       "2  walking - gait - ankle - exoskeleton - hip - a...                     True   \n",
       "3  printing - bioprinting - 3d - 3d printing - ma...                    False   \n",
       "4  origami - metamaterials - structures - mechani...                    False   \n",
       "\n",
       "      Score       X_E  X_C  level0   cl99  cl-99  \n",
       "0  0.077777  0.077777  136     136  False  False  \n",
       "1  0.318425  0.318425  122     122  False  False  \n",
       "2  0.428906  0.428906   53      53  False  False  \n",
       "3  0.000000  0.000000  168     168  False  False  \n",
       "4  0.000000  0.000000   69      69  False  False  "
      ]
     },
     "execution_count": 31,
     "metadata": {},
     "output_type": "execute_result"
    }
   ],
   "source": [
    "# Document information. Including the topic assignation\n",
    "dataset_clustering_results = topic_model.get_document_info(documents, df = corpus, metadata={\"Score\": distributions})\n",
    "\n",
    "# Standar format for report analysis\n",
    "dataset_clustering_results = dataset_clustering_results.drop(columns=['text'])\n",
    "dataset_clustering_results['X_E'] = dataset_clustering_results['Score']\n",
    "dataset_clustering_results['X_C'] = dataset_clustering_results['Topic'] + 1\n",
    "dataset_clustering_results['level0'] = dataset_clustering_results['Topic'] + 1\n",
    "dataset_clustering_results['cl99'] = False\n",
    "dataset_clustering_results['cl-99'] = False\n",
    "dataset_clustering_results.head()"
   ]
  },
  {
   "cell_type": "code",
   "execution_count": 32,
   "metadata": {
    "id": "eyQDhrjyc6Oh"
   },
   "outputs": [],
   "source": [
    "# Save the dataframe\n",
    "dataset_clustering_results.to_csv(f'{tm_folder_path}/dataset_minimal.csv', index=False)"
   ]
  },
  {
   "cell_type": "code",
   "execution_count": 33,
   "metadata": {
    "colab": {
     "base_uri": "https://localhost:8080/"
    },
    "id": "1RYcsXanZvrr",
    "outputId": "d625d86f-5897-4d75-8b32-54f2dd258ad3"
   },
   "outputs": [
    {
     "name": "stderr",
     "output_type": "stream",
     "text": [
      "2025-01-29 14:20:09,387 - BERTopic - WARNING: When you use `pickle` to save/load a BERTopic model,please make sure that the environments in which you saveand load the model are **exactly** the same. The version of BERTopic,its dependencies, and python need to remain the same.\n"
     ]
    }
   ],
   "source": [
    "# Save the topic model\n",
    "topic_model.save(f'{tm_folder_path}/topic_model_object.pck')"
   ]
  },
  {
   "cell_type": "markdown",
   "metadata": {
    "id": "SX1EBSOY3Pz1"
   },
   "source": [
    "\n",
    "\n",
    "---\n",
    "\n"
   ]
  }
 ],
 "metadata": {
  "colab": {
   "authorship_tag": "ABX9TyM4oE6dpT6UwjIg42kzzsWo",
   "include_colab_link": true,
   "provenance": [],
   "toc_visible": true
  },
  "kernelspec": {
   "display_name": "env-tm",
   "language": "python",
   "name": "python3"
  },
  "language_info": {
   "codemirror_mode": {
    "name": "ipython",
    "version": 3
   },
   "file_extension": ".py",
   "mimetype": "text/x-python",
   "name": "python",
   "nbconvert_exporter": "python",
   "pygments_lexer": "ipython3",
   "version": "3.11.7"
  }
 },
 "nbformat": 4,
 "nbformat_minor": 0
}
