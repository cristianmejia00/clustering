{
 "cells": [
  {
   "cell_type": "markdown",
   "metadata": {
    "colab_type": "text",
    "id": "view-in-github"
   },
   "source": [
    "<a href=\"https://colab.research.google.com/github/cristianmejia00/clustering/blob/main/Topic_Models_using_BERTopic_TOPIC_MODEL_20241101.ipynb\" target=\"_parent\"><img src=\"https://colab.research.google.com/assets/colab-badge.svg\" alt=\"Open In Colab\"/></a>"
   ]
  },
  {
   "cell_type": "markdown",
   "metadata": {
    "id": "Zj3lYckpO2Yn"
   },
   "source": [
    "# Topic Modeling with BERTopic\n",
    "\n",
    "🔴 copied from the [Kubota Colab](https://colab.research.google.com/drive/1YsDp5_qGXGJKsEXsS8DO8CA_lqZc6EpA).  \n",
    "\n",
    "`Topic Models` are methods to automatically organize a corpus of text into topics.\n",
    "\n",
    "Topic Model process:\n",
    "1. Data preparation\n",
    "2. Tranform text to numeric vectors\n",
    "3. Multidimensionality reduction\n",
    "4. Clustering\n",
    "5. Topic analysis\n",
    "6. Cluster assignation\n",
    "\n",
    "\n",
    "This notebook uses the library `BERTopic` which is a one-stop solution for topic modeling including handy functions for plotting and analysis. However, BERTopic does not have a function to extract the X and Y coords from UMAP. If we need the coordinates then use the notebooks `Topic_Models_using_Transformers` instead. In any other situation, when a quick analysis is needed this notebook may be better.\n",
    "\n",
    "This notebook is also the one needed for the heatmap codes included in this folder.\n",
    "\n",
    "`BERTopic` is Python library that handles steps 2 to 6.\n",
    "BERT topic models use the transformer architechture to generate the embeds (i.e. the vector or numeric representation of words) and are currently the state-of-the-art method for vectorization.\n",
    "\n",
    "This notebook shows how to use it.\n",
    "\n",
    "---\n",
    "Reading:\n",
    "[Topic Modeling with Deep Learning Using Python BERTopic](https://medium.com/grabngoinfo/topic-modeling-with-deep-learning-using-python-bertopic-cf91f5676504)\n",
    "[Advanced Topic Modeling with BERTopic](https://www.pinecone.io/learn/bertopic/)\n"
   ]
  },
  {
   "cell_type": "markdown",
   "metadata": {
    "id": "WlufmOowbHSF"
   },
   "source": [
    "# Requirements"
   ]
  },
  {
   "cell_type": "markdown",
   "metadata": {
    "id": "kFQU-BC5ReYd"
   },
   "source": [
    "## Packages installation and initialization"
   ]
  },
  {
   "cell_type": "code",
   "execution_count": 2,
   "metadata": {
    "colab": {
     "base_uri": "https://localhost:8080/"
    },
    "collapsed": true,
    "id": "ckx8hOIyRZvv",
    "outputId": "20e7642f-824b-4ba1-86cc-5a97c89670c5"
   },
   "outputs": [
    {
     "name": "stdout",
     "output_type": "stream",
     "text": [
      "zsh:1: no matches found: bertopic[visualization]\n"
     ]
    }
   ],
   "source": [
    "!pip install bertopic[visualization]"
   ]
  },
  {
   "cell_type": "code",
   "execution_count": 1,
   "metadata": {
    "id": "gMlZ_7DkOxGG"
   },
   "outputs": [
    {
     "name": "stderr",
     "output_type": "stream",
     "text": [
      "/Users/cristian/Desktop/GitHub/clustering/env-tm/lib/python3.11/site-packages/tqdm/auto.py:21: TqdmWarning: IProgress not found. Please update jupyter and ipywidgets. See https://ipywidgets.readthedocs.io/en/stable/user_install.html\n",
      "  from .autonotebook import tqdm as notebook_tqdm\n"
     ]
    }
   ],
   "source": [
    "import pandas as pd\n",
    "import numpy as np\n",
    "import time\n",
    "import math\n",
    "import uuid\n",
    "import re\n",
    "import os\n",
    "import json\n",
    "import pickle\n",
    "from datetime import date\n",
    "from itertools import compress\n",
    "from bertopic import BERTopic\n",
    "from umap import UMAP\n",
    "from gensim.parsing.preprocessing import remove_stopwords\n",
    "from sklearn.cluster import KMeans\n",
    "from sentence_transformers import SentenceTransformer"
   ]
  },
  {
   "cell_type": "markdown",
   "metadata": {
    "id": "SZ1BccaqRtS0"
   },
   "source": [
    "## Connect your Google Drive"
   ]
  },
  {
   "cell_type": "code",
   "execution_count": 2,
   "metadata": {
    "colab": {
     "base_uri": "https://localhost:8080/"
    },
    "id": "6os5BGPFRxfX",
    "outputId": "41e02c25-1dc9-426e-f441-874fc600fc70"
   },
   "outputs": [
    {
     "ename": "ModuleNotFoundError",
     "evalue": "No module named 'google'",
     "output_type": "error",
     "traceback": [
      "\u001b[0;31m---------------------------------------------------------------------------\u001b[0m",
      "\u001b[0;31mModuleNotFoundError\u001b[0m                       Traceback (most recent call last)",
      "Cell \u001b[0;32mIn[2], line 1\u001b[0m\n\u001b[0;32m----> 1\u001b[0m \u001b[38;5;28;01mfrom\u001b[39;00m \u001b[38;5;21;01mgoogle\u001b[39;00m\u001b[38;5;21;01m.\u001b[39;00m\u001b[38;5;21;01mcolab\u001b[39;00m \u001b[38;5;28;01mimport\u001b[39;00m drive\n\u001b[1;32m      2\u001b[0m drive\u001b[38;5;241m.\u001b[39mmount(\u001b[38;5;124m'\u001b[39m\u001b[38;5;124m/content/drive\u001b[39m\u001b[38;5;124m'\u001b[39m)\n",
      "\u001b[0;31mModuleNotFoundError\u001b[0m: No module named 'google'"
     ]
    }
   ],
   "source": [
    "from google.colab import drive\n",
    "drive.mount('/content/drive')"
   ]
  },
  {
   "cell_type": "code",
   "execution_count": 2,
   "metadata": {
    "id": "f2p9sY7sUYkU"
   },
   "outputs": [],
   "source": [
    "def find_e_keys(dictionary):\n",
    "    # List comprehension to find keys starting with 'e'\n",
    "    e_keys = [key for key in dictionary if str(key).lower().startswith('e')]\n",
    "    return e_keys"
   ]
  },
  {
   "cell_type": "markdown",
   "metadata": {
    "id": "dDm5-r5oR98q"
   },
   "source": [
    "# 🔴 Input files and options\n",
    "\n",
    "Go to your Google Drive and create a folder in the root directory. We are going to save all related data in that directory.\n",
    "Upload the dataset of news into the above folder.\n",
    "- The dataset should be a `.csv` file.\n",
    "- Every row in the dataset is a document\n",
    "- It can any kind of columns. Some columns must contain the text we want to analyze. For example, a dataset of academic articles may contain a \"Title\" and/or \"Abstract\" column."
   ]
  },
  {
   "cell_type": "code",
   "execution_count": 34,
   "metadata": {
    "id": "5ICq5zQbSJa8"
   },
   "outputs": [],
   "source": [
    "# The bibliometrics folder\n",
    "# Colab\n",
    "ROOT_FOLDER_PATH = \"drive/MyDrive/Bibliometrics_Drive\"\n",
    "\n",
    "# Mac\n",
    "ROOT_FOLDER_PATH = \"/Users/cristian/Library/CloudStorage/GoogleDrive-cristianmejia00@gmail.com/My Drive/Bibliometrics_Drive\"\n",
    "\n",
    "# Change to the name of the folder where the dataset is uploaded inside the above folder\n",
    "project_folder = 'Q324_EU_Act'\n",
    "\n",
    "analysis_id = 'a01_tm__f01_e01__km01'\n",
    "\n",
    "# Filtered label\n",
    "settings_directive = \"settings_analysis_directive_2025-01-30-17-06.json\""
   ]
  },
  {
   "cell_type": "code",
   "execution_count": 35,
   "metadata": {
    "id": "QpoR8P3O0ACf"
   },
   "outputs": [],
   "source": [
    "# Read settings\n",
    "with open(f'{ROOT_FOLDER_PATH}/{project_folder}/{analysis_id}/{settings_directive}', 'r') as file:\n",
    "    settings = json.load(file)"
   ]
  },
  {
   "cell_type": "code",
   "execution_count": 36,
   "metadata": {
    "id": "COh3zc3b2oAn"
   },
   "outputs": [],
   "source": [
    "# Input dataset\n",
    "dataset_file_path = f\"{ROOT_FOLDER_PATH}/{settings['metadata']['project_folder']}/{settings['metadata']['filtered_folder']}/dataset_raw_cleaned.csv\""
   ]
  },
  {
   "cell_type": "code",
   "execution_count": 37,
   "metadata": {
    "id": "biEFdxrm0WrO"
   },
   "outputs": [],
   "source": [
    "# Function to save files\n",
    "def save_as_csv(df, save_name_without_extension, with_index):\n",
    "    \"usage: `save_as_csv(dataframe, 'filename')`\"\n",
    "    df.to_csv(f\"{ROOT_FOLDER_PATH}/{save_name_without_extension}.csv\", index=with_index)\n",
    "    print(\"===\\nSaved: \", f\"{ROOT_FOLDER_PATH}/{save_name_without_extension}.csv\")"
   ]
  },
  {
   "cell_type": "code",
   "execution_count": 38,
   "metadata": {
    "id": "Ff7hQXE1dYDw"
   },
   "outputs": [],
   "source": [
    "# prompt: a function to save object to a pickle file\n",
    "def save_object_as_pickle(obj, filename):\n",
    "  \"\"\"\n",
    "  Saves an object as a pickle file.\n",
    "\n",
    "  Args:\n",
    "      obj: The object to be saved.\n",
    "      filename: The filename of the pickle file.\n",
    "  \"\"\"\n",
    "  with open(filename, \"wb\") as f:\n",
    "    pickle.dump(obj, f)\n"
   ]
  },
  {
   "cell_type": "code",
   "execution_count": 39,
   "metadata": {
    "id": "iljQe0_xb2FU"
   },
   "outputs": [],
   "source": [
    "# prompt: a function to load pickle object given a path\n",
    "def load_pickle(path):\n",
    "    with open(path, 'rb') as f:\n",
    "        return pickle.load(f)\n"
   ]
  },
  {
   "cell_type": "code",
   "execution_count": 41,
   "metadata": {
    "colab": {
     "base_uri": "https://localhost:8080/",
     "height": 655
    },
    "id": "Tob-4BIaUbZ9",
    "outputId": "d48eac6d-2af8-4991-af19-5bda2386e6bc"
   },
   "outputs": [
    {
     "name": "stdout",
     "output_type": "stream",
     "text": [
      "(1005, 16)\n"
     ]
    },
    {
     "data": {
      "text/html": [
       "<div>\n",
       "<style scoped>\n",
       "    .dataframe tbody tr th:only-of-type {\n",
       "        vertical-align: middle;\n",
       "    }\n",
       "\n",
       "    .dataframe tbody tr th {\n",
       "        vertical-align: top;\n",
       "    }\n",
       "\n",
       "    .dataframe thead th {\n",
       "        text-align: right;\n",
       "    }\n",
       "</style>\n",
       "<table border=\"1\" class=\"dataframe\">\n",
       "  <thead>\n",
       "    <tr style=\"text-align: right;\">\n",
       "      <th></th>\n",
       "      <th>X_N</th>\n",
       "      <th>uuid</th>\n",
       "      <th>WC</th>\n",
       "      <th>UT</th>\n",
       "      <th>PY</th>\n",
       "      <th>AU</th>\n",
       "      <th>TI</th>\n",
       "      <th>DT</th>\n",
       "      <th>PT</th>\n",
       "      <th>CR</th>\n",
       "      <th>C1</th>\n",
       "      <th>Z9</th>\n",
       "      <th>AB</th>\n",
       "      <th>Countries</th>\n",
       "      <th>IsoCountries</th>\n",
       "      <th>Institutions</th>\n",
       "    </tr>\n",
       "  </thead>\n",
       "  <tbody>\n",
       "    <tr>\n",
       "      <th>0</th>\n",
       "      <td>1</td>\n",
       "      <td>e1e88a1c-5f8a-4c95-b6d7-d5fa007dc676</td>\n",
       "      <td>ArticleÊ1 - Subject matter`</td>\n",
       "      <td>id29929.7285477815</td>\n",
       "      <td>2024</td>\n",
       "      <td>EU</td>\n",
       "      <td>NaN</td>\n",
       "      <td>Article</td>\n",
       "      <td>Article</td>\n",
       "      <td>NaN</td>\n",
       "      <td>NaN</td>\n",
       "      <td>1</td>\n",
       "      <td>\"1.   The purpose of this Regulation is to imp...</td>\n",
       "      <td>NaN</td>\n",
       "      <td>NaN</td>\n",
       "      <td>NaN</td>\n",
       "    </tr>\n",
       "    <tr>\n",
       "      <th>1</th>\n",
       "      <td>2</td>\n",
       "      <td>b4fedafe-238b-4bef-a1a3-398a23d4d9ab</td>\n",
       "      <td>ArticleÊ1 - Subject matter`</td>\n",
       "      <td>id372869.530597917</td>\n",
       "      <td>2024</td>\n",
       "      <td>EU</td>\n",
       "      <td>NaN</td>\n",
       "      <td>Article</td>\n",
       "      <td>Article</td>\n",
       "      <td>NaN</td>\n",
       "      <td>NaN</td>\n",
       "      <td>1</td>\n",
       "      <td>2.   This Regulation lays down:</td>\n",
       "      <td>NaN</td>\n",
       "      <td>NaN</td>\n",
       "      <td>NaN</td>\n",
       "    </tr>\n",
       "    <tr>\n",
       "      <th>2</th>\n",
       "      <td>3</td>\n",
       "      <td>b51535a2-425d-4c49-9192-353bf3b3d7b2</td>\n",
       "      <td>ArticleÊ1 - Subject matter`</td>\n",
       "      <td>id692898.300406581</td>\n",
       "      <td>2024</td>\n",
       "      <td>EU</td>\n",
       "      <td>NaN</td>\n",
       "      <td>Article</td>\n",
       "      <td>Article</td>\n",
       "      <td>NaN</td>\n",
       "      <td>NaN</td>\n",
       "      <td>1</td>\n",
       "      <td>\"(a)  harmonised rules for the placing on the ...</td>\n",
       "      <td>NaN</td>\n",
       "      <td>NaN</td>\n",
       "      <td>NaN</td>\n",
       "    </tr>\n",
       "    <tr>\n",
       "      <th>3</th>\n",
       "      <td>4</td>\n",
       "      <td>d1e2278d-15d5-4edb-ad15-0eea3d126df1</td>\n",
       "      <td>ArticleÊ1 - Subject matter`</td>\n",
       "      <td>id970016.957203564</td>\n",
       "      <td>2024</td>\n",
       "      <td>EU</td>\n",
       "      <td>NaN</td>\n",
       "      <td>Article</td>\n",
       "      <td>Article</td>\n",
       "      <td>NaN</td>\n",
       "      <td>NaN</td>\n",
       "      <td>1</td>\n",
       "      <td>(b)  prohibitions of certain AI practices;</td>\n",
       "      <td>NaN</td>\n",
       "      <td>NaN</td>\n",
       "      <td>NaN</td>\n",
       "    </tr>\n",
       "    <tr>\n",
       "      <th>4</th>\n",
       "      <td>5</td>\n",
       "      <td>3a9f771e-2028-44cf-9c1e-6207a9ac1d99</td>\n",
       "      <td>ArticleÊ1 - Subject matter`</td>\n",
       "      <td>id872031.626035799</td>\n",
       "      <td>2024</td>\n",
       "      <td>EU</td>\n",
       "      <td>NaN</td>\n",
       "      <td>Article</td>\n",
       "      <td>Article</td>\n",
       "      <td>NaN</td>\n",
       "      <td>NaN</td>\n",
       "      <td>1</td>\n",
       "      <td>(c)  specific requirements for high-risk AI sy...</td>\n",
       "      <td>NaN</td>\n",
       "      <td>NaN</td>\n",
       "      <td>NaN</td>\n",
       "    </tr>\n",
       "  </tbody>\n",
       "</table>\n",
       "</div>"
      ],
      "text/plain": [
       "   X_N                                  uuid                           WC  \\\n",
       "0    1  e1e88a1c-5f8a-4c95-b6d7-d5fa007dc676  ArticleÊ1 - Subject matter`   \n",
       "1    2  b4fedafe-238b-4bef-a1a3-398a23d4d9ab  ArticleÊ1 - Subject matter`   \n",
       "2    3  b51535a2-425d-4c49-9192-353bf3b3d7b2  ArticleÊ1 - Subject matter`   \n",
       "3    4  d1e2278d-15d5-4edb-ad15-0eea3d126df1  ArticleÊ1 - Subject matter`   \n",
       "4    5  3a9f771e-2028-44cf-9c1e-6207a9ac1d99  ArticleÊ1 - Subject matter`   \n",
       "\n",
       "                   UT    PY  AU  TI       DT       PT  CR  C1  Z9  \\\n",
       "0  id29929.7285477815  2024  EU NaN  Article  Article NaN NaN   1   \n",
       "1  id372869.530597917  2024  EU NaN  Article  Article NaN NaN   1   \n",
       "2  id692898.300406581  2024  EU NaN  Article  Article NaN NaN   1   \n",
       "3  id970016.957203564  2024  EU NaN  Article  Article NaN NaN   1   \n",
       "4  id872031.626035799  2024  EU NaN  Article  Article NaN NaN   1   \n",
       "\n",
       "                                                  AB  Countries  IsoCountries  \\\n",
       "0  \"1.   The purpose of this Regulation is to imp...        NaN           NaN   \n",
       "1                    2.   This Regulation lays down:        NaN           NaN   \n",
       "2  \"(a)  harmonised rules for the placing on the ...        NaN           NaN   \n",
       "3         (b)  prohibitions of certain AI practices;        NaN           NaN   \n",
       "4  (c)  specific requirements for high-risk AI sy...        NaN           NaN   \n",
       "\n",
       "   Institutions  \n",
       "0           NaN  \n",
       "1           NaN  \n",
       "2           NaN  \n",
       "3           NaN  \n",
       "4           NaN  "
      ]
     },
     "execution_count": 41,
     "metadata": {},
     "output_type": "execute_result"
    }
   ],
   "source": [
    "# Open the data file\n",
    "df = pd.read_csv(f\"{dataset_file_path}\", encoding='latin-1')\n",
    "print(df.shape)\n",
    "df.head()"
   ]
  },
  {
   "cell_type": "markdown",
   "metadata": {
    "id": "9UrPiLepN1s9"
   },
   "source": [
    "\n",
    "\n",
    "---\n",
    "\n"
   ]
  },
  {
   "cell_type": "markdown",
   "metadata": {
    "id": "eK-U-Sl8fc-m"
   },
   "source": [
    "## PART 2: Topic Model"
   ]
  },
  {
   "cell_type": "code",
   "execution_count": 42,
   "metadata": {
    "id": "FhwGnBjFQT4x"
   },
   "outputs": [],
   "source": [
    "# bibliometrics_folder\n",
    "# project_folder\n",
    "# project_name_suffix\n",
    "# ROOT_FOLDER_PATH = f\"drive/MyDrive/{bibliometrics_folder}\"\n",
    "\n",
    "#############################################################\n",
    "# Embeddings folder\n",
    "embeddings_folder_name = settings['tmo']['embeds_folder']\n",
    "\n",
    "# Which column has the year of the documents?\n",
    "my_year = settings['tmo']['year_column']\n",
    "\n",
    "# Number of topics. Select the number of topics to extract.\n",
    "# Choose 0, for automatic detection.\n",
    "n_topics = settings['tmo']['n_topics']\n",
    "\n",
    "# Minimum number of documents per topic\n",
    "min_topic_size = settings['tmo']['min_topic_size']"
   ]
  },
  {
   "cell_type": "code",
   "execution_count": 43,
   "metadata": {
    "id": "9RYSioo2cxxC"
   },
   "outputs": [],
   "source": [
    "# Get the embeddings back.\n",
    "embeddings = load_pickle(f\"{ROOT_FOLDER_PATH}/{project_folder}/{settings['metadata']['filtered_folder']}/{embeddings_folder_name}/embeddings.pck\")\n",
    "corpus =     pd.read_csv(f\"{ROOT_FOLDER_PATH}/{project_folder}/{settings['metadata']['filtered_folder']}/{embeddings_folder_name}/corpus.csv\").reset_index(drop=True)"
   ]
  },
  {
   "cell_type": "code",
   "execution_count": 44,
   "metadata": {
    "id": "injCV_IPN26L"
   },
   "outputs": [],
   "source": [
    "# Combine embeddings\n",
    "documents = corpus.text.to_list()"
   ]
  },
  {
   "cell_type": "code",
   "execution_count": 45,
   "metadata": {
    "id": "ve_oloYNrBLz"
   },
   "outputs": [],
   "source": [
    "# corpus['uuid'] = [uuid.uuid4() for _ in range(len(corpus.index))]\n",
    "# corpus['X_N'] = [i for i in range(1, len(corpus.index)+1)]"
   ]
  },
  {
   "cell_type": "code",
   "execution_count": 46,
   "metadata": {
    "colab": {
     "base_uri": "https://localhost:8080/"
    },
    "id": "onVFOjBZuMmJ",
    "outputId": "4898b936-f4ea-4a7d-8448-a65466de85f2"
   },
   "outputs": [
    {
     "data": {
      "text/plain": [
       "1005"
      ]
     },
     "execution_count": 46,
     "metadata": {},
     "output_type": "execute_result"
    }
   ],
   "source": [
    "len(documents)"
   ]
  },
  {
   "cell_type": "code",
   "execution_count": 47,
   "metadata": {
    "colab": {
     "base_uri": "https://localhost:8080/"
    },
    "id": "S7LeuG_7S4Db",
    "outputId": "4e27c106-2e0c-4630-a741-2fbd5e5512b0"
   },
   "outputs": [
    {
     "data": {
      "text/plain": [
       "True"
      ]
     },
     "execution_count": 47,
     "metadata": {},
     "output_type": "execute_result"
    }
   ],
   "source": [
    "#len(embeddings) == len(documents)\n",
    "len(embeddings['embeddings']) == len(documents)"
   ]
  },
  {
   "cell_type": "code",
   "execution_count": 48,
   "metadata": {
    "id": "n6qUvhGGcPZo"
   },
   "outputs": [],
   "source": [
    "from hdbscan.hdbscan_ import HDBSCAN\n",
    "# Execute the topic model.\n",
    "# I suggest changing the values marked with #<---\n",
    "# The others are the default values and they'll work fine in most cases.\n",
    "# This will take several minutes to finish.\n",
    "\n",
    "# Initiate UMAP\n",
    "umap_model = UMAP(n_neighbors=15,\n",
    "                  n_components=5,\n",
    "                  min_dist=0.0,\n",
    "                  metric='cosine',\n",
    "                  random_state=100)\n",
    "\n",
    "if n_topics == 0:\n",
    "  # Initiate topic model with HDBScan (Automatic topic selection)\n",
    "  topic_model_params = HDBSCAN(min_cluster_size=min_topic_size,\n",
    "                               metric='euclidean',\n",
    "                               cluster_selection_method='eom',\n",
    "                               prediction_data=True)\n",
    "else:\n",
    "  # Initiate topic model with K-means (Manual topic selection)\n",
    "  topic_model_params = KMeans(n_clusters = n_topics)\n",
    "\n",
    "# Initiate BERTopic\n",
    "topic_model = BERTopic(umap_model = umap_model,\n",
    "                       hdbscan_model = topic_model_params,\n",
    "                       min_topic_size=min_topic_size,\n",
    "                       #nr_topics=15,          #<--- Footnote 1\n",
    "                       n_gram_range=(1,3),\n",
    "                       language='english',\n",
    "                       calculate_probabilities=True,\n",
    "                       verbose=True)\n",
    "\n",
    "\n",
    "\n",
    "# Footnote 1: This controls the number of topics we want AFTER clustering.\n",
    "# Add a hashtag at the beggining to use the number of topics returned by the topic model.\n",
    "# When using HDBScan nr_topics will be obtained after orphans removal, and there is no warranty that `nr_topics < HDBScan topics`.\n",
    "# thus, with HDBScan `nr_topics` means N topics OR LESS.\n",
    "# When using KMeans nr_topics can be used to further reduce the number of topics.\n",
    "# We use the topics as returned by the topic model. So we do not need to activate it here."
   ]
  },
  {
   "cell_type": "code",
   "execution_count": 49,
   "metadata": {
    "colab": {
     "base_uri": "https://localhost:8080/"
    },
    "id": "FQQsmPGzUCuB",
    "outputId": "a2b43bac-051a-4599-ad04-a36b1a575a26"
   },
   "outputs": [
    {
     "name": "stderr",
     "output_type": "stream",
     "text": [
      "2025-01-30 17:08:50,383 - BERTopic - Dimensionality - Fitting the dimensionality reduction algorithm\n",
      "2025-01-30 17:08:53,293 - BERTopic - Dimensionality - Completed ✓\n",
      "2025-01-30 17:08:53,294 - BERTopic - Cluster - Start clustering the reduced embeddings\n",
      "2025-01-30 17:08:53,313 - BERTopic - Cluster - Completed ✓\n",
      "2025-01-30 17:08:53,320 - BERTopic - Representation - Extracting topics from clusters using representation models.\n",
      "2025-01-30 17:08:53,480 - BERTopic - Representation - Completed ✓\n"
     ]
    }
   ],
   "source": [
    "# Compute topic model\n",
    "#topics, probabilities = topic_model.fit_transform(documents, embeddings)\n",
    "topics, probabilities = topic_model.fit_transform(documents, embeddings['embeddings'])"
   ]
  },
  {
   "cell_type": "code",
   "execution_count": 50,
   "metadata": {
    "colab": {
     "base_uri": "https://localhost:8080/",
     "height": 424
    },
    "id": "67pgsMtwsFmH",
    "outputId": "82c86e95-6be7-4832-a076-94d8d9dcd8ae"
   },
   "outputs": [
    {
     "data": {
      "text/html": [
       "<div>\n",
       "<style scoped>\n",
       "    .dataframe tbody tr th:only-of-type {\n",
       "        vertical-align: middle;\n",
       "    }\n",
       "\n",
       "    .dataframe tbody tr th {\n",
       "        vertical-align: top;\n",
       "    }\n",
       "\n",
       "    .dataframe thead th {\n",
       "        text-align: right;\n",
       "    }\n",
       "</style>\n",
       "<table border=\"1\" class=\"dataframe\">\n",
       "  <thead>\n",
       "    <tr style=\"text-align: right;\">\n",
       "      <th></th>\n",
       "      <th>Topic</th>\n",
       "      <th>Count</th>\n",
       "      <th>Name</th>\n",
       "      <th>Representation</th>\n",
       "      <th>Representative_Docs</th>\n",
       "    </tr>\n",
       "  </thead>\n",
       "  <tbody>\n",
       "    <tr>\n",
       "      <th>0</th>\n",
       "      <td>0</td>\n",
       "      <td>56</td>\n",
       "      <td>0_notified_bodies_body_assessment</td>\n",
       "      <td>[notified, bodies, body, assessment, the, noti...</td>\n",
       "      <td>[The application for notification shall be acc...</td>\n",
       "    </tr>\n",
       "    <tr>\n",
       "      <th>1</th>\n",
       "      <td>1</td>\n",
       "      <td>52</td>\n",
       "      <td>1_surveillance_market surveillance_the_market</td>\n",
       "      <td>[surveillance, market surveillance, the, marke...</td>\n",
       "      <td>[Any information or documentation obtained pur...</td>\n",
       "    </tr>\n",
       "    <tr>\n",
       "      <th>2</th>\n",
       "      <td>2</td>\n",
       "      <td>49</td>\n",
       "      <td>2_regulatory_and_ai regulatory_sandbox</td>\n",
       "      <td>[regulatory, and, ai regulatory, sandbox, sand...</td>\n",
       "      <td>[Providers and prospective providers participa...</td>\n",
       "    </tr>\n",
       "    <tr>\n",
       "      <th>3</th>\n",
       "      <td>3</td>\n",
       "      <td>48</td>\n",
       "      <td>3_the_of_implementing_advisory forum</td>\n",
       "      <td>[the, of, implementing, advisory forum, adviso...</td>\n",
       "      <td>[The Commission shall adopt implementing acts ...</td>\n",
       "    </tr>\n",
       "    <tr>\n",
       "      <th>4</th>\n",
       "      <td>4</td>\n",
       "      <td>46</td>\n",
       "      <td>4_in_highrisk ai_the_highrisk</td>\n",
       "      <td>[in, highrisk ai, the, highrisk, conformity, o...</td>\n",
       "      <td>[For highrisk AI systems listed in point  of A...</td>\n",
       "    </tr>\n",
       "    <tr>\n",
       "      <th>5</th>\n",
       "      <td>5</td>\n",
       "      <td>46</td>\n",
       "      <td>5_generalpurpose ai_generalpurpose_model_systemic</td>\n",
       "      <td>[generalpurpose ai, generalpurpose, model, sys...</td>\n",
       "      <td>[The obligation set out in this Article shall ...</td>\n",
       "    </tr>\n",
       "    <tr>\n",
       "      <th>6</th>\n",
       "      <td>6</td>\n",
       "      <td>45</td>\n",
       "      <td>6_highrisk ai_highrisk_ai_and</td>\n",
       "      <td>[highrisk ai, highrisk, ai, and, be, highrisk ...</td>\n",
       "      <td>[Providers of highrisk AI systems shall, The t...</td>\n",
       "    </tr>\n",
       "    <tr>\n",
       "      <th>7</th>\n",
       "      <td>7</td>\n",
       "      <td>43</td>\n",
       "      <td>7_system_ai system_highrisk_highrisk ai system</td>\n",
       "      <td>[system, ai system, highrisk, highrisk ai syst...</td>\n",
       "      <td>[Where the circumstances referred to in paragr...</td>\n",
       "    </tr>\n",
       "    <tr>\n",
       "      <th>8</th>\n",
       "      <td>8</td>\n",
       "      <td>42</td>\n",
       "      <td>8_the_authorised_mandate_the mandate</td>\n",
       "      <td>[the, authorised, mandate, the mandate, to, au...</td>\n",
       "      <td>[The authorised representative shall terminate...</td>\n",
       "    </tr>\n",
       "    <tr>\n",
       "      <th>9</th>\n",
       "      <td>9</td>\n",
       "      <td>40</td>\n",
       "      <td>9_or_of_harm_the</td>\n",
       "      <td>[or, of, harm, the, persons, safety, to, and, ...</td>\n",
       "      <td>[a  the nature gravity and duration of the inf...</td>\n",
       "    </tr>\n",
       "    <tr>\n",
       "      <th>10</th>\n",
       "      <td>10</td>\n",
       "      <td>34</td>\n",
       "      <td>10_market_market surveillance_surveillance_the</td>\n",
       "      <td>[market, market surveillance, surveillance, th...</td>\n",
       "      <td>[Where the market surveillance authority of a ...</td>\n",
       "    </tr>\n",
       "    <tr>\n",
       "      <th>11</th>\n",
       "      <td>11</td>\n",
       "      <td>33</td>\n",
       "      <td>11_data_personal data_personal_of personal data</td>\n",
       "      <td>[data, personal data, personal, of personal da...</td>\n",
       "      <td>[f  any processing of personal data in the con...</td>\n",
       "    </tr>\n",
       "    <tr>\n",
       "      <th>12</th>\n",
       "      <td>12</td>\n",
       "      <td>33</td>\n",
       "      <td>12_infringement_the_data protection_protection</td>\n",
       "      <td>[infringement, the, data protection, protectio...</td>\n",
       "      <td>[The European Data Protection Supervisor may i...</td>\n",
       "    </tr>\n",
       "    <tr>\n",
       "      <th>13</th>\n",
       "      <td>13</td>\n",
       "      <td>30</td>\n",
       "      <td>13_regulation_this regulation_apply_or</td>\n",
       "      <td>[regulation, this regulation, apply, or, ai, t...</td>\n",
       "      <td>[This Regulation does not apply to AI systems ...</td>\n",
       "    </tr>\n",
       "    <tr>\n",
       "      <th>14</th>\n",
       "      <td>14</td>\n",
       "      <td>30</td>\n",
       "      <td>14_regulation_this_this regulation_union</td>\n",
       "      <td>[regulation, this, this regulation, union, of,...</td>\n",
       "      <td>[The data listed in Section C of Annex VIII sh...</td>\n",
       "    </tr>\n",
       "    <tr>\n",
       "      <th>15</th>\n",
       "      <td>15</td>\n",
       "      <td>29</td>\n",
       "      <td>15_the_the ai office_ai office_office</td>\n",
       "      <td>[the, the ai office, ai office, office, panel,...</td>\n",
       "      <td>[The AI Office and the Board shall aim to ensu...</td>\n",
       "    </tr>\n",
       "    <tr>\n",
       "      <th>16</th>\n",
       "      <td>16</td>\n",
       "      <td>29</td>\n",
       "      <td>16_testing_testing in_conditions_real world</td>\n",
       "      <td>[testing, testing in, conditions, real world, ...</td>\n",
       "      <td>[Providers or prospective providers shall noti...</td>\n",
       "    </tr>\n",
       "    <tr>\n",
       "      <th>17</th>\n",
       "      <td>17</td>\n",
       "      <td>28</td>\n",
       "      <td>17_biometric_identification_biometric identifi...</td>\n",
       "      <td>[biometric, identification, biometric identifi...</td>\n",
       "      <td>[For the purposes of paragraph  first subparag...</td>\n",
       "    </tr>\n",
       "    <tr>\n",
       "      <th>18</th>\n",
       "      <td>18</td>\n",
       "      <td>27</td>\n",
       "      <td>18_or_ai_the_of</td>\n",
       "      <td>[or, ai, the, of, of ai, on, person, ai system...</td>\n",
       "      <td>[d  the placing on the market the putting into...</td>\n",
       "    </tr>\n",
       "    <tr>\n",
       "      <th>19</th>\n",
       "      <td>19</td>\n",
       "      <td>27</td>\n",
       "      <td>19_highrisk_in_highrisk ai_the</td>\n",
       "      <td>[highrisk, in, highrisk ai, the, to in, referr...</td>\n",
       "      <td>[For highrisk AI systems referred to in points...</td>\n",
       "    </tr>\n",
       "    <tr>\n",
       "      <th>20</th>\n",
       "      <td>20</td>\n",
       "      <td>27</td>\n",
       "      <td>20_article_delegated_delegated acts_adopt dele...</td>\n",
       "      <td>[article, delegated, delegated acts, adopt del...</td>\n",
       "      <td>[The Commission is empowered to adopt delegate...</td>\n",
       "    </tr>\n",
       "    <tr>\n",
       "      <th>21</th>\n",
       "      <td>21</td>\n",
       "      <td>26</td>\n",
       "      <td>21_the_commission_the commission_ai</td>\n",
       "      <td>[the, commission, the commission, ai, of, and,...</td>\n",
       "      <td>[Where the Commission considers the measure ta...</td>\n",
       "    </tr>\n",
       "    <tr>\n",
       "      <th>22</th>\n",
       "      <td>22</td>\n",
       "      <td>26</td>\n",
       "      <td>22_system_ai system_an ai system_an</td>\n",
       "      <td>[system, ai system, an ai system, an, an ai, d...</td>\n",
       "      <td>[performance of an AI system  means the abilit...</td>\n",
       "    </tr>\n",
       "    <tr>\n",
       "      <th>23</th>\n",
       "      <td>23</td>\n",
       "      <td>21</td>\n",
       "      <td>23_financial_documentation_quality_financial s...</td>\n",
       "      <td>[financial, documentation, quality, financial ...</td>\n",
       "      <td>[Deployers that are financial institutions sub...</td>\n",
       "    </tr>\n",
       "    <tr>\n",
       "      <th>24</th>\n",
       "      <td>24</td>\n",
       "      <td>21</td>\n",
       "      <td>24_highrisk_highrisk ai_the highrisk ai_the hi...</td>\n",
       "      <td>[highrisk, highrisk ai, the highrisk ai, the h...</td>\n",
       "      <td>[a  the identification and analysis of the kno...</td>\n",
       "    </tr>\n",
       "    <tr>\n",
       "      <th>25</th>\n",
       "      <td>25</td>\n",
       "      <td>19</td>\n",
       "      <td>25_marking_ce marking_ce_standardisation</td>\n",
       "      <td>[marking, ce marking, ce, standardisation, the...</td>\n",
       "      <td>[Where applicable the CE marking shall be foll...</td>\n",
       "    </tr>\n",
       "    <tr>\n",
       "      <th>26</th>\n",
       "      <td>26</td>\n",
       "      <td>19</td>\n",
       "      <td>26_harmonised_harmonised standards_standards_e...</td>\n",
       "      <td>[harmonised, harmonised standards, standards, ...</td>\n",
       "      <td>[Where a conformity assessment body demonstrat...</td>\n",
       "    </tr>\n",
       "    <tr>\n",
       "      <th>27</th>\n",
       "      <td>27</td>\n",
       "      <td>15</td>\n",
       "      <td>27_member_shall_the_member states</td>\n",
       "      <td>[member, shall, the, member states, states, th...</td>\n",
       "      <td>[By  November  each Member State shall identif...</td>\n",
       "    </tr>\n",
       "    <tr>\n",
       "      <th>28</th>\n",
       "      <td>28</td>\n",
       "      <td>15</td>\n",
       "      <td>28_certificates_notified body_suspension_the</td>\n",
       "      <td>[certificates, notified body, suspension, the,...</td>\n",
       "      <td>[a  the notifying authority has confirmed with...</td>\n",
       "    </tr>\n",
       "    <tr>\n",
       "      <th>29</th>\n",
       "      <td>29</td>\n",
       "      <td>15</td>\n",
       "      <td>29_or_content_ai_the</td>\n",
       "      <td>[or, content, ai, the, that, of, ai system, sh...</td>\n",
       "      <td>[Deployers of an AI system that generates or m...</td>\n",
       "    </tr>\n",
       "    <tr>\n",
       "      <th>30</th>\n",
       "      <td>30</td>\n",
       "      <td>14</td>\n",
       "      <td>30_postmarket monitoring_postmarket_monitoring...</td>\n",
       "      <td>[postmarket monitoring, postmarket, monitoring...</td>\n",
       "      <td>[The postmarket monitoring system shall active...</td>\n",
       "    </tr>\n",
       "    <tr>\n",
       "      <th>31</th>\n",
       "      <td>31</td>\n",
       "      <td>10</td>\n",
       "      <td>31_incident_serious_serious incident_the serious</td>\n",
       "      <td>[incident, serious, serious incident, the seri...</td>\n",
       "      <td>[Notwithstanding paragraph  of this Article in...</td>\n",
       "    </tr>\n",
       "    <tr>\n",
       "      <th>32</th>\n",
       "      <td>32</td>\n",
       "      <td>10</td>\n",
       "      <td>32_logs_highrisk ai_highrisk_the logs</td>\n",
       "      <td>[logs, highrisk ai, highrisk, the logs, automa...</td>\n",
       "      <td>[c  provide a competent authority upon a reaso...</td>\n",
       "    </tr>\n",
       "  </tbody>\n",
       "</table>\n",
       "</div>"
      ],
      "text/plain": [
       "    Topic  Count                                               Name  \\\n",
       "0       0     56                  0_notified_bodies_body_assessment   \n",
       "1       1     52      1_surveillance_market surveillance_the_market   \n",
       "2       2     49             2_regulatory_and_ai regulatory_sandbox   \n",
       "3       3     48               3_the_of_implementing_advisory forum   \n",
       "4       4     46                      4_in_highrisk ai_the_highrisk   \n",
       "5       5     46  5_generalpurpose ai_generalpurpose_model_systemic   \n",
       "6       6     45                      6_highrisk ai_highrisk_ai_and   \n",
       "7       7     43     7_system_ai system_highrisk_highrisk ai system   \n",
       "8       8     42               8_the_authorised_mandate_the mandate   \n",
       "9       9     40                                   9_or_of_harm_the   \n",
       "10     10     34     10_market_market surveillance_surveillance_the   \n",
       "11     11     33    11_data_personal data_personal_of personal data   \n",
       "12     12     33     12_infringement_the_data protection_protection   \n",
       "13     13     30             13_regulation_this regulation_apply_or   \n",
       "14     14     30           14_regulation_this_this regulation_union   \n",
       "15     15     29              15_the_the ai office_ai office_office   \n",
       "16     16     29        16_testing_testing in_conditions_real world   \n",
       "17     17     28  17_biometric_identification_biometric identifi...   \n",
       "18     18     27                                    18_or_ai_the_of   \n",
       "19     19     27                     19_highrisk_in_highrisk ai_the   \n",
       "20     20     27  20_article_delegated_delegated acts_adopt dele...   \n",
       "21     21     26                21_the_commission_the commission_ai   \n",
       "22     22     26                22_system_ai system_an ai system_an   \n",
       "23     23     21  23_financial_documentation_quality_financial s...   \n",
       "24     24     21  24_highrisk_highrisk ai_the highrisk ai_the hi...   \n",
       "25     25     19           25_marking_ce marking_ce_standardisation   \n",
       "26     26     19  26_harmonised_harmonised standards_standards_e...   \n",
       "27     27     15                  27_member_shall_the_member states   \n",
       "28     28     15       28_certificates_notified body_suspension_the   \n",
       "29     29     15                               29_or_content_ai_the   \n",
       "30     30     14  30_postmarket monitoring_postmarket_monitoring...   \n",
       "31     31     10   31_incident_serious_serious incident_the serious   \n",
       "32     32     10              32_logs_highrisk ai_highrisk_the logs   \n",
       "\n",
       "                                       Representation  \\\n",
       "0   [notified, bodies, body, assessment, the, noti...   \n",
       "1   [surveillance, market surveillance, the, marke...   \n",
       "2   [regulatory, and, ai regulatory, sandbox, sand...   \n",
       "3   [the, of, implementing, advisory forum, adviso...   \n",
       "4   [in, highrisk ai, the, highrisk, conformity, o...   \n",
       "5   [generalpurpose ai, generalpurpose, model, sys...   \n",
       "6   [highrisk ai, highrisk, ai, and, be, highrisk ...   \n",
       "7   [system, ai system, highrisk, highrisk ai syst...   \n",
       "8   [the, authorised, mandate, the mandate, to, au...   \n",
       "9   [or, of, harm, the, persons, safety, to, and, ...   \n",
       "10  [market, market surveillance, surveillance, th...   \n",
       "11  [data, personal data, personal, of personal da...   \n",
       "12  [infringement, the, data protection, protectio...   \n",
       "13  [regulation, this regulation, apply, or, ai, t...   \n",
       "14  [regulation, this, this regulation, union, of,...   \n",
       "15  [the, the ai office, ai office, office, panel,...   \n",
       "16  [testing, testing in, conditions, real world, ...   \n",
       "17  [biometric, identification, biometric identifi...   \n",
       "18  [or, ai, the, of, of ai, on, person, ai system...   \n",
       "19  [highrisk, in, highrisk ai, the, to in, referr...   \n",
       "20  [article, delegated, delegated acts, adopt del...   \n",
       "21  [the, commission, the commission, ai, of, and,...   \n",
       "22  [system, ai system, an ai system, an, an ai, d...   \n",
       "23  [financial, documentation, quality, financial ...   \n",
       "24  [highrisk, highrisk ai, the highrisk ai, the h...   \n",
       "25  [marking, ce marking, ce, standardisation, the...   \n",
       "26  [harmonised, harmonised standards, standards, ...   \n",
       "27  [member, shall, the, member states, states, th...   \n",
       "28  [certificates, notified body, suspension, the,...   \n",
       "29  [or, content, ai, the, that, of, ai system, sh...   \n",
       "30  [postmarket monitoring, postmarket, monitoring...   \n",
       "31  [incident, serious, serious incident, the seri...   \n",
       "32  [logs, highrisk ai, highrisk, the logs, automa...   \n",
       "\n",
       "                                  Representative_Docs  \n",
       "0   [The application for notification shall be acc...  \n",
       "1   [Any information or documentation obtained pur...  \n",
       "2   [Providers and prospective providers participa...  \n",
       "3   [The Commission shall adopt implementing acts ...  \n",
       "4   [For highrisk AI systems listed in point  of A...  \n",
       "5   [The obligation set out in this Article shall ...  \n",
       "6   [Providers of highrisk AI systems shall, The t...  \n",
       "7   [Where the circumstances referred to in paragr...  \n",
       "8   [The authorised representative shall terminate...  \n",
       "9   [a  the nature gravity and duration of the inf...  \n",
       "10  [Where the market surveillance authority of a ...  \n",
       "11  [f  any processing of personal data in the con...  \n",
       "12  [The European Data Protection Supervisor may i...  \n",
       "13  [This Regulation does not apply to AI systems ...  \n",
       "14  [The data listed in Section C of Annex VIII sh...  \n",
       "15  [The AI Office and the Board shall aim to ensu...  \n",
       "16  [Providers or prospective providers shall noti...  \n",
       "17  [For the purposes of paragraph  first subparag...  \n",
       "18  [d  the placing on the market the putting into...  \n",
       "19  [For highrisk AI systems referred to in points...  \n",
       "20  [The Commission is empowered to adopt delegate...  \n",
       "21  [Where the Commission considers the measure ta...  \n",
       "22  [performance of an AI system  means the abilit...  \n",
       "23  [Deployers that are financial institutions sub...  \n",
       "24  [a  the identification and analysis of the kno...  \n",
       "25  [Where applicable the CE marking shall be foll...  \n",
       "26  [Where a conformity assessment body demonstrat...  \n",
       "27  [By  November  each Member State shall identif...  \n",
       "28  [a  the notifying authority has confirmed with...  \n",
       "29  [Deployers of an AI system that generates or m...  \n",
       "30  [The postmarket monitoring system shall active...  \n",
       "31  [Notwithstanding paragraph  of this Article in...  \n",
       "32  [c  provide a competent authority upon a reaso...  "
      ]
     },
     "execution_count": 50,
     "metadata": {},
     "output_type": "execute_result"
    }
   ],
   "source": [
    "# Get the list of topics\n",
    "# Topic = the topic number. From the largest topic.\n",
    "#         \"-1\" is the generic topic. Genericr keywords are aggegrated here.\n",
    "# Count = Documents assigned to this topic\n",
    "# Name = Top 4 words of the topic based on probability\n",
    "# Representation = The list of words representing this topic\n",
    "# Representative_Docs = Documents assigned to this topic\n",
    "tm_summary = topic_model.get_topic_info()\n",
    "tm_summary"
   ]
  },
  {
   "cell_type": "code",
   "execution_count": 51,
   "metadata": {
    "id": "k9mN1tgZQupy"
   },
   "outputs": [],
   "source": [
    "# Save the topic model assets\n",
    "tm_folder_path = f'{ROOT_FOLDER_PATH}/{project_folder}/{settings[\"metadata\"][\"analysis_id\"]}'\n",
    "\n",
    "if not os.path.exists(tm_folder_path):\n",
    "  !mkdir $tm_folder_path\n",
    "\n",
    "tm_summary.to_csv(f'{tm_folder_path}/topic_model_info.csv', index=False)"
   ]
  },
  {
   "cell_type": "code",
   "execution_count": 52,
   "metadata": {
    "colab": {
     "base_uri": "https://localhost:8080/"
    },
    "id": "WuE0vkbp3fVL",
    "outputId": "aa8ebf45-cdd3-4161-9ac4-1343c91f47da"
   },
   "outputs": [
    {
     "data": {
      "text/plain": [
       "33"
      ]
     },
     "execution_count": 52,
     "metadata": {},
     "output_type": "execute_result"
    }
   ],
   "source": [
    "# Number of topics found\n",
    "found_topics = max(tm_summary.Topic) + 1\n",
    "found_topics"
   ]
  },
  {
   "cell_type": "code",
   "execution_count": 53,
   "metadata": {
    "colab": {
     "base_uri": "https://localhost:8080/"
    },
    "id": "KjKUcNMdwFHQ",
    "outputId": "b3549b7c-4c8a-4b82-8d87-6a46774e4694"
   },
   "outputs": [
    {
     "data": {
      "text/plain": [
       "True"
      ]
     },
     "execution_count": 53,
     "metadata": {},
     "output_type": "execute_result"
    }
   ],
   "source": [
    "# Confirm all documents are assigned\n",
    "sum(tm_summary.Count) == len(corpus)"
   ]
  },
  {
   "cell_type": "code",
   "execution_count": 54,
   "metadata": {
    "colab": {
     "base_uri": "https://localhost:8080/"
    },
    "id": "bGyoQT47xY_R",
    "outputId": "9affafe5-0ff7-4edf-d9f6-3d7a7eda04eb"
   },
   "outputs": [
    {
     "data": {
      "text/plain": [
       "[('notified', 0.032036358490834596),\n",
       " ('bodies', 0.02526655292427158),\n",
       " ('body', 0.022397913594335433),\n",
       " ('assessment', 0.02216894545082621),\n",
       " ('the', 0.021465507378238907),\n",
       " ('notified bodies', 0.019816530451538063),\n",
       " ('conformity assessment', 0.01948399065131862),\n",
       " ('notifying', 0.019097576037989415),\n",
       " ('conformity', 0.01742241433756636),\n",
       " ('shall', 0.016331490646483867)]"
      ]
     },
     "execution_count": 54,
     "metadata": {},
     "output_type": "execute_result"
    }
   ],
   "source": [
    "# Get top 10 terms for a topic\n",
    "topic_model.get_topic(0)"
   ]
  },
  {
   "cell_type": "code",
   "execution_count": 55,
   "metadata": {
    "colab": {
     "base_uri": "https://localhost:8080/"
    },
    "id": "PU99D2xhxoOY",
    "outputId": "4e90e928-9bbf-40c3-c3b5-a1a50abe82f0"
   },
   "outputs": [
    {
     "data": {
      "text/plain": [
       "['The application for notification shall be accompanied by a description of the conformity assessment activities the conformity assessment module or modules and the types of AI systems for which the conformity assessment body claims to be competent as well as by an accreditation certificate where one exists issued by a national accreditation body attesting that the conformity assessment body fulfils the requirements laid down in Article',\n",
       " 'Where a notifying authority has sufficient reason to consider that a notified body no longer meets the requirements laid down in Article  or that it is failing to fulfil its obligations the notifying authority shall without delay investigate the matter with the utmost diligence In that context it shall inform the notified body concerned about the objections raised and give it the possibility to make its views known If the notifying authority comes to the conclusion that the notified body no longer meets the requirements laid down in Article  or that it is failing to fulfil its obligations it shall restrict suspend or withdraw the designation as appropriate depending on the seriousness of the failure to meet those requirements or fulfil those obligations It shall immediately inform the Commission and the other Member States accordingly',\n",
       " 'The notification referred to in paragraph  of this Article shall include full details of the conformity assessment activities the conformity assessment module or modules the types of AI systems concerned and the relevant attestation of competence Where a notification is not based on an accreditation certificate as referred to in Article  the notifying authority shall provide the Commission and the other Member States with documentary evidence which attests to the competence of the conformity assessment body and to the arrangements in place to ensure that that body will be monitored regularly and will continue to satisfy the requirements laid down in Article']"
      ]
     },
     "execution_count": 55,
     "metadata": {},
     "output_type": "execute_result"
    }
   ],
   "source": [
    "# Get the top 10 documents for a topic\n",
    "topic_model.get_representative_docs(0)"
   ]
  },
  {
   "cell_type": "code",
   "execution_count": 56,
   "metadata": {
    "id": "1CgYkbHN9I2T"
   },
   "outputs": [],
   "source": [
    "# Others\n",
    "\n",
    "# # Get the number of documents per topic (same as in the table above)\n",
    "# topic_model.get_topic_freq(0)\n",
    "\n",
    "# # Get the main keywords per topic\n",
    "# topic_model.get_topics()"
   ]
  },
  {
   "cell_type": "code",
   "execution_count": 57,
   "metadata": {
    "colab": {
     "base_uri": "https://localhost:8080/"
    },
    "id": "JQKxUqHN9RT7",
    "outputId": "c572d73b-fc91-4c84-dc79-8f047b046aa2"
   },
   "outputs": [
    {
     "data": {
      "text/plain": [
       "{'calculate_probabilities': True,\n",
       " 'ctfidf_model': ClassTfidfTransformer(),\n",
       " 'embedding_model': None,\n",
       " 'hdbscan_model': KMeans(n_clusters=33),\n",
       " 'language': 'english',\n",
       " 'low_memory': False,\n",
       " 'min_topic_size': 10,\n",
       " 'n_gram_range': (1, 3),\n",
       " 'nr_topics': None,\n",
       " 'representation_model': None,\n",
       " 'seed_topic_list': None,\n",
       " 'top_n_words': 10,\n",
       " 'umap_model': UMAP(angular_rp_forest=True, metric='cosine', min_dist=0.0, n_components=5, n_jobs=1, random_state=100, tqdm_kwds={'bar_format': '{desc}: {percentage:3.0f}%| {bar} {n_fmt}/{total_fmt} [{elapsed}]', 'desc': 'Epochs completed', 'disable': True}),\n",
       " 'vectorizer_model': CountVectorizer(ngram_range=(1, 3)),\n",
       " 'verbose': True,\n",
       " 'zeroshot_min_similarity': 0.7,\n",
       " 'zeroshot_topic_list': None}"
      ]
     },
     "execution_count": 57,
     "metadata": {},
     "output_type": "execute_result"
    }
   ],
   "source": [
    "# Print the parameters used. (For reporting)\n",
    "topic_model.get_params()"
   ]
  },
  {
   "cell_type": "code",
   "execution_count": 58,
   "metadata": {
    "colab": {
     "base_uri": "https://localhost:8080/"
    },
    "id": "G8hwSK98RM9-",
    "outputId": "07a40193-c69a-4356-b1b0-ac721ef78c08"
   },
   "outputs": [
    {
     "name": "stdout",
     "output_type": "stream",
     "text": [
      "Done\n"
     ]
    }
   ],
   "source": [
    "tm_params = dict(topic_model.get_params())\n",
    "for key, value in tm_params.items():\n",
    "    tm_params[key]=  str(value)\n",
    "with open(f'{tm_folder_path}/topic_model_params.json', 'w') as f:\n",
    "    json.dump(tm_params, f, ensure_ascii=False, indent=4)\n",
    "    print('Done')"
   ]
  },
  {
   "cell_type": "code",
   "execution_count": 59,
   "metadata": {
    "colab": {
     "base_uri": "https://localhost:8080/"
    },
    "id": "5v4Wvn3ZAkZP",
    "outputId": "ea347717-a33e-40ad-ad2d-51798cbc5b5f"
   },
   "outputs": [
    {
     "name": "stderr",
     "output_type": "stream",
     "text": [
      "100%|██████████| 2/2 [00:00<00:00,  9.62it/s]\n"
     ]
    }
   ],
   "source": [
    "# Get the topic score for each paper and its assigned topic\n",
    "topic_distr, _ = topic_model.approximate_distribution(documents, batch_size=1000)\n",
    "distributions = [distr[topic] if topic != -1 else 0 for topic, distr in zip(topics, topic_distr)]"
   ]
  },
  {
   "cell_type": "code",
   "execution_count": 60,
   "metadata": {
    "colab": {
     "base_uri": "https://localhost:8080/"
    },
    "id": "6OTw5go4yVvM",
    "outputId": "7dfa090e-776f-4922-d611-325b1510ccab"
   },
   "outputs": [
    {
     "data": {
      "text/plain": [
       "array([[0.        , 0.02962026, 0.        , ..., 0.        , 0.        ,\n",
       "        0.        ],\n",
       "       [0.        , 0.        , 0.        , ..., 0.        , 0.        ,\n",
       "        0.        ],\n",
       "       [0.        , 0.        , 0.        , ..., 0.0179666 , 0.        ,\n",
       "        0.        ],\n",
       "       ...,\n",
       "       [0.        , 0.23717634, 0.        , ..., 0.        , 0.        ,\n",
       "        0.        ],\n",
       "       [0.        , 0.        , 0.        , ..., 0.        , 0.        ,\n",
       "        0.        ],\n",
       "       [0.01578444, 0.09248167, 0.        , ..., 0.03457878, 0.01226191,\n",
       "        0.01897028]])"
      ]
     },
     "execution_count": 60,
     "metadata": {},
     "output_type": "execute_result"
    }
   ],
   "source": [
    "topic_distr"
   ]
  },
  {
   "cell_type": "code",
   "execution_count": 61,
   "metadata": {
    "colab": {
     "base_uri": "https://localhost:8080/",
     "height": 591
    },
    "id": "I7E0_6bv9hBp",
    "outputId": "06faea2f-1c00-4ca7-958b-4dd2dcb10c36"
   },
   "outputs": [
    {
     "data": {
      "text/html": [
       "<div>\n",
       "<style scoped>\n",
       "    .dataframe tbody tr th:only-of-type {\n",
       "        vertical-align: middle;\n",
       "    }\n",
       "\n",
       "    .dataframe tbody tr th {\n",
       "        vertical-align: top;\n",
       "    }\n",
       "\n",
       "    .dataframe thead th {\n",
       "        text-align: right;\n",
       "    }\n",
       "</style>\n",
       "<table border=\"1\" class=\"dataframe\">\n",
       "  <thead>\n",
       "    <tr style=\"text-align: right;\">\n",
       "      <th></th>\n",
       "      <th>UT</th>\n",
       "      <th>Document</th>\n",
       "      <th>Topic</th>\n",
       "      <th>Name</th>\n",
       "      <th>Representation</th>\n",
       "      <th>Representative_Docs</th>\n",
       "      <th>Top_n_words</th>\n",
       "      <th>Representative_document</th>\n",
       "      <th>Score</th>\n",
       "      <th>X_E</th>\n",
       "      <th>X_C</th>\n",
       "      <th>level0</th>\n",
       "      <th>cl99</th>\n",
       "      <th>cl-99</th>\n",
       "    </tr>\n",
       "  </thead>\n",
       "  <tbody>\n",
       "    <tr>\n",
       "      <th>0</th>\n",
       "      <td>id29929.7285477815</td>\n",
       "      <td>The purpose of this Regulation is to improve t...</td>\n",
       "      <td>9</td>\n",
       "      <td>9_or_of_harm_the</td>\n",
       "      <td>[or, of, harm, the, persons, safety, to, and, ...</td>\n",
       "      <td>[a  the nature gravity and duration of the inf...</td>\n",
       "      <td>or - of - harm - the - persons - safety - to -...</td>\n",
       "      <td>False</td>\n",
       "      <td>0.101295</td>\n",
       "      <td>0.101295</td>\n",
       "      <td>10</td>\n",
       "      <td>10</td>\n",
       "      <td>False</td>\n",
       "      <td>False</td>\n",
       "    </tr>\n",
       "    <tr>\n",
       "      <th>1</th>\n",
       "      <td>id372869.530597917</td>\n",
       "      <td>This Regulation lays down</td>\n",
       "      <td>14</td>\n",
       "      <td>14_regulation_this_this regulation_union</td>\n",
       "      <td>[regulation, this, this regulation, union, of,...</td>\n",
       "      <td>[The data listed in Section C of Annex VIII sh...</td>\n",
       "      <td>regulation - this - this regulation - union - ...</td>\n",
       "      <td>False</td>\n",
       "      <td>1.000000</td>\n",
       "      <td>1.000000</td>\n",
       "      <td>15</td>\n",
       "      <td>15</td>\n",
       "      <td>False</td>\n",
       "      <td>False</td>\n",
       "    </tr>\n",
       "    <tr>\n",
       "      <th>2</th>\n",
       "      <td>id692898.300406581</td>\n",
       "      <td>a  harmonised rules for the placing on the mar...</td>\n",
       "      <td>18</td>\n",
       "      <td>18_or_ai_the_of</td>\n",
       "      <td>[or, ai, the, of, of ai, on, person, ai system...</td>\n",
       "      <td>[d  the placing on the market the putting into...</td>\n",
       "      <td>or - ai - the - of - of ai - on - person - ai ...</td>\n",
       "      <td>False</td>\n",
       "      <td>0.543130</td>\n",
       "      <td>0.543130</td>\n",
       "      <td>19</td>\n",
       "      <td>19</td>\n",
       "      <td>False</td>\n",
       "      <td>False</td>\n",
       "    </tr>\n",
       "    <tr>\n",
       "      <th>3</th>\n",
       "      <td>id970016.957203564</td>\n",
       "      <td>b  prohibitions of certain AI practices</td>\n",
       "      <td>13</td>\n",
       "      <td>13_regulation_this regulation_apply_or</td>\n",
       "      <td>[regulation, this regulation, apply, or, ai, t...</td>\n",
       "      <td>[This Regulation does not apply to AI systems ...</td>\n",
       "      <td>regulation - this regulation - apply - or - ai...</td>\n",
       "      <td>False</td>\n",
       "      <td>0.000000</td>\n",
       "      <td>0.000000</td>\n",
       "      <td>14</td>\n",
       "      <td>14</td>\n",
       "      <td>False</td>\n",
       "      <td>False</td>\n",
       "    </tr>\n",
       "    <tr>\n",
       "      <th>4</th>\n",
       "      <td>id872031.626035799</td>\n",
       "      <td>c  specific requirements for highrisk AI syste...</td>\n",
       "      <td>6</td>\n",
       "      <td>6_highrisk ai_highrisk_ai_and</td>\n",
       "      <td>[highrisk ai, highrisk, ai, and, be, highrisk ...</td>\n",
       "      <td>[Providers of highrisk AI systems shall, The t...</td>\n",
       "      <td>highrisk ai - highrisk - ai - and - be - highr...</td>\n",
       "      <td>False</td>\n",
       "      <td>0.250876</td>\n",
       "      <td>0.250876</td>\n",
       "      <td>7</td>\n",
       "      <td>7</td>\n",
       "      <td>False</td>\n",
       "      <td>False</td>\n",
       "    </tr>\n",
       "  </tbody>\n",
       "</table>\n",
       "</div>"
      ],
      "text/plain": [
       "                   UT                                           Document  \\\n",
       "0  id29929.7285477815  The purpose of this Regulation is to improve t...   \n",
       "1  id372869.530597917                          This Regulation lays down   \n",
       "2  id692898.300406581  a  harmonised rules for the placing on the mar...   \n",
       "3  id970016.957203564            b  prohibitions of certain AI practices   \n",
       "4  id872031.626035799  c  specific requirements for highrisk AI syste...   \n",
       "\n",
       "   Topic                                      Name  \\\n",
       "0      9                          9_or_of_harm_the   \n",
       "1     14  14_regulation_this_this regulation_union   \n",
       "2     18                           18_or_ai_the_of   \n",
       "3     13    13_regulation_this regulation_apply_or   \n",
       "4      6             6_highrisk ai_highrisk_ai_and   \n",
       "\n",
       "                                      Representation  \\\n",
       "0  [or, of, harm, the, persons, safety, to, and, ...   \n",
       "1  [regulation, this, this regulation, union, of,...   \n",
       "2  [or, ai, the, of, of ai, on, person, ai system...   \n",
       "3  [regulation, this regulation, apply, or, ai, t...   \n",
       "4  [highrisk ai, highrisk, ai, and, be, highrisk ...   \n",
       "\n",
       "                                 Representative_Docs  \\\n",
       "0  [a  the nature gravity and duration of the inf...   \n",
       "1  [The data listed in Section C of Annex VIII sh...   \n",
       "2  [d  the placing on the market the putting into...   \n",
       "3  [This Regulation does not apply to AI systems ...   \n",
       "4  [Providers of highrisk AI systems shall, The t...   \n",
       "\n",
       "                                         Top_n_words  Representative_document  \\\n",
       "0  or - of - harm - the - persons - safety - to -...                    False   \n",
       "1  regulation - this - this regulation - union - ...                    False   \n",
       "2  or - ai - the - of - of ai - on - person - ai ...                    False   \n",
       "3  regulation - this regulation - apply - or - ai...                    False   \n",
       "4  highrisk ai - highrisk - ai - and - be - highr...                    False   \n",
       "\n",
       "      Score       X_E  X_C  level0   cl99  cl-99  \n",
       "0  0.101295  0.101295   10      10  False  False  \n",
       "1  1.000000  1.000000   15      15  False  False  \n",
       "2  0.543130  0.543130   19      19  False  False  \n",
       "3  0.000000  0.000000   14      14  False  False  \n",
       "4  0.250876  0.250876    7       7  False  False  "
      ]
     },
     "execution_count": 61,
     "metadata": {},
     "output_type": "execute_result"
    }
   ],
   "source": [
    "# Document information. Including the topic assignation\n",
    "dataset_clustering_results = topic_model.get_document_info(documents, df = corpus, metadata={\"Score\": distributions})\n",
    "\n",
    "# Standar format for report analysis\n",
    "dataset_clustering_results = dataset_clustering_results.drop(columns=['text'])\n",
    "dataset_clustering_results['X_E'] = dataset_clustering_results['Score']\n",
    "dataset_clustering_results['X_C'] = dataset_clustering_results['Topic'] + 1\n",
    "dataset_clustering_results['level0'] = dataset_clustering_results['Topic'] + 1\n",
    "dataset_clustering_results['cl99'] = False\n",
    "dataset_clustering_results['cl-99'] = False\n",
    "dataset_clustering_results.head()"
   ]
  },
  {
   "cell_type": "code",
   "execution_count": 62,
   "metadata": {
    "id": "eyQDhrjyc6Oh"
   },
   "outputs": [],
   "source": [
    "# Save the dataframe\n",
    "dataset_clustering_results.to_csv(f'{tm_folder_path}/dataset_minimal.csv', index=False)"
   ]
  },
  {
   "cell_type": "code",
   "execution_count": 63,
   "metadata": {
    "colab": {
     "base_uri": "https://localhost:8080/"
    },
    "id": "1RYcsXanZvrr",
    "outputId": "d625d86f-5897-4d75-8b32-54f2dd258ad3"
   },
   "outputs": [
    {
     "name": "stderr",
     "output_type": "stream",
     "text": [
      "2025-01-30 17:08:54,244 - BERTopic - WARNING: When you use `pickle` to save/load a BERTopic model,please make sure that the environments in which you saveand load the model are **exactly** the same. The version of BERTopic,its dependencies, and python need to remain the same.\n"
     ]
    }
   ],
   "source": [
    "# Save the topic model\n",
    "topic_model.save(f'{tm_folder_path}/topic_model_object.pck')"
   ]
  },
  {
   "cell_type": "markdown",
   "metadata": {
    "id": "SX1EBSOY3Pz1"
   },
   "source": [
    "\n",
    "\n",
    "---\n",
    "\n"
   ]
  }
 ],
 "metadata": {
  "colab": {
   "authorship_tag": "ABX9TyM4oE6dpT6UwjIg42kzzsWo",
   "include_colab_link": true,
   "provenance": [],
   "toc_visible": true
  },
  "kernelspec": {
   "display_name": "env-tm",
   "language": "python",
   "name": "python3"
  },
  "language_info": {
   "codemirror_mode": {
    "name": "ipython",
    "version": 3
   },
   "file_extension": ".py",
   "mimetype": "text/x-python",
   "name": "python",
   "nbconvert_exporter": "python",
   "pygments_lexer": "ipython3",
   "version": "3.11.7"
  }
 },
 "nbformat": 4,
 "nbformat_minor": 0
}
