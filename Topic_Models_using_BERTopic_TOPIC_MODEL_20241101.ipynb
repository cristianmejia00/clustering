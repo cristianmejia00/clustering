{
 "cells": [
  {
   "cell_type": "markdown",
   "metadata": {
    "colab_type": "text",
    "id": "view-in-github"
   },
   "source": [
    "<a href=\"https://colab.research.google.com/github/cristianmejia00/clustering/blob/main/Topic_Models_using_BERTopic_TOPIC_MODEL_20241101.ipynb\" target=\"_parent\"><img src=\"https://colab.research.google.com/assets/colab-badge.svg\" alt=\"Open In Colab\"/></a>"
   ]
  },
  {
   "cell_type": "markdown",
   "metadata": {
    "id": "Zj3lYckpO2Yn"
   },
   "source": [
    "# Topic Modeling with BERTopic\n",
    "\n",
    "🔴 copied from the [Kubota Colab](https://colab.research.google.com/drive/1YsDp5_qGXGJKsEXsS8DO8CA_lqZc6EpA).  \n",
    "\n",
    "`Topic Models` are methods to automatically organize a corpus of text into topics.\n",
    "\n",
    "Topic Model process:\n",
    "1. Data preparation\n",
    "2. Tranform text to numeric vectors\n",
    "3. Multidimensionality reduction\n",
    "4. Clustering\n",
    "5. Topic analysis\n",
    "6. Cluster assignation\n",
    "\n",
    "\n",
    "This notebook uses the library `BERTopic` which is a one-stop solution for topic modeling including handy functions for plotting and analysis. However, BERTopic does not have a function to extract the X and Y coords from UMAP. If we need the coordinates then use the notebooks `Topic_Models_using_Transformers` instead. In any other situation, when a quick analysis is needed this notebook may be better.\n",
    "\n",
    "This notebook is also the one needed for the heatmap codes included in this folder.\n",
    "\n",
    "`BERTopic` is Python library that handles steps 2 to 6.\n",
    "BERT topic models use the transformer architechture to generate the embeds (i.e. the vector or numeric representation of words) and are currently the state-of-the-art method for vectorization.\n",
    "\n",
    "This notebook shows how to use it.\n",
    "\n",
    "---\n",
    "Reading:\n",
    "[Topic Modeling with Deep Learning Using Python BERTopic](https://medium.com/grabngoinfo/topic-modeling-with-deep-learning-using-python-bertopic-cf91f5676504)\n",
    "[Advanced Topic Modeling with BERTopic](https://www.pinecone.io/learn/bertopic/)\n"
   ]
  },
  {
   "cell_type": "markdown",
   "metadata": {
    "id": "WlufmOowbHSF"
   },
   "source": [
    "# Requirements"
   ]
  },
  {
   "cell_type": "markdown",
   "metadata": {
    "id": "kFQU-BC5ReYd"
   },
   "source": [
    "## Packages installation and initialization"
   ]
  },
  {
   "cell_type": "code",
   "execution_count": 2,
   "metadata": {
    "colab": {
     "base_uri": "https://localhost:8080/"
    },
    "collapsed": true,
    "id": "ckx8hOIyRZvv",
    "outputId": "20e7642f-824b-4ba1-86cc-5a97c89670c5"
   },
   "outputs": [
    {
     "name": "stdout",
     "output_type": "stream",
     "text": [
      "zsh:1: no matches found: bertopic[visualization]\n"
     ]
    }
   ],
   "source": [
    "!pip install bertopic[visualization]"
   ]
  },
  {
   "cell_type": "code",
   "execution_count": 1,
   "metadata": {
    "id": "gMlZ_7DkOxGG"
   },
   "outputs": [
    {
     "name": "stderr",
     "output_type": "stream",
     "text": [
      "/Users/cristian/Desktop/GitHub/clustering/env-tm/lib/python3.11/site-packages/tqdm/auto.py:21: TqdmWarning: IProgress not found. Please update jupyter and ipywidgets. See https://ipywidgets.readthedocs.io/en/stable/user_install.html\n",
      "  from .autonotebook import tqdm as notebook_tqdm\n"
     ]
    }
   ],
   "source": [
    "import pandas as pd\n",
    "import numpy as np\n",
    "import time\n",
    "import math\n",
    "import uuid\n",
    "import re\n",
    "import os\n",
    "import json\n",
    "import pickle\n",
    "from datetime import date\n",
    "from itertools import compress\n",
    "from bertopic import BERTopic\n",
    "from umap import UMAP\n",
    "from gensim.parsing.preprocessing import remove_stopwords\n",
    "from sklearn.cluster import KMeans\n",
    "from sentence_transformers import SentenceTransformer"
   ]
  },
  {
   "cell_type": "markdown",
   "metadata": {
    "id": "SZ1BccaqRtS0"
   },
   "source": [
    "## Connect your Google Drive"
   ]
  },
  {
   "cell_type": "code",
   "execution_count": 64,
   "metadata": {
    "colab": {
     "base_uri": "https://localhost:8080/"
    },
    "id": "6os5BGPFRxfX",
    "outputId": "41e02c25-1dc9-426e-f441-874fc600fc70"
   },
   "outputs": [],
   "source": [
    "# from google.colab import drive\n",
    "# drive.mount('/content/drive')"
   ]
  },
  {
   "cell_type": "code",
   "execution_count": 2,
   "metadata": {
    "id": "f2p9sY7sUYkU"
   },
   "outputs": [],
   "source": [
    "def find_e_keys(dictionary):\n",
    "    # List comprehension to find keys starting with 'e'\n",
    "    e_keys = [key for key in dictionary if str(key).lower().startswith('e')]\n",
    "    return e_keys"
   ]
  },
  {
   "cell_type": "markdown",
   "metadata": {
    "id": "dDm5-r5oR98q"
   },
   "source": [
    "# 🔴 Input files and options\n",
    "\n",
    "Go to your Google Drive and create a folder in the root directory. We are going to save all related data in that directory.\n",
    "Upload the dataset of news into the above folder.\n",
    "- The dataset should be a `.csv` file.\n",
    "- Every row in the dataset is a document\n",
    "- It can any kind of columns. Some columns must contain the text we want to analyze. For example, a dataset of academic articles may contain a \"Title\" and/or \"Abstract\" column."
   ]
  },
  {
   "cell_type": "code",
   "execution_count": 4,
   "metadata": {
    "id": "5ICq5zQbSJa8"
   },
   "outputs": [],
   "source": [
    "# The bibliometrics folder\n",
    "# Colab\n",
    "ROOT_FOLDER_PATH = \"drive/MyDrive/Bibliometrics_Drive\"\n",
    "\n",
    "# Mac\n",
    "ROOT_FOLDER_PATH = \"/Users/cristian/Library/CloudStorage/GoogleDrive-cristianmejia00@gmail.com/My Drive/Bibliometrics_Drive\"\n",
    "\n",
    "# Change to the name of the folder where the dataset is uploaded inside the above folder\n",
    "project_folder = 'Q325_ai_libsci'\n",
    "\n",
    "analysis_id = 'a01_tm__f01_e01__km01'\n",
    "\n",
    "# Filtered label\n",
    "settings_directive = \"settings_analysis_directive_2025-01-30-23-47.json\""
   ]
  },
  {
   "cell_type": "code",
   "execution_count": 5,
   "metadata": {
    "id": "QpoR8P3O0ACf"
   },
   "outputs": [],
   "source": [
    "# Read settings\n",
    "with open(f'{ROOT_FOLDER_PATH}/{project_folder}/{analysis_id}/{settings_directive}', 'r') as file:\n",
    "    settings = json.load(file)"
   ]
  },
  {
   "cell_type": "code",
   "execution_count": 6,
   "metadata": {
    "id": "COh3zc3b2oAn"
   },
   "outputs": [],
   "source": [
    "# Input dataset\n",
    "dataset_file_path = f\"{ROOT_FOLDER_PATH}/{settings['metadata']['project_folder']}/{settings['metadata']['filtered_folder']}/dataset_raw_cleaned.csv\""
   ]
  },
  {
   "cell_type": "code",
   "execution_count": 7,
   "metadata": {
    "id": "biEFdxrm0WrO"
   },
   "outputs": [],
   "source": [
    "# Function to save files\n",
    "def save_as_csv(df, save_name_without_extension, with_index):\n",
    "    \"usage: `save_as_csv(dataframe, 'filename')`\"\n",
    "    df.to_csv(f\"{ROOT_FOLDER_PATH}/{save_name_without_extension}.csv\", index=with_index)\n",
    "    print(\"===\\nSaved: \", f\"{ROOT_FOLDER_PATH}/{save_name_without_extension}.csv\")"
   ]
  },
  {
   "cell_type": "code",
   "execution_count": 8,
   "metadata": {
    "id": "Ff7hQXE1dYDw"
   },
   "outputs": [],
   "source": [
    "# prompt: a function to save object to a pickle file\n",
    "def save_object_as_pickle(obj, filename):\n",
    "  \"\"\"\n",
    "  Saves an object as a pickle file.\n",
    "\n",
    "  Args:\n",
    "      obj: The object to be saved.\n",
    "      filename: The filename of the pickle file.\n",
    "  \"\"\"\n",
    "  with open(filename, \"wb\") as f:\n",
    "    pickle.dump(obj, f)\n"
   ]
  },
  {
   "cell_type": "code",
   "execution_count": 9,
   "metadata": {
    "id": "iljQe0_xb2FU"
   },
   "outputs": [],
   "source": [
    "# prompt: a function to load pickle object given a path\n",
    "def load_pickle(path):\n",
    "    with open(path, 'rb') as f:\n",
    "        return pickle.load(f)\n"
   ]
  },
  {
   "cell_type": "code",
   "execution_count": 10,
   "metadata": {
    "colab": {
     "base_uri": "https://localhost:8080/",
     "height": 655
    },
    "id": "Tob-4BIaUbZ9",
    "outputId": "d48eac6d-2af8-4991-af19-5bda2386e6bc"
   },
   "outputs": [
    {
     "name": "stdout",
     "output_type": "stream",
     "text": [
      "(2795, 42)\n"
     ]
    },
    {
     "data": {
      "text/html": [
       "<div>\n",
       "<style scoped>\n",
       "    .dataframe tbody tr th:only-of-type {\n",
       "        vertical-align: middle;\n",
       "    }\n",
       "\n",
       "    .dataframe tbody tr th {\n",
       "        vertical-align: top;\n",
       "    }\n",
       "\n",
       "    .dataframe thead th {\n",
       "        text-align: right;\n",
       "    }\n",
       "</style>\n",
       "<table border=\"1\" class=\"dataframe\">\n",
       "  <thead>\n",
       "    <tr style=\"text-align: right;\">\n",
       "      <th></th>\n",
       "      <th>X_N</th>\n",
       "      <th>uuid</th>\n",
       "      <th>PT</th>\n",
       "      <th>AU</th>\n",
       "      <th>AF</th>\n",
       "      <th>TI</th>\n",
       "      <th>SO</th>\n",
       "      <th>LA</th>\n",
       "      <th>DT</th>\n",
       "      <th>DE</th>\n",
       "      <th>...</th>\n",
       "      <th>AR</th>\n",
       "      <th>DI</th>\n",
       "      <th>PG</th>\n",
       "      <th>WC</th>\n",
       "      <th>SC</th>\n",
       "      <th>OA</th>\n",
       "      <th>UT</th>\n",
       "      <th>Countries</th>\n",
       "      <th>IsoCountries</th>\n",
       "      <th>Institutions</th>\n",
       "    </tr>\n",
       "  </thead>\n",
       "  <tbody>\n",
       "    <tr>\n",
       "      <th>0</th>\n",
       "      <td>1</td>\n",
       "      <td>06ffaeca-2840-45f5-97d7-3adb96371bf8</td>\n",
       "      <td>J</td>\n",
       "      <td>de Leon, LCR; Flores, LV; Alomo, ARL</td>\n",
       "      <td>de Leon, Lady Catherine R.; Flores, Lejempf V....</td>\n",
       "      <td>Artificial Intelligence and Filipino Academic ...</td>\n",
       "      <td>JOURNAL OF THE AUSTRALIAN LIBRARY AND INFORMAT...</td>\n",
       "      <td>English</td>\n",
       "      <td>Article</td>\n",
       "      <td>Filipino librarians; academic librarians; arti...</td>\n",
       "      <td>...</td>\n",
       "      <td>NaN</td>\n",
       "      <td>10.1080/24750158.2024.2305993</td>\n",
       "      <td>18</td>\n",
       "      <td>Information Science &amp; Library Science</td>\n",
       "      <td>Information Science &amp; Library Science</td>\n",
       "      <td>NaN</td>\n",
       "      <td>WOS:001153914800001</td>\n",
       "      <td>philippines</td>\n",
       "      <td>PHL</td>\n",
       "      <td>univ santo tomas</td>\n",
       "    </tr>\n",
       "    <tr>\n",
       "      <th>1</th>\n",
       "      <td>2</td>\n",
       "      <td>151cecd6-3d80-4ffa-835f-b894ff2a97b1</td>\n",
       "      <td>J</td>\n",
       "      <td>Xu, M; Liu, DA; Zhang, Y</td>\n",
       "      <td>Xu, Min; Liu, DongAo; Zhang, Yan</td>\n",
       "      <td>Design of Interactive Teaching System of Physi...</td>\n",
       "      <td>JOURNAL OF INFORMATION &amp; KNOWLEDGE MANAGEMENT</td>\n",
       "      <td>English</td>\n",
       "      <td>Article</td>\n",
       "      <td>Artificial intelligence; physical training; in...</td>\n",
       "      <td>...</td>\n",
       "      <td>2240021</td>\n",
       "      <td>10.1142/S0219649222400214</td>\n",
       "      <td>16</td>\n",
       "      <td>Information Science &amp; Library Science</td>\n",
       "      <td>Information Science &amp; Library Science</td>\n",
       "      <td>NaN</td>\n",
       "      <td>WOS:000821701500002</td>\n",
       "      <td>peoples r china</td>\n",
       "      <td>CHN</td>\n",
       "      <td>shanghai univ finance &amp; econ shanghai</td>\n",
       "    </tr>\n",
       "    <tr>\n",
       "      <th>2</th>\n",
       "      <td>3</td>\n",
       "      <td>70ea7e13-c197-466b-a5ad-80d350d2d431</td>\n",
       "      <td>J</td>\n",
       "      <td>Filson, CK; Atuase, D</td>\n",
       "      <td>Filson, Christopher K.; Atuase, Diana</td>\n",
       "      <td>Artificial intelligence and academic integrity...</td>\n",
       "      <td>INFORMATION DEVELOPMENT</td>\n",
       "      <td>English</td>\n",
       "      <td>Article; Early Access</td>\n",
       "      <td>artificial intelligence; academic integrity; i...</td>\n",
       "      <td>...</td>\n",
       "      <td>NaN</td>\n",
       "      <td>10.1177/02666669241284230</td>\n",
       "      <td>13</td>\n",
       "      <td>Information Science &amp; Library Science</td>\n",
       "      <td>Information Science &amp; Library Science</td>\n",
       "      <td>NaN</td>\n",
       "      <td>WOS:001327261700001</td>\n",
       "      <td>ghana</td>\n",
       "      <td>GHA</td>\n",
       "      <td>univ cape coast</td>\n",
       "    </tr>\n",
       "    <tr>\n",
       "      <th>3</th>\n",
       "      <td>4</td>\n",
       "      <td>bca01a9b-ef10-49ad-bf30-c1d0ae79c348</td>\n",
       "      <td>J</td>\n",
       "      <td>Walter, L; Denter, NM; Kebel, J</td>\n",
       "      <td>Walter, Lothar; Denter, Nils M.; Kebel, Jan</td>\n",
       "      <td>A review on digitalization trends in patent in...</td>\n",
       "      <td>WORLD PATENT INFORMATION</td>\n",
       "      <td>English</td>\n",
       "      <td>Review</td>\n",
       "      <td>Digitalization; Patent search and analysis; Cl...</td>\n",
       "      <td>...</td>\n",
       "      <td>102107</td>\n",
       "      <td>10.1016/j.wpi.2022.102107</td>\n",
       "      <td>11</td>\n",
       "      <td>Information Science &amp; Library Science</td>\n",
       "      <td>Information Science &amp; Library Science</td>\n",
       "      <td>NaN</td>\n",
       "      <td>WOS:000788120900001</td>\n",
       "      <td>germany</td>\n",
       "      <td>DEU</td>\n",
       "      <td>univ bremen</td>\n",
       "    </tr>\n",
       "    <tr>\n",
       "      <th>4</th>\n",
       "      <td>5</td>\n",
       "      <td>8fc18d16-8209-4dc4-a16a-05a790ac203a</td>\n",
       "      <td>J</td>\n",
       "      <td>Borges, AFS; Laurindo, FJB; SpÃ­nola, MM; GonÃ...</td>\n",
       "      <td>Borges, Aline F. S.; Laurindo, Fernando J. B.;...</td>\n",
       "      <td>The strategic use of artificial intelligence i...</td>\n",
       "      <td>INTERNATIONAL JOURNAL OF INFORMATION MANAGEMENT</td>\n",
       "      <td>English</td>\n",
       "      <td>Review</td>\n",
       "      <td>Artificial intelligence; Deep learning; Machin...</td>\n",
       "      <td>...</td>\n",
       "      <td>102225</td>\n",
       "      <td>10.1016/j.ijinfomgt.2020.102225</td>\n",
       "      <td>16</td>\n",
       "      <td>Information Science &amp; Library Science</td>\n",
       "      <td>Information Science &amp; Library Science</td>\n",
       "      <td>NaN</td>\n",
       "      <td>WOS:000618806300006</td>\n",
       "      <td>brazil</td>\n",
       "      <td>BRA</td>\n",
       "      <td>univ sao paulo; univ paulista; fundacao educ i...</td>\n",
       "    </tr>\n",
       "  </tbody>\n",
       "</table>\n",
       "<p>5 rows × 42 columns</p>\n",
       "</div>"
      ],
      "text/plain": [
       "   X_N                                  uuid PT  \\\n",
       "0    1  06ffaeca-2840-45f5-97d7-3adb96371bf8  J   \n",
       "1    2  151cecd6-3d80-4ffa-835f-b894ff2a97b1  J   \n",
       "2    3  70ea7e13-c197-466b-a5ad-80d350d2d431  J   \n",
       "3    4  bca01a9b-ef10-49ad-bf30-c1d0ae79c348  J   \n",
       "4    5  8fc18d16-8209-4dc4-a16a-05a790ac203a  J   \n",
       "\n",
       "                                                  AU  \\\n",
       "0               de Leon, LCR; Flores, LV; Alomo, ARL   \n",
       "1                           Xu, M; Liu, DA; Zhang, Y   \n",
       "2                              Filson, CK; Atuase, D   \n",
       "3                    Walter, L; Denter, NM; Kebel, J   \n",
       "4  Borges, AFS; Laurindo, FJB; SpÃ­nola, MM; GonÃ...   \n",
       "\n",
       "                                                  AF  \\\n",
       "0  de Leon, Lady Catherine R.; Flores, Lejempf V....   \n",
       "1                   Xu, Min; Liu, DongAo; Zhang, Yan   \n",
       "2              Filson, Christopher K.; Atuase, Diana   \n",
       "3        Walter, Lothar; Denter, Nils M.; Kebel, Jan   \n",
       "4  Borges, Aline F. S.; Laurindo, Fernando J. B.;...   \n",
       "\n",
       "                                                  TI  \\\n",
       "0  Artificial Intelligence and Filipino Academic ...   \n",
       "1  Design of Interactive Teaching System of Physi...   \n",
       "2  Artificial intelligence and academic integrity...   \n",
       "3  A review on digitalization trends in patent in...   \n",
       "4  The strategic use of artificial intelligence i...   \n",
       "\n",
       "                                                  SO       LA  \\\n",
       "0  JOURNAL OF THE AUSTRALIAN LIBRARY AND INFORMAT...  English   \n",
       "1      JOURNAL OF INFORMATION & KNOWLEDGE MANAGEMENT  English   \n",
       "2                            INFORMATION DEVELOPMENT  English   \n",
       "3                           WORLD PATENT INFORMATION  English   \n",
       "4    INTERNATIONAL JOURNAL OF INFORMATION MANAGEMENT  English   \n",
       "\n",
       "                      DT                                                 DE  \\\n",
       "0                Article  Filipino librarians; academic librarians; arti...   \n",
       "1                Article  Artificial intelligence; physical training; in...   \n",
       "2  Article; Early Access  artificial intelligence; academic integrity; i...   \n",
       "3                 Review  Digitalization; Patent search and analysis; Cl...   \n",
       "4                 Review  Artificial intelligence; Deep learning; Machin...   \n",
       "\n",
       "   ...       AR                               DI  PG  \\\n",
       "0  ...      NaN    10.1080/24750158.2024.2305993  18   \n",
       "1  ...  2240021        10.1142/S0219649222400214  16   \n",
       "2  ...      NaN        10.1177/02666669241284230  13   \n",
       "3  ...   102107        10.1016/j.wpi.2022.102107  11   \n",
       "4  ...   102225  10.1016/j.ijinfomgt.2020.102225  16   \n",
       "\n",
       "                                      WC  \\\n",
       "0  Information Science & Library Science   \n",
       "1  Information Science & Library Science   \n",
       "2  Information Science & Library Science   \n",
       "3  Information Science & Library Science   \n",
       "4  Information Science & Library Science   \n",
       "\n",
       "                                      SC   OA                   UT  \\\n",
       "0  Information Science & Library Science  NaN  WOS:001153914800001   \n",
       "1  Information Science & Library Science  NaN  WOS:000821701500002   \n",
       "2  Information Science & Library Science  NaN  WOS:001327261700001   \n",
       "3  Information Science & Library Science  NaN  WOS:000788120900001   \n",
       "4  Information Science & Library Science  NaN  WOS:000618806300006   \n",
       "\n",
       "         Countries  IsoCountries  \\\n",
       "0      philippines           PHL   \n",
       "1  peoples r china           CHN   \n",
       "2            ghana           GHA   \n",
       "3          germany           DEU   \n",
       "4           brazil           BRA   \n",
       "\n",
       "                                        Institutions  \n",
       "0                                   univ santo tomas  \n",
       "1              shanghai univ finance & econ shanghai  \n",
       "2                                    univ cape coast  \n",
       "3                                        univ bremen  \n",
       "4  univ sao paulo; univ paulista; fundacao educ i...  \n",
       "\n",
       "[5 rows x 42 columns]"
      ]
     },
     "execution_count": 10,
     "metadata": {},
     "output_type": "execute_result"
    }
   ],
   "source": [
    "# Open the data file\n",
    "df = pd.read_csv(f\"{dataset_file_path}\", encoding='latin-1')\n",
    "print(df.shape)\n",
    "df.head()"
   ]
  },
  {
   "cell_type": "markdown",
   "metadata": {
    "id": "9UrPiLepN1s9"
   },
   "source": [
    "\n",
    "\n",
    "---\n",
    "\n"
   ]
  },
  {
   "cell_type": "markdown",
   "metadata": {
    "id": "eK-U-Sl8fc-m"
   },
   "source": [
    "## PART 2: Topic Model"
   ]
  },
  {
   "cell_type": "code",
   "execution_count": 11,
   "metadata": {
    "id": "FhwGnBjFQT4x"
   },
   "outputs": [],
   "source": [
    "# bibliometrics_folder\n",
    "# project_folder\n",
    "# project_name_suffix\n",
    "# ROOT_FOLDER_PATH = f\"drive/MyDrive/{bibliometrics_folder}\"\n",
    "\n",
    "#############################################################\n",
    "# Embeddings folder\n",
    "embeddings_folder_name = settings['tmo']['embeds_folder']\n",
    "\n",
    "# Which column has the year of the documents?\n",
    "my_year = settings['tmo']['year_column']\n",
    "\n",
    "# Number of topics. Select the number of topics to extract.\n",
    "# Choose 0, for automatic detection.\n",
    "n_topics = settings['tmo']['n_topics']\n",
    "\n",
    "# Minimum number of documents per topic\n",
    "min_topic_size = settings['tmo']['min_topic_size']"
   ]
  },
  {
   "cell_type": "code",
   "execution_count": 73,
   "metadata": {
    "id": "9RYSioo2cxxC"
   },
   "outputs": [],
   "source": [
    "# Get the embeddings back.\n",
    "embeddings = load_pickle(f\"{ROOT_FOLDER_PATH}/{project_folder}/{settings['metadata']['filtered_folder']}/{embeddings_folder_name}/embeddings.pck\")\n",
    "corpus =     pd.read_csv(f\"{ROOT_FOLDER_PATH}/{project_folder}/{settings['metadata']['filtered_folder']}/{embeddings_folder_name}/corpus.csv\").reset_index(drop=True)"
   ]
  },
  {
   "cell_type": "code",
   "execution_count": 74,
   "metadata": {
    "id": "injCV_IPN26L"
   },
   "outputs": [],
   "source": [
    "# Combine embeddings\n",
    "documents = corpus.text.to_list()"
   ]
  },
  {
   "cell_type": "code",
   "execution_count": 75,
   "metadata": {
    "id": "ve_oloYNrBLz"
   },
   "outputs": [],
   "source": [
    "# corpus['uuid'] = [uuid.uuid4() for _ in range(len(corpus.index))]\n",
    "# corpus['X_N'] = [i for i in range(1, len(corpus.index)+1)]"
   ]
  },
  {
   "cell_type": "code",
   "execution_count": 76,
   "metadata": {
    "colab": {
     "base_uri": "https://localhost:8080/"
    },
    "id": "onVFOjBZuMmJ",
    "outputId": "4898b936-f4ea-4a7d-8448-a65466de85f2"
   },
   "outputs": [
    {
     "data": {
      "text/plain": [
       "2795"
      ]
     },
     "execution_count": 76,
     "metadata": {},
     "output_type": "execute_result"
    }
   ],
   "source": [
    "len(documents)"
   ]
  },
  {
   "cell_type": "code",
   "execution_count": 77,
   "metadata": {
    "colab": {
     "base_uri": "https://localhost:8080/"
    },
    "id": "S7LeuG_7S4Db",
    "outputId": "4e27c106-2e0c-4630-a741-2fbd5e5512b0"
   },
   "outputs": [
    {
     "data": {
      "text/plain": [
       "True"
      ]
     },
     "execution_count": 77,
     "metadata": {},
     "output_type": "execute_result"
    }
   ],
   "source": [
    "#len(embeddings) == len(documents)\n",
    "len(embeddings['embeddings']) == len(documents)"
   ]
  },
  {
   "cell_type": "code",
   "execution_count": 78,
   "metadata": {
    "id": "n6qUvhGGcPZo"
   },
   "outputs": [],
   "source": [
    "from hdbscan.hdbscan_ import HDBSCAN\n",
    "# Execute the topic model.\n",
    "# I suggest changing the values marked with #<---\n",
    "# The others are the default values and they'll work fine in most cases.\n",
    "# This will take several minutes to finish.\n",
    "\n",
    "# Initiate UMAP\n",
    "umap_model = UMAP(n_neighbors=15,\n",
    "                  n_components=5,\n",
    "                  min_dist=0.0,\n",
    "                  metric='cosine',\n",
    "                  random_state=100)\n",
    "\n",
    "if n_topics == 0:\n",
    "  # Initiate topic model with HDBScan (Automatic topic selection)\n",
    "  topic_model_params = HDBSCAN(min_cluster_size=min_topic_size,\n",
    "                               metric='euclidean',\n",
    "                               cluster_selection_method='eom',\n",
    "                               prediction_data=True)\n",
    "else:\n",
    "  # Initiate topic model with K-means (Manual topic selection)\n",
    "  topic_model_params = KMeans(n_clusters = n_topics)\n",
    "\n",
    "# Initiate BERTopic\n",
    "topic_model = BERTopic(umap_model = umap_model,\n",
    "                       hdbscan_model = topic_model_params,\n",
    "                       min_topic_size=min_topic_size,\n",
    "                       #nr_topics=15,          #<--- Footnote 1\n",
    "                       n_gram_range=(1,3),\n",
    "                       language='english',\n",
    "                       calculate_probabilities=True,\n",
    "                       verbose=True)\n",
    "\n",
    "\n",
    "\n",
    "# Footnote 1: This controls the number of topics we want AFTER clustering.\n",
    "# Add a hashtag at the beggining to use the number of topics returned by the topic model.\n",
    "# When using HDBScan nr_topics will be obtained after orphans removal, and there is no warranty that `nr_topics < HDBScan topics`.\n",
    "# thus, with HDBScan `nr_topics` means N topics OR LESS.\n",
    "# When using KMeans nr_topics can be used to further reduce the number of topics.\n",
    "# We use the topics as returned by the topic model. So we do not need to activate it here."
   ]
  },
  {
   "cell_type": "code",
   "execution_count": 79,
   "metadata": {
    "colab": {
     "base_uri": "https://localhost:8080/"
    },
    "id": "FQQsmPGzUCuB",
    "outputId": "a2b43bac-051a-4599-ad04-a36b1a575a26"
   },
   "outputs": [
    {
     "name": "stderr",
     "output_type": "stream",
     "text": [
      "2025-01-30 23:49:28,279 - BERTopic - Dimensionality - Fitting the dimensionality reduction algorithm\n",
      "2025-01-30 23:49:34,924 - BERTopic - Dimensionality - Completed ✓\n",
      "2025-01-30 23:49:34,925 - BERTopic - Cluster - Start clustering the reduced embeddings\n",
      "2025-01-30 23:49:35,002 - BERTopic - Cluster - Completed ✓\n",
      "2025-01-30 23:49:35,007 - BERTopic - Representation - Extracting topics from clusters using representation models.\n",
      "2025-01-30 23:49:37,578 - BERTopic - Representation - Completed ✓\n"
     ]
    }
   ],
   "source": [
    "# Compute topic model\n",
    "#topics, probabilities = topic_model.fit_transform(documents, embeddings)\n",
    "topics, probabilities = topic_model.fit_transform(documents, embeddings['embeddings'])"
   ]
  },
  {
   "cell_type": "code",
   "execution_count": 80,
   "metadata": {
    "colab": {
     "base_uri": "https://localhost:8080/",
     "height": 424
    },
    "id": "67pgsMtwsFmH",
    "outputId": "82c86e95-6be7-4832-a076-94d8d9dcd8ae"
   },
   "outputs": [
    {
     "data": {
      "text/html": [
       "<div>\n",
       "<style scoped>\n",
       "    .dataframe tbody tr th:only-of-type {\n",
       "        vertical-align: middle;\n",
       "    }\n",
       "\n",
       "    .dataframe tbody tr th {\n",
       "        vertical-align: top;\n",
       "    }\n",
       "\n",
       "    .dataframe thead th {\n",
       "        text-align: right;\n",
       "    }\n",
       "</style>\n",
       "<table border=\"1\" class=\"dataframe\">\n",
       "  <thead>\n",
       "    <tr style=\"text-align: right;\">\n",
       "      <th></th>\n",
       "      <th>Topic</th>\n",
       "      <th>Count</th>\n",
       "      <th>Name</th>\n",
       "      <th>Representation</th>\n",
       "      <th>Representative_Docs</th>\n",
       "    </tr>\n",
       "  </thead>\n",
       "  <tbody>\n",
       "    <tr>\n",
       "      <th>0</th>\n",
       "      <td>0</td>\n",
       "      <td>143</td>\n",
       "      <td>0_libraries_library_the_and</td>\n",
       "      <td>[libraries, library, the, and, in, of, academi...</td>\n",
       "      <td>[Use of Artificial Intelligence Technologies i...</td>\n",
       "    </tr>\n",
       "    <tr>\n",
       "      <th>1</th>\n",
       "      <td>1</td>\n",
       "      <td>120</td>\n",
       "      <td>1_nan_artificial_artificial intelligence_intel...</td>\n",
       "      <td>[nan, artificial, artificial intelligence, int...</td>\n",
       "      <td>[Demystifying artificial intelligence nan, Enc...</td>\n",
       "    </tr>\n",
       "    <tr>\n",
       "      <th>2</th>\n",
       "      <td>2</td>\n",
       "      <td>113</td>\n",
       "      <td>2_the_of_media_news</td>\n",
       "      <td>[the, of, media, news, and, in, to, this, that...</td>\n",
       "      <td>[Use of artificial intelligence in synthetic m...</td>\n",
       "    </tr>\n",
       "    <tr>\n",
       "      <th>3</th>\n",
       "      <td>3</td>\n",
       "      <td>110</td>\n",
       "      <td>3_and_healthcare_to_of</td>\n",
       "      <td>[and, healthcare, to, of, the, in, ai, health,...</td>\n",
       "      <td>[A survey of pregnant patients perspectives on...</td>\n",
       "    </tr>\n",
       "    <tr>\n",
       "      <th>4</th>\n",
       "      <td>4</td>\n",
       "      <td>110</td>\n",
       "      <td>4_artificialintelligence_nan_nan artificialint...</td>\n",
       "      <td>[artificialintelligence, nan, nan artificialin...</td>\n",
       "      <td>[ARTIFICIALINTELLIGENCE AND INFORMATIONRETRIEV...</td>\n",
       "    </tr>\n",
       "    <tr>\n",
       "      <th>5</th>\n",
       "      <td>5</td>\n",
       "      <td>94</td>\n",
       "      <td>5_the_of_in_and</td>\n",
       "      <td>[the, of, in, and, research, to, scientific, p...</td>\n",
       "      <td>[Productivity trends and citation impact of di...</td>\n",
       "    </tr>\n",
       "    <tr>\n",
       "      <th>6</th>\n",
       "      <td>6</td>\n",
       "      <td>88</td>\n",
       "      <td>6_public_ai_the_government</td>\n",
       "      <td>[public, ai, the, government, in, of, and, to,...</td>\n",
       "      <td>[Mapping the challenges of Artificial Intellig...</td>\n",
       "    </tr>\n",
       "    <tr>\n",
       "      <th>7</th>\n",
       "      <td>7</td>\n",
       "      <td>87</td>\n",
       "      <td>7_and_clinical_to_of</td>\n",
       "      <td>[and, clinical, to, of, the, for, in, we, with...</td>\n",
       "      <td>[Casebased reasoning using electronic health r...</td>\n",
       "    </tr>\n",
       "    <tr>\n",
       "      <th>8</th>\n",
       "      <td>8</td>\n",
       "      <td>82</td>\n",
       "      <td>8_the_and_of_to</td>\n",
       "      <td>[the, and, of, to, intention, trust, perceived...</td>\n",
       "      <td>[An empirical study of factors influencing usa...</td>\n",
       "    </tr>\n",
       "    <tr>\n",
       "      <th>9</th>\n",
       "      <td>9</td>\n",
       "      <td>82</td>\n",
       "      <td>9_the_ai_and_of</td>\n",
       "      <td>[the, ai, and, of, to, study, adoption, in, pe...</td>\n",
       "      <td>[Role of enterprise information system managem...</td>\n",
       "    </tr>\n",
       "    <tr>\n",
       "      <th>10</th>\n",
       "      <td>10</td>\n",
       "      <td>78</td>\n",
       "      <td>10_the_research_of_and</td>\n",
       "      <td>[the, research, of, and, in, analysis, publica...</td>\n",
       "      <td>[Mapping global research on expert systems Pur...</td>\n",
       "    </tr>\n",
       "    <tr>\n",
       "      <th>11</th>\n",
       "      <td>11</td>\n",
       "      <td>70</td>\n",
       "      <td>11_chatbots_and_to_chatbot</td>\n",
       "      <td>[chatbots, and, to, chatbot, of, the, ai, in, ...</td>\n",
       "      <td>[The appropriation of conversational AI in the...</td>\n",
       "    </tr>\n",
       "    <tr>\n",
       "      <th>12</th>\n",
       "      <td>12</td>\n",
       "      <td>68</td>\n",
       "      <td>12_the_and_ai_of</td>\n",
       "      <td>[the, and, ai, of, to, governance, in, for, th...</td>\n",
       "      <td>[Local regulations for the use of artificial i...</td>\n",
       "    </tr>\n",
       "    <tr>\n",
       "      <th>13</th>\n",
       "      <td>13</td>\n",
       "      <td>65</td>\n",
       "      <td>13_the_of_and_students</td>\n",
       "      <td>[the, of, and, students, learning, education, ...</td>\n",
       "      <td>[Adaptation algorithms for selecting personali...</td>\n",
       "    </tr>\n",
       "    <tr>\n",
       "      <th>14</th>\n",
       "      <td>14</td>\n",
       "      <td>63</td>\n",
       "      <td>14_the_digital_of_and</td>\n",
       "      <td>[the, digital, of, and, archives, records, to,...</td>\n",
       "      <td>[Policy framework to apply artificial intellig...</td>\n",
       "    </tr>\n",
       "    <tr>\n",
       "      <th>15</th>\n",
       "      <td>15</td>\n",
       "      <td>63</td>\n",
       "      <td>15_and_the_to_models</td>\n",
       "      <td>[and, the, to, models, of, data, in, for, clin...</td>\n",
       "      <td>[From benchmark to bedside transfer learning f...</td>\n",
       "    </tr>\n",
       "    <tr>\n",
       "      <th>16</th>\n",
       "      <td>16</td>\n",
       "      <td>61</td>\n",
       "      <td>16_the_of_peer_review</td>\n",
       "      <td>[the, of, peer, review, to, and, peer review, ...</td>\n",
       "      <td>[An overview of assessing the quality of peer ...</td>\n",
       "    </tr>\n",
       "    <tr>\n",
       "      <th>17</th>\n",
       "      <td>17</td>\n",
       "      <td>61</td>\n",
       "      <td>17_spatial_the_to_and</td>\n",
       "      <td>[spatial, the, to, and, of, data, for, in, mod...</td>\n",
       "      <td>[A research agenda for GIScience in a time of ...</td>\n",
       "    </tr>\n",
       "    <tr>\n",
       "      <th>18</th>\n",
       "      <td>18</td>\n",
       "      <td>58</td>\n",
       "      <td>18_information_the_retrieval_of</td>\n",
       "      <td>[information, the, retrieval, of, and, to, inf...</td>\n",
       "      <td>[Towards an automatic user profiling system fo...</td>\n",
       "    </tr>\n",
       "    <tr>\n",
       "      <th>19</th>\n",
       "      <td>19</td>\n",
       "      <td>55</td>\n",
       "      <td>19_of_the_explanations_to</td>\n",
       "      <td>[of, the, explanations, to, we, and, that, in,...</td>\n",
       "      <td>[The use and effects of knowledgebased system ...</td>\n",
       "    </tr>\n",
       "    <tr>\n",
       "      <th>20</th>\n",
       "      <td>20</td>\n",
       "      <td>52</td>\n",
       "      <td>20_knowledge_knowledge management_management_the</td>\n",
       "      <td>[knowledge, knowledge management, management, ...</td>\n",
       "      <td>[Applications of Machine Learning in Knowledge...</td>\n",
       "    </tr>\n",
       "    <tr>\n",
       "      <th>21</th>\n",
       "      <td>21</td>\n",
       "      <td>49</td>\n",
       "      <td>21_chatgpt_and_the_of</td>\n",
       "      <td>[chatgpt, and, the, of, in, to, generative, re...</td>\n",
       "      <td>[So what if ChatGPT wrote it Multidisciplinary...</td>\n",
       "    </tr>\n",
       "    <tr>\n",
       "      <th>22</th>\n",
       "      <td>22</td>\n",
       "      <td>48</td>\n",
       "      <td>22_the_of_and_in</td>\n",
       "      <td>[the, of, and, in, to, for, research, scientif...</td>\n",
       "      <td>[Mining the Context of Citations in Scientific...</td>\n",
       "    </tr>\n",
       "    <tr>\n",
       "      <th>23</th>\n",
       "      <td>23</td>\n",
       "      <td>48</td>\n",
       "      <td>23_ai_the_of_and</td>\n",
       "      <td>[ai, the, of, and, in, to, is, for, on, intell...</td>\n",
       "      <td>[Artificial intelligence and information manag...</td>\n",
       "    </tr>\n",
       "    <tr>\n",
       "      <th>24</th>\n",
       "      <td>24</td>\n",
       "      <td>46</td>\n",
       "      <td>24_and_the_of_for</td>\n",
       "      <td>[and, the, of, for, to, in, facial, is, facial...</td>\n",
       "      <td>[On the feasibility of Federated Learning towa...</td>\n",
       "    </tr>\n",
       "    <tr>\n",
       "      <th>25</th>\n",
       "      <td>25</td>\n",
       "      <td>44</td>\n",
       "      <td>25_the_and_iot_of</td>\n",
       "      <td>[the, and, iot, of, is, to, in, energy, quantu...</td>\n",
       "      <td>[Artificial Intelligence powered Internet of T...</td>\n",
       "    </tr>\n",
       "    <tr>\n",
       "      <th>26</th>\n",
       "      <td>26</td>\n",
       "      <td>42</td>\n",
       "      <td>26_patent_the_patents_of</td>\n",
       "      <td>[patent, the, patents, of, and, in, technology...</td>\n",
       "      <td>[Technological adoptions and sectorspecific in...</td>\n",
       "    </tr>\n",
       "    <tr>\n",
       "      <th>27</th>\n",
       "      <td>27</td>\n",
       "      <td>42</td>\n",
       "      <td>27_ontology_semantic_the_of</td>\n",
       "      <td>[ontology, semantic, the, of, knowledge, and, ...</td>\n",
       "      <td>[Enriching Semantic Relations of Basic Science...</td>\n",
       "    </tr>\n",
       "    <tr>\n",
       "      <th>28</th>\n",
       "      <td>28</td>\n",
       "      <td>41</td>\n",
       "      <td>28_nan_artificialintelligence_and artificialin...</td>\n",
       "      <td>[nan, artificialintelligence, and artificialin...</td>\n",
       "      <td>[EXPERTISE TASK COMPLEXITY AND ARTIFICIALINTEL...</td>\n",
       "    </tr>\n",
       "    <tr>\n",
       "      <th>29</th>\n",
       "      <td>29</td>\n",
       "      <td>40</td>\n",
       "      <td>29_ai_the_and_of</td>\n",
       "      <td>[ai, the, and, of, to, in, is, for, we, research]</td>\n",
       "      <td>[Software documentation is not enough Requirem...</td>\n",
       "    </tr>\n",
       "    <tr>\n",
       "      <th>30</th>\n",
       "      <td>30</td>\n",
       "      <td>40</td>\n",
       "      <td>30_legal_the_of_law</td>\n",
       "      <td>[legal, the, of, law, in, to, and, is, for, th...</td>\n",
       "      <td>[Regarding the Issue of the Essence of Legal T...</td>\n",
       "    </tr>\n",
       "    <tr>\n",
       "      <th>31</th>\n",
       "      <td>31</td>\n",
       "      <td>37</td>\n",
       "      <td>31_supply_the_of_chain</td>\n",
       "      <td>[supply, the, of, chain, and, supply chain, bu...</td>\n",
       "      <td>[Building artificial intelligence enabled resi...</td>\n",
       "    </tr>\n",
       "    <tr>\n",
       "      <th>32</th>\n",
       "      <td>32</td>\n",
       "      <td>37</td>\n",
       "      <td>32_moral_responsibility_the_of</td>\n",
       "      <td>[moral, responsibility, the, of, that, to, is,...</td>\n",
       "      <td>[Robots ethical by design Among ethicists and ...</td>\n",
       "    </tr>\n",
       "    <tr>\n",
       "      <th>33</th>\n",
       "      <td>33</td>\n",
       "      <td>36</td>\n",
       "      <td>33_employees_the_of_and</td>\n",
       "      <td>[employees, the, of, and, human, ai, employee,...</td>\n",
       "      <td>[Influence of algorithmic management practices...</td>\n",
       "    </tr>\n",
       "    <tr>\n",
       "      <th>34</th>\n",
       "      <td>34</td>\n",
       "      <td>36</td>\n",
       "      <td>34_financial_the_economic_of</td>\n",
       "      <td>[financial, the, economic, of, and, to, for, c...</td>\n",
       "      <td>[Using Government Data and Machine Learning fo...</td>\n",
       "    </tr>\n",
       "    <tr>\n",
       "      <th>35</th>\n",
       "      <td>35</td>\n",
       "      <td>36</td>\n",
       "      <td>35_library_chatgpt_chatbot_the</td>\n",
       "      <td>[library, chatgpt, chatbot, the, chatbots, and...</td>\n",
       "      <td>[Conversational AI Chatbots in library researc...</td>\n",
       "    </tr>\n",
       "    <tr>\n",
       "      <th>36</th>\n",
       "      <td>36</td>\n",
       "      <td>32</td>\n",
       "      <td>36_fairness_systems_and_in</td>\n",
       "      <td>[fairness, systems, and, in, that, of, the, to...</td>\n",
       "      <td>[Integral system safety for machine learning i...</td>\n",
       "    </tr>\n",
       "    <tr>\n",
       "      <th>37</th>\n",
       "      <td>37</td>\n",
       "      <td>29</td>\n",
       "      <td>37_trust_ai_of_in</td>\n",
       "      <td>[trust, ai, of, in, the, and, team, to, teams,...</td>\n",
       "      <td>[Harmony in intelligent hybrid teams the influ...</td>\n",
       "    </tr>\n",
       "    <tr>\n",
       "      <th>38</th>\n",
       "      <td>38</td>\n",
       "      <td>28</td>\n",
       "      <td>38_covid_health_the_and</td>\n",
       "      <td>[covid, health, the, and, to, of, pandemic, in...</td>\n",
       "      <td>[EAdoption of Emerging Technology in the Healt...</td>\n",
       "    </tr>\n",
       "    <tr>\n",
       "      <th>39</th>\n",
       "      <td>39</td>\n",
       "      <td>28</td>\n",
       "      <td>39_marketing_customer_and_the</td>\n",
       "      <td>[marketing, customer, and, the, to, of, ai, cu...</td>\n",
       "      <td>[Artificial intelligence AI in strategic marke...</td>\n",
       "    </tr>\n",
       "    <tr>\n",
       "      <th>40</th>\n",
       "      <td>40</td>\n",
       "      <td>28</td>\n",
       "      <td>40_the_of_and_to</td>\n",
       "      <td>[the, of, and, to, is, that, in, ai, of the, a...</td>\n",
       "      <td>[Partners of humans a realistic assessment of ...</td>\n",
       "    </tr>\n",
       "    <tr>\n",
       "      <th>41</th>\n",
       "      <td>41</td>\n",
       "      <td>27</td>\n",
       "      <td>41_data_the_and_of</td>\n",
       "      <td>[data, the, and, of, to, in, for, is, analytic...</td>\n",
       "      <td>[The use of public sector data analytics in th...</td>\n",
       "    </tr>\n",
       "    <tr>\n",
       "      <th>42</th>\n",
       "      <td>42</td>\n",
       "      <td>24</td>\n",
       "      <td>42_gender_images_the_of</td>\n",
       "      <td>[gender, images, the, of, and, in, to, ai, tha...</td>\n",
       "      <td>[The gendered lens of AI examining news imager...</td>\n",
       "    </tr>\n",
       "    <tr>\n",
       "      <th>43</th>\n",
       "      <td>43</td>\n",
       "      <td>24</td>\n",
       "      <td>43_public_the_and_of</td>\n",
       "      <td>[public, the, and, of, to, in, discretion, alg...</td>\n",
       "      <td>[Bringing all clients into the system  Profess...</td>\n",
       "    </tr>\n",
       "    <tr>\n",
       "      <th>44</th>\n",
       "      <td>44</td>\n",
       "      <td>24</td>\n",
       "      <td>44_the_of_to_and</td>\n",
       "      <td>[the, of, to, and, management, this, knowledge...</td>\n",
       "      <td>[Project management openings for disruption fr...</td>\n",
       "    </tr>\n",
       "    <tr>\n",
       "      <th>45</th>\n",
       "      <td>45</td>\n",
       "      <td>23</td>\n",
       "      <td>45_ethical_ai_of_ethics</td>\n",
       "      <td>[ethical, ai, of, ethics, the, and, to, in, sy...</td>\n",
       "      <td>[Prospects for the global governance of autono...</td>\n",
       "    </tr>\n",
       "    <tr>\n",
       "      <th>46</th>\n",
       "      <td>46</td>\n",
       "      <td>22</td>\n",
       "      <td>46_privacy_personal_and_the</td>\n",
       "      <td>[privacy, personal, and, the, data, informatio...</td>\n",
       "      <td>[The impact of artificial intelligence on data...</td>\n",
       "    </tr>\n",
       "    <tr>\n",
       "      <th>47</th>\n",
       "      <td>47</td>\n",
       "      <td>22</td>\n",
       "      <td>47_literacy_data_and_students</td>\n",
       "      <td>[literacy, data, and, students, data literacy,...</td>\n",
       "      <td>[Knowledge mapping of data literacy A bibliome...</td>\n",
       "    </tr>\n",
       "    <tr>\n",
       "      <th>48</th>\n",
       "      <td>48</td>\n",
       "      <td>22</td>\n",
       "      <td>48_data_data science_mining_of</td>\n",
       "      <td>[data, data science, mining, of, fuzzy, and, d...</td>\n",
       "      <td>[Web mining for innovation ecosystem mapping a...</td>\n",
       "    </tr>\n",
       "    <tr>\n",
       "      <th>49</th>\n",
       "      <td>49</td>\n",
       "      <td>21</td>\n",
       "      <td>49_of_the_systems_simulation</td>\n",
       "      <td>[of, the, systems, simulation, system, modelin...</td>\n",
       "      <td>[An AgentBased Collaborative Approach to Graph...</td>\n",
       "    </tr>\n",
       "    <tr>\n",
       "      <th>50</th>\n",
       "      <td>50</td>\n",
       "      <td>21</td>\n",
       "      <td>50_information_social_of_and</td>\n",
       "      <td>[information, social, of, and, the, systems, t...</td>\n",
       "      <td>[Artificial intelligence in the information ec...</td>\n",
       "    </tr>\n",
       "    <tr>\n",
       "      <th>51</th>\n",
       "      <td>51</td>\n",
       "      <td>20</td>\n",
       "      <td>51_the_libraries_library_of</td>\n",
       "      <td>[the, libraries, library, of, and, in, catalog...</td>\n",
       "      <td>[NEW METHODS FOR INFORMATION ACCESS AT LIBRARI...</td>\n",
       "    </tr>\n",
       "    <tr>\n",
       "      <th>52</th>\n",
       "      <td>52</td>\n",
       "      <td>19</td>\n",
       "      <td>52_chatbots_the_in_of</td>\n",
       "      <td>[chatbots, the, in, of, and, to, knowledge gra...</td>\n",
       "      <td>[Boundary Objects a bridge between information...</td>\n",
       "    </tr>\n",
       "    <tr>\n",
       "      <th>53</th>\n",
       "      <td>53</td>\n",
       "      <td>17</td>\n",
       "      <td>53_big data_big_data_of big data</td>\n",
       "      <td>[big data, big, data, of big data, of big, the...</td>\n",
       "      <td>[An Intelligent CognitiveInspired Computing wi...</td>\n",
       "    </tr>\n",
       "    <tr>\n",
       "      <th>54</th>\n",
       "      <td>54</td>\n",
       "      <td>17</td>\n",
       "      <td>54_blockchain_the_and_of blockchain</td>\n",
       "      <td>[blockchain, the, and, of blockchain, of, bloc...</td>\n",
       "      <td>[A comprehensive survey on social engineering ...</td>\n",
       "    </tr>\n",
       "    <tr>\n",
       "      <th>55</th>\n",
       "      <td>55</td>\n",
       "      <td>2</td>\n",
       "      <td>55_de_les_game_game engines</td>\n",
       "      <td>[de, les, game, game engines, le, moteurs de, ...</td>\n",
       "      <td>[The Common Future of Esport and Robopsycholog...</td>\n",
       "    </tr>\n",
       "  </tbody>\n",
       "</table>\n",
       "</div>"
      ],
      "text/plain": [
       "    Topic  Count                                               Name  \\\n",
       "0       0    143                        0_libraries_library_the_and   \n",
       "1       1    120  1_nan_artificial_artificial intelligence_intel...   \n",
       "2       2    113                                2_the_of_media_news   \n",
       "3       3    110                             3_and_healthcare_to_of   \n",
       "4       4    110  4_artificialintelligence_nan_nan artificialint...   \n",
       "5       5     94                                    5_the_of_in_and   \n",
       "6       6     88                         6_public_ai_the_government   \n",
       "7       7     87                               7_and_clinical_to_of   \n",
       "8       8     82                                    8_the_and_of_to   \n",
       "9       9     82                                    9_the_ai_and_of   \n",
       "10     10     78                             10_the_research_of_and   \n",
       "11     11     70                         11_chatbots_and_to_chatbot   \n",
       "12     12     68                                   12_the_and_ai_of   \n",
       "13     13     65                             13_the_of_and_students   \n",
       "14     14     63                              14_the_digital_of_and   \n",
       "15     15     63                               15_and_the_to_models   \n",
       "16     16     61                              16_the_of_peer_review   \n",
       "17     17     61                              17_spatial_the_to_and   \n",
       "18     18     58                    18_information_the_retrieval_of   \n",
       "19     19     55                          19_of_the_explanations_to   \n",
       "20     20     52   20_knowledge_knowledge management_management_the   \n",
       "21     21     49                              21_chatgpt_and_the_of   \n",
       "22     22     48                                   22_the_of_and_in   \n",
       "23     23     48                                   23_ai_the_of_and   \n",
       "24     24     46                                  24_and_the_of_for   \n",
       "25     25     44                                  25_the_and_iot_of   \n",
       "26     26     42                           26_patent_the_patents_of   \n",
       "27     27     42                        27_ontology_semantic_the_of   \n",
       "28     28     41  28_nan_artificialintelligence_and artificialin...   \n",
       "29     29     40                                   29_ai_the_and_of   \n",
       "30     30     40                                30_legal_the_of_law   \n",
       "31     31     37                             31_supply_the_of_chain   \n",
       "32     32     37                     32_moral_responsibility_the_of   \n",
       "33     33     36                            33_employees_the_of_and   \n",
       "34     34     36                       34_financial_the_economic_of   \n",
       "35     35     36                     35_library_chatgpt_chatbot_the   \n",
       "36     36     32                         36_fairness_systems_and_in   \n",
       "37     37     29                                  37_trust_ai_of_in   \n",
       "38     38     28                            38_covid_health_the_and   \n",
       "39     39     28                      39_marketing_customer_and_the   \n",
       "40     40     28                                   40_the_of_and_to   \n",
       "41     41     27                                 41_data_the_and_of   \n",
       "42     42     24                            42_gender_images_the_of   \n",
       "43     43     24                               43_public_the_and_of   \n",
       "44     44     24                                   44_the_of_to_and   \n",
       "45     45     23                            45_ethical_ai_of_ethics   \n",
       "46     46     22                        46_privacy_personal_and_the   \n",
       "47     47     22                      47_literacy_data_and_students   \n",
       "48     48     22                     48_data_data science_mining_of   \n",
       "49     49     21                       49_of_the_systems_simulation   \n",
       "50     50     21                       50_information_social_of_and   \n",
       "51     51     20                        51_the_libraries_library_of   \n",
       "52     52     19                              52_chatbots_the_in_of   \n",
       "53     53     17                   53_big data_big_data_of big data   \n",
       "54     54     17                54_blockchain_the_and_of blockchain   \n",
       "55     55      2                        55_de_les_game_game engines   \n",
       "\n",
       "                                       Representation  \\\n",
       "0   [libraries, library, the, and, in, of, academi...   \n",
       "1   [nan, artificial, artificial intelligence, int...   \n",
       "2   [the, of, media, news, and, in, to, this, that...   \n",
       "3   [and, healthcare, to, of, the, in, ai, health,...   \n",
       "4   [artificialintelligence, nan, nan artificialin...   \n",
       "5   [the, of, in, and, research, to, scientific, p...   \n",
       "6   [public, ai, the, government, in, of, and, to,...   \n",
       "7   [and, clinical, to, of, the, for, in, we, with...   \n",
       "8   [the, and, of, to, intention, trust, perceived...   \n",
       "9   [the, ai, and, of, to, study, adoption, in, pe...   \n",
       "10  [the, research, of, and, in, analysis, publica...   \n",
       "11  [chatbots, and, to, chatbot, of, the, ai, in, ...   \n",
       "12  [the, and, ai, of, to, governance, in, for, th...   \n",
       "13  [the, of, and, students, learning, education, ...   \n",
       "14  [the, digital, of, and, archives, records, to,...   \n",
       "15  [and, the, to, models, of, data, in, for, clin...   \n",
       "16  [the, of, peer, review, to, and, peer review, ...   \n",
       "17  [spatial, the, to, and, of, data, for, in, mod...   \n",
       "18  [information, the, retrieval, of, and, to, inf...   \n",
       "19  [of, the, explanations, to, we, and, that, in,...   \n",
       "20  [knowledge, knowledge management, management, ...   \n",
       "21  [chatgpt, and, the, of, in, to, generative, re...   \n",
       "22  [the, of, and, in, to, for, research, scientif...   \n",
       "23  [ai, the, of, and, in, to, is, for, on, intell...   \n",
       "24  [and, the, of, for, to, in, facial, is, facial...   \n",
       "25  [the, and, iot, of, is, to, in, energy, quantu...   \n",
       "26  [patent, the, patents, of, and, in, technology...   \n",
       "27  [ontology, semantic, the, of, knowledge, and, ...   \n",
       "28  [nan, artificialintelligence, and artificialin...   \n",
       "29  [ai, the, and, of, to, in, is, for, we, research]   \n",
       "30  [legal, the, of, law, in, to, and, is, for, th...   \n",
       "31  [supply, the, of, chain, and, supply chain, bu...   \n",
       "32  [moral, responsibility, the, of, that, to, is,...   \n",
       "33  [employees, the, of, and, human, ai, employee,...   \n",
       "34  [financial, the, economic, of, and, to, for, c...   \n",
       "35  [library, chatgpt, chatbot, the, chatbots, and...   \n",
       "36  [fairness, systems, and, in, that, of, the, to...   \n",
       "37  [trust, ai, of, in, the, and, team, to, teams,...   \n",
       "38  [covid, health, the, and, to, of, pandemic, in...   \n",
       "39  [marketing, customer, and, the, to, of, ai, cu...   \n",
       "40  [the, of, and, to, is, that, in, ai, of the, a...   \n",
       "41  [data, the, and, of, to, in, for, is, analytic...   \n",
       "42  [gender, images, the, of, and, in, to, ai, tha...   \n",
       "43  [public, the, and, of, to, in, discretion, alg...   \n",
       "44  [the, of, to, and, management, this, knowledge...   \n",
       "45  [ethical, ai, of, ethics, the, and, to, in, sy...   \n",
       "46  [privacy, personal, and, the, data, informatio...   \n",
       "47  [literacy, data, and, students, data literacy,...   \n",
       "48  [data, data science, mining, of, fuzzy, and, d...   \n",
       "49  [of, the, systems, simulation, system, modelin...   \n",
       "50  [information, social, of, and, the, systems, t...   \n",
       "51  [the, libraries, library, of, and, in, catalog...   \n",
       "52  [chatbots, the, in, of, and, to, knowledge gra...   \n",
       "53  [big data, big, data, of big data, of big, the...   \n",
       "54  [blockchain, the, and, of blockchain, of, bloc...   \n",
       "55  [de, les, game, game engines, le, moteurs de, ...   \n",
       "\n",
       "                                  Representative_Docs  \n",
       "0   [Use of Artificial Intelligence Technologies i...  \n",
       "1   [Demystifying artificial intelligence nan, Enc...  \n",
       "2   [Use of artificial intelligence in synthetic m...  \n",
       "3   [A survey of pregnant patients perspectives on...  \n",
       "4   [ARTIFICIALINTELLIGENCE AND INFORMATIONRETRIEV...  \n",
       "5   [Productivity trends and citation impact of di...  \n",
       "6   [Mapping the challenges of Artificial Intellig...  \n",
       "7   [Casebased reasoning using electronic health r...  \n",
       "8   [An empirical study of factors influencing usa...  \n",
       "9   [Role of enterprise information system managem...  \n",
       "10  [Mapping global research on expert systems Pur...  \n",
       "11  [The appropriation of conversational AI in the...  \n",
       "12  [Local regulations for the use of artificial i...  \n",
       "13  [Adaptation algorithms for selecting personali...  \n",
       "14  [Policy framework to apply artificial intellig...  \n",
       "15  [From benchmark to bedside transfer learning f...  \n",
       "16  [An overview of assessing the quality of peer ...  \n",
       "17  [A research agenda for GIScience in a time of ...  \n",
       "18  [Towards an automatic user profiling system fo...  \n",
       "19  [The use and effects of knowledgebased system ...  \n",
       "20  [Applications of Machine Learning in Knowledge...  \n",
       "21  [So what if ChatGPT wrote it Multidisciplinary...  \n",
       "22  [Mining the Context of Citations in Scientific...  \n",
       "23  [Artificial intelligence and information manag...  \n",
       "24  [On the feasibility of Federated Learning towa...  \n",
       "25  [Artificial Intelligence powered Internet of T...  \n",
       "26  [Technological adoptions and sectorspecific in...  \n",
       "27  [Enriching Semantic Relations of Basic Science...  \n",
       "28  [EXPERTISE TASK COMPLEXITY AND ARTIFICIALINTEL...  \n",
       "29  [Software documentation is not enough Requirem...  \n",
       "30  [Regarding the Issue of the Essence of Legal T...  \n",
       "31  [Building artificial intelligence enabled resi...  \n",
       "32  [Robots ethical by design Among ethicists and ...  \n",
       "33  [Influence of algorithmic management practices...  \n",
       "34  [Using Government Data and Machine Learning fo...  \n",
       "35  [Conversational AI Chatbots in library researc...  \n",
       "36  [Integral system safety for machine learning i...  \n",
       "37  [Harmony in intelligent hybrid teams the influ...  \n",
       "38  [EAdoption of Emerging Technology in the Healt...  \n",
       "39  [Artificial intelligence AI in strategic marke...  \n",
       "40  [Partners of humans a realistic assessment of ...  \n",
       "41  [The use of public sector data analytics in th...  \n",
       "42  [The gendered lens of AI examining news imager...  \n",
       "43  [Bringing all clients into the system  Profess...  \n",
       "44  [Project management openings for disruption fr...  \n",
       "45  [Prospects for the global governance of autono...  \n",
       "46  [The impact of artificial intelligence on data...  \n",
       "47  [Knowledge mapping of data literacy A bibliome...  \n",
       "48  [Web mining for innovation ecosystem mapping a...  \n",
       "49  [An AgentBased Collaborative Approach to Graph...  \n",
       "50  [Artificial intelligence in the information ec...  \n",
       "51  [NEW METHODS FOR INFORMATION ACCESS AT LIBRARI...  \n",
       "52  [Boundary Objects a bridge between information...  \n",
       "53  [An Intelligent CognitiveInspired Computing wi...  \n",
       "54  [A comprehensive survey on social engineering ...  \n",
       "55  [The Common Future of Esport and Robopsycholog...  "
      ]
     },
     "execution_count": 80,
     "metadata": {},
     "output_type": "execute_result"
    }
   ],
   "source": [
    "# Get the list of topics\n",
    "# Topic = the topic number. From the largest topic.\n",
    "#         \"-1\" is the generic topic. Genericr keywords are aggegrated here.\n",
    "# Count = Documents assigned to this topic\n",
    "# Name = Top 4 words of the topic based on probability\n",
    "# Representation = The list of words representing this topic\n",
    "# Representative_Docs = Documents assigned to this topic\n",
    "tm_summary = topic_model.get_topic_info()\n",
    "tm_summary"
   ]
  },
  {
   "cell_type": "code",
   "execution_count": 81,
   "metadata": {
    "id": "k9mN1tgZQupy"
   },
   "outputs": [],
   "source": [
    "# Save the topic model assets\n",
    "tm_folder_path = f'{ROOT_FOLDER_PATH}/{project_folder}/{settings[\"metadata\"][\"analysis_id\"]}'\n",
    "\n",
    "if not os.path.exists(tm_folder_path):\n",
    "  !mkdir $tm_folder_path\n",
    "\n",
    "tm_summary.to_csv(f'{tm_folder_path}/topic_model_info.csv', index=False)"
   ]
  },
  {
   "cell_type": "code",
   "execution_count": 82,
   "metadata": {
    "colab": {
     "base_uri": "https://localhost:8080/"
    },
    "id": "WuE0vkbp3fVL",
    "outputId": "aa8ebf45-cdd3-4161-9ac4-1343c91f47da"
   },
   "outputs": [
    {
     "data": {
      "text/plain": [
       "56"
      ]
     },
     "execution_count": 82,
     "metadata": {},
     "output_type": "execute_result"
    }
   ],
   "source": [
    "# Number of topics found\n",
    "found_topics = max(tm_summary.Topic) + 1\n",
    "found_topics"
   ]
  },
  {
   "cell_type": "code",
   "execution_count": 83,
   "metadata": {
    "colab": {
     "base_uri": "https://localhost:8080/"
    },
    "id": "KjKUcNMdwFHQ",
    "outputId": "b3549b7c-4c8a-4b82-8d87-6a46774e4694"
   },
   "outputs": [
    {
     "data": {
      "text/plain": [
       "True"
      ]
     },
     "execution_count": 83,
     "metadata": {},
     "output_type": "execute_result"
    }
   ],
   "source": [
    "# Confirm all documents are assigned\n",
    "sum(tm_summary.Count) == len(corpus)"
   ]
  },
  {
   "cell_type": "code",
   "execution_count": 84,
   "metadata": {
    "colab": {
     "base_uri": "https://localhost:8080/"
    },
    "id": "bGyoQT47xY_R",
    "outputId": "9affafe5-0ff7-4edf-d9f6-3d7a7eda04eb"
   },
   "outputs": [
    {
     "data": {
      "text/plain": [
       "[('libraries', 0.0219238562902162),\n",
       " ('library', 0.016931208404270922),\n",
       " ('the', 0.01333105667948891),\n",
       " ('and', 0.012931610618121786),\n",
       " ('in', 0.011742400804040693),\n",
       " ('of', 0.011518129916442481),\n",
       " ('academic', 0.010573681900540142),\n",
       " ('ai', 0.010441164644471021),\n",
       " ('to', 0.01021897724118123),\n",
       " ('librarians', 0.009455601321378335)]"
      ]
     },
     "execution_count": 84,
     "metadata": {},
     "output_type": "execute_result"
    }
   ],
   "source": [
    "# Get top 10 terms for a topic\n",
    "topic_model.get_topic(0)"
   ]
  },
  {
   "cell_type": "code",
   "execution_count": 85,
   "metadata": {
    "colab": {
     "base_uri": "https://localhost:8080/"
    },
    "id": "PU99D2xhxoOY",
    "outputId": "4e90e928-9bbf-40c3-c3b5-a1a50abe82f0"
   },
   "outputs": [
    {
     "data": {
      "text/plain": [
       "['Use of Artificial Intelligence Technologies in Rendering Library Services An Empirical Evidence from University Libraries in Africa The main purpose of this paper is to investigate the level of adoption of artificial intelligenceAI to support library services delivery in university libraries in Africa Qualitative research method was adopted to collect data A preliminary survey of  university libraries in English speaking countries in Africa was conducted to identify the university libraries that have adopted AI in their libraries Content analysis was used to analyse the responses The study found that the only few university libraries in Africa have adopted AI technologies such as Chatbot ChatGPT LibKey from ThirdIron robots RFID technology and Grammarly These AI technologies are used to render different library services like answering of directional and ready reference questions posed by library users serving as a knowledge base for cataloguing information of library materials selfcheckout machine for books used as a marketing tool for the library tool for statistics evaluation and recommendations assisting in the charging and discharging of library materials etc Lack of funds to acquire the AI tools training of librarians and lack of full knowledge of AI were the most mentioned challenges associated with adoption of AI in the libraries The study recommended a formulation of policy to guide the adoption of new technologies such as AI and training and retraining of librarians through workshops equip librarians with skills needed to effectively use the AI technologies',\n",
       " 'Transforming academic library operations in Africa with artificial intelligence Opportunities and challenges A review paper This paper focuses on the opportunities and challenges associated with the use of artificial intelligence AI in academic library operations In the quest to render fast effective and efficient services academic libraries have adopted different technologies in the past Artificial intelligence technologies is the latest among the technologies currently being introduced in libraries The technology which is considered an intelligent system come in the form of robots and expert systems which have natural language processing machine learning and pattern recognition capabilities This paper examined the features of AI the application of AI to library operations examples of academic libraries with AI technologies in SubSaharan Africa the need for AI in libraries and the challenges associated with the adoption of AI in libraries The study concluded that AI holds a lot of prospects for the improvement of information services delivery in African academic libraries Consequently its adoption is a sinequanon to delivering robust library services in the Fourth Industrial Revolution IR',\n",
       " 'Readiness of academic librarians towards the use of robotic technologies in Nigerian university libraries Purpose The purpose of the article is to investigate readiness of academic librarians toward the use of robotic technologies in Nigerian university libraries The article provides further insights on the following areas center dot What are the levels of readiness of university libraries in Nigeria towards robotic technologies in terms of digital infrastructure policy framework and human development for the adoption and use of robotics in the libraries center dot What services are available in the university libraries that can be handled by robotic technologies center dot Are academic librarians aware of the potential benefits of robotics in library operations center dot What are the potential challenges that university libraries may face in the adoption and use of robotic technologies Designmethodologyapproach The study is a survey research anchored on positivism paradigm The questionnaire was used as data collection instrument Furthermore  academic librarians were selected from the ten purposively selected ten universities Snowballing sample technique was used to select ten academic librarians from each of the university libraries Findings The findings of the study revealed that the readiness of university libraries in Nigeria towards the adoption and use of robotic technologies in Nigeria is nothing to write home about It indicates that university libraries in the country are not ready to adopt the use of this technology despite the high benefits they have to offer in library operations Research limitationsimplications The limitations of the study lay on the fact that very few librarians from each of the selected university libraries were selected and at the same time it covers only ten university libraries in the country Originalityvalue The study is very important to university library management on the necessary steps that need to be taken for the effective adoption of robotic technologies This research can be a guide to them In addition the empirical analysis of the study contributes to social informatics development in Nigeria']"
      ]
     },
     "execution_count": 85,
     "metadata": {},
     "output_type": "execute_result"
    }
   ],
   "source": [
    "# Get the top 10 documents for a topic\n",
    "topic_model.get_representative_docs(0)"
   ]
  },
  {
   "cell_type": "code",
   "execution_count": 86,
   "metadata": {
    "id": "1CgYkbHN9I2T"
   },
   "outputs": [],
   "source": [
    "# Others\n",
    "\n",
    "# # Get the number of documents per topic (same as in the table above)\n",
    "# topic_model.get_topic_freq(0)\n",
    "\n",
    "# # Get the main keywords per topic\n",
    "# topic_model.get_topics()"
   ]
  },
  {
   "cell_type": "code",
   "execution_count": 87,
   "metadata": {
    "colab": {
     "base_uri": "https://localhost:8080/"
    },
    "id": "JQKxUqHN9RT7",
    "outputId": "c572d73b-fc91-4c84-dc79-8f047b046aa2"
   },
   "outputs": [
    {
     "data": {
      "text/plain": [
       "{'calculate_probabilities': True,\n",
       " 'ctfidf_model': ClassTfidfTransformer(),\n",
       " 'embedding_model': None,\n",
       " 'hdbscan_model': KMeans(n_clusters=56),\n",
       " 'language': 'english',\n",
       " 'low_memory': False,\n",
       " 'min_topic_size': 10,\n",
       " 'n_gram_range': (1, 3),\n",
       " 'nr_topics': None,\n",
       " 'representation_model': None,\n",
       " 'seed_topic_list': None,\n",
       " 'top_n_words': 10,\n",
       " 'umap_model': UMAP(angular_rp_forest=True, metric='cosine', min_dist=0.0, n_components=5, n_jobs=1, random_state=100, tqdm_kwds={'bar_format': '{desc}: {percentage:3.0f}%| {bar} {n_fmt}/{total_fmt} [{elapsed}]', 'desc': 'Epochs completed', 'disable': True}),\n",
       " 'vectorizer_model': CountVectorizer(ngram_range=(1, 3)),\n",
       " 'verbose': True,\n",
       " 'zeroshot_min_similarity': 0.7,\n",
       " 'zeroshot_topic_list': None}"
      ]
     },
     "execution_count": 87,
     "metadata": {},
     "output_type": "execute_result"
    }
   ],
   "source": [
    "# Print the parameters used. (For reporting)\n",
    "topic_model.get_params()"
   ]
  },
  {
   "cell_type": "code",
   "execution_count": 88,
   "metadata": {
    "colab": {
     "base_uri": "https://localhost:8080/"
    },
    "id": "G8hwSK98RM9-",
    "outputId": "07a40193-c69a-4356-b1b0-ac721ef78c08"
   },
   "outputs": [
    {
     "name": "stdout",
     "output_type": "stream",
     "text": [
      "Done\n"
     ]
    }
   ],
   "source": [
    "tm_params = dict(topic_model.get_params())\n",
    "for key, value in tm_params.items():\n",
    "    tm_params[key]=  str(value)\n",
    "with open(f'{tm_folder_path}/topic_model_params.json', 'w') as f:\n",
    "    json.dump(tm_params, f, ensure_ascii=False, indent=4)\n",
    "    print('Done')"
   ]
  },
  {
   "cell_type": "code",
   "execution_count": 89,
   "metadata": {
    "colab": {
     "base_uri": "https://localhost:8080/"
    },
    "id": "5v4Wvn3ZAkZP",
    "outputId": "ea347717-a33e-40ad-ad2d-51798cbc5b5f"
   },
   "outputs": [
    {
     "name": "stderr",
     "output_type": "stream",
     "text": [
      "100%|██████████| 3/3 [00:04<00:00,  1.49s/it]\n"
     ]
    }
   ],
   "source": [
    "# Get the topic score for each paper and its assigned topic\n",
    "topic_distr, _ = topic_model.approximate_distribution(documents, batch_size=1000)\n",
    "distributions = [distr[topic] if topic != -1 else 0 for topic, distr in zip(topics, topic_distr)]"
   ]
  },
  {
   "cell_type": "code",
   "execution_count": 90,
   "metadata": {
    "colab": {
     "base_uri": "https://localhost:8080/"
    },
    "id": "6OTw5go4yVvM",
    "outputId": "7dfa090e-776f-4922-d611-325b1510ccab"
   },
   "outputs": [
    {
     "data": {
      "text/plain": [
       "array([[0.50511854, 0.17508381, 0.        , ..., 0.        , 0.        ,\n",
       "        0.        ],\n",
       "       [0.        , 0.46043877, 0.        , ..., 0.        , 0.        ,\n",
       "        0.        ],\n",
       "       [0.23628946, 0.15901337, 0.03527186, ..., 0.        , 0.        ,\n",
       "        0.        ],\n",
       "       ...,\n",
       "       [0.0261859 , 0.18536002, 0.0713683 , ..., 0.        , 0.        ,\n",
       "        0.        ],\n",
       "       [0.04917815, 0.12997984, 0.0378495 , ..., 0.        , 0.        ,\n",
       "        0.        ],\n",
       "       [0.05768826, 0.12999131, 0.0507296 , ..., 0.        , 0.        ,\n",
       "        0.        ]])"
      ]
     },
     "execution_count": 90,
     "metadata": {},
     "output_type": "execute_result"
    }
   ],
   "source": [
    "topic_distr"
   ]
  },
  {
   "cell_type": "code",
   "execution_count": 91,
   "metadata": {
    "colab": {
     "base_uri": "https://localhost:8080/",
     "height": 591
    },
    "id": "I7E0_6bv9hBp",
    "outputId": "06faea2f-1c00-4ca7-958b-4dd2dcb10c36"
   },
   "outputs": [
    {
     "data": {
      "text/html": [
       "<div>\n",
       "<style scoped>\n",
       "    .dataframe tbody tr th:only-of-type {\n",
       "        vertical-align: middle;\n",
       "    }\n",
       "\n",
       "    .dataframe tbody tr th {\n",
       "        vertical-align: top;\n",
       "    }\n",
       "\n",
       "    .dataframe thead th {\n",
       "        text-align: right;\n",
       "    }\n",
       "</style>\n",
       "<table border=\"1\" class=\"dataframe\">\n",
       "  <thead>\n",
       "    <tr style=\"text-align: right;\">\n",
       "      <th></th>\n",
       "      <th>UT</th>\n",
       "      <th>Document</th>\n",
       "      <th>Topic</th>\n",
       "      <th>Name</th>\n",
       "      <th>Representation</th>\n",
       "      <th>Representative_Docs</th>\n",
       "      <th>Top_n_words</th>\n",
       "      <th>Representative_document</th>\n",
       "      <th>Score</th>\n",
       "      <th>X_E</th>\n",
       "      <th>X_C</th>\n",
       "      <th>level0</th>\n",
       "      <th>cl99</th>\n",
       "      <th>cl-99</th>\n",
       "    </tr>\n",
       "  </thead>\n",
       "  <tbody>\n",
       "    <tr>\n",
       "      <th>0</th>\n",
       "      <td>WOS:001153914800001</td>\n",
       "      <td>Artificial Intelligence and Filipino Academic ...</td>\n",
       "      <td>0</td>\n",
       "      <td>0_libraries_library_the_and</td>\n",
       "      <td>[libraries, library, the, and, in, of, academi...</td>\n",
       "      <td>[Use of Artificial Intelligence Technologies i...</td>\n",
       "      <td>libraries - library - the - and - in - of - ac...</td>\n",
       "      <td>False</td>\n",
       "      <td>0.505119</td>\n",
       "      <td>0.505119</td>\n",
       "      <td>1</td>\n",
       "      <td>1</td>\n",
       "      <td>False</td>\n",
       "      <td>False</td>\n",
       "    </tr>\n",
       "    <tr>\n",
       "      <th>1</th>\n",
       "      <td>WOS:000821701500002</td>\n",
       "      <td>Design of Interactive Teaching System of Physi...</td>\n",
       "      <td>13</td>\n",
       "      <td>13_the_of_and_students</td>\n",
       "      <td>[the, of, and, students, learning, education, ...</td>\n",
       "      <td>[Adaptation algorithms for selecting personali...</td>\n",
       "      <td>the - of - and - students - learning - educati...</td>\n",
       "      <td>False</td>\n",
       "      <td>0.265050</td>\n",
       "      <td>0.265050</td>\n",
       "      <td>14</td>\n",
       "      <td>14</td>\n",
       "      <td>False</td>\n",
       "      <td>False</td>\n",
       "    </tr>\n",
       "    <tr>\n",
       "      <th>2</th>\n",
       "      <td>WOS:001327261700001</td>\n",
       "      <td>Artificial intelligence and academic integrity...</td>\n",
       "      <td>0</td>\n",
       "      <td>0_libraries_library_the_and</td>\n",
       "      <td>[libraries, library, the, and, in, of, academi...</td>\n",
       "      <td>[Use of Artificial Intelligence Technologies i...</td>\n",
       "      <td>libraries - library - the - and - in - of - ac...</td>\n",
       "      <td>False</td>\n",
       "      <td>0.236289</td>\n",
       "      <td>0.236289</td>\n",
       "      <td>1</td>\n",
       "      <td>1</td>\n",
       "      <td>False</td>\n",
       "      <td>False</td>\n",
       "    </tr>\n",
       "    <tr>\n",
       "      <th>3</th>\n",
       "      <td>WOS:000788120900001</td>\n",
       "      <td>A review on digitalization trends in patent in...</td>\n",
       "      <td>26</td>\n",
       "      <td>26_patent_the_patents_of</td>\n",
       "      <td>[patent, the, patents, of, and, in, technology...</td>\n",
       "      <td>[Technological adoptions and sectorspecific in...</td>\n",
       "      <td>patent - the - patents - of - and - in - techn...</td>\n",
       "      <td>False</td>\n",
       "      <td>0.704238</td>\n",
       "      <td>0.704238</td>\n",
       "      <td>27</td>\n",
       "      <td>27</td>\n",
       "      <td>False</td>\n",
       "      <td>False</td>\n",
       "    </tr>\n",
       "    <tr>\n",
       "      <th>4</th>\n",
       "      <td>WOS:000618806300006</td>\n",
       "      <td>The strategic use of artificial intelligence i...</td>\n",
       "      <td>9</td>\n",
       "      <td>9_the_ai_and_of</td>\n",
       "      <td>[the, ai, and, of, to, study, adoption, in, pe...</td>\n",
       "      <td>[Role of enterprise information system managem...</td>\n",
       "      <td>the - ai - and - of - to - study - adoption - ...</td>\n",
       "      <td>False</td>\n",
       "      <td>0.033290</td>\n",
       "      <td>0.033290</td>\n",
       "      <td>10</td>\n",
       "      <td>10</td>\n",
       "      <td>False</td>\n",
       "      <td>False</td>\n",
       "    </tr>\n",
       "  </tbody>\n",
       "</table>\n",
       "</div>"
      ],
      "text/plain": [
       "                    UT                                           Document  \\\n",
       "0  WOS:001153914800001  Artificial Intelligence and Filipino Academic ...   \n",
       "1  WOS:000821701500002  Design of Interactive Teaching System of Physi...   \n",
       "2  WOS:001327261700001  Artificial intelligence and academic integrity...   \n",
       "3  WOS:000788120900001  A review on digitalization trends in patent in...   \n",
       "4  WOS:000618806300006  The strategic use of artificial intelligence i...   \n",
       "\n",
       "   Topic                         Name  \\\n",
       "0      0  0_libraries_library_the_and   \n",
       "1     13       13_the_of_and_students   \n",
       "2      0  0_libraries_library_the_and   \n",
       "3     26     26_patent_the_patents_of   \n",
       "4      9              9_the_ai_and_of   \n",
       "\n",
       "                                      Representation  \\\n",
       "0  [libraries, library, the, and, in, of, academi...   \n",
       "1  [the, of, and, students, learning, education, ...   \n",
       "2  [libraries, library, the, and, in, of, academi...   \n",
       "3  [patent, the, patents, of, and, in, technology...   \n",
       "4  [the, ai, and, of, to, study, adoption, in, pe...   \n",
       "\n",
       "                                 Representative_Docs  \\\n",
       "0  [Use of Artificial Intelligence Technologies i...   \n",
       "1  [Adaptation algorithms for selecting personali...   \n",
       "2  [Use of Artificial Intelligence Technologies i...   \n",
       "3  [Technological adoptions and sectorspecific in...   \n",
       "4  [Role of enterprise information system managem...   \n",
       "\n",
       "                                         Top_n_words  Representative_document  \\\n",
       "0  libraries - library - the - and - in - of - ac...                    False   \n",
       "1  the - of - and - students - learning - educati...                    False   \n",
       "2  libraries - library - the - and - in - of - ac...                    False   \n",
       "3  patent - the - patents - of - and - in - techn...                    False   \n",
       "4  the - ai - and - of - to - study - adoption - ...                    False   \n",
       "\n",
       "      Score       X_E  X_C  level0   cl99  cl-99  \n",
       "0  0.505119  0.505119    1       1  False  False  \n",
       "1  0.265050  0.265050   14      14  False  False  \n",
       "2  0.236289  0.236289    1       1  False  False  \n",
       "3  0.704238  0.704238   27      27  False  False  \n",
       "4  0.033290  0.033290   10      10  False  False  "
      ]
     },
     "execution_count": 91,
     "metadata": {},
     "output_type": "execute_result"
    }
   ],
   "source": [
    "# Document information. Including the topic assignation\n",
    "dataset_clustering_results = topic_model.get_document_info(documents, df = corpus, metadata={\"Score\": distributions})\n",
    "\n",
    "# Standar format for report analysis\n",
    "dataset_clustering_results = dataset_clustering_results.drop(columns=['text'])\n",
    "dataset_clustering_results['X_E'] = dataset_clustering_results['Score']\n",
    "dataset_clustering_results['X_C'] = dataset_clustering_results['Topic'] + 1\n",
    "dataset_clustering_results['level0'] = dataset_clustering_results['Topic'] + 1\n",
    "dataset_clustering_results['cl99'] = False\n",
    "dataset_clustering_results['cl-99'] = False\n",
    "dataset_clustering_results.head()"
   ]
  },
  {
   "cell_type": "code",
   "execution_count": 92,
   "metadata": {
    "id": "eyQDhrjyc6Oh"
   },
   "outputs": [],
   "source": [
    "# Save the dataframe\n",
    "dataset_clustering_results.to_csv(f'{tm_folder_path}/dataset_minimal.csv', index=False)"
   ]
  },
  {
   "cell_type": "code",
   "execution_count": 93,
   "metadata": {
    "colab": {
     "base_uri": "https://localhost:8080/"
    },
    "id": "1RYcsXanZvrr",
    "outputId": "d625d86f-5897-4d75-8b32-54f2dd258ad3"
   },
   "outputs": [
    {
     "name": "stderr",
     "output_type": "stream",
     "text": [
      "2025-01-30 23:49:43,725 - BERTopic - WARNING: When you use `pickle` to save/load a BERTopic model,please make sure that the environments in which you saveand load the model are **exactly** the same. The version of BERTopic,its dependencies, and python need to remain the same.\n"
     ]
    }
   ],
   "source": [
    "# Save the topic model\n",
    "topic_model.save(f'{tm_folder_path}/topic_model_object.pck')"
   ]
  },
  {
   "cell_type": "markdown",
   "metadata": {
    "id": "SX1EBSOY3Pz1"
   },
   "source": [
    "\n",
    "\n",
    "---\n",
    "\n"
   ]
  }
 ],
 "metadata": {
  "colab": {
   "authorship_tag": "ABX9TyM4oE6dpT6UwjIg42kzzsWo",
   "include_colab_link": true,
   "provenance": [],
   "toc_visible": true
  },
  "kernelspec": {
   "display_name": "env-tm",
   "language": "python",
   "name": "python3"
  },
  "language_info": {
   "codemirror_mode": {
    "name": "ipython",
    "version": 3
   },
   "file_extension": ".py",
   "mimetype": "text/x-python",
   "name": "python",
   "nbconvert_exporter": "python",
   "pygments_lexer": "ipython3",
   "version": "3.11.7"
  }
 },
 "nbformat": 4,
 "nbformat_minor": 0
}
