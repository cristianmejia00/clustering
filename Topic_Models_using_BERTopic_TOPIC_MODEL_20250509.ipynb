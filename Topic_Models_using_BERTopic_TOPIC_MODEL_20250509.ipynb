{
 "cells": [
  {
   "cell_type": "markdown",
   "metadata": {
    "colab_type": "text",
    "id": "view-in-github"
   },
   "source": [
    "<a href=\"https://colab.research.google.com/github/cristianmejia00/clustering/blob/main/Topic_Models_using_BERTopic_TOPIC_MODEL_20241101.ipynb\" target=\"_parent\"><img src=\"https://colab.research.google.com/assets/colab-badge.svg\" alt=\"Open In Colab\"/></a>"
   ]
  },
  {
   "cell_type": "markdown",
   "metadata": {
    "id": "Zj3lYckpO2Yn"
   },
   "source": [
    "# Topic Modeling with BERTopic\n",
    "\n",
    "🔴 copied from the [Kubota Colab](https://colab.research.google.com/drive/1YsDp5_qGXGJKsEXsS8DO8CA_lqZc6EpA).  \n",
    "\n",
    "`Topic Models` are methods to automatically organize a corpus of text into topics.\n",
    "\n",
    "Topic Model process:\n",
    "1. Data preparation\n",
    "2. Tranform text to numeric vectors\n",
    "3. Multidimensionality reduction\n",
    "4. Clustering\n",
    "5. Topic analysis\n",
    "6. Cluster assignation\n",
    "\n",
    "\n",
    "This notebook uses the library `BERTopic` which is a one-stop solution for topic modeling including handy functions for plotting and analysis. However, BERTopic does not have a function to extract the X and Y coords from UMAP. If we need the coordinates then use the notebooks `Topic_Models_using_Transformers` instead. In any other situation, when a quick analysis is needed this notebook may be better.\n",
    "\n",
    "This notebook is also the one needed for the heatmap codes included in this folder.\n",
    "\n",
    "`BERTopic` is Python library that handles steps 2 to 6.\n",
    "BERT topic models use the transformer architechture to generate the embeds (i.e. the vector or numeric representation of words) and are currently the state-of-the-art method for vectorization.\n",
    "\n",
    "This notebook shows how to use it.\n",
    "\n",
    "---\n",
    "Reading:\n",
    "[Topic Modeling with Deep Learning Using Python BERTopic](https://medium.com/grabngoinfo/topic-modeling-with-deep-learning-using-python-bertopic-cf91f5676504)\n",
    "[Advanced Topic Modeling with BERTopic](https://www.pinecone.io/learn/bertopic/)\n"
   ]
  },
  {
   "cell_type": "markdown",
   "metadata": {
    "id": "WlufmOowbHSF"
   },
   "source": [
    "# Requirements"
   ]
  },
  {
   "cell_type": "markdown",
   "metadata": {
    "id": "kFQU-BC5ReYd"
   },
   "source": [
    "## Packages installation and initialization"
   ]
  },
  {
   "cell_type": "code",
   "execution_count": null,
   "metadata": {
    "colab": {
     "base_uri": "https://localhost:8080/"
    },
    "collapsed": true,
    "id": "ckx8hOIyRZvv",
    "outputId": "20e7642f-824b-4ba1-86cc-5a97c89670c5"
   },
   "outputs": [],
   "source": [
    "#!pip install bertopic[visualization]"
   ]
  },
  {
   "cell_type": "code",
   "execution_count": 1,
   "metadata": {
    "id": "gMlZ_7DkOxGG"
   },
   "outputs": [
    {
     "name": "stderr",
     "output_type": "stream",
     "text": [
      "/Users/cristian/Desktop/GitHub/clustering/env-tm/lib/python3.11/site-packages/tqdm/auto.py:21: TqdmWarning: IProgress not found. Please update jupyter and ipywidgets. See https://ipywidgets.readthedocs.io/en/stable/user_install.html\n",
      "  from .autonotebook import tqdm as notebook_tqdm\n"
     ]
    }
   ],
   "source": [
    "import pandas as pd\n",
    "import numpy as np\n",
    "import time\n",
    "import math\n",
    "import uuid\n",
    "import re\n",
    "import os\n",
    "import json\n",
    "import pickle\n",
    "from datetime import date\n",
    "from itertools import compress\n",
    "from bertopic import BERTopic\n",
    "from umap import UMAP\n",
    "from gensim.parsing.preprocessing import remove_stopwords\n",
    "from sklearn.cluster import KMeans\n",
    "from sentence_transformers import SentenceTransformer"
   ]
  },
  {
   "cell_type": "markdown",
   "metadata": {
    "id": "SZ1BccaqRtS0"
   },
   "source": [
    "## Connect your Google Drive"
   ]
  },
  {
   "cell_type": "code",
   "execution_count": 2,
   "metadata": {
    "colab": {
     "base_uri": "https://localhost:8080/"
    },
    "id": "6os5BGPFRxfX",
    "outputId": "41e02c25-1dc9-426e-f441-874fc600fc70"
   },
   "outputs": [],
   "source": [
    "# from google.colab import drive\n",
    "# drive.mount('/content/drive')"
   ]
  },
  {
   "cell_type": "code",
   "execution_count": 2,
   "metadata": {
    "id": "f2p9sY7sUYkU"
   },
   "outputs": [],
   "source": [
    "def find_e_keys(dictionary):\n",
    "    # List comprehension to find keys starting with 'e'\n",
    "    e_keys = [key for key in dictionary if str(key).lower().startswith('e')]\n",
    "    return e_keys"
   ]
  },
  {
   "cell_type": "markdown",
   "metadata": {
    "id": "dDm5-r5oR98q"
   },
   "source": [
    "# 🔴 Input files and options\n",
    "\n",
    "Go to your Google Drive and create a folder in the root directory. We are going to save all related data in that directory.\n",
    "Upload the dataset of news into the above folder.\n",
    "- The dataset should be a `.csv` file.\n",
    "- Every row in the dataset is a document\n",
    "- It can any kind of columns. Some columns must contain the text we want to analyze. For example, a dataset of academic articles may contain a \"Title\" and/or \"Abstract\" column."
   ]
  },
  {
   "cell_type": "code",
   "execution_count": 3,
   "metadata": {
    "id": "5ICq5zQbSJa8"
   },
   "outputs": [],
   "source": [
    "# The bibliometrics folder\n",
    "# Colab\n",
    "ROOT_FOLDER_PATH = \"drive/MyDrive/Bibliometrics_Drive\"\n",
    "\n",
    "# Mac\n",
    "ROOT_FOLDER_PATH = \"/Users/cristian/Library/CloudStorage/GoogleDrive-cristianmejia00@gmail.com/My Drive/Bibliometrics_Drive\"\n",
    "\n",
    "# Change to the name of the folder where the dataset is uploaded inside the above folder\n",
    "project_folder = 'Q338_synthetic_biology_test'\n",
    "\n",
    "analysis_id = 'a01_tm__f01_e01__hdbs'\n",
    "\n",
    "# Filtered label\n",
    "settings_directive = \"settings_analysis_directive_2025-08-04-10-59.json\""
   ]
  },
  {
   "cell_type": "code",
   "execution_count": 4,
   "metadata": {
    "id": "QpoR8P3O0ACf"
   },
   "outputs": [],
   "source": [
    "# Read settings\n",
    "with open(f'{ROOT_FOLDER_PATH}/{project_folder}/{analysis_id}/{settings_directive}', 'r') as file:\n",
    "    settings = json.load(file)"
   ]
  },
  {
   "cell_type": "code",
   "execution_count": 5,
   "metadata": {
    "id": "COh3zc3b2oAn"
   },
   "outputs": [],
   "source": [
    "# Input dataset\n",
    "dataset_file_path = f\"{ROOT_FOLDER_PATH}/{settings['metadata']['project_folder']}/{settings['metadata']['filtered_folder']}/dataset_raw_cleaned.csv\""
   ]
  },
  {
   "cell_type": "code",
   "execution_count": 6,
   "metadata": {
    "id": "biEFdxrm0WrO"
   },
   "outputs": [],
   "source": [
    "# Function to save files\n",
    "def save_as_csv(df, save_name_without_extension, with_index):\n",
    "    \"usage: `save_as_csv(dataframe, 'filename')`\"\n",
    "    df.to_csv(f\"{ROOT_FOLDER_PATH}/{save_name_without_extension}.csv\", index=with_index)\n",
    "    print(\"===\\nSaved: \", f\"{ROOT_FOLDER_PATH}/{save_name_without_extension}.csv\")"
   ]
  },
  {
   "cell_type": "code",
   "execution_count": 7,
   "metadata": {
    "id": "Ff7hQXE1dYDw"
   },
   "outputs": [],
   "source": [
    "# prompt: a function to save object to a pickle file\n",
    "def save_object_as_pickle(obj, filename):\n",
    "  \"\"\"\n",
    "  Saves an object as a pickle file.\n",
    "\n",
    "  Args:\n",
    "      obj: The object to be saved.\n",
    "      filename: The filename of the pickle file.\n",
    "  \"\"\"\n",
    "  with open(filename, \"wb\") as f:\n",
    "    pickle.dump(obj, f)\n"
   ]
  },
  {
   "cell_type": "code",
   "execution_count": 8,
   "metadata": {
    "id": "iljQe0_xb2FU"
   },
   "outputs": [],
   "source": [
    "# prompt: a function to load pickle object given a path\n",
    "def load_pickle(path):\n",
    "    with open(path, 'rb') as f:\n",
    "        return pickle.load(f)\n"
   ]
  },
  {
   "cell_type": "code",
   "execution_count": 9,
   "metadata": {
    "colab": {
     "base_uri": "https://localhost:8080/",
     "height": 655
    },
    "id": "Tob-4BIaUbZ9",
    "outputId": "d48eac6d-2af8-4991-af19-5bda2386e6bc"
   },
   "outputs": [
    {
     "name": "stdout",
     "output_type": "stream",
     "text": [
      "(17924, 42)\n"
     ]
    },
    {
     "name": "stderr",
     "output_type": "stream",
     "text": [
      "/var/folders/fj/y97jpw3n765_z56_jv9vqpgc0000gn/T/ipykernel_18189/2630543451.py:2: DtypeWarning: Columns (28) have mixed types. Specify dtype option on import or set low_memory=False.\n",
      "  df = pd.read_csv(f\"{dataset_file_path}\", encoding='latin-1')\n"
     ]
    },
    {
     "data": {
      "text/html": [
       "<div>\n",
       "<style scoped>\n",
       "    .dataframe tbody tr th:only-of-type {\n",
       "        vertical-align: middle;\n",
       "    }\n",
       "\n",
       "    .dataframe tbody tr th {\n",
       "        vertical-align: top;\n",
       "    }\n",
       "\n",
       "    .dataframe thead th {\n",
       "        text-align: right;\n",
       "    }\n",
       "</style>\n",
       "<table border=\"1\" class=\"dataframe\">\n",
       "  <thead>\n",
       "    <tr style=\"text-align: right;\">\n",
       "      <th></th>\n",
       "      <th>X_N</th>\n",
       "      <th>uuid</th>\n",
       "      <th>PT</th>\n",
       "      <th>AU</th>\n",
       "      <th>AF</th>\n",
       "      <th>TI</th>\n",
       "      <th>SO</th>\n",
       "      <th>LA</th>\n",
       "      <th>DT</th>\n",
       "      <th>DE</th>\n",
       "      <th>...</th>\n",
       "      <th>AR</th>\n",
       "      <th>DI</th>\n",
       "      <th>PG</th>\n",
       "      <th>WC</th>\n",
       "      <th>SC</th>\n",
       "      <th>OA</th>\n",
       "      <th>UT</th>\n",
       "      <th>Countries</th>\n",
       "      <th>IsoCountries</th>\n",
       "      <th>Institutions</th>\n",
       "    </tr>\n",
       "  </thead>\n",
       "  <tbody>\n",
       "    <tr>\n",
       "      <th>0</th>\n",
       "      <td>1</td>\n",
       "      <td>fddb5139-d514-474c-a12a-5d87fb90e4fd</td>\n",
       "      <td>J</td>\n",
       "      <td>Trump, BD; Galaitsi, SE; Appleton, E; Bleijs, ...</td>\n",
       "      <td>Trump, Benjamin D.; Galaitsi, S. E.; Appleton,...</td>\n",
       "      <td>Building biosecurity for synthetic biology</td>\n",
       "      <td>MOLECULAR SYSTEMS BIOLOGY</td>\n",
       "      <td>English</td>\n",
       "      <td>Editorial Material</td>\n",
       "      <td>NaN</td>\n",
       "      <td>...</td>\n",
       "      <td>e9723</td>\n",
       "      <td>10.15252/msb.20209723</td>\n",
       "      <td>6</td>\n",
       "      <td>Biochemistry &amp; Molecular Biology</td>\n",
       "      <td>Biochemistry &amp; Molecular Biology</td>\n",
       "      <td>Green Published, gold</td>\n",
       "      <td>WOS:000557477800014</td>\n",
       "      <td>usa; netherlands; switzerland; italy; united k...</td>\n",
       "      <td>USA; NLD; CHE; ITA; GBR; FRA; BGR</td>\n",
       "      <td>us army; harvard univ; netherlands natl inst p...</td>\n",
       "    </tr>\n",
       "    <tr>\n",
       "      <th>1</th>\n",
       "      <td>2</td>\n",
       "      <td>8f3c324d-48e2-46c8-ab64-79b55f9e800b</td>\n",
       "      <td>J</td>\n",
       "      <td>Takano, E; Bovenberg, RAL; Breitling, R</td>\n",
       "      <td>Takano, Eriko; Bovenberg, Roel A. L.; Breitlin...</td>\n",
       "      <td>A turning point for natural product discovery ...</td>\n",
       "      <td>MOLECULAR MICROBIOLOGY</td>\n",
       "      <td>English</td>\n",
       "      <td>Article</td>\n",
       "      <td>NaN</td>\n",
       "      <td>...</td>\n",
       "      <td>NaN</td>\n",
       "      <td>10.1111/j.1365-2958.2012.07984.x</td>\n",
       "      <td>10</td>\n",
       "      <td>Biochemistry &amp; Molecular Biology; Microbiology</td>\n",
       "      <td>Biochemistry &amp; Molecular Biology; Microbiology</td>\n",
       "      <td>Green Published</td>\n",
       "      <td>WOS:000300688800002</td>\n",
       "      <td>netherlands; united kingdom</td>\n",
       "      <td>NLD; GBR</td>\n",
       "      <td>univ groningen; dsm biotechnol ctr; univ glasgow</td>\n",
       "    </tr>\n",
       "    <tr>\n",
       "      <th>2</th>\n",
       "      <td>3</td>\n",
       "      <td>a504a2e3-38bb-46c2-aad7-34f8a0628ac8</td>\n",
       "      <td>J</td>\n",
       "      <td>Arun, KB; Anoopkumar, AN; Sindhu, R; Binod, P;...</td>\n",
       "      <td>Arun, K. B.; Anoopkumar, A. N.; Sindhu, Raveen...</td>\n",
       "      <td>Synthetic biology for sustainable food ingredi...</td>\n",
       "      <td>SYSTEMS MICROBIOLOGY AND BIOMANUFACTURING</td>\n",
       "      <td>English</td>\n",
       "      <td>Review</td>\n",
       "      <td>Synthetics biology; Cell factory; Metabolic en...</td>\n",
       "      <td>...</td>\n",
       "      <td>NaN</td>\n",
       "      <td>10.1007/s43393-022-00150-3</td>\n",
       "      <td>13</td>\n",
       "      <td>Biotechnology &amp; Applied Microbiology</td>\n",
       "      <td>Biotechnology &amp; Applied Microbiology</td>\n",
       "      <td>NaN</td>\n",
       "      <td>WOS:001457594000002</td>\n",
       "      <td>india; peoples r china</td>\n",
       "      <td>IND; CHN</td>\n",
       "      <td>rajiv gandhi ctr biotechnol; christ; univ cali...</td>\n",
       "    </tr>\n",
       "    <tr>\n",
       "      <th>3</th>\n",
       "      <td>4</td>\n",
       "      <td>fb88babb-a79c-4fd0-9c74-cc53466ced07</td>\n",
       "      <td>J</td>\n",
       "      <td>McLaughlin, JA; Pocock, M; Misirli, G; Madsen,...</td>\n",
       "      <td>McLaughlin, James Alastair; Pocock, Matthew; M...</td>\n",
       "      <td>VisBOL: Web-Based Tools for Synthetic Biology ...</td>\n",
       "      <td>ACS SYNTHETIC BIOLOGY</td>\n",
       "      <td>English</td>\n",
       "      <td>Article; Proceedings Paper</td>\n",
       "      <td>synthetic biology; visualization; Synthetic Bi...</td>\n",
       "      <td>...</td>\n",
       "      <td>NaN</td>\n",
       "      <td>10.1021/acssynbio.5b00244</td>\n",
       "      <td>3</td>\n",
       "      <td>Biochemical Research Methods</td>\n",
       "      <td>Biochemistry &amp; Molecular Biology</td>\n",
       "      <td>NaN</td>\n",
       "      <td>WOS:000381847300009</td>\n",
       "      <td>united kingdom</td>\n",
       "      <td>GBR</td>\n",
       "      <td>newcastle univ; turing ate my hamster ltd</td>\n",
       "    </tr>\n",
       "    <tr>\n",
       "      <th>4</th>\n",
       "      <td>5</td>\n",
       "      <td>86021006-d6f5-448a-b0bf-7b1541b745a6</td>\n",
       "      <td>J</td>\n",
       "      <td>Tan, X; Letendre, JH; Collins, JJ; Wong, WW</td>\n",
       "      <td>Tan, Xiao; Letendre, Justin H.; Collins, James...</td>\n",
       "      <td>Synthetic biology in the clinic: engineering v...</td>\n",
       "      <td>CELL</td>\n",
       "      <td>English</td>\n",
       "      <td>Review</td>\n",
       "      <td>NaN</td>\n",
       "      <td>...</td>\n",
       "      <td>NaN</td>\n",
       "      <td>10.1016/j.cell.2021.01.017</td>\n",
       "      <td>18</td>\n",
       "      <td>Biochemistry &amp; Molecular Biology; Cell Biology</td>\n",
       "      <td>Biochemistry &amp; Molecular Biology; Cell Biology</td>\n",
       "      <td>Green Accepted, Green Submitted</td>\n",
       "      <td>WOS:000629633400007</td>\n",
       "      <td>usa</td>\n",
       "      <td>USA</td>\n",
       "      <td>harvard univ; massachusetts gen hosp; harvard ...</td>\n",
       "    </tr>\n",
       "  </tbody>\n",
       "</table>\n",
       "<p>5 rows × 42 columns</p>\n",
       "</div>"
      ],
      "text/plain": [
       "   X_N                                  uuid PT  \\\n",
       "0    1  fddb5139-d514-474c-a12a-5d87fb90e4fd  J   \n",
       "1    2  8f3c324d-48e2-46c8-ab64-79b55f9e800b  J   \n",
       "2    3  a504a2e3-38bb-46c2-aad7-34f8a0628ac8  J   \n",
       "3    4  fb88babb-a79c-4fd0-9c74-cc53466ced07  J   \n",
       "4    5  86021006-d6f5-448a-b0bf-7b1541b745a6  J   \n",
       "\n",
       "                                                  AU  \\\n",
       "0  Trump, BD; Galaitsi, SE; Appleton, E; Bleijs, ...   \n",
       "1            Takano, E; Bovenberg, RAL; Breitling, R   \n",
       "2  Arun, KB; Anoopkumar, AN; Sindhu, R; Binod, P;...   \n",
       "3  McLaughlin, JA; Pocock, M; Misirli, G; Madsen,...   \n",
       "4        Tan, X; Letendre, JH; Collins, JJ; Wong, WW   \n",
       "\n",
       "                                                  AF  \\\n",
       "0  Trump, Benjamin D.; Galaitsi, S. E.; Appleton,...   \n",
       "1  Takano, Eriko; Bovenberg, Roel A. L.; Breitlin...   \n",
       "2  Arun, K. B.; Anoopkumar, A. N.; Sindhu, Raveen...   \n",
       "3  McLaughlin, James Alastair; Pocock, Matthew; M...   \n",
       "4  Tan, Xiao; Letendre, Justin H.; Collins, James...   \n",
       "\n",
       "                                                  TI  \\\n",
       "0         Building biosecurity for synthetic biology   \n",
       "1  A turning point for natural product discovery ...   \n",
       "2  Synthetic biology for sustainable food ingredi...   \n",
       "3  VisBOL: Web-Based Tools for Synthetic Biology ...   \n",
       "4  Synthetic biology in the clinic: engineering v...   \n",
       "\n",
       "                                          SO       LA  \\\n",
       "0                  MOLECULAR SYSTEMS BIOLOGY  English   \n",
       "1                     MOLECULAR MICROBIOLOGY  English   \n",
       "2  SYSTEMS MICROBIOLOGY AND BIOMANUFACTURING  English   \n",
       "3                      ACS SYNTHETIC BIOLOGY  English   \n",
       "4                                       CELL  English   \n",
       "\n",
       "                           DT  \\\n",
       "0          Editorial Material   \n",
       "1                     Article   \n",
       "2                      Review   \n",
       "3  Article; Proceedings Paper   \n",
       "4                      Review   \n",
       "\n",
       "                                                  DE  ...     AR  \\\n",
       "0                                                NaN  ...  e9723   \n",
       "1                                                NaN  ...    NaN   \n",
       "2  Synthetics biology; Cell factory; Metabolic en...  ...    NaN   \n",
       "3  synthetic biology; visualization; Synthetic Bi...  ...    NaN   \n",
       "4                                                NaN  ...    NaN   \n",
       "\n",
       "                                 DI  PG  \\\n",
       "0             10.15252/msb.20209723   6   \n",
       "1  10.1111/j.1365-2958.2012.07984.x  10   \n",
       "2        10.1007/s43393-022-00150-3  13   \n",
       "3         10.1021/acssynbio.5b00244   3   \n",
       "4        10.1016/j.cell.2021.01.017  18   \n",
       "\n",
       "                                               WC  \\\n",
       "0                Biochemistry & Molecular Biology   \n",
       "1  Biochemistry & Molecular Biology; Microbiology   \n",
       "2            Biotechnology & Applied Microbiology   \n",
       "3                    Biochemical Research Methods   \n",
       "4  Biochemistry & Molecular Biology; Cell Biology   \n",
       "\n",
       "                                               SC  \\\n",
       "0                Biochemistry & Molecular Biology   \n",
       "1  Biochemistry & Molecular Biology; Microbiology   \n",
       "2            Biotechnology & Applied Microbiology   \n",
       "3                Biochemistry & Molecular Biology   \n",
       "4  Biochemistry & Molecular Biology; Cell Biology   \n",
       "\n",
       "                                OA                   UT  \\\n",
       "0            Green Published, gold  WOS:000557477800014   \n",
       "1                  Green Published  WOS:000300688800002   \n",
       "2                              NaN  WOS:001457594000002   \n",
       "3                              NaN  WOS:000381847300009   \n",
       "4  Green Accepted, Green Submitted  WOS:000629633400007   \n",
       "\n",
       "                                           Countries  \\\n",
       "0  usa; netherlands; switzerland; italy; united k...   \n",
       "1                        netherlands; united kingdom   \n",
       "2                             india; peoples r china   \n",
       "3                                     united kingdom   \n",
       "4                                                usa   \n",
       "\n",
       "                        IsoCountries  \\\n",
       "0  USA; NLD; CHE; ITA; GBR; FRA; BGR   \n",
       "1                           NLD; GBR   \n",
       "2                           IND; CHN   \n",
       "3                                GBR   \n",
       "4                                USA   \n",
       "\n",
       "                                        Institutions  \n",
       "0  us army; harvard univ; netherlands natl inst p...  \n",
       "1   univ groningen; dsm biotechnol ctr; univ glasgow  \n",
       "2  rajiv gandhi ctr biotechnol; christ; univ cali...  \n",
       "3          newcastle univ; turing ate my hamster ltd  \n",
       "4  harvard univ; massachusetts gen hosp; harvard ...  \n",
       "\n",
       "[5 rows x 42 columns]"
      ]
     },
     "execution_count": 9,
     "metadata": {},
     "output_type": "execute_result"
    }
   ],
   "source": [
    "# Open the data file\n",
    "df = pd.read_csv(f\"{dataset_file_path}\", encoding='latin-1')\n",
    "print(df.shape)\n",
    "df.head()"
   ]
  },
  {
   "cell_type": "markdown",
   "metadata": {
    "id": "9UrPiLepN1s9"
   },
   "source": [
    "\n",
    "\n",
    "---\n",
    "\n"
   ]
  },
  {
   "cell_type": "markdown",
   "metadata": {
    "id": "eK-U-Sl8fc-m"
   },
   "source": [
    "## PART 2: Topic Model"
   ]
  },
  {
   "cell_type": "code",
   "execution_count": 10,
   "metadata": {
    "id": "FhwGnBjFQT4x"
   },
   "outputs": [],
   "source": [
    "# bibliometrics_folder\n",
    "# project_folder\n",
    "# project_name_suffix\n",
    "# ROOT_FOLDER_PATH = f\"drive/MyDrive/{bibliometrics_folder}\"\n",
    "\n",
    "#############################################################\n",
    "# Embeddings folder\n",
    "embeddings_folder_name = settings['tmo']['embeds_folder']\n",
    "\n",
    "# Which column has the year of the documents?\n",
    "my_year = settings['tmo']['year_column']\n",
    "\n",
    "# Number of topics. Select the number of topics to extract.\n",
    "# Choose 0, for automatic detection.\n",
    "n_topics = settings['tmo']['n_topics']\n",
    "\n",
    "# Minimum number of documents per topic\n",
    "min_topic_size = settings['tmo']['min_topic_size']"
   ]
  },
  {
   "cell_type": "code",
   "execution_count": 11,
   "metadata": {
    "id": "9RYSioo2cxxC"
   },
   "outputs": [],
   "source": [
    "# Get the embeddings back.\n",
    "embeddings = load_pickle(f\"{ROOT_FOLDER_PATH}/{project_folder}/{settings['metadata']['filtered_folder']}/{embeddings_folder_name}/embeddings.pck\")\n",
    "corpus =     pd.read_csv(f\"{ROOT_FOLDER_PATH}/{project_folder}/{settings['metadata']['filtered_folder']}/{embeddings_folder_name}/corpus.csv\").reset_index(drop=True)"
   ]
  },
  {
   "cell_type": "code",
   "execution_count": 12,
   "metadata": {
    "id": "injCV_IPN26L"
   },
   "outputs": [],
   "source": [
    "# Combine embeddings\n",
    "documents = corpus.text.to_list()"
   ]
  },
  {
   "cell_type": "code",
   "execution_count": 53,
   "metadata": {
    "id": "ve_oloYNrBLz"
   },
   "outputs": [],
   "source": [
    "# corpus['uuid'] = [uuid.uuid4() for _ in range(len(corpus.index))]\n",
    "# corpus['X_N'] = [i for i in range(1, len(corpus.index)+1)]"
   ]
  },
  {
   "cell_type": "code",
   "execution_count": 13,
   "metadata": {
    "colab": {
     "base_uri": "https://localhost:8080/"
    },
    "id": "onVFOjBZuMmJ",
    "outputId": "4898b936-f4ea-4a7d-8448-a65466de85f2"
   },
   "outputs": [
    {
     "data": {
      "text/plain": [
       "17924"
      ]
     },
     "execution_count": 13,
     "metadata": {},
     "output_type": "execute_result"
    }
   ],
   "source": [
    "len(documents)"
   ]
  },
  {
   "cell_type": "code",
   "execution_count": 14,
   "metadata": {
    "colab": {
     "base_uri": "https://localhost:8080/"
    },
    "id": "S7LeuG_7S4Db",
    "outputId": "4e27c106-2e0c-4630-a741-2fbd5e5512b0"
   },
   "outputs": [
    {
     "data": {
      "text/plain": [
       "True"
      ]
     },
     "execution_count": 14,
     "metadata": {},
     "output_type": "execute_result"
    }
   ],
   "source": [
    "#len(embeddings) == len(documents)\n",
    "len(embeddings['embeddings']) == len(documents)"
   ]
  },
  {
   "cell_type": "code",
   "execution_count": 15,
   "metadata": {
    "id": "n6qUvhGGcPZo"
   },
   "outputs": [],
   "source": [
    "from hdbscan.hdbscan_ import HDBSCAN\n",
    "# Execute the topic model.\n",
    "# I suggest changing the values marked with #<---\n",
    "# The others are the default values and they'll work fine in most cases.\n",
    "# This will take several minutes to finish.\n",
    "\n",
    "# Initiate UMAP\n",
    "umap_model = UMAP(n_neighbors=15,\n",
    "                  n_components=5,\n",
    "                  min_dist=0.0,\n",
    "                  metric='cosine',\n",
    "                  random_state=100)\n",
    "\n",
    "if n_topics == 0:\n",
    "  # Initiate topic model with HDBScan (Automatic topic selection)\n",
    "  topic_model_params = HDBSCAN(min_cluster_size=min_topic_size,\n",
    "                               metric='euclidean',\n",
    "                               cluster_selection_method='eom',\n",
    "                               prediction_data=True)\n",
    "else:\n",
    "  # Initiate topic model with K-means (Manual topic selection)\n",
    "  topic_model_params = KMeans(n_clusters = n_topics)\n",
    "\n",
    "# Initiate BERTopic\n",
    "topic_model = BERTopic(umap_model = umap_model,\n",
    "                       hdbscan_model = topic_model_params,\n",
    "                       min_topic_size=min_topic_size,\n",
    "                       #nr_topics=15,          #<--- Footnote 1\n",
    "                       n_gram_range=(1,3),\n",
    "                       language='english',\n",
    "                       calculate_probabilities=True,\n",
    "                       verbose=True)\n",
    "\n",
    "\n",
    "\n",
    "# Footnote 1: This controls the number of topics we want AFTER clustering.\n",
    "# Add a hashtag at the beggining to use the number of topics returned by the topic model.\n",
    "# When using HDBScan nr_topics will be obtained after orphans removal, and there is no warranty that `nr_topics < HDBScan topics`.\n",
    "# thus, with HDBScan `nr_topics` means N topics OR LESS.\n",
    "# When using KMeans nr_topics can be used to further reduce the number of topics.\n",
    "# We use the topics as returned by the topic model. So we do not need to activate it here."
   ]
  },
  {
   "cell_type": "code",
   "execution_count": 16,
   "metadata": {
    "colab": {
     "base_uri": "https://localhost:8080/"
    },
    "id": "FQQsmPGzUCuB",
    "outputId": "a2b43bac-051a-4599-ad04-a36b1a575a26"
   },
   "outputs": [
    {
     "name": "stderr",
     "output_type": "stream",
     "text": [
      "2025-08-04 11:01:29,007 - BERTopic - Dimensionality - Fitting the dimensionality reduction algorithm\n",
      "OMP: Info #276: omp_set_nested routine deprecated, please use omp_set_max_active_levels instead.\n",
      "2025-08-04 11:01:50,054 - BERTopic - Dimensionality - Completed ✓\n",
      "2025-08-04 11:01:50,055 - BERTopic - Cluster - Start clustering the reduced embeddings\n",
      "2025-08-04 11:04:00,957 - BERTopic - Cluster - Completed ✓\n",
      "2025-08-04 11:04:00,981 - BERTopic - Representation - Extracting topics from clusters using representation models.\n",
      "2025-08-04 11:04:13,094 - BERTopic - Representation - Completed ✓\n"
     ]
    }
   ],
   "source": [
    "# Compute topic model\n",
    "#topics, probabilities = topic_model.fit_transform(documents, embeddings)\n",
    "topics, probabilities = topic_model.fit_transform(documents, embeddings['embeddings'])"
   ]
  },
  {
   "cell_type": "code",
   "execution_count": 17,
   "metadata": {
    "colab": {
     "base_uri": "https://localhost:8080/",
     "height": 424
    },
    "id": "67pgsMtwsFmH",
    "outputId": "82c86e95-6be7-4832-a076-94d8d9dcd8ae"
   },
   "outputs": [
    {
     "data": {
      "text/html": [
       "<div>\n",
       "<style scoped>\n",
       "    .dataframe tbody tr th:only-of-type {\n",
       "        vertical-align: middle;\n",
       "    }\n",
       "\n",
       "    .dataframe tbody tr th {\n",
       "        vertical-align: top;\n",
       "    }\n",
       "\n",
       "    .dataframe thead th {\n",
       "        text-align: right;\n",
       "    }\n",
       "</style>\n",
       "<table border=\"1\" class=\"dataframe\">\n",
       "  <thead>\n",
       "    <tr style=\"text-align: right;\">\n",
       "      <th></th>\n",
       "      <th>Topic</th>\n",
       "      <th>Count</th>\n",
       "      <th>Name</th>\n",
       "      <th>Representation</th>\n",
       "      <th>Representative_Docs</th>\n",
       "    </tr>\n",
       "  </thead>\n",
       "  <tbody>\n",
       "    <tr>\n",
       "      <th>0</th>\n",
       "      <td>-1</td>\n",
       "      <td>6778</td>\n",
       "      <td>-1_of_the_and_in</td>\n",
       "      <td>[of, the, and, in, to, for, we, that, syntheti...</td>\n",
       "      <td>[Advances in the Computational Design of Small...</td>\n",
       "    </tr>\n",
       "    <tr>\n",
       "      <th>1</th>\n",
       "      <td>0</td>\n",
       "      <td>233</td>\n",
       "      <td>0_light_optogenetic_optogenetics_control</td>\n",
       "      <td>[light, optogenetic, optogenetics, control, ph...</td>\n",
       "      <td>[Photosensitive degron variants for tuning pro...</td>\n",
       "    </tr>\n",
       "    <tr>\n",
       "      <th>2</th>\n",
       "      <td>1</td>\n",
       "      <td>179</td>\n",
       "      <td>1_circuits_logic_circuit_computing</td>\n",
       "      <td>[circuits, logic, circuit, computing, gates, g...</td>\n",
       "      <td>[Distributed biological computation from oscil...</td>\n",
       "    </tr>\n",
       "    <tr>\n",
       "      <th>3</th>\n",
       "      <td>2</td>\n",
       "      <td>169</td>\n",
       "      <td>2_cellfree_cfps_protein synthesis_cellfree pro...</td>\n",
       "      <td>[cellfree, cfps, protein synthesis, cellfree p...</td>\n",
       "      <td>[CellFree Synthetic Biology Engineering Beyond...</td>\n",
       "    </tr>\n",
       "    <tr>\n",
       "      <th>4</th>\n",
       "      <td>3</td>\n",
       "      <td>162</td>\n",
       "      <td>3_base_dna_pair_pairs</td>\n",
       "      <td>[base, dna, pair, pairs, polymerases, nucleic,...</td>\n",
       "      <td>[Major Groove Derivatization of an Unnatural B...</td>\n",
       "    </tr>\n",
       "    <tr>\n",
       "      <th>...</th>\n",
       "      <td>...</td>\n",
       "      <td>...</td>\n",
       "      <td>...</td>\n",
       "      <td>...</td>\n",
       "      <td>...</td>\n",
       "    </tr>\n",
       "    <tr>\n",
       "      <th>450</th>\n",
       "      <td>449</td>\n",
       "      <td>5</td>\n",
       "      <td>449_standards for synthetic_biology nan_nan_st...</td>\n",
       "      <td>[standards for synthetic, biology nan, nan, st...</td>\n",
       "      <td>[Standards for synthetic biology nan, Specific...</td>\n",
       "    </tr>\n",
       "    <tr>\n",
       "      <th>451</th>\n",
       "      <td>450</td>\n",
       "      <td>5</td>\n",
       "      <td>450_metabolic_metabolic source_metabolic sink_...</td>\n",
       "      <td>[metabolic, metabolic source, metabolic sink, ...</td>\n",
       "      <td>[Optimization of the dynamic regulation in a b...</td>\n",
       "    </tr>\n",
       "    <tr>\n",
       "      <th>452</th>\n",
       "      <td>451</td>\n",
       "      <td>5</td>\n",
       "      <td>451_biosensor_biosensors_biomimetic chemistry_abs</td>\n",
       "      <td>[biosensor, biosensors, biomimetic chemistry, ...</td>\n",
       "      <td>[Evolution of microbial biosensor based on fun...</td>\n",
       "    </tr>\n",
       "    <tr>\n",
       "      <th>453</th>\n",
       "      <td>452</td>\n",
       "      <td>5</td>\n",
       "      <td>452_antibiotic_gene clusters_clusters_antibiotics</td>\n",
       "      <td>[antibiotic, gene clusters, clusters, antibiot...</td>\n",
       "      <td>[Genome Engineering and Modification Toward Sy...</td>\n",
       "    </tr>\n",
       "    <tr>\n",
       "      <th>454</th>\n",
       "      <td>453</td>\n",
       "      <td>5</td>\n",
       "      <td>453_libraries_mutation maker_variant_maker</td>\n",
       "      <td>[libraries, mutation maker, variant, maker, mu...</td>\n",
       "      <td>[Variant Library Annotation Tool VaLiAnT an ol...</td>\n",
       "    </tr>\n",
       "  </tbody>\n",
       "</table>\n",
       "<p>455 rows × 5 columns</p>\n",
       "</div>"
      ],
      "text/plain": [
       "     Topic  Count                                               Name  \\\n",
       "0       -1   6778                                   -1_of_the_and_in   \n",
       "1        0    233           0_light_optogenetic_optogenetics_control   \n",
       "2        1    179                 1_circuits_logic_circuit_computing   \n",
       "3        2    169  2_cellfree_cfps_protein synthesis_cellfree pro...   \n",
       "4        3    162                              3_base_dna_pair_pairs   \n",
       "..     ...    ...                                                ...   \n",
       "450    449      5  449_standards for synthetic_biology nan_nan_st...   \n",
       "451    450      5  450_metabolic_metabolic source_metabolic sink_...   \n",
       "452    451      5  451_biosensor_biosensors_biomimetic chemistry_abs   \n",
       "453    452      5  452_antibiotic_gene clusters_clusters_antibiotics   \n",
       "454    453      5         453_libraries_mutation maker_variant_maker   \n",
       "\n",
       "                                        Representation  \\\n",
       "0    [of, the, and, in, to, for, we, that, syntheti...   \n",
       "1    [light, optogenetic, optogenetics, control, ph...   \n",
       "2    [circuits, logic, circuit, computing, gates, g...   \n",
       "3    [cellfree, cfps, protein synthesis, cellfree p...   \n",
       "4    [base, dna, pair, pairs, polymerases, nucleic,...   \n",
       "..                                                 ...   \n",
       "450  [standards for synthetic, biology nan, nan, st...   \n",
       "451  [metabolic, metabolic source, metabolic sink, ...   \n",
       "452  [biosensor, biosensors, biomimetic chemistry, ...   \n",
       "453  [antibiotic, gene clusters, clusters, antibiot...   \n",
       "454  [libraries, mutation maker, variant, maker, mu...   \n",
       "\n",
       "                                   Representative_Docs  \n",
       "0    [Advances in the Computational Design of Small...  \n",
       "1    [Photosensitive degron variants for tuning pro...  \n",
       "2    [Distributed biological computation from oscil...  \n",
       "3    [CellFree Synthetic Biology Engineering Beyond...  \n",
       "4    [Major Groove Derivatization of an Unnatural B...  \n",
       "..                                                 ...  \n",
       "450  [Standards for synthetic biology nan, Specific...  \n",
       "451  [Optimization of the dynamic regulation in a b...  \n",
       "452  [Evolution of microbial biosensor based on fun...  \n",
       "453  [Genome Engineering and Modification Toward Sy...  \n",
       "454  [Variant Library Annotation Tool VaLiAnT an ol...  \n",
       "\n",
       "[455 rows x 5 columns]"
      ]
     },
     "execution_count": 17,
     "metadata": {},
     "output_type": "execute_result"
    }
   ],
   "source": [
    "# Get the list of topics\n",
    "# Topic = the topic number. From the largest topic.\n",
    "#         \"-1\" is the generic topic. Genericr keywords are aggegrated here.\n",
    "# Count = Documents assigned to this topic\n",
    "# Name = Top 4 words of the topic based on probability\n",
    "# Representation = The list of words representing this topic\n",
    "# Representative_Docs = Documents assigned to this topic\n",
    "tm_summary = topic_model.get_topic_info()\n",
    "tm_summary"
   ]
  },
  {
   "cell_type": "code",
   "execution_count": 18,
   "metadata": {
    "id": "k9mN1tgZQupy"
   },
   "outputs": [],
   "source": [
    "# Save the topic model assets\n",
    "tm_folder_path = f'{ROOT_FOLDER_PATH}/{project_folder}/{settings[\"metadata\"][\"analysis_id\"]}'\n",
    "\n",
    "if not os.path.exists(tm_folder_path):\n",
    "  !mkdir $tm_folder_path\n",
    "\n",
    "tm_summary.to_csv(f'{tm_folder_path}/topic_model_info.csv', index=False)"
   ]
  },
  {
   "cell_type": "code",
   "execution_count": 19,
   "metadata": {
    "colab": {
     "base_uri": "https://localhost:8080/"
    },
    "id": "WuE0vkbp3fVL",
    "outputId": "aa8ebf45-cdd3-4161-9ac4-1343c91f47da"
   },
   "outputs": [
    {
     "data": {
      "text/plain": [
       "454"
      ]
     },
     "execution_count": 19,
     "metadata": {},
     "output_type": "execute_result"
    }
   ],
   "source": [
    "# Number of topics found\n",
    "found_topics = max(tm_summary.Topic) + 1\n",
    "found_topics"
   ]
  },
  {
   "cell_type": "code",
   "execution_count": 20,
   "metadata": {
    "colab": {
     "base_uri": "https://localhost:8080/"
    },
    "id": "KjKUcNMdwFHQ",
    "outputId": "b3549b7c-4c8a-4b82-8d87-6a46774e4694"
   },
   "outputs": [
    {
     "data": {
      "text/plain": [
       "True"
      ]
     },
     "execution_count": 20,
     "metadata": {},
     "output_type": "execute_result"
    }
   ],
   "source": [
    "# Confirm all documents are assigned\n",
    "sum(tm_summary.Count) == len(corpus)"
   ]
  },
  {
   "cell_type": "code",
   "execution_count": 21,
   "metadata": {
    "colab": {
     "base_uri": "https://localhost:8080/"
    },
    "id": "bGyoQT47xY_R",
    "outputId": "9affafe5-0ff7-4edf-d9f6-3d7a7eda04eb"
   },
   "outputs": [
    {
     "data": {
      "text/plain": [
       "[('light', 0.010095946059032294),\n",
       " ('optogenetic', 0.008407853739494481),\n",
       " ('optogenetics', 0.005395388607795831),\n",
       " ('control', 0.004322076734668476),\n",
       " ('photoreceptors', 0.0037023576505819714),\n",
       " ('blue', 0.003335360115147941),\n",
       " ('control of', 0.0032093461443183863),\n",
       " ('gene expression', 0.0030234408045253826),\n",
       " ('expression', 0.002919226814608277),\n",
       " ('optogenetic tools', 0.002579580475332183)]"
      ]
     },
     "execution_count": 21,
     "metadata": {},
     "output_type": "execute_result"
    }
   ],
   "source": [
    "# Get top 10 terms for a topic\n",
    "topic_model.get_topic(0)"
   ]
  },
  {
   "cell_type": "code",
   "execution_count": 22,
   "metadata": {
    "colab": {
     "base_uri": "https://localhost:8080/"
    },
    "id": "PU99D2xhxoOY",
    "outputId": "4e90e928-9bbf-40c3-c3b5-a1a50abe82f0"
   },
   "outputs": [
    {
     "data": {
      "text/plain": [
       "['Photosensitive degron variants for tuning protein stability by light Background Regulated proteolysis by the proteasome is one of the fundamental mechanisms used in eukaryotic cells to control cellular behavior Efficient tools to regulate protein stability offer synthetic influence on molecular level on a selected biological process Optogenetic control of protein stability has been achieved with the photosensitive degron psd module This engineered tool consists of the photoreceptor domain light oxygen voltage  LOV from Arabidopsis thaliana phototropin fused to a sequence that induces direct proteasomal degradation which was derived from the carboxyterminal degron of murine ornithine decarboxylase The abundance of target proteins tagged with the psd module can be regulated by blue light if the degradation tag is exposed to the cytoplasm or the nucleus Results We used the model organism Saccharomyces cerevisiae to generate psd module variants with increased and decreased stabilities in darkness or when exposed to blue light using sitespecific and random mutagenesis The variants were characterized as fusions to fluorescent reporter proteins and showed halflives between  and  minutes in cells exposed to blue light and  to  minutes in darkness In blue light ten variants showed accelerated degradation and four variants increased stability compared to the original psd module Measuring the darklight ratio of selected constructs in yeast cells showed that two variants were obtained with ratios twice as high as in the wild type psd module In silico modeling of photoreceptor variant characteristics suggested that for most cases alterations in behavior were induced by changes in the lightresponse of the LOV domain Conclusions In total the mutational analysis resulted in psd module variants which provide tuning of protein stability over a broad range by blue light Two variants showed characteristics that are profoundly improved compared to the original construct The modular usage of the LOV domain in optogenetic tools allows the usage of the mutants in the context of other applications in synthetic and systems biology as well',\n",
       " 'Optogenetic switches for lightcontrolled gene expression in yeast Light is increasingly recognized as an efficient means of controlling diverse biological processes with high spatiotemporal resolution Optogenetic switches are molecular devices for regulating lightcontrolled gene expression protein localization signal transduction and proteinprotein interactions Such molecular components have been mainly developed through the use of photoreceptors which upon light stimulation undergo conformational changes passing to an active state The current repertoires of optogenetic switches include red blue and UVB light photoreceptors and have been implemented in a broad spectrum of biological platforms In this review we revisit different optogenetic switches that have been used in diverse biological platforms with emphasis on those used for lightcontrolled gene expression in the budding yeast Saccharomyces cerevisiae The implementation of these switches overcomes the use of traditional chemical inducers allowing precise control of gene expression at lower costs without leaving chemical traces and positively impacting the production of highvalue metabolites and heterologous proteins Additionally we highlight the potential of utilizing this technology beyond laboratory strains by optimizing it for use in yeasts tamed for industrial processes Finally we discuss how fungal photoreceptors could serve as a source of biological parts for the development of novel optogenetic switches with improved characteristics Although optogenetic tools have had a strong impact on basic research their use in applied sciences is still undervalued Therefore the invitation for the future is to utilize this technology in biotechnological and industrial settings',\n",
       " 'Red Light Responsive Cre Recombinase for Bacterial Optogenetics Optogenetic tools have been used in a wide range of microbial engineering applications that benefit from the tunable spatiotemporal control that light affords However the majority of current optogenetic constructs for bacteria respond to blue light limiting the potential for multichromatic control In addition other wavelengths offer potential benefits over blue light including improved penetration of dense cultures and reduced potential for toxicity In this study we introduce OptoCreREDMAP a red light inducible Cre recombinase system in Escherichia coli This system harnesses the plant photoreceptors PhyA and FHY and a split version of Cre recombinase to achieve precise control over gene expression and DNA excision We optimized the design by modifying the start codon of Cre and characterized the impact of different levels of induction to find conditions that produced minimal basal expression in the dark and induced full activation within  h of red light exposure We characterized the systems sensitivity to ambient light red light intensity and exposure time finding OptoCreREDMAP to be reliable and flexible across a range of conditions In coculture experiments with OptoCreREDMAP and the blue light responsive OptoCreVVD we found that the systems responded orthogonally to red and blue light inputs Direct comparisons between red and blue light induction with OptoCreREDMAP and OptoCreVVD demonstrated the superior penetration properties of red light OptoCreREDMAPs robust and selective response to red light makes it suitable for advanced synthetic biology applications particularly those requiring precise multichromatic control']"
      ]
     },
     "execution_count": 22,
     "metadata": {},
     "output_type": "execute_result"
    }
   ],
   "source": [
    "# Get the top 10 documents for a topic\n",
    "topic_model.get_representative_docs(0)"
   ]
  },
  {
   "cell_type": "code",
   "execution_count": 64,
   "metadata": {
    "id": "1CgYkbHN9I2T"
   },
   "outputs": [],
   "source": [
    "# Others\n",
    "\n",
    "# # Get the number of documents per topic (same as in the table above)\n",
    "# topic_model.get_topic_freq(0)\n",
    "\n",
    "# # Get the main keywords per topic\n",
    "# topic_model.get_topics()"
   ]
  },
  {
   "cell_type": "code",
   "execution_count": 23,
   "metadata": {
    "colab": {
     "base_uri": "https://localhost:8080/"
    },
    "id": "JQKxUqHN9RT7",
    "outputId": "c572d73b-fc91-4c84-dc79-8f047b046aa2"
   },
   "outputs": [
    {
     "data": {
      "text/plain": [
       "{'calculate_probabilities': True,\n",
       " 'ctfidf_model': ClassTfidfTransformer(),\n",
       " 'embedding_model': None,\n",
       " 'hdbscan_model': HDBSCAN(prediction_data=True),\n",
       " 'language': 'english',\n",
       " 'low_memory': False,\n",
       " 'min_topic_size': 5,\n",
       " 'n_gram_range': (1, 3),\n",
       " 'nr_topics': None,\n",
       " 'representation_model': None,\n",
       " 'seed_topic_list': None,\n",
       " 'top_n_words': 10,\n",
       " 'umap_model': UMAP(angular_rp_forest=True, metric='cosine', min_dist=0.0, n_components=5, n_jobs=1, random_state=100, tqdm_kwds={'bar_format': '{desc}: {percentage:3.0f}%| {bar} {n_fmt}/{total_fmt} [{elapsed}]', 'desc': 'Epochs completed', 'disable': True}),\n",
       " 'vectorizer_model': CountVectorizer(ngram_range=(1, 3)),\n",
       " 'verbose': True,\n",
       " 'zeroshot_min_similarity': 0.7,\n",
       " 'zeroshot_topic_list': None}"
      ]
     },
     "execution_count": 23,
     "metadata": {},
     "output_type": "execute_result"
    }
   ],
   "source": [
    "# Print the parameters used. (For reporting)\n",
    "topic_model.get_params()"
   ]
  },
  {
   "cell_type": "code",
   "execution_count": 24,
   "metadata": {
    "colab": {
     "base_uri": "https://localhost:8080/"
    },
    "id": "G8hwSK98RM9-",
    "outputId": "07a40193-c69a-4356-b1b0-ac721ef78c08"
   },
   "outputs": [
    {
     "name": "stdout",
     "output_type": "stream",
     "text": [
      "Done\n"
     ]
    }
   ],
   "source": [
    "tm_params = dict(topic_model.get_params())\n",
    "for key, value in tm_params.items():\n",
    "    tm_params[key]=  str(value)\n",
    "with open(f'{tm_folder_path}/topic_model_params.json', 'w') as f:\n",
    "    json.dump(tm_params, f, ensure_ascii=False, indent=4)\n",
    "    print('Done')"
   ]
  },
  {
   "cell_type": "code",
   "execution_count": 25,
   "metadata": {
    "colab": {
     "base_uri": "https://localhost:8080/"
    },
    "id": "5v4Wvn3ZAkZP",
    "outputId": "ea347717-a33e-40ad-ad2d-51798cbc5b5f"
   },
   "outputs": [
    {
     "name": "stderr",
     "output_type": "stream",
     "text": [
      "100%|██████████| 18/18 [00:42<00:00,  2.37s/it]\n"
     ]
    }
   ],
   "source": [
    "# Get the topic score for each paper and its assigned topic\n",
    "topic_distr, _ = topic_model.approximate_distribution(documents, batch_size=1000)\n",
    "distributions = [distr[topic] if topic != -1 else 0 for topic, distr in zip(topics, topic_distr)]"
   ]
  },
  {
   "cell_type": "code",
   "execution_count": 26,
   "metadata": {
    "colab": {
     "base_uri": "https://localhost:8080/"
    },
    "id": "6OTw5go4yVvM",
    "outputId": "7dfa090e-776f-4922-d611-325b1510ccab"
   },
   "outputs": [
    {
     "data": {
      "text/plain": [
       "array([[0., 0., 0., ..., 0., 0., 0.],\n",
       "       [0., 0., 0., ..., 0., 0., 0.],\n",
       "       [0., 0., 0., ..., 0., 0., 0.],\n",
       "       ...,\n",
       "       [0., 0., 0., ..., 0., 0., 0.],\n",
       "       [0., 0., 0., ..., 0., 0., 0.],\n",
       "       [0., 0., 0., ..., 0., 0., 0.]])"
      ]
     },
     "execution_count": 26,
     "metadata": {},
     "output_type": "execute_result"
    }
   ],
   "source": [
    "topic_distr"
   ]
  },
  {
   "cell_type": "code",
   "execution_count": 39,
   "metadata": {
    "colab": {
     "base_uri": "https://localhost:8080/",
     "height": 591
    },
    "id": "I7E0_6bv9hBp",
    "outputId": "06faea2f-1c00-4ca7-958b-4dd2dcb10c36"
   },
   "outputs": [],
   "source": [
    "# Document information. Including the topic assignation\n",
    "dataset_clustering_results = topic_model.get_document_info(documents, df = corpus, metadata={\"Score\": distributions})\n",
    "\n",
    "# Check for orphans (Topic == -1), save and remove them\n",
    "if -1 in dataset_clustering_results['Topic'].values:\n",
    "    orphans = dataset_clustering_results[dataset_clustering_results['Topic'] == -1]\n",
    "    orphans.to_csv(f'{tm_folder_path}/orphans.csv', index=False)\n",
    "    dataset_clustering_results = dataset_clustering_results[dataset_clustering_results['Topic'] != -1]"
   ]
  },
  {
   "cell_type": "code",
   "execution_count": 40,
   "metadata": {},
   "outputs": [
    {
     "data": {
      "text/html": [
       "<div>\n",
       "<style scoped>\n",
       "    .dataframe tbody tr th:only-of-type {\n",
       "        vertical-align: middle;\n",
       "    }\n",
       "\n",
       "    .dataframe tbody tr th {\n",
       "        vertical-align: top;\n",
       "    }\n",
       "\n",
       "    .dataframe thead th {\n",
       "        text-align: right;\n",
       "    }\n",
       "</style>\n",
       "<table border=\"1\" class=\"dataframe\">\n",
       "  <thead>\n",
       "    <tr style=\"text-align: right;\">\n",
       "      <th></th>\n",
       "      <th>UT</th>\n",
       "      <th>uuid</th>\n",
       "      <th>Document</th>\n",
       "      <th>Topic</th>\n",
       "      <th>Name</th>\n",
       "      <th>Representation</th>\n",
       "      <th>Representative_Docs</th>\n",
       "      <th>Top_n_words</th>\n",
       "      <th>Probability</th>\n",
       "      <th>Representative_document</th>\n",
       "      <th>Score</th>\n",
       "      <th>X_E</th>\n",
       "      <th>X_C</th>\n",
       "      <th>level0</th>\n",
       "    </tr>\n",
       "  </thead>\n",
       "  <tbody>\n",
       "    <tr>\n",
       "      <th>0</th>\n",
       "      <td>WOS:000557477800014</td>\n",
       "      <td>fddb5139-d514-474c-a12a-5d87fb90e4fd</td>\n",
       "      <td>Building biosecurity for synthetic biology The...</td>\n",
       "      <td>26</td>\n",
       "      <td>26_security_biosecurity_risks_risk</td>\n",
       "      <td>[security, biosecurity, risks, risk, bioterror...</td>\n",
       "      <td>[Emerging Technologies Biosecurity and Consequ...</td>\n",
       "      <td>security - biosecurity - risks - risk - bioter...</td>\n",
       "      <td>0.084229</td>\n",
       "      <td>False</td>\n",
       "      <td>0.076335</td>\n",
       "      <td>0.076335</td>\n",
       "      <td>27</td>\n",
       "      <td>27</td>\n",
       "    </tr>\n",
       "    <tr>\n",
       "      <th>1</th>\n",
       "      <td>WOS:001457594000002</td>\n",
       "      <td>a504a2e3-38bb-46c2-aad7-34f8a0628ac8</td>\n",
       "      <td>Synthetic biology for sustainable food ingredi...</td>\n",
       "      <td>53</td>\n",
       "      <td>53_food_foods_meat_milk</td>\n",
       "      <td>[food, foods, meat, milk, fermented, fermentat...</td>\n",
       "      <td>[Foods of the Future Challenges Opportunities ...</td>\n",
       "      <td>food - foods - meat - milk - fermented - ferme...</td>\n",
       "      <td>0.195523</td>\n",
       "      <td>False</td>\n",
       "      <td>0.846876</td>\n",
       "      <td>0.846876</td>\n",
       "      <td>54</td>\n",
       "      <td>54</td>\n",
       "    </tr>\n",
       "    <tr>\n",
       "      <th>2</th>\n",
       "      <td>WOS:000381847300009</td>\n",
       "      <td>fb88babb-a79c-4fd0-9c74-cc53466ced07</td>\n",
       "      <td>VisBOL WebBased Tools for Synthetic Biology De...</td>\n",
       "      <td>231</td>\n",
       "      <td>231_visual_sbol visual_sbol_glyphs</td>\n",
       "      <td>[visual, sbol visual, sbol, glyphs, diagrams, ...</td>\n",
       "      <td>[Synthetic biology open language visual SBOL v...</td>\n",
       "      <td>visual - sbol visual - sbol - glyphs - diagram...</td>\n",
       "      <td>0.330637</td>\n",
       "      <td>False</td>\n",
       "      <td>0.479181</td>\n",
       "      <td>0.479181</td>\n",
       "      <td>232</td>\n",
       "      <td>232</td>\n",
       "    </tr>\n",
       "    <tr>\n",
       "      <th>3</th>\n",
       "      <td>WOS:000629633400007</td>\n",
       "      <td>86021006-d6f5-448a-b0bf-7b1541b745a6</td>\n",
       "      <td>Synthetic biology in the clinic engineering va...</td>\n",
       "      <td>267</td>\n",
       "      <td>267_leishmaniasis_leishmania_parasite_epitopes</td>\n",
       "      <td>[leishmaniasis, leishmania, parasite, epitopes...</td>\n",
       "      <td>[Immunometabolic Circuits in Infection for Adv...</td>\n",
       "      <td>leishmaniasis - leishmania - parasite - epitop...</td>\n",
       "      <td>0.009358</td>\n",
       "      <td>False</td>\n",
       "      <td>0.000000</td>\n",
       "      <td>0.000000</td>\n",
       "      <td>268</td>\n",
       "      <td>268</td>\n",
       "    </tr>\n",
       "    <tr>\n",
       "      <th>4</th>\n",
       "      <td>WOS:000441180800005</td>\n",
       "      <td>2e190912-dadb-4e4f-9d94-8afa0b8a90dd</td>\n",
       "      <td>Synthetic biology of microbes synthesizing pol...</td>\n",
       "      <td>61</td>\n",
       "      <td>61_pha_phas_polyhydroxyalkanoates_phb</td>\n",
       "      <td>[pha, phas, polyhydroxyalkanoates, phb, pha pr...</td>\n",
       "      <td>[Microbial synthesis of polyhydroxyalkanoate b...</td>\n",
       "      <td>pha - phas - polyhydroxyalkanoates - phb - pha...</td>\n",
       "      <td>0.022706</td>\n",
       "      <td>False</td>\n",
       "      <td>1.000000</td>\n",
       "      <td>1.000000</td>\n",
       "      <td>62</td>\n",
       "      <td>62</td>\n",
       "    </tr>\n",
       "  </tbody>\n",
       "</table>\n",
       "</div>"
      ],
      "text/plain": [
       "                    UT                                  uuid  \\\n",
       "0  WOS:000557477800014  fddb5139-d514-474c-a12a-5d87fb90e4fd   \n",
       "1  WOS:001457594000002  a504a2e3-38bb-46c2-aad7-34f8a0628ac8   \n",
       "2  WOS:000381847300009  fb88babb-a79c-4fd0-9c74-cc53466ced07   \n",
       "3  WOS:000629633400007  86021006-d6f5-448a-b0bf-7b1541b745a6   \n",
       "4  WOS:000441180800005  2e190912-dadb-4e4f-9d94-8afa0b8a90dd   \n",
       "\n",
       "                                            Document  Topic  \\\n",
       "0  Building biosecurity for synthetic biology The...     26   \n",
       "1  Synthetic biology for sustainable food ingredi...     53   \n",
       "2  VisBOL WebBased Tools for Synthetic Biology De...    231   \n",
       "3  Synthetic biology in the clinic engineering va...    267   \n",
       "4  Synthetic biology of microbes synthesizing pol...     61   \n",
       "\n",
       "                                             Name  \\\n",
       "0              26_security_biosecurity_risks_risk   \n",
       "1                         53_food_foods_meat_milk   \n",
       "2              231_visual_sbol visual_sbol_glyphs   \n",
       "3  267_leishmaniasis_leishmania_parasite_epitopes   \n",
       "4           61_pha_phas_polyhydroxyalkanoates_phb   \n",
       "\n",
       "                                      Representation  \\\n",
       "0  [security, biosecurity, risks, risk, bioterror...   \n",
       "1  [food, foods, meat, milk, fermented, fermentat...   \n",
       "2  [visual, sbol visual, sbol, glyphs, diagrams, ...   \n",
       "3  [leishmaniasis, leishmania, parasite, epitopes...   \n",
       "4  [pha, phas, polyhydroxyalkanoates, phb, pha pr...   \n",
       "\n",
       "                                 Representative_Docs  \\\n",
       "0  [Emerging Technologies Biosecurity and Consequ...   \n",
       "1  [Foods of the Future Challenges Opportunities ...   \n",
       "2  [Synthetic biology open language visual SBOL v...   \n",
       "3  [Immunometabolic Circuits in Infection for Adv...   \n",
       "4  [Microbial synthesis of polyhydroxyalkanoate b...   \n",
       "\n",
       "                                         Top_n_words  Probability  \\\n",
       "0  security - biosecurity - risks - risk - bioter...     0.084229   \n",
       "1  food - foods - meat - milk - fermented - ferme...     0.195523   \n",
       "2  visual - sbol visual - sbol - glyphs - diagram...     0.330637   \n",
       "3  leishmaniasis - leishmania - parasite - epitop...     0.009358   \n",
       "4  pha - phas - polyhydroxyalkanoates - phb - pha...     0.022706   \n",
       "\n",
       "   Representative_document     Score       X_E  X_C  level0  \n",
       "0                    False  0.076335  0.076335   27      27  \n",
       "1                    False  0.846876  0.846876   54      54  \n",
       "2                    False  0.479181  0.479181  232     232  \n",
       "3                    False  0.000000  0.000000  268     268  \n",
       "4                    False  1.000000  1.000000   62      62  "
      ]
     },
     "execution_count": 40,
     "metadata": {},
     "output_type": "execute_result"
    }
   ],
   "source": [
    "# Standar format for report analysis\n",
    "dataset_clustering_results = dataset_clustering_results.reset_index(drop=True)\n",
    "dataset_clustering_results = dataset_clustering_results.drop(columns=['text'])\n",
    "dataset_clustering_results['X_E'] = dataset_clustering_results['Score']\n",
    "dataset_clustering_results['X_C'] = dataset_clustering_results['Topic'] + 1\n",
    "\n",
    "\n",
    "\n",
    "# Assign 'level0' based on cluster coverage (90%)\n",
    "cluster_counts = dataset_clustering_results['X_C'].value_counts().sort_values(ascending=False)\n",
    "total_rows = len(dataset_clustering_results)\n",
    "cumulative = cluster_counts.cumsum() / total_rows\n",
    "main_clusters = cluster_counts.index[cumulative <= 0.9].tolist()\n",
    "dataset_clustering_results['level0'] = dataset_clustering_results['X_C'].apply(lambda x: x if x in main_clusters else 99999)\n",
    "dataset_clustering_results.head()\n"
   ]
  },
  {
   "cell_type": "code",
   "execution_count": 41,
   "metadata": {},
   "outputs": [
    {
     "data": {
      "text/html": [
       "<div>\n",
       "<style scoped>\n",
       "    .dataframe tbody tr th:only-of-type {\n",
       "        vertical-align: middle;\n",
       "    }\n",
       "\n",
       "    .dataframe tbody tr th {\n",
       "        vertical-align: top;\n",
       "    }\n",
       "\n",
       "    .dataframe thead th {\n",
       "        text-align: right;\n",
       "    }\n",
       "</style>\n",
       "<table border=\"1\" class=\"dataframe\">\n",
       "  <thead>\n",
       "    <tr style=\"text-align: right;\">\n",
       "      <th></th>\n",
       "      <th>UT</th>\n",
       "      <th>uuid</th>\n",
       "      <th>Document</th>\n",
       "      <th>Topic</th>\n",
       "      <th>Name</th>\n",
       "      <th>Representation</th>\n",
       "      <th>Representative_Docs</th>\n",
       "      <th>Top_n_words</th>\n",
       "      <th>Probability</th>\n",
       "      <th>Representative_document</th>\n",
       "      <th>Score</th>\n",
       "      <th>X_E</th>\n",
       "      <th>X_C</th>\n",
       "      <th>level0</th>\n",
       "      <th>cl99</th>\n",
       "      <th>cl-99</th>\n",
       "    </tr>\n",
       "  </thead>\n",
       "  <tbody>\n",
       "    <tr>\n",
       "      <th>0</th>\n",
       "      <td>WOS:000557477800014</td>\n",
       "      <td>fddb5139-d514-474c-a12a-5d87fb90e4fd</td>\n",
       "      <td>Building biosecurity for synthetic biology The...</td>\n",
       "      <td>26</td>\n",
       "      <td>26_security_biosecurity_risks_risk</td>\n",
       "      <td>[security, biosecurity, risks, risk, bioterror...</td>\n",
       "      <td>[Emerging Technologies Biosecurity and Consequ...</td>\n",
       "      <td>security - biosecurity - risks - risk - bioter...</td>\n",
       "      <td>0.084229</td>\n",
       "      <td>False</td>\n",
       "      <td>0.076335</td>\n",
       "      <td>0.076335</td>\n",
       "      <td>27</td>\n",
       "      <td>27</td>\n",
       "      <td>False</td>\n",
       "      <td>False</td>\n",
       "    </tr>\n",
       "    <tr>\n",
       "      <th>1</th>\n",
       "      <td>WOS:001457594000002</td>\n",
       "      <td>a504a2e3-38bb-46c2-aad7-34f8a0628ac8</td>\n",
       "      <td>Synthetic biology for sustainable food ingredi...</td>\n",
       "      <td>53</td>\n",
       "      <td>53_food_foods_meat_milk</td>\n",
       "      <td>[food, foods, meat, milk, fermented, fermentat...</td>\n",
       "      <td>[Foods of the Future Challenges Opportunities ...</td>\n",
       "      <td>food - foods - meat - milk - fermented - ferme...</td>\n",
       "      <td>0.195523</td>\n",
       "      <td>False</td>\n",
       "      <td>0.846876</td>\n",
       "      <td>0.846876</td>\n",
       "      <td>54</td>\n",
       "      <td>54</td>\n",
       "      <td>False</td>\n",
       "      <td>False</td>\n",
       "    </tr>\n",
       "    <tr>\n",
       "      <th>2</th>\n",
       "      <td>WOS:000381847300009</td>\n",
       "      <td>fb88babb-a79c-4fd0-9c74-cc53466ced07</td>\n",
       "      <td>VisBOL WebBased Tools for Synthetic Biology De...</td>\n",
       "      <td>231</td>\n",
       "      <td>231_visual_sbol visual_sbol_glyphs</td>\n",
       "      <td>[visual, sbol visual, sbol, glyphs, diagrams, ...</td>\n",
       "      <td>[Synthetic biology open language visual SBOL v...</td>\n",
       "      <td>visual - sbol visual - sbol - glyphs - diagram...</td>\n",
       "      <td>0.330637</td>\n",
       "      <td>False</td>\n",
       "      <td>0.479181</td>\n",
       "      <td>0.479181</td>\n",
       "      <td>232</td>\n",
       "      <td>232</td>\n",
       "      <td>False</td>\n",
       "      <td>False</td>\n",
       "    </tr>\n",
       "    <tr>\n",
       "      <th>3</th>\n",
       "      <td>WOS:000629633400007</td>\n",
       "      <td>86021006-d6f5-448a-b0bf-7b1541b745a6</td>\n",
       "      <td>Synthetic biology in the clinic engineering va...</td>\n",
       "      <td>267</td>\n",
       "      <td>267_leishmaniasis_leishmania_parasite_epitopes</td>\n",
       "      <td>[leishmaniasis, leishmania, parasite, epitopes...</td>\n",
       "      <td>[Immunometabolic Circuits in Infection for Adv...</td>\n",
       "      <td>leishmaniasis - leishmania - parasite - epitop...</td>\n",
       "      <td>0.009358</td>\n",
       "      <td>False</td>\n",
       "      <td>0.000000</td>\n",
       "      <td>0.000000</td>\n",
       "      <td>268</td>\n",
       "      <td>268</td>\n",
       "      <td>False</td>\n",
       "      <td>False</td>\n",
       "    </tr>\n",
       "    <tr>\n",
       "      <th>4</th>\n",
       "      <td>WOS:000441180800005</td>\n",
       "      <td>2e190912-dadb-4e4f-9d94-8afa0b8a90dd</td>\n",
       "      <td>Synthetic biology of microbes synthesizing pol...</td>\n",
       "      <td>61</td>\n",
       "      <td>61_pha_phas_polyhydroxyalkanoates_phb</td>\n",
       "      <td>[pha, phas, polyhydroxyalkanoates, phb, pha pr...</td>\n",
       "      <td>[Microbial synthesis of polyhydroxyalkanoate b...</td>\n",
       "      <td>pha - phas - polyhydroxyalkanoates - phb - pha...</td>\n",
       "      <td>0.022706</td>\n",
       "      <td>False</td>\n",
       "      <td>1.000000</td>\n",
       "      <td>1.000000</td>\n",
       "      <td>62</td>\n",
       "      <td>62</td>\n",
       "      <td>False</td>\n",
       "      <td>False</td>\n",
       "    </tr>\n",
       "  </tbody>\n",
       "</table>\n",
       "</div>"
      ],
      "text/plain": [
       "                    UT                                  uuid  \\\n",
       "0  WOS:000557477800014  fddb5139-d514-474c-a12a-5d87fb90e4fd   \n",
       "1  WOS:001457594000002  a504a2e3-38bb-46c2-aad7-34f8a0628ac8   \n",
       "2  WOS:000381847300009  fb88babb-a79c-4fd0-9c74-cc53466ced07   \n",
       "3  WOS:000629633400007  86021006-d6f5-448a-b0bf-7b1541b745a6   \n",
       "4  WOS:000441180800005  2e190912-dadb-4e4f-9d94-8afa0b8a90dd   \n",
       "\n",
       "                                            Document  Topic  \\\n",
       "0  Building biosecurity for synthetic biology The...     26   \n",
       "1  Synthetic biology for sustainable food ingredi...     53   \n",
       "2  VisBOL WebBased Tools for Synthetic Biology De...    231   \n",
       "3  Synthetic biology in the clinic engineering va...    267   \n",
       "4  Synthetic biology of microbes synthesizing pol...     61   \n",
       "\n",
       "                                             Name  \\\n",
       "0              26_security_biosecurity_risks_risk   \n",
       "1                         53_food_foods_meat_milk   \n",
       "2              231_visual_sbol visual_sbol_glyphs   \n",
       "3  267_leishmaniasis_leishmania_parasite_epitopes   \n",
       "4           61_pha_phas_polyhydroxyalkanoates_phb   \n",
       "\n",
       "                                      Representation  \\\n",
       "0  [security, biosecurity, risks, risk, bioterror...   \n",
       "1  [food, foods, meat, milk, fermented, fermentat...   \n",
       "2  [visual, sbol visual, sbol, glyphs, diagrams, ...   \n",
       "3  [leishmaniasis, leishmania, parasite, epitopes...   \n",
       "4  [pha, phas, polyhydroxyalkanoates, phb, pha pr...   \n",
       "\n",
       "                                 Representative_Docs  \\\n",
       "0  [Emerging Technologies Biosecurity and Consequ...   \n",
       "1  [Foods of the Future Challenges Opportunities ...   \n",
       "2  [Synthetic biology open language visual SBOL v...   \n",
       "3  [Immunometabolic Circuits in Infection for Adv...   \n",
       "4  [Microbial synthesis of polyhydroxyalkanoate b...   \n",
       "\n",
       "                                         Top_n_words  Probability  \\\n",
       "0  security - biosecurity - risks - risk - bioter...     0.084229   \n",
       "1  food - foods - meat - milk - fermented - ferme...     0.195523   \n",
       "2  visual - sbol visual - sbol - glyphs - diagram...     0.330637   \n",
       "3  leishmaniasis - leishmania - parasite - epitop...     0.009358   \n",
       "4  pha - phas - polyhydroxyalkanoates - phb - pha...     0.022706   \n",
       "\n",
       "   Representative_document     Score       X_E  X_C  level0   cl99  cl-99  \n",
       "0                    False  0.076335  0.076335   27      27  False  False  \n",
       "1                    False  0.846876  0.846876   54      54  False  False  \n",
       "2                    False  0.479181  0.479181  232     232  False  False  \n",
       "3                    False  0.000000  0.000000  268     268  False  False  \n",
       "4                    False  1.000000  1.000000   62      62  False  False  "
      ]
     },
     "execution_count": 41,
     "metadata": {},
     "output_type": "execute_result"
    }
   ],
   "source": [
    "# Standar format for report analysis\n",
    "dataset_clustering_results['cl99'] = [True if x == 99 else False for x in dataset_clustering_results['level0']]\n",
    "dataset_clustering_results['cl-99'] = [True if x == 99 else False for x in dataset_clustering_results['level0']]\n",
    "dataset_clustering_results.head()"
   ]
  },
  {
   "cell_type": "code",
   "execution_count": 42,
   "metadata": {},
   "outputs": [
    {
     "data": {
      "text/plain": [
       "level0\n",
       "99999    1116\n",
       "1         233\n",
       "2         179\n",
       "3         169\n",
       "4         162\n",
       "         ... \n",
       "298        11\n",
       "312        10\n",
       "311        10\n",
       "320        10\n",
       "317        10\n",
       "Name: count, Length: 303, dtype: int64"
      ]
     },
     "execution_count": 42,
     "metadata": {},
     "output_type": "execute_result"
    }
   ],
   "source": [
    "dataset_clustering_results.level0.value_counts()"
   ]
  },
  {
   "cell_type": "code",
   "execution_count": 43,
   "metadata": {
    "id": "eyQDhrjyc6Oh"
   },
   "outputs": [],
   "source": [
    "# Save the dataframe\n",
    "dataset_clustering_results.to_csv(f'{tm_folder_path}/dataset_minimal.csv', index=False)"
   ]
  },
  {
   "cell_type": "code",
   "execution_count": 44,
   "metadata": {
    "colab": {
     "base_uri": "https://localhost:8080/"
    },
    "id": "1RYcsXanZvrr",
    "outputId": "d625d86f-5897-4d75-8b32-54f2dd258ad3"
   },
   "outputs": [
    {
     "name": "stderr",
     "output_type": "stream",
     "text": [
      "2025-08-04 12:19:39,891 - BERTopic - WARNING: When you use `pickle` to save/load a BERTopic model,please make sure that the environments in which you saveand load the model are **exactly** the same. The version of BERTopic,its dependencies, and python need to remain the same.\n"
     ]
    }
   ],
   "source": [
    "# Save the topic model\n",
    "topic_model.save(f'{tm_folder_path}/topic_model_object.pck')"
   ]
  },
  {
   "cell_type": "markdown",
   "metadata": {
    "id": "SX1EBSOY3Pz1"
   },
   "source": [
    "\n",
    "\n",
    "---\n",
    "\n"
   ]
  }
 ],
 "metadata": {
  "colab": {
   "authorship_tag": "ABX9TyM4oE6dpT6UwjIg42kzzsWo",
   "include_colab_link": true,
   "provenance": [],
   "toc_visible": true
  },
  "kernelspec": {
   "display_name": "env-tm",
   "language": "python",
   "name": "python3"
  },
  "language_info": {
   "codemirror_mode": {
    "name": "ipython",
    "version": 3
   },
   "file_extension": ".py",
   "mimetype": "text/x-python",
   "name": "python",
   "nbconvert_exporter": "python",
   "pygments_lexer": "ipython3",
   "version": "3.11.7"
  }
 },
 "nbformat": 4,
 "nbformat_minor": 0
}
