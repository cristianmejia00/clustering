{
 "cells": [
  {
   "cell_type": "markdown",
   "metadata": {
    "colab_type": "text",
    "id": "view-in-github"
   },
   "source": [
    "<a href=\"https://colab.research.google.com/github/cristianmejia00/clustering/blob/main/Topic_Models_using_BERTopic_TOPIC_MODEL_20241101.ipynb\" target=\"_parent\"><img src=\"https://colab.research.google.com/assets/colab-badge.svg\" alt=\"Open In Colab\"/></a>"
   ]
  },
  {
   "cell_type": "markdown",
   "metadata": {
    "id": "Zj3lYckpO2Yn"
   },
   "source": [
    "# Topic Modeling with BERTopic\n",
    "\n",
    "🔴 copied from the [Kubota Colab](https://colab.research.google.com/drive/1YsDp5_qGXGJKsEXsS8DO8CA_lqZc6EpA).  \n",
    "\n",
    "`Topic Models` are methods to automatically organize a corpus of text into topics.\n",
    "\n",
    "Topic Model process:\n",
    "1. Data preparation\n",
    "2. Tranform text to numeric vectors\n",
    "3. Multidimensionality reduction\n",
    "4. Clustering\n",
    "5. Topic analysis\n",
    "6. Cluster assignation\n",
    "\n",
    "\n",
    "This notebook uses the library `BERTopic` which is a one-stop solution for topic modeling including handy functions for plotting and analysis. However, BERTopic does not have a function to extract the X and Y coords from UMAP. If we need the coordinates then use the notebooks `Topic_Models_using_Transformers` instead. In any other situation, when a quick analysis is needed this notebook may be better.\n",
    "\n",
    "This notebook is also the one needed for the heatmap codes included in this folder.\n",
    "\n",
    "`BERTopic` is Python library that handles steps 2 to 6.\n",
    "BERT topic models use the transformer architechture to generate the embeds (i.e. the vector or numeric representation of words) and are currently the state-of-the-art method for vectorization.\n",
    "\n",
    "This notebook shows how to use it.\n",
    "\n",
    "---\n",
    "Reading:\n",
    "[Topic Modeling with Deep Learning Using Python BERTopic](https://medium.com/grabngoinfo/topic-modeling-with-deep-learning-using-python-bertopic-cf91f5676504)\n",
    "[Advanced Topic Modeling with BERTopic](https://www.pinecone.io/learn/bertopic/)\n"
   ]
  },
  {
   "cell_type": "markdown",
   "metadata": {
    "id": "WlufmOowbHSF"
   },
   "source": [
    "# Requirements"
   ]
  },
  {
   "cell_type": "markdown",
   "metadata": {
    "id": "kFQU-BC5ReYd"
   },
   "source": [
    "## Packages installation and initialization"
   ]
  },
  {
   "cell_type": "code",
   "execution_count": null,
   "metadata": {
    "colab": {
     "base_uri": "https://localhost:8080/"
    },
    "collapsed": true,
    "id": "ckx8hOIyRZvv",
    "outputId": "20e7642f-824b-4ba1-86cc-5a97c89670c5"
   },
   "outputs": [],
   "source": [
    "#!pip install bertopic[visualization]"
   ]
  },
  {
   "cell_type": "code",
   "execution_count": 21,
   "metadata": {
    "id": "gMlZ_7DkOxGG"
   },
   "outputs": [],
   "source": [
    "import pandas as pd\n",
    "import numpy as np\n",
    "import time\n",
    "import math\n",
    "import uuid\n",
    "import re\n",
    "import os\n",
    "import json\n",
    "import pickle\n",
    "from datetime import date\n",
    "from itertools import compress\n",
    "from bertopic import BERTopic\n",
    "from umap import UMAP\n",
    "from gensim.parsing.preprocessing import remove_stopwords\n",
    "from sklearn.cluster import KMeans\n",
    "from sentence_transformers import SentenceTransformer"
   ]
  },
  {
   "cell_type": "markdown",
   "metadata": {
    "id": "SZ1BccaqRtS0"
   },
   "source": [
    "## Connect your Google Drive"
   ]
  },
  {
   "cell_type": "code",
   "execution_count": 22,
   "metadata": {
    "colab": {
     "base_uri": "https://localhost:8080/"
    },
    "id": "6os5BGPFRxfX",
    "outputId": "41e02c25-1dc9-426e-f441-874fc600fc70"
   },
   "outputs": [],
   "source": [
    "# from google.colab import drive\n",
    "# drive.mount('/content/drive')"
   ]
  },
  {
   "cell_type": "code",
   "execution_count": 23,
   "metadata": {
    "id": "f2p9sY7sUYkU"
   },
   "outputs": [],
   "source": [
    "def find_e_keys(dictionary):\n",
    "    # List comprehension to find keys starting with 'e'\n",
    "    e_keys = [key for key in dictionary if str(key).lower().startswith('e')]\n",
    "    return e_keys"
   ]
  },
  {
   "cell_type": "markdown",
   "metadata": {
    "id": "dDm5-r5oR98q"
   },
   "source": [
    "# 🔴 Input files and options\n",
    "\n",
    "Go to your Google Drive and create a folder in the root directory. We are going to save all related data in that directory.\n",
    "Upload the dataset of news into the above folder.\n",
    "- The dataset should be a `.csv` file.\n",
    "- Every row in the dataset is a document\n",
    "- It can any kind of columns. Some columns must contain the text we want to analyze. For example, a dataset of academic articles may contain a \"Title\" and/or \"Abstract\" column."
   ]
  },
  {
   "cell_type": "code",
   "execution_count": 24,
   "metadata": {
    "id": "5ICq5zQbSJa8"
   },
   "outputs": [],
   "source": [
    "# The bibliometrics folder\n",
    "# Colab\n",
    "ROOT_FOLDER_PATH = \"drive/MyDrive/Bibliometrics_Drive\"\n",
    "\n",
    "# Mac\n",
    "ROOT_FOLDER_PATH = \"/Users/cristian/Library/CloudStorage/GoogleDrive-cristianmejia00@gmail.com/My Drive/Bibliometrics_Drive\"\n",
    "\n",
    "# Change to the name of the folder where the dataset is uploaded inside the above folder\n",
    "project_folder = 'Q331_TI_sdgs_TS_policy'\n",
    "\n",
    "analysis_id = 'a01_tm__f01_e01__km01'\n",
    "\n",
    "# Filtered label\n",
    "settings_directive = \"settings_analysis_directive_2025-05-10-12-53.json\""
   ]
  },
  {
   "cell_type": "code",
   "execution_count": 25,
   "metadata": {
    "id": "QpoR8P3O0ACf"
   },
   "outputs": [],
   "source": [
    "# Read settings\n",
    "with open(f'{ROOT_FOLDER_PATH}/{project_folder}/{analysis_id}/{settings_directive}', 'r') as file:\n",
    "    settings = json.load(file)"
   ]
  },
  {
   "cell_type": "code",
   "execution_count": 26,
   "metadata": {
    "id": "COh3zc3b2oAn"
   },
   "outputs": [],
   "source": [
    "# Input dataset\n",
    "dataset_file_path = f\"{ROOT_FOLDER_PATH}/{settings['metadata']['project_folder']}/{settings['metadata']['filtered_folder']}/dataset_raw_cleaned.csv\""
   ]
  },
  {
   "cell_type": "code",
   "execution_count": 27,
   "metadata": {
    "id": "biEFdxrm0WrO"
   },
   "outputs": [],
   "source": [
    "# Function to save files\n",
    "def save_as_csv(df, save_name_without_extension, with_index):\n",
    "    \"usage: `save_as_csv(dataframe, 'filename')`\"\n",
    "    df.to_csv(f\"{ROOT_FOLDER_PATH}/{save_name_without_extension}.csv\", index=with_index)\n",
    "    print(\"===\\nSaved: \", f\"{ROOT_FOLDER_PATH}/{save_name_without_extension}.csv\")"
   ]
  },
  {
   "cell_type": "code",
   "execution_count": 28,
   "metadata": {
    "id": "Ff7hQXE1dYDw"
   },
   "outputs": [],
   "source": [
    "# prompt: a function to save object to a pickle file\n",
    "def save_object_as_pickle(obj, filename):\n",
    "  \"\"\"\n",
    "  Saves an object as a pickle file.\n",
    "\n",
    "  Args:\n",
    "      obj: The object to be saved.\n",
    "      filename: The filename of the pickle file.\n",
    "  \"\"\"\n",
    "  with open(filename, \"wb\") as f:\n",
    "    pickle.dump(obj, f)\n"
   ]
  },
  {
   "cell_type": "code",
   "execution_count": 29,
   "metadata": {
    "id": "iljQe0_xb2FU"
   },
   "outputs": [],
   "source": [
    "# prompt: a function to load pickle object given a path\n",
    "def load_pickle(path):\n",
    "    with open(path, 'rb') as f:\n",
    "        return pickle.load(f)\n"
   ]
  },
  {
   "cell_type": "code",
   "execution_count": 30,
   "metadata": {
    "colab": {
     "base_uri": "https://localhost:8080/",
     "height": 655
    },
    "id": "Tob-4BIaUbZ9",
    "outputId": "d48eac6d-2af8-4991-af19-5bda2386e6bc"
   },
   "outputs": [
    {
     "name": "stdout",
     "output_type": "stream",
     "text": [
      "(3031, 42)\n"
     ]
    },
    {
     "data": {
      "text/html": [
       "<div>\n",
       "<style scoped>\n",
       "    .dataframe tbody tr th:only-of-type {\n",
       "        vertical-align: middle;\n",
       "    }\n",
       "\n",
       "    .dataframe tbody tr th {\n",
       "        vertical-align: top;\n",
       "    }\n",
       "\n",
       "    .dataframe thead th {\n",
       "        text-align: right;\n",
       "    }\n",
       "</style>\n",
       "<table border=\"1\" class=\"dataframe\">\n",
       "  <thead>\n",
       "    <tr style=\"text-align: right;\">\n",
       "      <th></th>\n",
       "      <th>X_N</th>\n",
       "      <th>uuid</th>\n",
       "      <th>PT</th>\n",
       "      <th>AU</th>\n",
       "      <th>AF</th>\n",
       "      <th>TI</th>\n",
       "      <th>SO</th>\n",
       "      <th>LA</th>\n",
       "      <th>DT</th>\n",
       "      <th>DE</th>\n",
       "      <th>...</th>\n",
       "      <th>AR</th>\n",
       "      <th>DI</th>\n",
       "      <th>PG</th>\n",
       "      <th>WC</th>\n",
       "      <th>SC</th>\n",
       "      <th>OA</th>\n",
       "      <th>UT</th>\n",
       "      <th>Countries</th>\n",
       "      <th>IsoCountries</th>\n",
       "      <th>Institutions</th>\n",
       "    </tr>\n",
       "  </thead>\n",
       "  <tbody>\n",
       "    <tr>\n",
       "      <th>0</th>\n",
       "      <td>1</td>\n",
       "      <td>8c7848eb-4e3a-4f87-98f2-4c1638c4d195</td>\n",
       "      <td>J</td>\n",
       "      <td>Fasoulis, I</td>\n",
       "      <td>Fasoulis, Ioannis</td>\n",
       "      <td>Governing the oceans: A study into Norway's oc...</td>\n",
       "      <td>REGIONAL STUDIES IN MARINE SCIENCE</td>\n",
       "      <td>English</td>\n",
       "      <td>Article</td>\n",
       "      <td>Sustainable Development Goals; Ocean governanc...</td>\n",
       "      <td>...</td>\n",
       "      <td>101983</td>\n",
       "      <td>10.1016/j.rsma.2021.101983</td>\n",
       "      <td>15</td>\n",
       "      <td>Ecology; Marine &amp; Freshwater Biology</td>\n",
       "      <td>Environmental Sciences &amp; Ecology; Marine &amp; Fre...</td>\n",
       "      <td>Green Accepted</td>\n",
       "      <td>WOS:000704445400012</td>\n",
       "      <td>united kingdom</td>\n",
       "      <td>GBR</td>\n",
       "      <td>univ strathclyde</td>\n",
       "    </tr>\n",
       "    <tr>\n",
       "      <th>1</th>\n",
       "      <td>2</td>\n",
       "      <td>46d829bb-c921-4040-b714-592e62dfeac0</td>\n",
       "      <td>J</td>\n",
       "      <td>Rozas-VÃ¡squez, D; Spyra, M; Jorquera, F; Moli...</td>\n",
       "      <td>Rozas-Vasquez, Daniel; Spyra, Marcin; Jorquera...</td>\n",
       "      <td>Ecosystem Services Supply from Peri-Urban Land...</td>\n",
       "      <td>LAND</td>\n",
       "      <td>English</td>\n",
       "      <td>Review</td>\n",
       "      <td>peri-urban landscape; ecosystem services; sust...</td>\n",
       "      <td>...</td>\n",
       "      <td>2006</td>\n",
       "      <td>10.3390/land11112006</td>\n",
       "      <td>18</td>\n",
       "      <td>Environmental Studies</td>\n",
       "      <td>Environmental Sciences &amp; Ecology</td>\n",
       "      <td>gold</td>\n",
       "      <td>WOS:000895505400001</td>\n",
       "      <td>chile; germany; poland</td>\n",
       "      <td>CHL; DEU; POL</td>\n",
       "      <td>univ catolica temuco; martin luther univ halle...</td>\n",
       "    </tr>\n",
       "    <tr>\n",
       "      <th>2</th>\n",
       "      <td>3</td>\n",
       "      <td>c0a1ad65-9abf-4c4a-b104-064855237ee4</td>\n",
       "      <td>J</td>\n",
       "      <td>Gutberlet, J</td>\n",
       "      <td>Gutberlet, Jutta</td>\n",
       "      <td>Grassroots waste picker organizations addressi...</td>\n",
       "      <td>WORLD DEVELOPMENT</td>\n",
       "      <td>English</td>\n",
       "      <td>Article</td>\n",
       "      <td>Waste pickers; Social and Solidarity Economy; ...</td>\n",
       "      <td>...</td>\n",
       "      <td>105195</td>\n",
       "      <td>10.1016/j.worlddev.2020.105195</td>\n",
       "      <td>12</td>\n",
       "      <td>Development Studies; Economics</td>\n",
       "      <td>Development Studies; Business &amp; Economics</td>\n",
       "      <td>Green Published</td>\n",
       "      <td>WOS:000601162800011</td>\n",
       "      <td>canada</td>\n",
       "      <td>CAN</td>\n",
       "      <td>univ victoria</td>\n",
       "    </tr>\n",
       "    <tr>\n",
       "      <th>3</th>\n",
       "      <td>4</td>\n",
       "      <td>44e80506-efaf-4bd6-a26f-b5f33589e950</td>\n",
       "      <td>J</td>\n",
       "      <td>Opoku, A; Ahmed, V; Ofori, G</td>\n",
       "      <td>Opoku, Alex; Ahmed, Vian; Ofori, George</td>\n",
       "      <td>Realising the sustainable development goals th...</td>\n",
       "      <td>RESOURCES CONSERVATION AND RECYCLING</td>\n",
       "      <td>English</td>\n",
       "      <td>Editorial Material</td>\n",
       "      <td>Construction; Organisational learning; Circula...</td>\n",
       "      <td>...</td>\n",
       "      <td>106427</td>\n",
       "      <td>10.1016/j.resconrec.2022.106427</td>\n",
       "      <td>6</td>\n",
       "      <td>Engineering, Environmental; Environmental Scie...</td>\n",
       "      <td>Engineering; Environmental Sciences &amp; Ecology</td>\n",
       "      <td>NaN</td>\n",
       "      <td>WOS:000809762800006</td>\n",
       "      <td>u arab emirates; united kingdom</td>\n",
       "      <td>ARE; GBR</td>\n",
       "      <td>univ sharjah; amer univ sharjah; london south ...</td>\n",
       "    </tr>\n",
       "    <tr>\n",
       "      <th>4</th>\n",
       "      <td>5</td>\n",
       "      <td>2f1fe54b-c88f-44bb-8209-24b5c334ae3c</td>\n",
       "      <td>J</td>\n",
       "      <td>Firoiu, D; Ionescu, GH; Cismas, CM; Costin, MP...</td>\n",
       "      <td>Firoiu, Daniela; Ionescu, George H.; Cismas, C...</td>\n",
       "      <td>Sustainable Production and Consumption in EU M...</td>\n",
       "      <td>SUSTAINABILITY</td>\n",
       "      <td>English</td>\n",
       "      <td>Article</td>\n",
       "      <td>sustainable development; 2030 agenda; SDG 12; ...</td>\n",
       "      <td>...</td>\n",
       "      <td>1537</td>\n",
       "      <td>10.3390/su17041537</td>\n",
       "      <td>26</td>\n",
       "      <td>Green &amp; Sustainable Science &amp; Technology; Envi...</td>\n",
       "      <td>Science &amp; Technology - Other Topics; Environme...</td>\n",
       "      <td>gold</td>\n",
       "      <td>WOS:001431741100001</td>\n",
       "      <td>romania</td>\n",
       "      <td>ROU</td>\n",
       "      <td>romanian amer univ; west univ timisoara; univ ...</td>\n",
       "    </tr>\n",
       "  </tbody>\n",
       "</table>\n",
       "<p>5 rows × 42 columns</p>\n",
       "</div>"
      ],
      "text/plain": [
       "   X_N                                  uuid PT  \\\n",
       "0    1  8c7848eb-4e3a-4f87-98f2-4c1638c4d195  J   \n",
       "1    2  46d829bb-c921-4040-b714-592e62dfeac0  J   \n",
       "2    3  c0a1ad65-9abf-4c4a-b104-064855237ee4  J   \n",
       "3    4  44e80506-efaf-4bd6-a26f-b5f33589e950  J   \n",
       "4    5  2f1fe54b-c88f-44bb-8209-24b5c334ae3c  J   \n",
       "\n",
       "                                                  AU  \\\n",
       "0                                        Fasoulis, I   \n",
       "1  Rozas-VÃ¡squez, D; Spyra, M; Jorquera, F; Moli...   \n",
       "2                                       Gutberlet, J   \n",
       "3                       Opoku, A; Ahmed, V; Ofori, G   \n",
       "4  Firoiu, D; Ionescu, GH; Cismas, CM; Costin, MP...   \n",
       "\n",
       "                                                  AF  \\\n",
       "0                                  Fasoulis, Ioannis   \n",
       "1  Rozas-Vasquez, Daniel; Spyra, Marcin; Jorquera...   \n",
       "2                                   Gutberlet, Jutta   \n",
       "3            Opoku, Alex; Ahmed, Vian; Ofori, George   \n",
       "4  Firoiu, Daniela; Ionescu, George H.; Cismas, C...   \n",
       "\n",
       "                                                  TI  \\\n",
       "0  Governing the oceans: A study into Norway's oc...   \n",
       "1  Ecosystem Services Supply from Peri-Urban Land...   \n",
       "2  Grassroots waste picker organizations addressi...   \n",
       "3  Realising the sustainable development goals th...   \n",
       "4  Sustainable Production and Consumption in EU M...   \n",
       "\n",
       "                                     SO       LA                  DT  \\\n",
       "0    REGIONAL STUDIES IN MARINE SCIENCE  English             Article   \n",
       "1                                  LAND  English              Review   \n",
       "2                     WORLD DEVELOPMENT  English             Article   \n",
       "3  RESOURCES CONSERVATION AND RECYCLING  English  Editorial Material   \n",
       "4                        SUSTAINABILITY  English             Article   \n",
       "\n",
       "                                                  DE  ...      AR  \\\n",
       "0  Sustainable Development Goals; Ocean governanc...  ...  101983   \n",
       "1  peri-urban landscape; ecosystem services; sust...  ...    2006   \n",
       "2  Waste pickers; Social and Solidarity Economy; ...  ...  105195   \n",
       "3  Construction; Organisational learning; Circula...  ...  106427   \n",
       "4  sustainable development; 2030 agenda; SDG 12; ...  ...    1537   \n",
       "\n",
       "                                DI  PG  \\\n",
       "0       10.1016/j.rsma.2021.101983  15   \n",
       "1             10.3390/land11112006  18   \n",
       "2   10.1016/j.worlddev.2020.105195  12   \n",
       "3  10.1016/j.resconrec.2022.106427   6   \n",
       "4               10.3390/su17041537  26   \n",
       "\n",
       "                                                  WC  \\\n",
       "0               Ecology; Marine & Freshwater Biology   \n",
       "1                              Environmental Studies   \n",
       "2                     Development Studies; Economics   \n",
       "3  Engineering, Environmental; Environmental Scie...   \n",
       "4  Green & Sustainable Science & Technology; Envi...   \n",
       "\n",
       "                                                  SC               OA  \\\n",
       "0  Environmental Sciences & Ecology; Marine & Fre...   Green Accepted   \n",
       "1                   Environmental Sciences & Ecology             gold   \n",
       "2          Development Studies; Business & Economics  Green Published   \n",
       "3      Engineering; Environmental Sciences & Ecology              NaN   \n",
       "4  Science & Technology - Other Topics; Environme...             gold   \n",
       "\n",
       "                    UT                        Countries   IsoCountries  \\\n",
       "0  WOS:000704445400012                   united kingdom            GBR   \n",
       "1  WOS:000895505400001           chile; germany; poland  CHL; DEU; POL   \n",
       "2  WOS:000601162800011                           canada            CAN   \n",
       "3  WOS:000809762800006  u arab emirates; united kingdom       ARE; GBR   \n",
       "4  WOS:001431741100001                          romania            ROU   \n",
       "\n",
       "                                        Institutions  \n",
       "0                                   univ strathclyde  \n",
       "1  univ catolica temuco; martin luther univ halle...  \n",
       "2                                      univ victoria  \n",
       "3  univ sharjah; amer univ sharjah; london south ...  \n",
       "4  romanian amer univ; west univ timisoara; univ ...  \n",
       "\n",
       "[5 rows x 42 columns]"
      ]
     },
     "execution_count": 30,
     "metadata": {},
     "output_type": "execute_result"
    }
   ],
   "source": [
    "# Open the data file\n",
    "df = pd.read_csv(f\"{dataset_file_path}\", encoding='latin-1')\n",
    "print(df.shape)\n",
    "df.head()"
   ]
  },
  {
   "cell_type": "markdown",
   "metadata": {
    "id": "9UrPiLepN1s9"
   },
   "source": [
    "\n",
    "\n",
    "---\n",
    "\n"
   ]
  },
  {
   "cell_type": "markdown",
   "metadata": {
    "id": "eK-U-Sl8fc-m"
   },
   "source": [
    "## PART 2: Topic Model"
   ]
  },
  {
   "cell_type": "code",
   "execution_count": 31,
   "metadata": {
    "id": "FhwGnBjFQT4x"
   },
   "outputs": [],
   "source": [
    "# bibliometrics_folder\n",
    "# project_folder\n",
    "# project_name_suffix\n",
    "# ROOT_FOLDER_PATH = f\"drive/MyDrive/{bibliometrics_folder}\"\n",
    "\n",
    "#############################################################\n",
    "# Embeddings folder\n",
    "embeddings_folder_name = settings['tmo']['embeds_folder']\n",
    "\n",
    "# Which column has the year of the documents?\n",
    "my_year = settings['tmo']['year_column']\n",
    "\n",
    "# Number of topics. Select the number of topics to extract.\n",
    "# Choose 0, for automatic detection.\n",
    "n_topics = settings['tmo']['n_topics']\n",
    "\n",
    "# Minimum number of documents per topic\n",
    "min_topic_size = settings['tmo']['min_topic_size']"
   ]
  },
  {
   "cell_type": "code",
   "execution_count": 32,
   "metadata": {
    "id": "9RYSioo2cxxC"
   },
   "outputs": [],
   "source": [
    "# Get the embeddings back.\n",
    "embeddings = load_pickle(f\"{ROOT_FOLDER_PATH}/{project_folder}/{settings['metadata']['filtered_folder']}/{embeddings_folder_name}/embeddings.pck\")\n",
    "corpus =     pd.read_csv(f\"{ROOT_FOLDER_PATH}/{project_folder}/{settings['metadata']['filtered_folder']}/{embeddings_folder_name}/corpus.csv\").reset_index(drop=True)"
   ]
  },
  {
   "cell_type": "code",
   "execution_count": 33,
   "metadata": {
    "id": "injCV_IPN26L"
   },
   "outputs": [],
   "source": [
    "# Combine embeddings\n",
    "documents = corpus.text.to_list()"
   ]
  },
  {
   "cell_type": "code",
   "execution_count": 34,
   "metadata": {
    "id": "ve_oloYNrBLz"
   },
   "outputs": [],
   "source": [
    "# corpus['uuid'] = [uuid.uuid4() for _ in range(len(corpus.index))]\n",
    "# corpus['X_N'] = [i for i in range(1, len(corpus.index)+1)]"
   ]
  },
  {
   "cell_type": "code",
   "execution_count": 35,
   "metadata": {
    "colab": {
     "base_uri": "https://localhost:8080/"
    },
    "id": "onVFOjBZuMmJ",
    "outputId": "4898b936-f4ea-4a7d-8448-a65466de85f2"
   },
   "outputs": [
    {
     "data": {
      "text/plain": [
       "3031"
      ]
     },
     "execution_count": 35,
     "metadata": {},
     "output_type": "execute_result"
    }
   ],
   "source": [
    "len(documents)"
   ]
  },
  {
   "cell_type": "code",
   "execution_count": 36,
   "metadata": {
    "colab": {
     "base_uri": "https://localhost:8080/"
    },
    "id": "S7LeuG_7S4Db",
    "outputId": "4e27c106-2e0c-4630-a741-2fbd5e5512b0"
   },
   "outputs": [
    {
     "data": {
      "text/plain": [
       "True"
      ]
     },
     "execution_count": 36,
     "metadata": {},
     "output_type": "execute_result"
    }
   ],
   "source": [
    "#len(embeddings) == len(documents)\n",
    "len(embeddings['embeddings']) == len(documents)"
   ]
  },
  {
   "cell_type": "code",
   "execution_count": 37,
   "metadata": {
    "id": "n6qUvhGGcPZo"
   },
   "outputs": [],
   "source": [
    "from hdbscan.hdbscan_ import HDBSCAN\n",
    "# Execute the topic model.\n",
    "# I suggest changing the values marked with #<---\n",
    "# The others are the default values and they'll work fine in most cases.\n",
    "# This will take several minutes to finish.\n",
    "\n",
    "# Initiate UMAP\n",
    "umap_model = UMAP(n_neighbors=15,\n",
    "                  n_components=5,\n",
    "                  min_dist=0.0,\n",
    "                  metric='cosine',\n",
    "                  random_state=100)\n",
    "\n",
    "if n_topics == 0:\n",
    "  # Initiate topic model with HDBScan (Automatic topic selection)\n",
    "  topic_model_params = HDBSCAN(min_cluster_size=min_topic_size,\n",
    "                               metric='euclidean',\n",
    "                               cluster_selection_method='eom',\n",
    "                               prediction_data=True)\n",
    "else:\n",
    "  # Initiate topic model with K-means (Manual topic selection)\n",
    "  topic_model_params = KMeans(n_clusters = n_topics)\n",
    "\n",
    "# Initiate BERTopic\n",
    "topic_model = BERTopic(umap_model = umap_model,\n",
    "                       hdbscan_model = topic_model_params,\n",
    "                       min_topic_size=min_topic_size,\n",
    "                       #nr_topics=15,          #<--- Footnote 1\n",
    "                       n_gram_range=(1,3),\n",
    "                       language='english',\n",
    "                       calculate_probabilities=True,\n",
    "                       verbose=True)\n",
    "\n",
    "\n",
    "\n",
    "# Footnote 1: This controls the number of topics we want AFTER clustering.\n",
    "# Add a hashtag at the beggining to use the number of topics returned by the topic model.\n",
    "# When using HDBScan nr_topics will be obtained after orphans removal, and there is no warranty that `nr_topics < HDBScan topics`.\n",
    "# thus, with HDBScan `nr_topics` means N topics OR LESS.\n",
    "# When using KMeans nr_topics can be used to further reduce the number of topics.\n",
    "# We use the topics as returned by the topic model. So we do not need to activate it here."
   ]
  },
  {
   "cell_type": "code",
   "execution_count": 38,
   "metadata": {
    "colab": {
     "base_uri": "https://localhost:8080/"
    },
    "id": "FQQsmPGzUCuB",
    "outputId": "a2b43bac-051a-4599-ad04-a36b1a575a26"
   },
   "outputs": [
    {
     "name": "stderr",
     "output_type": "stream",
     "text": [
      "2025-05-10 13:11:47,795 - BERTopic - Dimensionality - Fitting the dimensionality reduction algorithm\n",
      "2025-05-10 13:11:55,861 - BERTopic - Dimensionality - Completed ✓\n",
      "2025-05-10 13:11:55,862 - BERTopic - Cluster - Start clustering the reduced embeddings\n",
      "2025-05-10 13:11:55,887 - BERTopic - Cluster - Completed ✓\n",
      "2025-05-10 13:11:55,890 - BERTopic - Representation - Extracting topics from clusters using representation models.\n",
      "2025-05-10 13:11:57,783 - BERTopic - Representation - Completed ✓\n"
     ]
    }
   ],
   "source": [
    "# Compute topic model\n",
    "#topics, probabilities = topic_model.fit_transform(documents, embeddings)\n",
    "topics, probabilities = topic_model.fit_transform(documents, embeddings['embeddings'])"
   ]
  },
  {
   "cell_type": "code",
   "execution_count": 39,
   "metadata": {
    "colab": {
     "base_uri": "https://localhost:8080/",
     "height": 424
    },
    "id": "67pgsMtwsFmH",
    "outputId": "82c86e95-6be7-4832-a076-94d8d9dcd8ae"
   },
   "outputs": [
    {
     "data": {
      "text/html": [
       "<div>\n",
       "<style scoped>\n",
       "    .dataframe tbody tr th:only-of-type {\n",
       "        vertical-align: middle;\n",
       "    }\n",
       "\n",
       "    .dataframe tbody tr th {\n",
       "        vertical-align: top;\n",
       "    }\n",
       "\n",
       "    .dataframe thead th {\n",
       "        text-align: right;\n",
       "    }\n",
       "</style>\n",
       "<table border=\"1\" class=\"dataframe\">\n",
       "  <thead>\n",
       "    <tr style=\"text-align: right;\">\n",
       "      <th></th>\n",
       "      <th>Topic</th>\n",
       "      <th>Count</th>\n",
       "      <th>Name</th>\n",
       "      <th>Representation</th>\n",
       "      <th>Representative_Docs</th>\n",
       "    </tr>\n",
       "  </thead>\n",
       "  <tbody>\n",
       "    <tr>\n",
       "      <th>0</th>\n",
       "      <td>0</td>\n",
       "      <td>118</td>\n",
       "      <td>0_energy_the_and_of</td>\n",
       "      <td>[energy, the, and, of, in, to, renewable, sust...</td>\n",
       "      <td>[Mapping Potential for Improving Rural Energy ...</td>\n",
       "    </tr>\n",
       "    <tr>\n",
       "      <th>1</th>\n",
       "      <td>1</td>\n",
       "      <td>107</td>\n",
       "      <td>1_the_of_governance_and</td>\n",
       "      <td>[the, of, governance, and, development, to, in...</td>\n",
       "      <td>[From Millennium to Sustainable Development Go...</td>\n",
       "    </tr>\n",
       "    <tr>\n",
       "      <th>2</th>\n",
       "      <td>2</td>\n",
       "      <td>103</td>\n",
       "      <td>2_the_of_education_and</td>\n",
       "      <td>[the, of, education, and, in, universities, hi...</td>\n",
       "      <td>[The implementation of the SDGs in universitie...</td>\n",
       "    </tr>\n",
       "    <tr>\n",
       "      <th>3</th>\n",
       "      <td>3</td>\n",
       "      <td>103</td>\n",
       "      <td>3_health_and_the_to</td>\n",
       "      <td>[health, and, the, to, of, in, for, global, he...</td>\n",
       "      <td>[A stakeholder group assessment of interaction...</td>\n",
       "    </tr>\n",
       "    <tr>\n",
       "      <th>4</th>\n",
       "      <td>4</td>\n",
       "      <td>96</td>\n",
       "      <td>4_energy_green_environmental_renewable</td>\n",
       "      <td>[energy, green, environmental, renewable, the,...</td>\n",
       "      <td>[Role of renewable and nonrenewable energy con...</td>\n",
       "    </tr>\n",
       "    <tr>\n",
       "      <th>...</th>\n",
       "      <td>...</td>\n",
       "      <td>...</td>\n",
       "      <td>...</td>\n",
       "      <td>...</td>\n",
       "      <td>...</td>\n",
       "    </tr>\n",
       "    <tr>\n",
       "      <th>57</th>\n",
       "      <td>57</td>\n",
       "      <td>14</td>\n",
       "      <td>57_disaster_and_risk_the</td>\n",
       "      <td>[disaster, and, risk, the, events, sfdrr, drr,...</td>\n",
       "      <td>[Addressing the interplay of the Sendai Framew...</td>\n",
       "    </tr>\n",
       "    <tr>\n",
       "      <th>58</th>\n",
       "      <td>58</td>\n",
       "      <td>12</td>\n",
       "      <td>58_heritage_cultural_cultural heritage_the</td>\n",
       "      <td>[heritage, cultural, cultural heritage, the, a...</td>\n",
       "      <td>[Globalization Cultural Heritage Management an...</td>\n",
       "    </tr>\n",
       "    <tr>\n",
       "      <th>59</th>\n",
       "      <td>59</td>\n",
       "      <td>12</td>\n",
       "      <td>59_nurses_nursing_goals_the</td>\n",
       "      <td>[nurses, nursing, goals, the, to, and, sdgs, t...</td>\n",
       "      <td>[Nursing and the Sustainable Development Goals...</td>\n",
       "    </tr>\n",
       "    <tr>\n",
       "      <th>60</th>\n",
       "      <td>60</td>\n",
       "      <td>12</td>\n",
       "      <td>60_disaster risk_disaster_risk_disaster risk r...</td>\n",
       "      <td>[disaster risk, disaster, risk, disaster risk ...</td>\n",
       "      <td>[Number of Number of countries that adopt and ...</td>\n",
       "    </tr>\n",
       "    <tr>\n",
       "      <th>61</th>\n",
       "      <td>61</td>\n",
       "      <td>11</td>\n",
       "      <td>61_the_and_sdgs_of</td>\n",
       "      <td>[the, and, sdgs, of, sustainable, smes, carryi...</td>\n",
       "      <td>[Digital technology adoption challenges in the...</td>\n",
       "    </tr>\n",
       "  </tbody>\n",
       "</table>\n",
       "<p>62 rows × 5 columns</p>\n",
       "</div>"
      ],
      "text/plain": [
       "    Topic  Count                                               Name  \\\n",
       "0       0    118                                0_energy_the_and_of   \n",
       "1       1    107                            1_the_of_governance_and   \n",
       "2       2    103                             2_the_of_education_and   \n",
       "3       3    103                                3_health_and_the_to   \n",
       "4       4     96             4_energy_green_environmental_renewable   \n",
       "..    ...    ...                                                ...   \n",
       "57     57     14                           57_disaster_and_risk_the   \n",
       "58     58     12         58_heritage_cultural_cultural heritage_the   \n",
       "59     59     12                        59_nurses_nursing_goals_the   \n",
       "60     60     12  60_disaster risk_disaster_risk_disaster risk r...   \n",
       "61     61     11                                 61_the_and_sdgs_of   \n",
       "\n",
       "                                       Representation  \\\n",
       "0   [energy, the, and, of, in, to, renewable, sust...   \n",
       "1   [the, of, governance, and, development, to, in...   \n",
       "2   [the, of, education, and, in, universities, hi...   \n",
       "3   [health, and, the, to, of, in, for, global, he...   \n",
       "4   [energy, green, environmental, renewable, the,...   \n",
       "..                                                ...   \n",
       "57  [disaster, and, risk, the, events, sfdrr, drr,...   \n",
       "58  [heritage, cultural, cultural heritage, the, a...   \n",
       "59  [nurses, nursing, goals, the, to, and, sdgs, t...   \n",
       "60  [disaster risk, disaster, risk, disaster risk ...   \n",
       "61  [the, and, sdgs, of, sustainable, smes, carryi...   \n",
       "\n",
       "                                  Representative_Docs  \n",
       "0   [Mapping Potential for Improving Rural Energy ...  \n",
       "1   [From Millennium to Sustainable Development Go...  \n",
       "2   [The implementation of the SDGs in universitie...  \n",
       "3   [A stakeholder group assessment of interaction...  \n",
       "4   [Role of renewable and nonrenewable energy con...  \n",
       "..                                                ...  \n",
       "57  [Addressing the interplay of the Sendai Framew...  \n",
       "58  [Globalization Cultural Heritage Management an...  \n",
       "59  [Nursing and the Sustainable Development Goals...  \n",
       "60  [Number of Number of countries that adopt and ...  \n",
       "61  [Digital technology adoption challenges in the...  \n",
       "\n",
       "[62 rows x 5 columns]"
      ]
     },
     "execution_count": 39,
     "metadata": {},
     "output_type": "execute_result"
    }
   ],
   "source": [
    "# Get the list of topics\n",
    "# Topic = the topic number. From the largest topic.\n",
    "#         \"-1\" is the generic topic. Genericr keywords are aggegrated here.\n",
    "# Count = Documents assigned to this topic\n",
    "# Name = Top 4 words of the topic based on probability\n",
    "# Representation = The list of words representing this topic\n",
    "# Representative_Docs = Documents assigned to this topic\n",
    "tm_summary = topic_model.get_topic_info()\n",
    "tm_summary"
   ]
  },
  {
   "cell_type": "code",
   "execution_count": 40,
   "metadata": {
    "id": "k9mN1tgZQupy"
   },
   "outputs": [],
   "source": [
    "# Save the topic model assets\n",
    "tm_folder_path = f'{ROOT_FOLDER_PATH}/{project_folder}/{settings[\"metadata\"][\"analysis_id\"]}'\n",
    "\n",
    "if not os.path.exists(tm_folder_path):\n",
    "  !mkdir $tm_folder_path\n",
    "\n",
    "tm_summary.to_csv(f'{tm_folder_path}/topic_model_info.csv', index=False)"
   ]
  },
  {
   "cell_type": "code",
   "execution_count": 41,
   "metadata": {
    "colab": {
     "base_uri": "https://localhost:8080/"
    },
    "id": "WuE0vkbp3fVL",
    "outputId": "aa8ebf45-cdd3-4161-9ac4-1343c91f47da"
   },
   "outputs": [
    {
     "data": {
      "text/plain": [
       "62"
      ]
     },
     "execution_count": 41,
     "metadata": {},
     "output_type": "execute_result"
    }
   ],
   "source": [
    "# Number of topics found\n",
    "found_topics = max(tm_summary.Topic) + 1\n",
    "found_topics"
   ]
  },
  {
   "cell_type": "code",
   "execution_count": 42,
   "metadata": {
    "colab": {
     "base_uri": "https://localhost:8080/"
    },
    "id": "KjKUcNMdwFHQ",
    "outputId": "b3549b7c-4c8a-4b82-8d87-6a46774e4694"
   },
   "outputs": [
    {
     "data": {
      "text/plain": [
       "True"
      ]
     },
     "execution_count": 42,
     "metadata": {},
     "output_type": "execute_result"
    }
   ],
   "source": [
    "# Confirm all documents are assigned\n",
    "sum(tm_summary.Count) == len(corpus)"
   ]
  },
  {
   "cell_type": "code",
   "execution_count": 43,
   "metadata": {
    "colab": {
     "base_uri": "https://localhost:8080/"
    },
    "id": "bGyoQT47xY_R",
    "outputId": "9affafe5-0ff7-4edf-d9f6-3d7a7eda04eb"
   },
   "outputs": [
    {
     "data": {
      "text/plain": [
       "[('energy', 0.029997663038704648),\n",
       " ('the', 0.01165301782033799),\n",
       " ('and', 0.010853522883957308),\n",
       " ('of', 0.010181684582470258),\n",
       " ('in', 0.009019562991501246),\n",
       " ('to', 0.009009062423404322),\n",
       " ('renewable', 0.007129674157699376),\n",
       " ('sustainable', 0.006859922266315907),\n",
       " ('for', 0.006493251391623176),\n",
       " ('access', 0.006438177327144445)]"
      ]
     },
     "execution_count": 43,
     "metadata": {},
     "output_type": "execute_result"
    }
   ],
   "source": [
    "# Get top 10 terms for a topic\n",
    "topic_model.get_topic(0)"
   ]
  },
  {
   "cell_type": "code",
   "execution_count": 44,
   "metadata": {
    "colab": {
     "base_uri": "https://localhost:8080/"
    },
    "id": "PU99D2xhxoOY",
    "outputId": "4e90e928-9bbf-40c3-c3b5-a1a50abe82f0"
   },
   "outputs": [
    {
     "data": {
      "text/plain": [
       "['Mapping Potential for Improving Rural Energy Services in Kyrgyzstan Factors for Achieving Sustainable Development Goals in the Community Context Energy is a pivotal element for overall development Therefore affordable and clean energy for all Sustainable Development Goal  is one of the important elements Despite a suitable approach Kyrgyzstan lags behind to achieve its Sustainable Development Goals by  Improving access to energy can significantly impact the progress of many other sustainable development targets However access to reliable sustainable and adequate energy is a crucial task in rural Kyrgyzstan Taking into consideration the energy situation and the importance of the availability of energy services the overarching aim of the presented article is to map the potential of improving rural energy services to foster overall sustainable development goals The article presents the most relevant information about rural energy usage behaviour based on three primary pillars energy demand energy carrier and energy sources In addition the presented research article synthesises the key driving factors which have a direct or indirect impact on the energy services in rural areas The summarised data displays a deep insight into a variety of complex and dynamic household energy consumption patterns The article provides a potential solution nexus to foster improved energy services in rural Kyrgyzstan and therefore to foster the overall sustainable development in Kyrgyzstan The findings of the article help to formulate a strategy to design rural energy services for policy makers and stockholders',\n",
       " 'The untold subtlety of energy consumption and its influence on policy drive towards Sustainable Development Goal  The Sustainable Development Goal  SDG  Affordable and Clean Energy is the key to achieving climate goals and constructing effective policies have an immense role to foster the actions The three major components of SDG  include energy accessibility renewable penetration and energy intensity Energy consumption characteristics in a country can predominantly influence all three components of SDG  Further energy consumption is intrinsically linked to several energy policies Understanding the nexuses will be conducive to the policymakers and energy community This study aims at providing deeper perspectives on the influence of energy consumption by analyzing the changes incurred in renewable penetration energy installed capacity production and consumptionbased emission and emission intensity The analysis is extended to four major energy consuming sectors including industrial transportation residential and commercial sectors in  countries A thorough investigation is performed based on a clustering approach to identify the pattern among the energy consumption This yielded three scenarios where countries have the highest energy consumption in the industrial Scenario  transportation Scenario  and residential sector Scenario  respectively Scenario  has higher energy consumption growth and renewable penetration can be achieved with a proper policy framework Scenario  is observed to have stagnant energy consumption and promoting renewables needs additional efforts to decouple fossil fuel usage Scenario  has moderate energy consumption growth and the renewable penetration is the highest The residential sector is observed to possess the highest renewable energy consumption among the four energyconsuming sectors in all the scenarios For the identified energy consumption patterns a policy framework is proposed to substantiate energy sustainability in which policies are constructed in two stages ie one to form the core policy and the other to sustain the core policy The contributions of the study is further extended to delineate the relation between energy consumption and the three elements of SDG  energy accessibility renewable penetration and energy intensity Understanding the influence exerted by energy consumption patterns will be highly supportive in directing energy policies and the existing policies can be optimized with the findings of this study',\n",
       " 'Strategies to enhance energy sustainability in line with Sustainable Development Goal SDG  affordable and clean energy case of Ghana PurposeHuman activities in recent years with the excessive emission of greenhouse gases have had a negative impact on increasing global temperatures In this regard one of the best ways to control it is to move toward sustainability with more use of renewable energy Therefore this study aims to assess the indicators of sustainable energy explore benefits of sustainable energy and evaluate strategies to enhance energy sustainability in line with Sustainable Development Goal SDG DesignmethodologyapproachQuantitative research strategy was adopted Questionnaires were developed and administered through convenience and snowball sampling techniques to professionals in the energy sector Data collected was validated by using Cronbachs alpha coefficient and discriminant validity whereas objectives were analyzed by using the relative importance index mean score ranking and KruskalWallis testFindingsFrom the findings the significant indicators of sustainable energy were as follows reduction in greenhouse gas emissions from energy production use of renewable energies and policies on proper utilization of energy resources Furthermore a reduction in greenhouse gas emissions less harm caused to the environment and an increase in the economic and social development process were the major benefits of sustainable energy Finally the findings of the study revealed that a strong and accounted policy program adopting sustainable energy indicators and strategic communication are the significant strategies needed to be put in place to enhance energy sustainabilityPractical implicationsThe study serves as a reminder to policymakers of the crucial role they have to play in enhancing energy sustainability by putting in place suitable policy programs and methodsOriginalityvalueThe originality of this study is that it is arguably a pioneering study in Ghana and contributes to the body of knowledge on energy sustainability']"
      ]
     },
     "execution_count": 44,
     "metadata": {},
     "output_type": "execute_result"
    }
   ],
   "source": [
    "# Get the top 10 documents for a topic\n",
    "topic_model.get_representative_docs(0)"
   ]
  },
  {
   "cell_type": "code",
   "execution_count": 45,
   "metadata": {
    "id": "1CgYkbHN9I2T"
   },
   "outputs": [],
   "source": [
    "# Others\n",
    "\n",
    "# # Get the number of documents per topic (same as in the table above)\n",
    "# topic_model.get_topic_freq(0)\n",
    "\n",
    "# # Get the main keywords per topic\n",
    "# topic_model.get_topics()"
   ]
  },
  {
   "cell_type": "code",
   "execution_count": 46,
   "metadata": {
    "colab": {
     "base_uri": "https://localhost:8080/"
    },
    "id": "JQKxUqHN9RT7",
    "outputId": "c572d73b-fc91-4c84-dc79-8f047b046aa2"
   },
   "outputs": [
    {
     "data": {
      "text/plain": [
       "{'calculate_probabilities': True,\n",
       " 'ctfidf_model': ClassTfidfTransformer(),\n",
       " 'embedding_model': None,\n",
       " 'hdbscan_model': KMeans(n_clusters=62),\n",
       " 'language': 'english',\n",
       " 'low_memory': False,\n",
       " 'min_topic_size': 5,\n",
       " 'n_gram_range': (1, 3),\n",
       " 'nr_topics': None,\n",
       " 'representation_model': None,\n",
       " 'seed_topic_list': None,\n",
       " 'top_n_words': 10,\n",
       " 'umap_model': UMAP(angular_rp_forest=True, metric='cosine', min_dist=0.0, n_components=5, n_jobs=1, random_state=100, tqdm_kwds={'bar_format': '{desc}: {percentage:3.0f}%| {bar} {n_fmt}/{total_fmt} [{elapsed}]', 'desc': 'Epochs completed', 'disable': True}),\n",
       " 'vectorizer_model': CountVectorizer(ngram_range=(1, 3)),\n",
       " 'verbose': True,\n",
       " 'zeroshot_min_similarity': 0.7,\n",
       " 'zeroshot_topic_list': None}"
      ]
     },
     "execution_count": 46,
     "metadata": {},
     "output_type": "execute_result"
    }
   ],
   "source": [
    "# Print the parameters used. (For reporting)\n",
    "topic_model.get_params()"
   ]
  },
  {
   "cell_type": "code",
   "execution_count": 47,
   "metadata": {
    "colab": {
     "base_uri": "https://localhost:8080/"
    },
    "id": "G8hwSK98RM9-",
    "outputId": "07a40193-c69a-4356-b1b0-ac721ef78c08"
   },
   "outputs": [
    {
     "name": "stdout",
     "output_type": "stream",
     "text": [
      "Done\n"
     ]
    }
   ],
   "source": [
    "tm_params = dict(topic_model.get_params())\n",
    "for key, value in tm_params.items():\n",
    "    tm_params[key]=  str(value)\n",
    "with open(f'{tm_folder_path}/topic_model_params.json', 'w') as f:\n",
    "    json.dump(tm_params, f, ensure_ascii=False, indent=4)\n",
    "    print('Done')"
   ]
  },
  {
   "cell_type": "code",
   "execution_count": 48,
   "metadata": {
    "colab": {
     "base_uri": "https://localhost:8080/"
    },
    "id": "5v4Wvn3ZAkZP",
    "outputId": "ea347717-a33e-40ad-ad2d-51798cbc5b5f"
   },
   "outputs": [
    {
     "name": "stderr",
     "output_type": "stream",
     "text": [
      "100%|██████████| 4/4 [00:03<00:00,  1.06it/s]\n"
     ]
    }
   ],
   "source": [
    "# Get the topic score for each paper and its assigned topic\n",
    "topic_distr, _ = topic_model.approximate_distribution(documents, batch_size=1000)\n",
    "distributions = [distr[topic] if topic != -1 else 0 for topic, distr in zip(topics, topic_distr)]"
   ]
  },
  {
   "cell_type": "code",
   "execution_count": 49,
   "metadata": {
    "colab": {
     "base_uri": "https://localhost:8080/"
    },
    "id": "6OTw5go4yVvM",
    "outputId": "7dfa090e-776f-4922-d611-325b1510ccab"
   },
   "outputs": [
    {
     "data": {
      "text/plain": [
       "array([[0.01757269, 0.05070063, 0.01944976, ..., 0.0274568 , 0.        ,\n",
       "        0.01619874],\n",
       "       [0.02103762, 0.03650038, 0.02365354, ..., 0.00951741, 0.        ,\n",
       "        0.01467478],\n",
       "       [0.0183611 , 0.04320568, 0.02718617, ..., 0.00759131, 0.        ,\n",
       "        0.01782156],\n",
       "       ...,\n",
       "       [0.        , 0.        , 0.        , ..., 0.        , 0.        ,\n",
       "        0.        ],\n",
       "       [0.        , 0.        , 0.        , ..., 0.        , 0.        ,\n",
       "        0.        ],\n",
       "       [0.        , 0.        , 0.        , ..., 0.        , 0.        ,\n",
       "        0.        ]])"
      ]
     },
     "execution_count": 49,
     "metadata": {},
     "output_type": "execute_result"
    }
   ],
   "source": [
    "topic_distr"
   ]
  },
  {
   "cell_type": "code",
   "execution_count": 50,
   "metadata": {
    "colab": {
     "base_uri": "https://localhost:8080/",
     "height": 591
    },
    "id": "I7E0_6bv9hBp",
    "outputId": "06faea2f-1c00-4ca7-958b-4dd2dcb10c36"
   },
   "outputs": [
    {
     "data": {
      "text/html": [
       "<div>\n",
       "<style scoped>\n",
       "    .dataframe tbody tr th:only-of-type {\n",
       "        vertical-align: middle;\n",
       "    }\n",
       "\n",
       "    .dataframe tbody tr th {\n",
       "        vertical-align: top;\n",
       "    }\n",
       "\n",
       "    .dataframe thead th {\n",
       "        text-align: right;\n",
       "    }\n",
       "</style>\n",
       "<table border=\"1\" class=\"dataframe\">\n",
       "  <thead>\n",
       "    <tr style=\"text-align: right;\">\n",
       "      <th></th>\n",
       "      <th>UT</th>\n",
       "      <th>uuid</th>\n",
       "      <th>Document</th>\n",
       "      <th>Topic</th>\n",
       "      <th>Name</th>\n",
       "      <th>Representation</th>\n",
       "      <th>Representative_Docs</th>\n",
       "      <th>Top_n_words</th>\n",
       "      <th>Representative_document</th>\n",
       "      <th>Score</th>\n",
       "      <th>X_E</th>\n",
       "      <th>X_C</th>\n",
       "      <th>level0</th>\n",
       "      <th>cl99</th>\n",
       "      <th>cl-99</th>\n",
       "    </tr>\n",
       "  </thead>\n",
       "  <tbody>\n",
       "    <tr>\n",
       "      <th>0</th>\n",
       "      <td>WOS:000704445400012</td>\n",
       "      <td>8c7848eb-4e3a-4f87-98f2-4c1638c4d195</td>\n",
       "      <td>Governing the oceans A study into Norways ocea...</td>\n",
       "      <td>15</td>\n",
       "      <td>15_marine_and_fisheries_the</td>\n",
       "      <td>[marine, and, fisheries, the, ocean, of, to, s...</td>\n",
       "      <td>[Rethinking marine resource governance for the...</td>\n",
       "      <td>marine - and - fisheries - the - ocean - of - ...</td>\n",
       "      <td>False</td>\n",
       "      <td>0.063335</td>\n",
       "      <td>0.063335</td>\n",
       "      <td>16</td>\n",
       "      <td>16</td>\n",
       "      <td>False</td>\n",
       "      <td>False</td>\n",
       "    </tr>\n",
       "    <tr>\n",
       "      <th>1</th>\n",
       "      <td>WOS:000895505400001</td>\n",
       "      <td>46d829bb-c921-4040-b714-592e62dfeac0</td>\n",
       "      <td>Ecosystem Services Supply from PeriUrban Lands...</td>\n",
       "      <td>45</td>\n",
       "      <td>45_the_ecosystem_and_to</td>\n",
       "      <td>[the, ecosystem, and, to, of, ecosystem servic...</td>\n",
       "      <td>[Distilling the role of ecosystem services in ...</td>\n",
       "      <td>the - ecosystem - and - to - of - ecosystem se...</td>\n",
       "      <td>False</td>\n",
       "      <td>0.039901</td>\n",
       "      <td>0.039901</td>\n",
       "      <td>46</td>\n",
       "      <td>46</td>\n",
       "      <td>False</td>\n",
       "      <td>False</td>\n",
       "    </tr>\n",
       "    <tr>\n",
       "      <th>2</th>\n",
       "      <td>WOS:000601162800011</td>\n",
       "      <td>c0a1ad65-9abf-4c4a-b104-064855237ee4</td>\n",
       "      <td>Grassroots waste picker organizations addressi...</td>\n",
       "      <td>30</td>\n",
       "      <td>30_waste_waste management_management_and</td>\n",
       "      <td>[waste, waste management, management, and, the...</td>\n",
       "      <td>[Towards a sustainable future Nexus between th...</td>\n",
       "      <td>waste - waste management - management - and - ...</td>\n",
       "      <td>False</td>\n",
       "      <td>0.143070</td>\n",
       "      <td>0.143070</td>\n",
       "      <td>31</td>\n",
       "      <td>31</td>\n",
       "      <td>False</td>\n",
       "      <td>False</td>\n",
       "    </tr>\n",
       "    <tr>\n",
       "      <th>3</th>\n",
       "      <td>WOS:000809762800006</td>\n",
       "      <td>44e80506-efaf-4bd6-a26f-b5f33589e950</td>\n",
       "      <td>Realising the sustainable development goals th...</td>\n",
       "      <td>54</td>\n",
       "      <td>54_construction_the_construction industry_in</td>\n",
       "      <td>[construction, the, construction industry, in,...</td>\n",
       "      <td>[Sustainable development goals under threat th...</td>\n",
       "      <td>construction - the - construction industry - i...</td>\n",
       "      <td>False</td>\n",
       "      <td>0.164792</td>\n",
       "      <td>0.164792</td>\n",
       "      <td>55</td>\n",
       "      <td>55</td>\n",
       "      <td>False</td>\n",
       "      <td>False</td>\n",
       "    </tr>\n",
       "    <tr>\n",
       "      <th>4</th>\n",
       "      <td>WOS:001431741100001</td>\n",
       "      <td>2f1fe54b-c88f-44bb-8209-24b5c334ae3c</td>\n",
       "      <td>Sustainable Production and Consumption in EU M...</td>\n",
       "      <td>43</td>\n",
       "      <td>43_the_consumption_and_of</td>\n",
       "      <td>[the, consumption, and, of, ce, circular, to, ...</td>\n",
       "      <td>[How can the circular economy support the adva...</td>\n",
       "      <td>the - consumption - and - of - ce - circular -...</td>\n",
       "      <td>False</td>\n",
       "      <td>0.060824</td>\n",
       "      <td>0.060824</td>\n",
       "      <td>44</td>\n",
       "      <td>44</td>\n",
       "      <td>False</td>\n",
       "      <td>False</td>\n",
       "    </tr>\n",
       "  </tbody>\n",
       "</table>\n",
       "</div>"
      ],
      "text/plain": [
       "                    UT                                  uuid  \\\n",
       "0  WOS:000704445400012  8c7848eb-4e3a-4f87-98f2-4c1638c4d195   \n",
       "1  WOS:000895505400001  46d829bb-c921-4040-b714-592e62dfeac0   \n",
       "2  WOS:000601162800011  c0a1ad65-9abf-4c4a-b104-064855237ee4   \n",
       "3  WOS:000809762800006  44e80506-efaf-4bd6-a26f-b5f33589e950   \n",
       "4  WOS:001431741100001  2f1fe54b-c88f-44bb-8209-24b5c334ae3c   \n",
       "\n",
       "                                            Document  Topic  \\\n",
       "0  Governing the oceans A study into Norways ocea...     15   \n",
       "1  Ecosystem Services Supply from PeriUrban Lands...     45   \n",
       "2  Grassroots waste picker organizations addressi...     30   \n",
       "3  Realising the sustainable development goals th...     54   \n",
       "4  Sustainable Production and Consumption in EU M...     43   \n",
       "\n",
       "                                           Name  \\\n",
       "0                   15_marine_and_fisheries_the   \n",
       "1                       45_the_ecosystem_and_to   \n",
       "2      30_waste_waste management_management_and   \n",
       "3  54_construction_the_construction industry_in   \n",
       "4                     43_the_consumption_and_of   \n",
       "\n",
       "                                      Representation  \\\n",
       "0  [marine, and, fisheries, the, ocean, of, to, s...   \n",
       "1  [the, ecosystem, and, to, of, ecosystem servic...   \n",
       "2  [waste, waste management, management, and, the...   \n",
       "3  [construction, the, construction industry, in,...   \n",
       "4  [the, consumption, and, of, ce, circular, to, ...   \n",
       "\n",
       "                                 Representative_Docs  \\\n",
       "0  [Rethinking marine resource governance for the...   \n",
       "1  [Distilling the role of ecosystem services in ...   \n",
       "2  [Towards a sustainable future Nexus between th...   \n",
       "3  [Sustainable development goals under threat th...   \n",
       "4  [How can the circular economy support the adva...   \n",
       "\n",
       "                                         Top_n_words  Representative_document  \\\n",
       "0  marine - and - fisheries - the - ocean - of - ...                    False   \n",
       "1  the - ecosystem - and - to - of - ecosystem se...                    False   \n",
       "2  waste - waste management - management - and - ...                    False   \n",
       "3  construction - the - construction industry - i...                    False   \n",
       "4  the - consumption - and - of - ce - circular -...                    False   \n",
       "\n",
       "      Score       X_E  X_C  level0   cl99  cl-99  \n",
       "0  0.063335  0.063335   16      16  False  False  \n",
       "1  0.039901  0.039901   46      46  False  False  \n",
       "2  0.143070  0.143070   31      31  False  False  \n",
       "3  0.164792  0.164792   55      55  False  False  \n",
       "4  0.060824  0.060824   44      44  False  False  "
      ]
     },
     "execution_count": 50,
     "metadata": {},
     "output_type": "execute_result"
    }
   ],
   "source": [
    "# Document information. Including the topic assignation\n",
    "dataset_clustering_results = topic_model.get_document_info(documents, df = corpus, metadata={\"Score\": distributions})\n",
    "\n",
    "# Standar format for report analysis\n",
    "dataset_clustering_results = dataset_clustering_results.drop(columns=['text'])\n",
    "dataset_clustering_results['X_E'] = dataset_clustering_results['Score']\n",
    "dataset_clustering_results['X_C'] = dataset_clustering_results['Topic'] + 1\n",
    "dataset_clustering_results['level0'] = dataset_clustering_results['Topic'] + 1\n",
    "dataset_clustering_results['cl99'] = False\n",
    "dataset_clustering_results['cl-99'] = False\n",
    "dataset_clustering_results.head()"
   ]
  },
  {
   "cell_type": "code",
   "execution_count": 51,
   "metadata": {
    "id": "eyQDhrjyc6Oh"
   },
   "outputs": [],
   "source": [
    "# Save the dataframe\n",
    "dataset_clustering_results.to_csv(f'{tm_folder_path}/dataset_minimal.csv', index=False)"
   ]
  },
  {
   "cell_type": "code",
   "execution_count": 52,
   "metadata": {
    "colab": {
     "base_uri": "https://localhost:8080/"
    },
    "id": "1RYcsXanZvrr",
    "outputId": "d625d86f-5897-4d75-8b32-54f2dd258ad3"
   },
   "outputs": [
    {
     "name": "stderr",
     "output_type": "stream",
     "text": [
      "2025-05-10 13:12:03,087 - BERTopic - WARNING: When you use `pickle` to save/load a BERTopic model,please make sure that the environments in which you saveand load the model are **exactly** the same. The version of BERTopic,its dependencies, and python need to remain the same.\n"
     ]
    }
   ],
   "source": [
    "# Save the topic model\n",
    "topic_model.save(f'{tm_folder_path}/topic_model_object.pck')"
   ]
  },
  {
   "cell_type": "markdown",
   "metadata": {
    "id": "SX1EBSOY3Pz1"
   },
   "source": [
    "\n",
    "\n",
    "---\n",
    "\n"
   ]
  }
 ],
 "metadata": {
  "colab": {
   "authorship_tag": "ABX9TyM4oE6dpT6UwjIg42kzzsWo",
   "include_colab_link": true,
   "provenance": [],
   "toc_visible": true
  },
  "kernelspec": {
   "display_name": "env-tm",
   "language": "python",
   "name": "python3"
  },
  "language_info": {
   "codemirror_mode": {
    "name": "ipython",
    "version": 3
   },
   "file_extension": ".py",
   "mimetype": "text/x-python",
   "name": "python",
   "nbconvert_exporter": "python",
   "pygments_lexer": "ipython3",
   "version": "3.11.7"
  }
 },
 "nbformat": 4,
 "nbformat_minor": 0
}
